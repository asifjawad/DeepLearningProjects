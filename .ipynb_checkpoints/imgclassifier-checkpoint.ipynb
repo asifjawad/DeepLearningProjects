{
 "cells": [
  {
   "cell_type": "raw",
   "id": "e24b9b01-35a1-4444-ae52-4039af557e8e",
   "metadata": {},
   "source": [
    "##Creating Image Classifier Using CNN and using CIFAR10 Data set"
   ]
  },
  {
   "cell_type": "code",
   "execution_count": null,
   "id": "5c22d0d8-f21d-4600-9c75-113abf199cfb",
   "metadata": {},
   "outputs": [],
   "source": [
    "import tensorflow as tf\n",
    "from tensorflow.keras import datasets , layers, models\n",
    "import matplotlib.pyplot as plt\n",
    "import numpy as np\n",
    "import pandas as pd\n",
    "\n",
    "path = ''"
   ]
  },
  {
   "cell_type": "code",
   "execution_count": null,
   "id": "91289723-0543-408f-b451-78fbc81dad12",
   "metadata": {},
   "outputs": [],
   "source": [
    "xdata = np.genfromtxt('imagesr.csv')\n",
    "ydata = np.genfromtxt('labelsr.csv')\n",
    "print(xdata.shape())"
   ]
  },
  {
   "cell_type": "code",
   "execution_count": null,
   "id": "baa432e7-d4bd-45e1-9b74-09a190bf3c00",
   "metadata": {},
   "outputs": [],
   "source": [
    "xdata = np.reshape(xdata, (3000, 32,32, 3))\n"
   ]
  },
  {
   "cell_type": "code",
   "execution_count": null,
   "id": "27343a65-0773-4218-b636-f4b161bbf704",
   "metadata": {},
   "outputs": [],
   "source": [
    "xdata.shape"
   ]
  }
 ],
 "metadata": {
  "kernelspec": {
   "display_name": "Python 3",
   "language": "python",
   "name": "python3"
  },
  "language_info": {
   "codemirror_mode": {
    "name": "ipython",
    "version": 3
   },
   "file_extension": ".py",
   "mimetype": "text/x-python",
   "name": "python",
   "nbconvert_exporter": "python",
   "pygments_lexer": "ipython3",
   "version": "3.8.8"
  }
 },
 "nbformat": 4,
 "nbformat_minor": 5
}
