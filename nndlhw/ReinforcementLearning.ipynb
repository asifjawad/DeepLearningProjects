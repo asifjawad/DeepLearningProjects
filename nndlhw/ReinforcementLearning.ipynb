{
  "nbformat": 4,
  "nbformat_minor": 0,
  "metadata": {
    "colab": {
      "provenance": [],
      "collapsed_sections": []
    },
    "kernelspec": {
      "name": "python3",
      "display_name": "Python 3"
    },
    "language_info": {
      "name": "python"
    },
    "gpuClass": "standard",
    "widgets": {
      "application/vnd.jupyter.widget-state+json": {
        "1f7772163d9742aa817e4ee6a887c9c4": {
          "model_module": "@jupyter-widgets/controls",
          "model_name": "HBoxModel",
          "model_module_version": "1.5.0",
          "state": {
            "_dom_classes": [],
            "_model_module": "@jupyter-widgets/controls",
            "_model_module_version": "1.5.0",
            "_model_name": "HBoxModel",
            "_view_count": null,
            "_view_module": "@jupyter-widgets/controls",
            "_view_module_version": "1.5.0",
            "_view_name": "HBoxView",
            "box_style": "",
            "children": [
              "IPY_MODEL_1bad43f7b01646849b6ad28004d143a6",
              "IPY_MODEL_cd64b16172a44d60bc5ac07815077623",
              "IPY_MODEL_92c98152839e4f2186daecc99fce54c2"
            ],
            "layout": "IPY_MODEL_a01fc1cf8d3344038d9b810852ffb0e3"
          }
        },
        "1bad43f7b01646849b6ad28004d143a6": {
          "model_module": "@jupyter-widgets/controls",
          "model_name": "HTMLModel",
          "model_module_version": "1.5.0",
          "state": {
            "_dom_classes": [],
            "_model_module": "@jupyter-widgets/controls",
            "_model_module_version": "1.5.0",
            "_model_name": "HTMLModel",
            "_view_count": null,
            "_view_module": "@jupyter-widgets/controls",
            "_view_module_version": "1.5.0",
            "_view_name": "HTMLView",
            "description": "",
            "description_tooltip": null,
            "layout": "IPY_MODEL_f2fecbaea4a14e11bc7d306832a140c7",
            "placeholder": "​",
            "style": "IPY_MODEL_6617707ad1c74f449923bfa7fec13947",
            "value": "100%"
          }
        },
        "cd64b16172a44d60bc5ac07815077623": {
          "model_module": "@jupyter-widgets/controls",
          "model_name": "FloatProgressModel",
          "model_module_version": "1.5.0",
          "state": {
            "_dom_classes": [],
            "_model_module": "@jupyter-widgets/controls",
            "_model_module_version": "1.5.0",
            "_model_name": "FloatProgressModel",
            "_view_count": null,
            "_view_module": "@jupyter-widgets/controls",
            "_view_module_version": "1.5.0",
            "_view_name": "ProgressView",
            "bar_style": "success",
            "description": "",
            "description_tooltip": null,
            "layout": "IPY_MODEL_55bbee417fef4da9abdcb33201be65e0",
            "max": 1000,
            "min": 0,
            "orientation": "horizontal",
            "style": "IPY_MODEL_fdcfce6344274775b118fec769fb5e99",
            "value": 1000
          }
        },
        "92c98152839e4f2186daecc99fce54c2": {
          "model_module": "@jupyter-widgets/controls",
          "model_name": "HTMLModel",
          "model_module_version": "1.5.0",
          "state": {
            "_dom_classes": [],
            "_model_module": "@jupyter-widgets/controls",
            "_model_module_version": "1.5.0",
            "_model_name": "HTMLModel",
            "_view_count": null,
            "_view_module": "@jupyter-widgets/controls",
            "_view_module_version": "1.5.0",
            "_view_name": "HTMLView",
            "description": "",
            "description_tooltip": null,
            "layout": "IPY_MODEL_312ab85269f54bd9a187aa4e9dce4dfd",
            "placeholder": "​",
            "style": "IPY_MODEL_913f929c8ae84048869fd3886c65c23f",
            "value": " 1000/1000 [09:13&lt;00:00,  1.25it/s]"
          }
        },
        "a01fc1cf8d3344038d9b810852ffb0e3": {
          "model_module": "@jupyter-widgets/base",
          "model_name": "LayoutModel",
          "model_module_version": "1.2.0",
          "state": {
            "_model_module": "@jupyter-widgets/base",
            "_model_module_version": "1.2.0",
            "_model_name": "LayoutModel",
            "_view_count": null,
            "_view_module": "@jupyter-widgets/base",
            "_view_module_version": "1.2.0",
            "_view_name": "LayoutView",
            "align_content": null,
            "align_items": null,
            "align_self": null,
            "border": null,
            "bottom": null,
            "display": null,
            "flex": null,
            "flex_flow": null,
            "grid_area": null,
            "grid_auto_columns": null,
            "grid_auto_flow": null,
            "grid_auto_rows": null,
            "grid_column": null,
            "grid_gap": null,
            "grid_row": null,
            "grid_template_areas": null,
            "grid_template_columns": null,
            "grid_template_rows": null,
            "height": null,
            "justify_content": null,
            "justify_items": null,
            "left": null,
            "margin": null,
            "max_height": null,
            "max_width": null,
            "min_height": null,
            "min_width": null,
            "object_fit": null,
            "object_position": null,
            "order": null,
            "overflow": null,
            "overflow_x": null,
            "overflow_y": null,
            "padding": null,
            "right": null,
            "top": null,
            "visibility": null,
            "width": null
          }
        },
        "f2fecbaea4a14e11bc7d306832a140c7": {
          "model_module": "@jupyter-widgets/base",
          "model_name": "LayoutModel",
          "model_module_version": "1.2.0",
          "state": {
            "_model_module": "@jupyter-widgets/base",
            "_model_module_version": "1.2.0",
            "_model_name": "LayoutModel",
            "_view_count": null,
            "_view_module": "@jupyter-widgets/base",
            "_view_module_version": "1.2.0",
            "_view_name": "LayoutView",
            "align_content": null,
            "align_items": null,
            "align_self": null,
            "border": null,
            "bottom": null,
            "display": null,
            "flex": null,
            "flex_flow": null,
            "grid_area": null,
            "grid_auto_columns": null,
            "grid_auto_flow": null,
            "grid_auto_rows": null,
            "grid_column": null,
            "grid_gap": null,
            "grid_row": null,
            "grid_template_areas": null,
            "grid_template_columns": null,
            "grid_template_rows": null,
            "height": null,
            "justify_content": null,
            "justify_items": null,
            "left": null,
            "margin": null,
            "max_height": null,
            "max_width": null,
            "min_height": null,
            "min_width": null,
            "object_fit": null,
            "object_position": null,
            "order": null,
            "overflow": null,
            "overflow_x": null,
            "overflow_y": null,
            "padding": null,
            "right": null,
            "top": null,
            "visibility": null,
            "width": null
          }
        },
        "6617707ad1c74f449923bfa7fec13947": {
          "model_module": "@jupyter-widgets/controls",
          "model_name": "DescriptionStyleModel",
          "model_module_version": "1.5.0",
          "state": {
            "_model_module": "@jupyter-widgets/controls",
            "_model_module_version": "1.5.0",
            "_model_name": "DescriptionStyleModel",
            "_view_count": null,
            "_view_module": "@jupyter-widgets/base",
            "_view_module_version": "1.2.0",
            "_view_name": "StyleView",
            "description_width": ""
          }
        },
        "55bbee417fef4da9abdcb33201be65e0": {
          "model_module": "@jupyter-widgets/base",
          "model_name": "LayoutModel",
          "model_module_version": "1.2.0",
          "state": {
            "_model_module": "@jupyter-widgets/base",
            "_model_module_version": "1.2.0",
            "_model_name": "LayoutModel",
            "_view_count": null,
            "_view_module": "@jupyter-widgets/base",
            "_view_module_version": "1.2.0",
            "_view_name": "LayoutView",
            "align_content": null,
            "align_items": null,
            "align_self": null,
            "border": null,
            "bottom": null,
            "display": null,
            "flex": null,
            "flex_flow": null,
            "grid_area": null,
            "grid_auto_columns": null,
            "grid_auto_flow": null,
            "grid_auto_rows": null,
            "grid_column": null,
            "grid_gap": null,
            "grid_row": null,
            "grid_template_areas": null,
            "grid_template_columns": null,
            "grid_template_rows": null,
            "height": null,
            "justify_content": null,
            "justify_items": null,
            "left": null,
            "margin": null,
            "max_height": null,
            "max_width": null,
            "min_height": null,
            "min_width": null,
            "object_fit": null,
            "object_position": null,
            "order": null,
            "overflow": null,
            "overflow_x": null,
            "overflow_y": null,
            "padding": null,
            "right": null,
            "top": null,
            "visibility": null,
            "width": null
          }
        },
        "fdcfce6344274775b118fec769fb5e99": {
          "model_module": "@jupyter-widgets/controls",
          "model_name": "ProgressStyleModel",
          "model_module_version": "1.5.0",
          "state": {
            "_model_module": "@jupyter-widgets/controls",
            "_model_module_version": "1.5.0",
            "_model_name": "ProgressStyleModel",
            "_view_count": null,
            "_view_module": "@jupyter-widgets/base",
            "_view_module_version": "1.2.0",
            "_view_name": "StyleView",
            "bar_color": null,
            "description_width": ""
          }
        },
        "312ab85269f54bd9a187aa4e9dce4dfd": {
          "model_module": "@jupyter-widgets/base",
          "model_name": "LayoutModel",
          "model_module_version": "1.2.0",
          "state": {
            "_model_module": "@jupyter-widgets/base",
            "_model_module_version": "1.2.0",
            "_model_name": "LayoutModel",
            "_view_count": null,
            "_view_module": "@jupyter-widgets/base",
            "_view_module_version": "1.2.0",
            "_view_name": "LayoutView",
            "align_content": null,
            "align_items": null,
            "align_self": null,
            "border": null,
            "bottom": null,
            "display": null,
            "flex": null,
            "flex_flow": null,
            "grid_area": null,
            "grid_auto_columns": null,
            "grid_auto_flow": null,
            "grid_auto_rows": null,
            "grid_column": null,
            "grid_gap": null,
            "grid_row": null,
            "grid_template_areas": null,
            "grid_template_columns": null,
            "grid_template_rows": null,
            "height": null,
            "justify_content": null,
            "justify_items": null,
            "left": null,
            "margin": null,
            "max_height": null,
            "max_width": null,
            "min_height": null,
            "min_width": null,
            "object_fit": null,
            "object_position": null,
            "order": null,
            "overflow": null,
            "overflow_x": null,
            "overflow_y": null,
            "padding": null,
            "right": null,
            "top": null,
            "visibility": null,
            "width": null
          }
        },
        "913f929c8ae84048869fd3886c65c23f": {
          "model_module": "@jupyter-widgets/controls",
          "model_name": "DescriptionStyleModel",
          "model_module_version": "1.5.0",
          "state": {
            "_model_module": "@jupyter-widgets/controls",
            "_model_module_version": "1.5.0",
            "_model_name": "DescriptionStyleModel",
            "_view_count": null,
            "_view_module": "@jupyter-widgets/base",
            "_view_module_version": "1.2.0",
            "_view_name": "StyleView",
            "description_width": ""
          }
        },
        "47046e56692b4014a4a6aa8688806372": {
          "model_module": "@jupyter-widgets/controls",
          "model_name": "HBoxModel",
          "model_module_version": "1.5.0",
          "state": {
            "_dom_classes": [],
            "_model_module": "@jupyter-widgets/controls",
            "_model_module_version": "1.5.0",
            "_model_name": "HBoxModel",
            "_view_count": null,
            "_view_module": "@jupyter-widgets/controls",
            "_view_module_version": "1.5.0",
            "_view_name": "HBoxView",
            "box_style": "",
            "children": [
              "IPY_MODEL_fa10a2d40529484eaad75337e6cb508c",
              "IPY_MODEL_c6fc736d9ba7439781d531f1bd8e8da1",
              "IPY_MODEL_c0177702bd2649c39062bec5c09cb686"
            ],
            "layout": "IPY_MODEL_6f5006114df5485b94f1d8d6091d0b8d"
          }
        },
        "fa10a2d40529484eaad75337e6cb508c": {
          "model_module": "@jupyter-widgets/controls",
          "model_name": "HTMLModel",
          "model_module_version": "1.5.0",
          "state": {
            "_dom_classes": [],
            "_model_module": "@jupyter-widgets/controls",
            "_model_module_version": "1.5.0",
            "_model_name": "HTMLModel",
            "_view_count": null,
            "_view_module": "@jupyter-widgets/controls",
            "_view_module_version": "1.5.0",
            "_view_name": "HTMLView",
            "description": "",
            "description_tooltip": null,
            "layout": "IPY_MODEL_c4a618903bc749a89ef3d130ee07f6a4",
            "placeholder": "​",
            "style": "IPY_MODEL_13a3bab3ca1e44cdadf49be2ca98d0ec",
            "value": "100%"
          }
        },
        "c6fc736d9ba7439781d531f1bd8e8da1": {
          "model_module": "@jupyter-widgets/controls",
          "model_name": "FloatProgressModel",
          "model_module_version": "1.5.0",
          "state": {
            "_dom_classes": [],
            "_model_module": "@jupyter-widgets/controls",
            "_model_module_version": "1.5.0",
            "_model_name": "FloatProgressModel",
            "_view_count": null,
            "_view_module": "@jupyter-widgets/controls",
            "_view_module_version": "1.5.0",
            "_view_name": "ProgressView",
            "bar_style": "success",
            "description": "",
            "description_tooltip": null,
            "layout": "IPY_MODEL_32c33fbd49c54e968f9a32529a12c832",
            "max": 1000,
            "min": 0,
            "orientation": "horizontal",
            "style": "IPY_MODEL_3ea7a9edae374acc9224bf70678651e9",
            "value": 1000
          }
        },
        "c0177702bd2649c39062bec5c09cb686": {
          "model_module": "@jupyter-widgets/controls",
          "model_name": "HTMLModel",
          "model_module_version": "1.5.0",
          "state": {
            "_dom_classes": [],
            "_model_module": "@jupyter-widgets/controls",
            "_model_module_version": "1.5.0",
            "_model_name": "HTMLModel",
            "_view_count": null,
            "_view_module": "@jupyter-widgets/controls",
            "_view_module_version": "1.5.0",
            "_view_name": "HTMLView",
            "description": "",
            "description_tooltip": null,
            "layout": "IPY_MODEL_a2b2c4029d4c40e385012193a08694cc",
            "placeholder": "​",
            "style": "IPY_MODEL_9fb4f414782042859eec7881145709f6",
            "value": " 1000/1000 [01:41&lt;00:00, 10.96it/s]"
          }
        },
        "6f5006114df5485b94f1d8d6091d0b8d": {
          "model_module": "@jupyter-widgets/base",
          "model_name": "LayoutModel",
          "model_module_version": "1.2.0",
          "state": {
            "_model_module": "@jupyter-widgets/base",
            "_model_module_version": "1.2.0",
            "_model_name": "LayoutModel",
            "_view_count": null,
            "_view_module": "@jupyter-widgets/base",
            "_view_module_version": "1.2.0",
            "_view_name": "LayoutView",
            "align_content": null,
            "align_items": null,
            "align_self": null,
            "border": null,
            "bottom": null,
            "display": null,
            "flex": null,
            "flex_flow": null,
            "grid_area": null,
            "grid_auto_columns": null,
            "grid_auto_flow": null,
            "grid_auto_rows": null,
            "grid_column": null,
            "grid_gap": null,
            "grid_row": null,
            "grid_template_areas": null,
            "grid_template_columns": null,
            "grid_template_rows": null,
            "height": null,
            "justify_content": null,
            "justify_items": null,
            "left": null,
            "margin": null,
            "max_height": null,
            "max_width": null,
            "min_height": null,
            "min_width": null,
            "object_fit": null,
            "object_position": null,
            "order": null,
            "overflow": null,
            "overflow_x": null,
            "overflow_y": null,
            "padding": null,
            "right": null,
            "top": null,
            "visibility": null,
            "width": null
          }
        },
        "c4a618903bc749a89ef3d130ee07f6a4": {
          "model_module": "@jupyter-widgets/base",
          "model_name": "LayoutModel",
          "model_module_version": "1.2.0",
          "state": {
            "_model_module": "@jupyter-widgets/base",
            "_model_module_version": "1.2.0",
            "_model_name": "LayoutModel",
            "_view_count": null,
            "_view_module": "@jupyter-widgets/base",
            "_view_module_version": "1.2.0",
            "_view_name": "LayoutView",
            "align_content": null,
            "align_items": null,
            "align_self": null,
            "border": null,
            "bottom": null,
            "display": null,
            "flex": null,
            "flex_flow": null,
            "grid_area": null,
            "grid_auto_columns": null,
            "grid_auto_flow": null,
            "grid_auto_rows": null,
            "grid_column": null,
            "grid_gap": null,
            "grid_row": null,
            "grid_template_areas": null,
            "grid_template_columns": null,
            "grid_template_rows": null,
            "height": null,
            "justify_content": null,
            "justify_items": null,
            "left": null,
            "margin": null,
            "max_height": null,
            "max_width": null,
            "min_height": null,
            "min_width": null,
            "object_fit": null,
            "object_position": null,
            "order": null,
            "overflow": null,
            "overflow_x": null,
            "overflow_y": null,
            "padding": null,
            "right": null,
            "top": null,
            "visibility": null,
            "width": null
          }
        },
        "13a3bab3ca1e44cdadf49be2ca98d0ec": {
          "model_module": "@jupyter-widgets/controls",
          "model_name": "DescriptionStyleModel",
          "model_module_version": "1.5.0",
          "state": {
            "_model_module": "@jupyter-widgets/controls",
            "_model_module_version": "1.5.0",
            "_model_name": "DescriptionStyleModel",
            "_view_count": null,
            "_view_module": "@jupyter-widgets/base",
            "_view_module_version": "1.2.0",
            "_view_name": "StyleView",
            "description_width": ""
          }
        },
        "32c33fbd49c54e968f9a32529a12c832": {
          "model_module": "@jupyter-widgets/base",
          "model_name": "LayoutModel",
          "model_module_version": "1.2.0",
          "state": {
            "_model_module": "@jupyter-widgets/base",
            "_model_module_version": "1.2.0",
            "_model_name": "LayoutModel",
            "_view_count": null,
            "_view_module": "@jupyter-widgets/base",
            "_view_module_version": "1.2.0",
            "_view_name": "LayoutView",
            "align_content": null,
            "align_items": null,
            "align_self": null,
            "border": null,
            "bottom": null,
            "display": null,
            "flex": null,
            "flex_flow": null,
            "grid_area": null,
            "grid_auto_columns": null,
            "grid_auto_flow": null,
            "grid_auto_rows": null,
            "grid_column": null,
            "grid_gap": null,
            "grid_row": null,
            "grid_template_areas": null,
            "grid_template_columns": null,
            "grid_template_rows": null,
            "height": null,
            "justify_content": null,
            "justify_items": null,
            "left": null,
            "margin": null,
            "max_height": null,
            "max_width": null,
            "min_height": null,
            "min_width": null,
            "object_fit": null,
            "object_position": null,
            "order": null,
            "overflow": null,
            "overflow_x": null,
            "overflow_y": null,
            "padding": null,
            "right": null,
            "top": null,
            "visibility": null,
            "width": null
          }
        },
        "3ea7a9edae374acc9224bf70678651e9": {
          "model_module": "@jupyter-widgets/controls",
          "model_name": "ProgressStyleModel",
          "model_module_version": "1.5.0",
          "state": {
            "_model_module": "@jupyter-widgets/controls",
            "_model_module_version": "1.5.0",
            "_model_name": "ProgressStyleModel",
            "_view_count": null,
            "_view_module": "@jupyter-widgets/base",
            "_view_module_version": "1.2.0",
            "_view_name": "StyleView",
            "bar_color": null,
            "description_width": ""
          }
        },
        "a2b2c4029d4c40e385012193a08694cc": {
          "model_module": "@jupyter-widgets/base",
          "model_name": "LayoutModel",
          "model_module_version": "1.2.0",
          "state": {
            "_model_module": "@jupyter-widgets/base",
            "_model_module_version": "1.2.0",
            "_model_name": "LayoutModel",
            "_view_count": null,
            "_view_module": "@jupyter-widgets/base",
            "_view_module_version": "1.2.0",
            "_view_name": "LayoutView",
            "align_content": null,
            "align_items": null,
            "align_self": null,
            "border": null,
            "bottom": null,
            "display": null,
            "flex": null,
            "flex_flow": null,
            "grid_area": null,
            "grid_auto_columns": null,
            "grid_auto_flow": null,
            "grid_auto_rows": null,
            "grid_column": null,
            "grid_gap": null,
            "grid_row": null,
            "grid_template_areas": null,
            "grid_template_columns": null,
            "grid_template_rows": null,
            "height": null,
            "justify_content": null,
            "justify_items": null,
            "left": null,
            "margin": null,
            "max_height": null,
            "max_width": null,
            "min_height": null,
            "min_width": null,
            "object_fit": null,
            "object_position": null,
            "order": null,
            "overflow": null,
            "overflow_x": null,
            "overflow_y": null,
            "padding": null,
            "right": null,
            "top": null,
            "visibility": null,
            "width": null
          }
        },
        "9fb4f414782042859eec7881145709f6": {
          "model_module": "@jupyter-widgets/controls",
          "model_name": "DescriptionStyleModel",
          "model_module_version": "1.5.0",
          "state": {
            "_model_module": "@jupyter-widgets/controls",
            "_model_module_version": "1.5.0",
            "_model_name": "DescriptionStyleModel",
            "_view_count": null,
            "_view_module": "@jupyter-widgets/base",
            "_view_module_version": "1.2.0",
            "_view_name": "StyleView",
            "description_width": ""
          }
        },
        "f9c3d48e886549bea3287de0ef819193": {
          "model_module": "@jupyter-widgets/controls",
          "model_name": "HBoxModel",
          "model_module_version": "1.5.0",
          "state": {
            "_dom_classes": [],
            "_model_module": "@jupyter-widgets/controls",
            "_model_module_version": "1.5.0",
            "_model_name": "HBoxModel",
            "_view_count": null,
            "_view_module": "@jupyter-widgets/controls",
            "_view_module_version": "1.5.0",
            "_view_name": "HBoxView",
            "box_style": "",
            "children": [
              "IPY_MODEL_cbab386150744d9ab14cf45ebe6cddc5",
              "IPY_MODEL_757800f6eb5240ba92d47181d81d1975",
              "IPY_MODEL_bc32c32350004de890292621901ae49c"
            ],
            "layout": "IPY_MODEL_6b0f52fbb82442c3a462578956751362"
          }
        },
        "cbab386150744d9ab14cf45ebe6cddc5": {
          "model_module": "@jupyter-widgets/controls",
          "model_name": "HTMLModel",
          "model_module_version": "1.5.0",
          "state": {
            "_dom_classes": [],
            "_model_module": "@jupyter-widgets/controls",
            "_model_module_version": "1.5.0",
            "_model_name": "HTMLModel",
            "_view_count": null,
            "_view_module": "@jupyter-widgets/controls",
            "_view_module_version": "1.5.0",
            "_view_name": "HTMLView",
            "description": "",
            "description_tooltip": null,
            "layout": "IPY_MODEL_99ebc5d52ca141869912e66a25b7e34d",
            "placeholder": "​",
            "style": "IPY_MODEL_fe231e6a950d44cfb30a586aa65c7946",
            "value": "100%"
          }
        },
        "757800f6eb5240ba92d47181d81d1975": {
          "model_module": "@jupyter-widgets/controls",
          "model_name": "FloatProgressModel",
          "model_module_version": "1.5.0",
          "state": {
            "_dom_classes": [],
            "_model_module": "@jupyter-widgets/controls",
            "_model_module_version": "1.5.0",
            "_model_name": "FloatProgressModel",
            "_view_count": null,
            "_view_module": "@jupyter-widgets/controls",
            "_view_module_version": "1.5.0",
            "_view_name": "ProgressView",
            "bar_style": "success",
            "description": "",
            "description_tooltip": null,
            "layout": "IPY_MODEL_58af948fce2f4e21a058cfc395a1799b",
            "max": 1000,
            "min": 0,
            "orientation": "horizontal",
            "style": "IPY_MODEL_db763d2fb4d647208d10874f863a5d72",
            "value": 1000
          }
        },
        "bc32c32350004de890292621901ae49c": {
          "model_module": "@jupyter-widgets/controls",
          "model_name": "HTMLModel",
          "model_module_version": "1.5.0",
          "state": {
            "_dom_classes": [],
            "_model_module": "@jupyter-widgets/controls",
            "_model_module_version": "1.5.0",
            "_model_name": "HTMLModel",
            "_view_count": null,
            "_view_module": "@jupyter-widgets/controls",
            "_view_module_version": "1.5.0",
            "_view_name": "HTMLView",
            "description": "",
            "description_tooltip": null,
            "layout": "IPY_MODEL_02a9448ef5b54cd0817375c97366c817",
            "placeholder": "​",
            "style": "IPY_MODEL_63475afbf96747e6a66fe5273ad71213",
            "value": " 1000/1000 [01:18&lt;00:00, 11.04it/s]"
          }
        },
        "6b0f52fbb82442c3a462578956751362": {
          "model_module": "@jupyter-widgets/base",
          "model_name": "LayoutModel",
          "model_module_version": "1.2.0",
          "state": {
            "_model_module": "@jupyter-widgets/base",
            "_model_module_version": "1.2.0",
            "_model_name": "LayoutModel",
            "_view_count": null,
            "_view_module": "@jupyter-widgets/base",
            "_view_module_version": "1.2.0",
            "_view_name": "LayoutView",
            "align_content": null,
            "align_items": null,
            "align_self": null,
            "border": null,
            "bottom": null,
            "display": null,
            "flex": null,
            "flex_flow": null,
            "grid_area": null,
            "grid_auto_columns": null,
            "grid_auto_flow": null,
            "grid_auto_rows": null,
            "grid_column": null,
            "grid_gap": null,
            "grid_row": null,
            "grid_template_areas": null,
            "grid_template_columns": null,
            "grid_template_rows": null,
            "height": null,
            "justify_content": null,
            "justify_items": null,
            "left": null,
            "margin": null,
            "max_height": null,
            "max_width": null,
            "min_height": null,
            "min_width": null,
            "object_fit": null,
            "object_position": null,
            "order": null,
            "overflow": null,
            "overflow_x": null,
            "overflow_y": null,
            "padding": null,
            "right": null,
            "top": null,
            "visibility": null,
            "width": null
          }
        },
        "99ebc5d52ca141869912e66a25b7e34d": {
          "model_module": "@jupyter-widgets/base",
          "model_name": "LayoutModel",
          "model_module_version": "1.2.0",
          "state": {
            "_model_module": "@jupyter-widgets/base",
            "_model_module_version": "1.2.0",
            "_model_name": "LayoutModel",
            "_view_count": null,
            "_view_module": "@jupyter-widgets/base",
            "_view_module_version": "1.2.0",
            "_view_name": "LayoutView",
            "align_content": null,
            "align_items": null,
            "align_self": null,
            "border": null,
            "bottom": null,
            "display": null,
            "flex": null,
            "flex_flow": null,
            "grid_area": null,
            "grid_auto_columns": null,
            "grid_auto_flow": null,
            "grid_auto_rows": null,
            "grid_column": null,
            "grid_gap": null,
            "grid_row": null,
            "grid_template_areas": null,
            "grid_template_columns": null,
            "grid_template_rows": null,
            "height": null,
            "justify_content": null,
            "justify_items": null,
            "left": null,
            "margin": null,
            "max_height": null,
            "max_width": null,
            "min_height": null,
            "min_width": null,
            "object_fit": null,
            "object_position": null,
            "order": null,
            "overflow": null,
            "overflow_x": null,
            "overflow_y": null,
            "padding": null,
            "right": null,
            "top": null,
            "visibility": null,
            "width": null
          }
        },
        "fe231e6a950d44cfb30a586aa65c7946": {
          "model_module": "@jupyter-widgets/controls",
          "model_name": "DescriptionStyleModel",
          "model_module_version": "1.5.0",
          "state": {
            "_model_module": "@jupyter-widgets/controls",
            "_model_module_version": "1.5.0",
            "_model_name": "DescriptionStyleModel",
            "_view_count": null,
            "_view_module": "@jupyter-widgets/base",
            "_view_module_version": "1.2.0",
            "_view_name": "StyleView",
            "description_width": ""
          }
        },
        "58af948fce2f4e21a058cfc395a1799b": {
          "model_module": "@jupyter-widgets/base",
          "model_name": "LayoutModel",
          "model_module_version": "1.2.0",
          "state": {
            "_model_module": "@jupyter-widgets/base",
            "_model_module_version": "1.2.0",
            "_model_name": "LayoutModel",
            "_view_count": null,
            "_view_module": "@jupyter-widgets/base",
            "_view_module_version": "1.2.0",
            "_view_name": "LayoutView",
            "align_content": null,
            "align_items": null,
            "align_self": null,
            "border": null,
            "bottom": null,
            "display": null,
            "flex": null,
            "flex_flow": null,
            "grid_area": null,
            "grid_auto_columns": null,
            "grid_auto_flow": null,
            "grid_auto_rows": null,
            "grid_column": null,
            "grid_gap": null,
            "grid_row": null,
            "grid_template_areas": null,
            "grid_template_columns": null,
            "grid_template_rows": null,
            "height": null,
            "justify_content": null,
            "justify_items": null,
            "left": null,
            "margin": null,
            "max_height": null,
            "max_width": null,
            "min_height": null,
            "min_width": null,
            "object_fit": null,
            "object_position": null,
            "order": null,
            "overflow": null,
            "overflow_x": null,
            "overflow_y": null,
            "padding": null,
            "right": null,
            "top": null,
            "visibility": null,
            "width": null
          }
        },
        "db763d2fb4d647208d10874f863a5d72": {
          "model_module": "@jupyter-widgets/controls",
          "model_name": "ProgressStyleModel",
          "model_module_version": "1.5.0",
          "state": {
            "_model_module": "@jupyter-widgets/controls",
            "_model_module_version": "1.5.0",
            "_model_name": "ProgressStyleModel",
            "_view_count": null,
            "_view_module": "@jupyter-widgets/base",
            "_view_module_version": "1.2.0",
            "_view_name": "StyleView",
            "bar_color": null,
            "description_width": ""
          }
        },
        "02a9448ef5b54cd0817375c97366c817": {
          "model_module": "@jupyter-widgets/base",
          "model_name": "LayoutModel",
          "model_module_version": "1.2.0",
          "state": {
            "_model_module": "@jupyter-widgets/base",
            "_model_module_version": "1.2.0",
            "_model_name": "LayoutModel",
            "_view_count": null,
            "_view_module": "@jupyter-widgets/base",
            "_view_module_version": "1.2.0",
            "_view_name": "LayoutView",
            "align_content": null,
            "align_items": null,
            "align_self": null,
            "border": null,
            "bottom": null,
            "display": null,
            "flex": null,
            "flex_flow": null,
            "grid_area": null,
            "grid_auto_columns": null,
            "grid_auto_flow": null,
            "grid_auto_rows": null,
            "grid_column": null,
            "grid_gap": null,
            "grid_row": null,
            "grid_template_areas": null,
            "grid_template_columns": null,
            "grid_template_rows": null,
            "height": null,
            "justify_content": null,
            "justify_items": null,
            "left": null,
            "margin": null,
            "max_height": null,
            "max_width": null,
            "min_height": null,
            "min_width": null,
            "object_fit": null,
            "object_position": null,
            "order": null,
            "overflow": null,
            "overflow_x": null,
            "overflow_y": null,
            "padding": null,
            "right": null,
            "top": null,
            "visibility": null,
            "width": null
          }
        },
        "63475afbf96747e6a66fe5273ad71213": {
          "model_module": "@jupyter-widgets/controls",
          "model_name": "DescriptionStyleModel",
          "model_module_version": "1.5.0",
          "state": {
            "_model_module": "@jupyter-widgets/controls",
            "_model_module_version": "1.5.0",
            "_model_name": "DescriptionStyleModel",
            "_view_count": null,
            "_view_module": "@jupyter-widgets/base",
            "_view_module_version": "1.2.0",
            "_view_name": "StyleView",
            "description_width": ""
          }
        },
        "b98dfc3d29de438ca1cffaa6332ac5bf": {
          "model_module": "@jupyter-widgets/controls",
          "model_name": "HBoxModel",
          "model_module_version": "1.5.0",
          "state": {
            "_dom_classes": [],
            "_model_module": "@jupyter-widgets/controls",
            "_model_module_version": "1.5.0",
            "_model_name": "HBoxModel",
            "_view_count": null,
            "_view_module": "@jupyter-widgets/controls",
            "_view_module_version": "1.5.0",
            "_view_name": "HBoxView",
            "box_style": "",
            "children": [
              "IPY_MODEL_120ce3ca34a94147b045a46cbe1d0ae1",
              "IPY_MODEL_cbbf7069d7864e41a11e30011a385547",
              "IPY_MODEL_f8fc60075302404f9ac8d1d565aa611b"
            ],
            "layout": "IPY_MODEL_aad54944a8f8421ebaeaee2330261e9e"
          }
        },
        "120ce3ca34a94147b045a46cbe1d0ae1": {
          "model_module": "@jupyter-widgets/controls",
          "model_name": "HTMLModel",
          "model_module_version": "1.5.0",
          "state": {
            "_dom_classes": [],
            "_model_module": "@jupyter-widgets/controls",
            "_model_module_version": "1.5.0",
            "_model_name": "HTMLModel",
            "_view_count": null,
            "_view_module": "@jupyter-widgets/controls",
            "_view_module_version": "1.5.0",
            "_view_name": "HTMLView",
            "description": "",
            "description_tooltip": null,
            "layout": "IPY_MODEL_581ac8b1e63d4831a6b2cf22aaa28350",
            "placeholder": "​",
            "style": "IPY_MODEL_e68bc17552f8443c901e69e2de25349b",
            "value": "100%"
          }
        },
        "cbbf7069d7864e41a11e30011a385547": {
          "model_module": "@jupyter-widgets/controls",
          "model_name": "FloatProgressModel",
          "model_module_version": "1.5.0",
          "state": {
            "_dom_classes": [],
            "_model_module": "@jupyter-widgets/controls",
            "_model_module_version": "1.5.0",
            "_model_name": "FloatProgressModel",
            "_view_count": null,
            "_view_module": "@jupyter-widgets/controls",
            "_view_module_version": "1.5.0",
            "_view_name": "ProgressView",
            "bar_style": "success",
            "description": "",
            "description_tooltip": null,
            "layout": "IPY_MODEL_6c1cb80b5e6a4b50b9c3b80474587f86",
            "max": 1000,
            "min": 0,
            "orientation": "horizontal",
            "style": "IPY_MODEL_325a882c319d48bb9d136411a3472031",
            "value": 1000
          }
        },
        "f8fc60075302404f9ac8d1d565aa611b": {
          "model_module": "@jupyter-widgets/controls",
          "model_name": "HTMLModel",
          "model_module_version": "1.5.0",
          "state": {
            "_dom_classes": [],
            "_model_module": "@jupyter-widgets/controls",
            "_model_module_version": "1.5.0",
            "_model_name": "HTMLModel",
            "_view_count": null,
            "_view_module": "@jupyter-widgets/controls",
            "_view_module_version": "1.5.0",
            "_view_name": "HTMLView",
            "description": "",
            "description_tooltip": null,
            "layout": "IPY_MODEL_9555c88718ff4effb50bddd453f462ad",
            "placeholder": "​",
            "style": "IPY_MODEL_02da485d0e2743ea8c4ec4e7489df431",
            "value": " 1000/1000 [08:40&lt;00:00,  1.25it/s]"
          }
        },
        "aad54944a8f8421ebaeaee2330261e9e": {
          "model_module": "@jupyter-widgets/base",
          "model_name": "LayoutModel",
          "model_module_version": "1.2.0",
          "state": {
            "_model_module": "@jupyter-widgets/base",
            "_model_module_version": "1.2.0",
            "_model_name": "LayoutModel",
            "_view_count": null,
            "_view_module": "@jupyter-widgets/base",
            "_view_module_version": "1.2.0",
            "_view_name": "LayoutView",
            "align_content": null,
            "align_items": null,
            "align_self": null,
            "border": null,
            "bottom": null,
            "display": null,
            "flex": null,
            "flex_flow": null,
            "grid_area": null,
            "grid_auto_columns": null,
            "grid_auto_flow": null,
            "grid_auto_rows": null,
            "grid_column": null,
            "grid_gap": null,
            "grid_row": null,
            "grid_template_areas": null,
            "grid_template_columns": null,
            "grid_template_rows": null,
            "height": null,
            "justify_content": null,
            "justify_items": null,
            "left": null,
            "margin": null,
            "max_height": null,
            "max_width": null,
            "min_height": null,
            "min_width": null,
            "object_fit": null,
            "object_position": null,
            "order": null,
            "overflow": null,
            "overflow_x": null,
            "overflow_y": null,
            "padding": null,
            "right": null,
            "top": null,
            "visibility": null,
            "width": null
          }
        },
        "581ac8b1e63d4831a6b2cf22aaa28350": {
          "model_module": "@jupyter-widgets/base",
          "model_name": "LayoutModel",
          "model_module_version": "1.2.0",
          "state": {
            "_model_module": "@jupyter-widgets/base",
            "_model_module_version": "1.2.0",
            "_model_name": "LayoutModel",
            "_view_count": null,
            "_view_module": "@jupyter-widgets/base",
            "_view_module_version": "1.2.0",
            "_view_name": "LayoutView",
            "align_content": null,
            "align_items": null,
            "align_self": null,
            "border": null,
            "bottom": null,
            "display": null,
            "flex": null,
            "flex_flow": null,
            "grid_area": null,
            "grid_auto_columns": null,
            "grid_auto_flow": null,
            "grid_auto_rows": null,
            "grid_column": null,
            "grid_gap": null,
            "grid_row": null,
            "grid_template_areas": null,
            "grid_template_columns": null,
            "grid_template_rows": null,
            "height": null,
            "justify_content": null,
            "justify_items": null,
            "left": null,
            "margin": null,
            "max_height": null,
            "max_width": null,
            "min_height": null,
            "min_width": null,
            "object_fit": null,
            "object_position": null,
            "order": null,
            "overflow": null,
            "overflow_x": null,
            "overflow_y": null,
            "padding": null,
            "right": null,
            "top": null,
            "visibility": null,
            "width": null
          }
        },
        "e68bc17552f8443c901e69e2de25349b": {
          "model_module": "@jupyter-widgets/controls",
          "model_name": "DescriptionStyleModel",
          "model_module_version": "1.5.0",
          "state": {
            "_model_module": "@jupyter-widgets/controls",
            "_model_module_version": "1.5.0",
            "_model_name": "DescriptionStyleModel",
            "_view_count": null,
            "_view_module": "@jupyter-widgets/base",
            "_view_module_version": "1.2.0",
            "_view_name": "StyleView",
            "description_width": ""
          }
        },
        "6c1cb80b5e6a4b50b9c3b80474587f86": {
          "model_module": "@jupyter-widgets/base",
          "model_name": "LayoutModel",
          "model_module_version": "1.2.0",
          "state": {
            "_model_module": "@jupyter-widgets/base",
            "_model_module_version": "1.2.0",
            "_model_name": "LayoutModel",
            "_view_count": null,
            "_view_module": "@jupyter-widgets/base",
            "_view_module_version": "1.2.0",
            "_view_name": "LayoutView",
            "align_content": null,
            "align_items": null,
            "align_self": null,
            "border": null,
            "bottom": null,
            "display": null,
            "flex": null,
            "flex_flow": null,
            "grid_area": null,
            "grid_auto_columns": null,
            "grid_auto_flow": null,
            "grid_auto_rows": null,
            "grid_column": null,
            "grid_gap": null,
            "grid_row": null,
            "grid_template_areas": null,
            "grid_template_columns": null,
            "grid_template_rows": null,
            "height": null,
            "justify_content": null,
            "justify_items": null,
            "left": null,
            "margin": null,
            "max_height": null,
            "max_width": null,
            "min_height": null,
            "min_width": null,
            "object_fit": null,
            "object_position": null,
            "order": null,
            "overflow": null,
            "overflow_x": null,
            "overflow_y": null,
            "padding": null,
            "right": null,
            "top": null,
            "visibility": null,
            "width": null
          }
        },
        "325a882c319d48bb9d136411a3472031": {
          "model_module": "@jupyter-widgets/controls",
          "model_name": "ProgressStyleModel",
          "model_module_version": "1.5.0",
          "state": {
            "_model_module": "@jupyter-widgets/controls",
            "_model_module_version": "1.5.0",
            "_model_name": "ProgressStyleModel",
            "_view_count": null,
            "_view_module": "@jupyter-widgets/base",
            "_view_module_version": "1.2.0",
            "_view_name": "StyleView",
            "bar_color": null,
            "description_width": ""
          }
        },
        "9555c88718ff4effb50bddd453f462ad": {
          "model_module": "@jupyter-widgets/base",
          "model_name": "LayoutModel",
          "model_module_version": "1.2.0",
          "state": {
            "_model_module": "@jupyter-widgets/base",
            "_model_module_version": "1.2.0",
            "_model_name": "LayoutModel",
            "_view_count": null,
            "_view_module": "@jupyter-widgets/base",
            "_view_module_version": "1.2.0",
            "_view_name": "LayoutView",
            "align_content": null,
            "align_items": null,
            "align_self": null,
            "border": null,
            "bottom": null,
            "display": null,
            "flex": null,
            "flex_flow": null,
            "grid_area": null,
            "grid_auto_columns": null,
            "grid_auto_flow": null,
            "grid_auto_rows": null,
            "grid_column": null,
            "grid_gap": null,
            "grid_row": null,
            "grid_template_areas": null,
            "grid_template_columns": null,
            "grid_template_rows": null,
            "height": null,
            "justify_content": null,
            "justify_items": null,
            "left": null,
            "margin": null,
            "max_height": null,
            "max_width": null,
            "min_height": null,
            "min_width": null,
            "object_fit": null,
            "object_position": null,
            "order": null,
            "overflow": null,
            "overflow_x": null,
            "overflow_y": null,
            "padding": null,
            "right": null,
            "top": null,
            "visibility": null,
            "width": null
          }
        },
        "02da485d0e2743ea8c4ec4e7489df431": {
          "model_module": "@jupyter-widgets/controls",
          "model_name": "DescriptionStyleModel",
          "model_module_version": "1.5.0",
          "state": {
            "_model_module": "@jupyter-widgets/controls",
            "_model_module_version": "1.5.0",
            "_model_name": "DescriptionStyleModel",
            "_view_count": null,
            "_view_module": "@jupyter-widgets/base",
            "_view_module_version": "1.2.0",
            "_view_name": "StyleView",
            "description_width": ""
          }
        },
        "08fc52cd2a054d4bb314e390cd95a8f6": {
          "model_module": "@jupyter-widgets/controls",
          "model_name": "HBoxModel",
          "model_module_version": "1.5.0",
          "state": {
            "_dom_classes": [],
            "_model_module": "@jupyter-widgets/controls",
            "_model_module_version": "1.5.0",
            "_model_name": "HBoxModel",
            "_view_count": null,
            "_view_module": "@jupyter-widgets/controls",
            "_view_module_version": "1.5.0",
            "_view_name": "HBoxView",
            "box_style": "",
            "children": [
              "IPY_MODEL_f4acf4ce67e7431aaface0e7b4f15978",
              "IPY_MODEL_15cb6a3ec80c45a7b9c95efa130a7dc9",
              "IPY_MODEL_0e01e90522b546ed9479cae394d4813d"
            ],
            "layout": "IPY_MODEL_a735fcad61eb410c964efd18f564de59"
          }
        },
        "f4acf4ce67e7431aaface0e7b4f15978": {
          "model_module": "@jupyter-widgets/controls",
          "model_name": "HTMLModel",
          "model_module_version": "1.5.0",
          "state": {
            "_dom_classes": [],
            "_model_module": "@jupyter-widgets/controls",
            "_model_module_version": "1.5.0",
            "_model_name": "HTMLModel",
            "_view_count": null,
            "_view_module": "@jupyter-widgets/controls",
            "_view_module_version": "1.5.0",
            "_view_name": "HTMLView",
            "description": "",
            "description_tooltip": null,
            "layout": "IPY_MODEL_8e63875111fb48a3a79d56daef36ae09",
            "placeholder": "​",
            "style": "IPY_MODEL_1cff12eb9ecd467a8365f27dfe580db8",
            "value": "100%"
          }
        },
        "15cb6a3ec80c45a7b9c95efa130a7dc9": {
          "model_module": "@jupyter-widgets/controls",
          "model_name": "FloatProgressModel",
          "model_module_version": "1.5.0",
          "state": {
            "_dom_classes": [],
            "_model_module": "@jupyter-widgets/controls",
            "_model_module_version": "1.5.0",
            "_model_name": "FloatProgressModel",
            "_view_count": null,
            "_view_module": "@jupyter-widgets/controls",
            "_view_module_version": "1.5.0",
            "_view_name": "ProgressView",
            "bar_style": "success",
            "description": "",
            "description_tooltip": null,
            "layout": "IPY_MODEL_f7578682f7834780af150a8b2fea700a",
            "max": 200,
            "min": 0,
            "orientation": "horizontal",
            "style": "IPY_MODEL_5abab470e5b441b692199b3955325acd",
            "value": 200
          }
        },
        "0e01e90522b546ed9479cae394d4813d": {
          "model_module": "@jupyter-widgets/controls",
          "model_name": "HTMLModel",
          "model_module_version": "1.5.0",
          "state": {
            "_dom_classes": [],
            "_model_module": "@jupyter-widgets/controls",
            "_model_module_version": "1.5.0",
            "_model_name": "HTMLModel",
            "_view_count": null,
            "_view_module": "@jupyter-widgets/controls",
            "_view_module_version": "1.5.0",
            "_view_name": "HTMLView",
            "description": "",
            "description_tooltip": null,
            "layout": "IPY_MODEL_ad368ec52c7f482aab7c03e7102fb370",
            "placeholder": "​",
            "style": "IPY_MODEL_d4f2b0f56e88434d8e27047b3882575d",
            "value": " 200/200 [01:34&lt;00:00,  2.98it/s]"
          }
        },
        "a735fcad61eb410c964efd18f564de59": {
          "model_module": "@jupyter-widgets/base",
          "model_name": "LayoutModel",
          "model_module_version": "1.2.0",
          "state": {
            "_model_module": "@jupyter-widgets/base",
            "_model_module_version": "1.2.0",
            "_model_name": "LayoutModel",
            "_view_count": null,
            "_view_module": "@jupyter-widgets/base",
            "_view_module_version": "1.2.0",
            "_view_name": "LayoutView",
            "align_content": null,
            "align_items": null,
            "align_self": null,
            "border": null,
            "bottom": null,
            "display": null,
            "flex": null,
            "flex_flow": null,
            "grid_area": null,
            "grid_auto_columns": null,
            "grid_auto_flow": null,
            "grid_auto_rows": null,
            "grid_column": null,
            "grid_gap": null,
            "grid_row": null,
            "grid_template_areas": null,
            "grid_template_columns": null,
            "grid_template_rows": null,
            "height": null,
            "justify_content": null,
            "justify_items": null,
            "left": null,
            "margin": null,
            "max_height": null,
            "max_width": null,
            "min_height": null,
            "min_width": null,
            "object_fit": null,
            "object_position": null,
            "order": null,
            "overflow": null,
            "overflow_x": null,
            "overflow_y": null,
            "padding": null,
            "right": null,
            "top": null,
            "visibility": null,
            "width": null
          }
        },
        "8e63875111fb48a3a79d56daef36ae09": {
          "model_module": "@jupyter-widgets/base",
          "model_name": "LayoutModel",
          "model_module_version": "1.2.0",
          "state": {
            "_model_module": "@jupyter-widgets/base",
            "_model_module_version": "1.2.0",
            "_model_name": "LayoutModel",
            "_view_count": null,
            "_view_module": "@jupyter-widgets/base",
            "_view_module_version": "1.2.0",
            "_view_name": "LayoutView",
            "align_content": null,
            "align_items": null,
            "align_self": null,
            "border": null,
            "bottom": null,
            "display": null,
            "flex": null,
            "flex_flow": null,
            "grid_area": null,
            "grid_auto_columns": null,
            "grid_auto_flow": null,
            "grid_auto_rows": null,
            "grid_column": null,
            "grid_gap": null,
            "grid_row": null,
            "grid_template_areas": null,
            "grid_template_columns": null,
            "grid_template_rows": null,
            "height": null,
            "justify_content": null,
            "justify_items": null,
            "left": null,
            "margin": null,
            "max_height": null,
            "max_width": null,
            "min_height": null,
            "min_width": null,
            "object_fit": null,
            "object_position": null,
            "order": null,
            "overflow": null,
            "overflow_x": null,
            "overflow_y": null,
            "padding": null,
            "right": null,
            "top": null,
            "visibility": null,
            "width": null
          }
        },
        "1cff12eb9ecd467a8365f27dfe580db8": {
          "model_module": "@jupyter-widgets/controls",
          "model_name": "DescriptionStyleModel",
          "model_module_version": "1.5.0",
          "state": {
            "_model_module": "@jupyter-widgets/controls",
            "_model_module_version": "1.5.0",
            "_model_name": "DescriptionStyleModel",
            "_view_count": null,
            "_view_module": "@jupyter-widgets/base",
            "_view_module_version": "1.2.0",
            "_view_name": "StyleView",
            "description_width": ""
          }
        },
        "f7578682f7834780af150a8b2fea700a": {
          "model_module": "@jupyter-widgets/base",
          "model_name": "LayoutModel",
          "model_module_version": "1.2.0",
          "state": {
            "_model_module": "@jupyter-widgets/base",
            "_model_module_version": "1.2.0",
            "_model_name": "LayoutModel",
            "_view_count": null,
            "_view_module": "@jupyter-widgets/base",
            "_view_module_version": "1.2.0",
            "_view_name": "LayoutView",
            "align_content": null,
            "align_items": null,
            "align_self": null,
            "border": null,
            "bottom": null,
            "display": null,
            "flex": null,
            "flex_flow": null,
            "grid_area": null,
            "grid_auto_columns": null,
            "grid_auto_flow": null,
            "grid_auto_rows": null,
            "grid_column": null,
            "grid_gap": null,
            "grid_row": null,
            "grid_template_areas": null,
            "grid_template_columns": null,
            "grid_template_rows": null,
            "height": null,
            "justify_content": null,
            "justify_items": null,
            "left": null,
            "margin": null,
            "max_height": null,
            "max_width": null,
            "min_height": null,
            "min_width": null,
            "object_fit": null,
            "object_position": null,
            "order": null,
            "overflow": null,
            "overflow_x": null,
            "overflow_y": null,
            "padding": null,
            "right": null,
            "top": null,
            "visibility": null,
            "width": null
          }
        },
        "5abab470e5b441b692199b3955325acd": {
          "model_module": "@jupyter-widgets/controls",
          "model_name": "ProgressStyleModel",
          "model_module_version": "1.5.0",
          "state": {
            "_model_module": "@jupyter-widgets/controls",
            "_model_module_version": "1.5.0",
            "_model_name": "ProgressStyleModel",
            "_view_count": null,
            "_view_module": "@jupyter-widgets/base",
            "_view_module_version": "1.2.0",
            "_view_name": "StyleView",
            "bar_color": null,
            "description_width": ""
          }
        },
        "ad368ec52c7f482aab7c03e7102fb370": {
          "model_module": "@jupyter-widgets/base",
          "model_name": "LayoutModel",
          "model_module_version": "1.2.0",
          "state": {
            "_model_module": "@jupyter-widgets/base",
            "_model_module_version": "1.2.0",
            "_model_name": "LayoutModel",
            "_view_count": null,
            "_view_module": "@jupyter-widgets/base",
            "_view_module_version": "1.2.0",
            "_view_name": "LayoutView",
            "align_content": null,
            "align_items": null,
            "align_self": null,
            "border": null,
            "bottom": null,
            "display": null,
            "flex": null,
            "flex_flow": null,
            "grid_area": null,
            "grid_auto_columns": null,
            "grid_auto_flow": null,
            "grid_auto_rows": null,
            "grid_column": null,
            "grid_gap": null,
            "grid_row": null,
            "grid_template_areas": null,
            "grid_template_columns": null,
            "grid_template_rows": null,
            "height": null,
            "justify_content": null,
            "justify_items": null,
            "left": null,
            "margin": null,
            "max_height": null,
            "max_width": null,
            "min_height": null,
            "min_width": null,
            "object_fit": null,
            "object_position": null,
            "order": null,
            "overflow": null,
            "overflow_x": null,
            "overflow_y": null,
            "padding": null,
            "right": null,
            "top": null,
            "visibility": null,
            "width": null
          }
        },
        "d4f2b0f56e88434d8e27047b3882575d": {
          "model_module": "@jupyter-widgets/controls",
          "model_name": "DescriptionStyleModel",
          "model_module_version": "1.5.0",
          "state": {
            "_model_module": "@jupyter-widgets/controls",
            "_model_module_version": "1.5.0",
            "_model_name": "DescriptionStyleModel",
            "_view_count": null,
            "_view_module": "@jupyter-widgets/base",
            "_view_module_version": "1.2.0",
            "_view_name": "StyleView",
            "description_width": ""
          }
        }
      }
    }
  },
  "cells": [
    {
      "cell_type": "code",
      "source": [
        "!pip install gym==0.15.3\n",
        "!apt update\n",
        "!apt-get install python-opengl -y\n",
        "!apt install xvfb -y\n",
        "!pip install pyvirtualdisplay\n",
        "!pip install piglet"
      ],
      "metadata": {
        "colab": {
          "base_uri": "https://localhost:8080/"
        },
        "id": "SsuhzJ74LDCL",
        "outputId": "6a45b13e-3423-4afd-e60e-a3beada9865b"
      },
      "execution_count": null,
      "outputs": [
        {
          "output_type": "stream",
          "name": "stdout",
          "text": [
            "Looking in indexes: https://pypi.org/simple, https://us-python.pkg.dev/colab-wheels/public/simple/\n",
            "Collecting gym==0.15.3\n",
            "  Downloading gym-0.15.3.tar.gz (1.6 MB)\n",
            "\u001b[K     |████████████████████████████████| 1.6 MB 24.1 MB/s \n",
            "\u001b[?25hRequirement already satisfied: scipy in /usr/local/lib/python3.7/dist-packages (from gym==0.15.3) (1.7.3)\n",
            "Requirement already satisfied: numpy>=1.10.4 in /usr/local/lib/python3.7/dist-packages (from gym==0.15.3) (1.21.6)\n",
            "Requirement already satisfied: six in /usr/local/lib/python3.7/dist-packages (from gym==0.15.3) (1.15.0)\n",
            "Collecting pyglet<=1.3.2,>=1.2.0\n",
            "  Downloading pyglet-1.3.2-py2.py3-none-any.whl (1.0 MB)\n",
            "\u001b[K     |████████████████████████████████| 1.0 MB 54.1 MB/s \n",
            "\u001b[?25hCollecting cloudpickle~=1.2.0\n",
            "  Downloading cloudpickle-1.2.2-py2.py3-none-any.whl (25 kB)\n",
            "Requirement already satisfied: future in /usr/local/lib/python3.7/dist-packages (from pyglet<=1.3.2,>=1.2.0->gym==0.15.3) (0.16.0)\n",
            "Building wheels for collected packages: gym\n",
            "  Building wheel for gym (setup.py) ... \u001b[?25l\u001b[?25hdone\n",
            "  Created wheel for gym: filename=gym-0.15.3-py3-none-any.whl size=1644970 sha256=3f947b2326c2edc78c89047d7bb8f90e99e3201012be1ba09f9d8c8c36c5f0f0\n",
            "  Stored in directory: /root/.cache/pip/wheels/55/16/6b/2250ca4f9f050a4d27d8bed287e57bbb3c33fc4066f557cc75\n",
            "Successfully built gym\n",
            "Installing collected packages: pyglet, cloudpickle, gym\n",
            "  Attempting uninstall: cloudpickle\n",
            "    Found existing installation: cloudpickle 1.5.0\n",
            "    Uninstalling cloudpickle-1.5.0:\n",
            "      Successfully uninstalled cloudpickle-1.5.0\n",
            "  Attempting uninstall: gym\n",
            "    Found existing installation: gym 0.25.2\n",
            "    Uninstalling gym-0.25.2:\n",
            "      Successfully uninstalled gym-0.25.2\n",
            "\u001b[31mERROR: pip's dependency resolver does not currently take into account all the packages that are installed. This behaviour is the source of the following dependency conflicts.\n",
            "tensorflow-probability 0.16.0 requires cloudpickle>=1.3, but you have cloudpickle 1.2.2 which is incompatible.\n",
            "distributed 2022.2.0 requires cloudpickle>=1.5.0, but you have cloudpickle 1.2.2 which is incompatible.\u001b[0m\n",
            "Successfully installed cloudpickle-1.2.2 gym-0.15.3 pyglet-1.3.2\n",
            "Get:1 https://cloud.r-project.org/bin/linux/ubuntu bionic-cran40/ InRelease [3,626 B]\n",
            "Ign:2 https://developer.download.nvidia.com/compute/machine-learning/repos/ubuntu1804/x86_64  InRelease\n",
            "Hit:3 https://developer.download.nvidia.com/compute/cuda/repos/ubuntu1804/x86_64  InRelease\n",
            "Hit:4 https://developer.download.nvidia.com/compute/machine-learning/repos/ubuntu1804/x86_64  Release\n",
            "Get:5 http://ppa.launchpad.net/c2d4u.team/c2d4u4.0+/ubuntu bionic InRelease [15.9 kB]\n",
            "Hit:6 http://archive.ubuntu.com/ubuntu bionic InRelease\n",
            "Get:7 http://security.ubuntu.com/ubuntu bionic-security InRelease [88.7 kB]\n",
            "Get:8 http://archive.ubuntu.com/ubuntu bionic-updates InRelease [88.7 kB]\n",
            "Hit:9 http://ppa.launchpad.net/cran/libgit2/ubuntu bionic InRelease\n",
            "Get:11 http://archive.ubuntu.com/ubuntu bionic-backports InRelease [74.6 kB]\n",
            "Hit:12 http://ppa.launchpad.net/deadsnakes/ppa/ubuntu bionic InRelease\n",
            "Hit:13 http://ppa.launchpad.net/graphics-drivers/ppa/ubuntu bionic InRelease\n",
            "Get:14 http://ppa.launchpad.net/c2d4u.team/c2d4u4.0+/ubuntu bionic/main Sources [2,105 kB]\n",
            "Get:15 http://archive.ubuntu.com/ubuntu bionic-updates/main amd64 Packages [3,397 kB]\n",
            "Get:16 http://security.ubuntu.com/ubuntu bionic-security/universe amd64 Packages [1,540 kB]\n",
            "Get:17 http://ppa.launchpad.net/c2d4u.team/c2d4u4.0+/ubuntu bionic/main amd64 Packages [1,079 kB]\n",
            "Get:18 http://archive.ubuntu.com/ubuntu bionic-updates/universe amd64 Packages [2,318 kB]\n",
            "Get:19 http://security.ubuntu.com/ubuntu bionic-security/main amd64 Packages [2,965 kB]\n",
            "Fetched 13.7 MB in 6s (2,308 kB/s)\n",
            "Reading package lists... Done\n",
            "Building dependency tree       \n",
            "Reading state information... Done\n",
            "49 packages can be upgraded. Run 'apt list --upgradable' to see them.\n",
            "Reading package lists... Done\n",
            "Building dependency tree       \n",
            "Reading state information... Done\n",
            "The following package was automatically installed and is no longer required:\n",
            "  libnvidia-common-460\n",
            "Use 'apt autoremove' to remove it.\n",
            "Suggested packages:\n",
            "  libgle3\n",
            "The following NEW packages will be installed:\n",
            "  python-opengl\n",
            "0 upgraded, 1 newly installed, 0 to remove and 49 not upgraded.\n",
            "Need to get 496 kB of archives.\n",
            "After this operation, 5,416 kB of additional disk space will be used.\n",
            "Get:1 http://archive.ubuntu.com/ubuntu bionic/universe amd64 python-opengl all 3.1.0+dfsg-1 [496 kB]\n",
            "Fetched 496 kB in 1s (371 kB/s)\n",
            "Selecting previously unselected package python-opengl.\n",
            "(Reading database ... 155685 files and directories currently installed.)\n",
            "Preparing to unpack .../python-opengl_3.1.0+dfsg-1_all.deb ...\n",
            "Unpacking python-opengl (3.1.0+dfsg-1) ...\n",
            "Setting up python-opengl (3.1.0+dfsg-1) ...\n",
            "Reading package lists... Done\n",
            "Building dependency tree       \n",
            "Reading state information... Done\n",
            "The following package was automatically installed and is no longer required:\n",
            "  libnvidia-common-460\n",
            "Use 'apt autoremove' to remove it.\n",
            "The following NEW packages will be installed:\n",
            "  xvfb\n",
            "0 upgraded, 1 newly installed, 0 to remove and 49 not upgraded.\n",
            "Need to get 785 kB of archives.\n",
            "After this operation, 2,271 kB of additional disk space will be used.\n",
            "Get:1 http://archive.ubuntu.com/ubuntu bionic-updates/universe amd64 xvfb amd64 2:1.19.6-1ubuntu4.11 [785 kB]\n",
            "Fetched 785 kB in 1s (531 kB/s)\n",
            "Selecting previously unselected package xvfb.\n",
            "(Reading database ... 158040 files and directories currently installed.)\n",
            "Preparing to unpack .../xvfb_2%3a1.19.6-1ubuntu4.11_amd64.deb ...\n",
            "Unpacking xvfb (2:1.19.6-1ubuntu4.11) ...\n",
            "Setting up xvfb (2:1.19.6-1ubuntu4.11) ...\n",
            "Processing triggers for man-db (2.8.3-2ubuntu0.1) ...\n",
            "Looking in indexes: https://pypi.org/simple, https://us-python.pkg.dev/colab-wheels/public/simple/\n",
            "Collecting pyvirtualdisplay\n",
            "  Downloading PyVirtualDisplay-3.0-py3-none-any.whl (15 kB)\n",
            "Installing collected packages: pyvirtualdisplay\n",
            "Successfully installed pyvirtualdisplay-3.0\n",
            "Looking in indexes: https://pypi.org/simple, https://us-python.pkg.dev/colab-wheels/public/simple/\n",
            "Collecting piglet\n",
            "  Downloading piglet-1.0.0-py2.py3-none-any.whl (2.2 kB)\n",
            "Collecting piglet-templates\n",
            "  Downloading piglet_templates-1.3.0-py3-none-any.whl (67 kB)\n",
            "\u001b[K     |████████████████████████████████| 67 kB 6.0 MB/s \n",
            "\u001b[?25hRequirement already satisfied: attrs in /usr/local/lib/python3.7/dist-packages (from piglet-templates->piglet) (22.1.0)\n",
            "Requirement already satisfied: astunparse in /usr/local/lib/python3.7/dist-packages (from piglet-templates->piglet) (1.6.3)\n",
            "Requirement already satisfied: pyparsing in /usr/local/lib/python3.7/dist-packages (from piglet-templates->piglet) (3.0.9)\n",
            "Requirement already satisfied: markupsafe in /usr/local/lib/python3.7/dist-packages (from piglet-templates->piglet) (2.0.1)\n",
            "Requirement already satisfied: six<2.0,>=1.6.1 in /usr/local/lib/python3.7/dist-packages (from astunparse->piglet-templates->piglet) (1.15.0)\n",
            "Requirement already satisfied: wheel<1.0,>=0.23.0 in /usr/local/lib/python3.7/dist-packages (from astunparse->piglet-templates->piglet) (0.37.1)\n",
            "Installing collected packages: piglet-templates, piglet\n",
            "Successfully installed piglet-1.0.0 piglet-templates-1.3.0\n"
          ]
        }
      ]
    },
    {
      "cell_type": "code",
      "execution_count": null,
      "metadata": {
        "id": "-Z3D7oC8IXoo"
      },
      "outputs": [],
      "source": [
        "\n",
        "from torch import nn\n",
        "import random\n",
        "import torch\n",
        "import numpy as np\n",
        "\n",
        "import gym\n",
        "from gym.wrappers import Monitor\n",
        "\n",
        "import sys\n",
        "import glob\n",
        "import io\n",
        "import base64\n",
        "import os\n",
        "\n",
        "import matplotlib.pyplot as plt\n",
        "# import hiplot as hip\n",
        "import plotly.express as px\n",
        "import cv2\n",
        "\n",
        "from IPython.display import HTML\n",
        "from IPython import display as ipythondisplay\n",
        "from pyvirtualdisplay import Display\n",
        "\n",
        "from tqdm.notebook import tqdm\n",
        "from collections import deque \n",
        "\n",
        "%matplotlib inline\n"
      ]
    },
    {
      "cell_type": "code",
      "source": [
        "display = Display(visible=0, size=(1400, 900))\n",
        "display.start()"
      ],
      "metadata": {
        "colab": {
          "base_uri": "https://localhost:8080/"
        },
        "id": "1e-6bje8L97S",
        "outputId": "7b46034a-99eb-4676-98a9-54129689ab9d"
      },
      "execution_count": null,
      "outputs": [
        {
          "output_type": "execute_result",
          "data": {
            "text/plain": [
              "<pyvirtualdisplay.display.Display at 0x7fdd73ca5710>"
            ]
          },
          "metadata": {},
          "execution_count": 3
        }
      ]
    },
    {
      "cell_type": "code",
      "source": [
        "# device = torch.device(\"cuda\") if torch.cuda.is_available() else torch.device(\"cpu\")\n",
        "# print(f'Selected Device : {device}')\n",
        "\n",
        "device = 'cpu'"
      ],
      "metadata": {
        "id": "KSshI5o7bs4g"
      },
      "execution_count": null,
      "outputs": []
    },
    {
      "cell_type": "code",
      "source": [
        "def show_videos():\n",
        "    mp4list = glob.glob('video/*.mp4')\n",
        "    mp4list.sort()\n",
        "    for mp4 in mp4list:\n",
        "        print(f\"\\nSHOWING VIDEO {mp4}\")\n",
        "        video = io.open(mp4, 'r+b').read()\n",
        "        encoded = base64.b64encode(video)\n",
        "        ipythondisplay.display(HTML(data='''<video alt=\"test\" autoplay \n",
        "                loop controls style=\"height: 400px;\">\n",
        "                <source src=\"data:video/mp4;base64,{0}\" type=\"video/mp4\" />\n",
        "             </video>'''.format(encoded.decode('ascii'))))\n",
        "    \n",
        "def wrap_env(env, video_callable=None):\n",
        "    env = Monitor(env, './video', force=True, video_callable=video_callable)\n",
        "    return env\n",
        "\n"
      ],
      "metadata": {
        "id": "KfIBWcTBMCXH"
      },
      "execution_count": null,
      "outputs": []
    },
    {
      "cell_type": "code",
      "source": [
        "class ReplayMemory(object):\n",
        "\n",
        "    def __init__(self, capacity):\n",
        "        self.memory = deque(maxlen=capacity)\n",
        "\n",
        "    def push(self, state, action, next_state, reward):\n",
        "        self.memory.append( (state, action, next_state, reward) )\n",
        "\n",
        "    def sample(self, batch_size):\n",
        "        batch_size = min(batch_size, len(self)) # Get all the samples \n",
        "        return random.sample(self.memory, batch_size)\n",
        "\n",
        "    def __len__(self):\n",
        "        return len(self.memory) "
      ],
      "metadata": {
        "id": "V4mPwLq9mxkX"
      },
      "execution_count": null,
      "outputs": []
    },
    {
      "cell_type": "code",
      "source": [
        "replay_mem = ReplayMemory(capacity=3)\n",
        "\n",
        "# Push some samples\n",
        "print(f\"CURRENT MEMORY SIZE: {len(replay_mem)}\")\n",
        "replay_mem.push(1,1,1,1)\n",
        "print(f\"CURRENT MEMORY SIZE: {len(replay_mem)}\")\n",
        "replay_mem.push(2,2,2,2)\n",
        "print(f\"CURRENT MEMORY SIZE: {len(replay_mem)}\")\n",
        "replay_mem.push(3,3,3,3)\n",
        "print(f\"CURRENT MEMORY SIZE: {len(replay_mem)}\")\n",
        "replay_mem.push(4,4,4,4)\n",
        "print(f\"CURRENT MEMORY SIZE: {len(replay_mem)}\")\n",
        "replay_mem.push(5,5,5,5)\n",
        "print(f\"CURRENT MEMORY SIZE: {len(replay_mem)}\")\n",
        "\n",
        "# Check the content of the memory\n",
        "print('\\nCONTENT OF THE MEMORY')\n",
        "print(replay_mem.memory)\n",
        "\n",
        "# Random sample\n",
        "print('\\nRANDOM SAMPLING')\n",
        "for i in range(5):\n",
        "  print(replay_mem.sample(2)) # Select 2 samples randomly from the memory"
      ],
      "metadata": {
        "colab": {
          "base_uri": "https://localhost:8080/"
        },
        "id": "yrRN3wVJMCbd",
        "outputId": "1b1a51e0-21cc-49de-8f53-91e952514cbb"
      },
      "execution_count": null,
      "outputs": [
        {
          "output_type": "stream",
          "name": "stdout",
          "text": [
            "CURRENT MEMORY SIZE: 0\n",
            "CURRENT MEMORY SIZE: 1\n",
            "CURRENT MEMORY SIZE: 2\n",
            "CURRENT MEMORY SIZE: 3\n",
            "CURRENT MEMORY SIZE: 3\n",
            "CURRENT MEMORY SIZE: 3\n",
            "\n",
            "CONTENT OF THE MEMORY\n",
            "deque([(3, 3, 3, 3), (4, 4, 4, 4), (5, 5, 5, 5)], maxlen=3)\n",
            "\n",
            "RANDOM SAMPLING\n",
            "[(5, 5, 5, 5), (4, 4, 4, 4)]\n",
            "[(5, 5, 5, 5), (4, 4, 4, 4)]\n",
            "[(5, 5, 5, 5), (3, 3, 3, 3)]\n",
            "[(5, 5, 5, 5), (4, 4, 4, 4)]\n",
            "[(3, 3, 3, 3), (5, 5, 5, 5)]\n"
          ]
        }
      ]
    },
    {
      "cell_type": "code",
      "source": [
        "class DQN(nn.Module):\n",
        "\n",
        "    def __init__(self, state_space_dim, action_space_dim):\n",
        "        super().__init__()\n",
        "\n",
        "        self.linear = nn.Sequential(\n",
        "                nn.Linear(state_space_dim, 128),\n",
        "                nn.Tanh(),\n",
        "                nn.Linear(128, 128),\n",
        "                nn.Tanh(),\n",
        "                nn.Linear(128, action_space_dim)\n",
        "                )\n",
        "\n",
        "    def forward(self, x):\n",
        "        return self.linear(x)\n"
      ],
      "metadata": {
        "id": "TVvrKkuNMCe8"
      },
      "execution_count": null,
      "outputs": []
    },
    {
      "cell_type": "code",
      "source": [
        "net = DQN(state_space_dim=4, action_space_dim=2)\n",
        "print(net)"
      ],
      "metadata": {
        "colab": {
          "base_uri": "https://localhost:8080/"
        },
        "id": "NDC7HMSLMb7T",
        "outputId": "1ad2a9e8-616f-44b8-cde6-bff03f451fcb"
      },
      "execution_count": null,
      "outputs": [
        {
          "output_type": "stream",
          "name": "stdout",
          "text": [
            "DQN(\n",
            "  (linear): Sequential(\n",
            "    (0): Linear(in_features=4, out_features=128, bias=True)\n",
            "    (1): Tanh()\n",
            "    (2): Linear(in_features=128, out_features=128, bias=True)\n",
            "    (3): Tanh()\n",
            "    (4): Linear(in_features=128, out_features=2, bias=True)\n",
            "  )\n",
            ")\n"
          ]
        }
      ]
    },
    {
      "cell_type": "code",
      "source": [
        "def choose_action_epsilon_greedy(net, state, epsilon):\n",
        "    \n",
        "    if epsilon > 1 or epsilon < 0:\n",
        "        raise Exception('The epsilon value must be between 0 and 1')\n",
        "                \n",
        "    with torch.no_grad():\n",
        "        net.eval()\n",
        "        state = torch.tensor(state, dtype=torch.float32) # Convert the state to tensor\n",
        "        net_out = net(state)\n",
        "\n",
        "    best_action = int(net_out.argmax())\n",
        "    action_space_dim = net_out.shape[-1]\n",
        "\n",
        "    if random.random() < epsilon:\n",
        "        non_optimal_actions = [a for a in range(action_space_dim) if a != best_action]\n",
        "        action = random.choice(non_optimal_actions)\n",
        "    else:\n",
        "        action = best_action\n",
        "        \n",
        "    return action, net_out.numpy()"
      ],
      "metadata": {
        "id": "99IOruW3Mb9t"
      },
      "execution_count": null,
      "outputs": []
    },
    {
      "cell_type": "code",
      "source": [
        "state = (0, 0, 0, 0)\n",
        "epsilon = 0.5\n",
        "chosen_action, q_values = choose_action_epsilon_greedy(net, state, epsilon)\n",
        "\n",
        "print(f\"ACTION: {chosen_action}\")\n",
        "print(f\"Q-VALUES: {q_values}\")"
      ],
      "metadata": {
        "colab": {
          "base_uri": "https://localhost:8080/"
        },
        "id": "CyM6Ym3hMcA2",
        "outputId": "c016bc4b-bc44-4108-be08-bcc4a5dcdd3c"
      },
      "execution_count": null,
      "outputs": [
        {
          "output_type": "stream",
          "name": "stdout",
          "text": [
            "ACTION: 0\n",
            "Q-VALUES: [0.25055712 0.01303197]\n"
          ]
        }
      ]
    },
    {
      "cell_type": "code",
      "source": [
        "def choose_action_softmax(net, state, temperature):\n",
        "    \n",
        "    if temperature < 0:\n",
        "        raise Exception('The temperature value must be greater than or equal to 0 ')\n",
        "        \n",
        "    if temperature == 0:\n",
        "        return choose_action_epsilon_greedy(net, state, 0)\n",
        "    \n",
        "    with torch.no_grad():\n",
        "        net.eval()\n",
        "        state = torch.tensor(state, dtype=torch.float32)\n",
        "        net_out = net(state)\n",
        "\n",
        "    temperature = max(temperature, 1e-8) \n",
        "    softmax_out = nn.functional.softmax(net_out / temperature, dim=0).numpy()\n",
        "                \n",
        "    all_possible_actions = np.arange(0, softmax_out.shape[-1])\n",
        "    action = np.random.choice(all_possible_actions, p=softmax_out) # this samples a random element from \"all_possible_actions\" with the probability distribution p (softmax_out in this case)\n",
        "    \n",
        "    return action, net_out.numpy()"
      ],
      "metadata": {
        "id": "NbpWvRRMMk83"
      },
      "execution_count": null,
      "outputs": []
    },
    {
      "cell_type": "code",
      "source": [
        "state = (0, 0, 0, 0)\n",
        "temperature = 1\n",
        "chosen_action, q_values = choose_action_softmax(net, state, temperature)\n",
        "\n",
        "print(f\"ACTION: {chosen_action}\")\n",
        "print(f\"Q-VALUES: {q_values}\")"
      ],
      "metadata": {
        "colab": {
          "base_uri": "https://localhost:8080/"
        },
        "id": "IYODaM52MlAa",
        "outputId": "75e9f67f-73d7-467e-dffe-d58ad5a3e0a2"
      },
      "execution_count": null,
      "outputs": [
        {
          "output_type": "stream",
          "name": "stdout",
          "text": [
            "ACTION: 0\n",
            "Q-VALUES: [0.25055712 0.01303197]\n"
          ]
        }
      ]
    },
    {
      "cell_type": "code",
      "source": [
        "def expl_profile_softmax(num_iterations, initial_value):\n",
        "\n",
        "    if initial_value == 1:\n",
        "        exploration_profile = np.array([np.exp(-i / num_iterations * 6 ) for i in range(num_iterations)])\n",
        "    else:    \n",
        "        exp_decay = np.exp(-np.log(initial_value) / num_iterations * 6) \n",
        "        exploration_profile = np.array([initial_value * (exp_decay ** i) for i in range(num_iterations)])\n",
        "\n",
        "    return exploration_profile"
      ],
      "metadata": {
        "id": "bmnKkqW4M1MZ"
      },
      "execution_count": null,
      "outputs": []
    },
    {
      "cell_type": "code",
      "source": [
        "initial_value = 5\n",
        "num_iterations = 1000\n",
        "\n",
        "exploration_profile = expl_profile_softmax(num_iterations,initial_value)\n",
        "\n",
        "### Plot exploration profile\n",
        "plt.figure(figsize=(10,6))\n",
        "plt.plot(exploration_profile)\n",
        "plt.grid()\n",
        "plt.xlabel('Iteration')\n",
        "plt.ylabel('Exploration profile (Softmax temperature)')"
      ],
      "metadata": {
        "colab": {
          "base_uri": "https://localhost:8080/",
          "height": 405
        },
        "id": "1oxV5ONoM1Bh",
        "outputId": "953479d7-1306-4f3f-c738-29f747305982"
      },
      "execution_count": null,
      "outputs": [
        {
          "output_type": "execute_result",
          "data": {
            "text/plain": [
              "Text(0, 0.5, 'Exploration profile (Softmax temperature)')"
            ]
          },
          "metadata": {},
          "execution_count": 15
        },
        {
          "output_type": "display_data",
          "data": {
            "text/plain": [
              "<Figure size 720x432 with 1 Axes>"
            ],
            "image/png": "[encoded data removed]"
          },
          "metadata": {
            "needs_background": "light"
          }
        }
      ]
    },
    {
      "cell_type": "code",
      "source": [],
      "metadata": {
        "id": "RXwXtI0mM1EB"
      },
      "execution_count": null,
      "outputs": []
    },
    {
      "cell_type": "code",
      "source": [
        "env = gym.make('CartPole-v1') \n",
        "env.seed(0) \n",
        "state_space_dim = env.observation_space.shape[0]\n",
        "action_space_dim = env.action_space.n\n",
        "\n",
        "print(f\"STATE SPACE SIZE: {state_space_dim}\")\n",
        "print(f\"ACTION SPACE SIZE: {action_space_dim}\")\n",
        "print(f\"ACTION SPACE SIZE: {action_space_dim}\")"
      ],
      "metadata": {
        "colab": {
          "base_uri": "https://localhost:8080/"
        },
        "id": "Pe0xV-1qM1Gj",
        "outputId": "cdc92ce0-4ce6-4319-9afc-214c5e6ba52d"
      },
      "execution_count": null,
      "outputs": [
        {
          "output_type": "stream",
          "name": "stdout",
          "text": [
            "STATE SPACE SIZE: 4\n",
            "ACTION SPACE SIZE: 2\n",
            "ACTION SPACE SIZE: 2\n"
          ]
        }
      ]
    },
    {
      "cell_type": "code",
      "source": [
        "env = gym.make('CartPole-v1') \n",
        "env.seed(0) \n",
        "\n",
        "env = wrap_env(env, video_callable=lambda episode_id: True)\n",
        "\n",
        "for num_episode in range(10): \n",
        "    state = env.reset()\n",
        "    score = 0\n",
        "    done = False\n",
        "    while not done and score < 490:\n",
        "      action = random.choice([0, 1])\n",
        "      next_state, reward, done, info = env.step(action)\n",
        "      env.render()\n",
        "      score += reward \n",
        "      state = next_state\n",
        "      # Check if the episode ended (the pole fell down)\n",
        "\n",
        "    print(f\"EPISODE {num_episode + 1} - FINAL SCORE: {score}\") \n",
        "\n",
        "env.close()"
      ],
      "metadata": {
        "colab": {
          "base_uri": "https://localhost:8080/"
        },
        "id": "9k1RBYtSM1JC",
        "outputId": "a79387f2-7828-4cd7-983e-a3264dea4cfe"
      },
      "execution_count": null,
      "outputs": [
        {
          "output_type": "stream",
          "name": "stdout",
          "text": [
            "EPISODE 1 - FINAL SCORE: 11.0\n",
            "EPISODE 2 - FINAL SCORE: 25.0\n",
            "EPISODE 3 - FINAL SCORE: 10.0\n",
            "EPISODE 4 - FINAL SCORE: 30.0\n",
            "EPISODE 5 - FINAL SCORE: 25.0\n",
            "EPISODE 6 - FINAL SCORE: 24.0\n",
            "EPISODE 7 - FINAL SCORE: 23.0\n",
            "EPISODE 8 - FINAL SCORE: 15.0\n",
            "EPISODE 9 - FINAL SCORE: 26.0\n",
            "EPISODE 10 - FINAL SCORE: 29.0\n"
          ]
        }
      ]
    },
    {
      "cell_type": "code",
      "source": [
        "# Display the videos, not required outside Colab\n",
        "# show_videos()"
      ],
      "metadata": {
        "colab": {
          "base_uri": "https://localhost:8080/",
          "height": 1000
        },
        "id": "RqUcfB-_NBPS",
        "outputId": "481a21cb-a3ec-4728-94e3-deb6d4a75771"
      },
      "execution_count": null,
      "outputs": [
        {
          "output_type": "stream",
          "name": "stdout",
          "text": [
            "\n",
            "SHOWING VIDEO video/openaigym.video.0.70.video000000.mp4\n"
          ]
        },
        {
          "output_type": "display_data",
          "data": {
            "text/plain": [
              "<IPython.core.display.HTML object>"
            ],
            "text/html": [
              "<video alt=\"test\" autoplay \n",
              "                loop controls style=\"height: 400px;\">\n",
              "                <source src=\"data:video/mp4;base64,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\" type=\"video/mp4\" />\n",
              "             </video>"
            ]
          },
          "metadata": {}
        },
        {
          "output_type": "stream",
          "name": "stdout",
          "text": [
            "\n",
            "SHOWING VIDEO video/openaigym.video.0.70.video000001.mp4\n"
          ]
        },
        {
          "output_type": "display_data",
          "data": {
            "text/plain": [
              "<IPython.core.display.HTML object>"
            ],
            "text/html": [
              "<video alt=\"test\" autoplay \n",
              "                loop controls style=\"height: 400px;\">\n",
              "                <source src=\"data:video/mp4;base64,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\" type=\"video/mp4\" />\n",
              "             </video>"
            ]
          },
          "metadata": {}
        },
        {
          "output_type": "stream",
          "name": "stdout",
          "text": [
            "\n",
            "SHOWING VIDEO video/openaigym.video.0.70.video000002.mp4\n"
          ]
        },
        {
          "output_type": "display_data",
          "data": {
            "text/plain": [
              "<IPython.core.display.HTML object>"
            ],
            "text/html": [
              "<video alt=\"test\" autoplay \n",
              "                loop controls style=\"height: 400px;\">\n",
              "                <source src=\"data:video/mp4;base64,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\" type=\"video/mp4\" />\n",
              "             </video>"
            ]
          },
          "metadata": {}
        },
        {
          "output_type": "stream",
          "name": "stdout",
          "text": [
            "\n",
            "SHOWING VIDEO video/openaigym.video.0.70.video000003.mp4\n"
          ]
        },
        {
          "output_type": "display_data",
          "data": {
            "text/plain": [
              "<IPython.core.display.HTML object>"
            ],
            "text/html": [
              "<video alt=\"test\" autoplay \n",
              "                loop controls style=\"height: 400px;\">\n",
              "                <source src=\"data:video/mp4;base64,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\" type=\"video/mp4\" />\n",
              "             </video>"
            ]
          },
          "metadata": {}
        },
        {
          "output_type": "stream",
          "name": "stdout",
          "text": [
            "\n",
            "SHOWING VIDEO video/openaigym.video.0.70.video000004.mp4\n"
          ]
        },
        {
          "output_type": "display_data",
          "data": {
            "text/plain": [
              "<IPython.core.display.HTML object>"
            ],
            "text/html": [
              "<video alt=\"test\" autoplay \n",
              "                loop controls style=\"height: 400px;\">\n",
              "                <source src=\"data:video/mp4;base64,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\" type=\"video/mp4\" />\n",
              "             </video>"
            ]
          },
          "metadata": {}
        },
        {
          "output_type": "stream",
          "name": "stdout",
          "text": [
            "\n",
            "SHOWING VIDEO video/openaigym.video.0.70.video000005.mp4\n"
          ]
        },
        {
          "output_type": "display_data",
          "data": {
            "text/plain": [
              "<IPython.core.display.HTML object>"
            ],
            "text/html": [
              "<video alt=\"test\" autoplay \n",
              "                loop controls style=\"height: 400px;\">\n",
              "                <source src=\"data:video/mp4;base64,AAAAIGZ0eXBpc29tAAACAGlzb21pc28yYXZjMW1wNDEAAAAIZnJlZQAADTFtZGF0AAACrgYF//+q3EXpvebZSLeWLNgg2SPu73gyNjQgLSBjb3JlIDE1MiByMjg1NCBlOWE1OTAzIC0gSC4yNjQvTVBFRy00IEFWQyBjb2RlYyAtIENvcHlsZWZ0IDIwMDMtMjAxNyAtIGh0dHA6Ly93d3cudmlkZW9sYW4ub3JnL3gyNjQuaHRtbCAtIG9wdGlvbnM6IGNhYmFjPTEgcmVmPTMgZGVibG9jaz0xOjA6MCBhbmFseXNlPTB4MzoweDExMyBtZT1oZXggc3VibWU9NyBwc3k9MSBwc3lfcmQ9MS4wMDowLjAwIG1peGVkX3JlZj0xIG1lX3JhbmdlPTE2IGNocm9tYV9tZT0xIHRyZWxsaXM9MSA4eDhkY3Q9MSBjcW09MCBkZWFkem9uZT0yMSwxMSBmYXN0X3Bza2lwPTEgY2hyb21hX3FwX29mZnNldD0tMiB0aHJlYWRzPTMgbG9va2FoZWFkX3RocmVhZHM9MSBzbGljZWRfdGhyZWFkcz0wIG5yPTAgZGVjaW1hdGU9MSBpbnRlcmxhY2VkPTAgYmx1cmF5X2NvbXBhdD0wIGNvbnN0cmFpbmVkX2ludHJhPTAgYmZyYW1lcz0zIGJfcHlyYW1pZD0yIGJfYWRhcHQ9MSBiX2JpYXM9MCBkaXJlY3Q9MSB3ZWlnaHRiPTEgb3Blbl9nb3A9MCB3ZWlnaHRwPTIga2V5aW50PTI1MCBrZXlpbnRfbWluPTI1IHNjZW5lY3V0PTQwIGludHJhX3JlZnJlc2g9MCByY19sb29rYWhlYWQ9NDAgcmM9Y3JmIG1idHJlZT0xIGNyZj0yMy4wIHFjb21wPTAuNjAgcXBtaW49MCBxcG1heD02OSBxcHN0ZXA9NCBpcF9yYXRpbz0xLjQwIGFxPTE6MS4wMACAAAABkmWIhAAz//727L4FNf2f0JcRLMXaSnA+KqSAgHc0wAAAAwAAAwAAFgn0I7DkqgN3QAAAHGAFBCwCPCVC2EhH2Olf8H/BOM9AUhzMYjgrCWwwm5b+4TnfYZUm++IEDgb+AjtJSIJGKXrcohcnXb9PrCcgjKgFsbIL6sv/TDBpizcimfX4fOMQ1P6b2FmBmbn5XM3ejN05mBoN7zuOAeQQ49OpE7CwE6QHJJgz09L7umoos1FyPKIPL4LbIu99tpElu1EnxnLI9bmwGOfz8f6Ac820ts6nFxIPkAUITKnr9+8LxR9oY8y8uFtsUdfPWCavRFa92fFAOalAy3bDzHkVGWoGHF1Uj3zRXAqnyIzfa32H3juPPwF6Op31M7sHvc7qn8CMaEb51g8bINX4cjPcHlVcQAAC2mUnJpfPqUq/VScSscOiGERC40agoMja1IKAAHU3MvIauLbe4xU0LO+LKtqGipquF67OLag9+EsXepQf+ZXOybUkJt7UYGjwtGH9YugMgiEiXsLZAAADAAADAABbwQAAAO1BmiRsQv/+jLAAAEYd8gYAcsVBsiw1EzATcBO6JOdOESBUcV63gYlxQNJJTiDmy6GDUiZsVtLhBNC/se2JQquRav3DKaMwUm4r+co8yLU631BL/xCqJ99EDpbAjEMR5NhWa3zIenuNZ0somxE18hKI6+UK+hpuTsxHolt4pPHMmEzyKuu3LMg2/jnIzapdE7LMJ4i8K34CyJ8DT45i00hxJtHtzTjioilVaNQxgnW7qF3YF9JW6wFB+ZvP+JHQrYpKApRqch+5lZ7kR/VCVxcMjXH9Ppa7lPgAAczLMNhGCDk3Iqle37uhq3K5yYAAAAA3QZ5CeIR/AAAWvku0RNPePCEUrLT3eRYf6ra9W7r87f95wZzsiuEk/AAAAwAD20B9W2TDkywHzQAAACABnmF0R/8AAAMACjiksKi3GzOEWycAAAMAAKPLtPCBJwAAACsBnmNqR/8AACOxzCv317lbrMkPysvRpxtG1Yne+zbrcXak4lVm+AmMIrbBAAAAwEGaZ0moQWiZTAhf//6MsAAARgL9IwA6QBTkhXCr+jrLqnxIr1vF/uGkBfr+dkZlkFwSyD7xw9mbJ2SIssCzrgwZhBsMhKjfjNXO/tDqsJYeHsbJRzBVdcJlig4AA1GNAvDCu+QQJOakfwP9uoRx+Xn6e+XdN62zb8YTbuglurgJRak2WAO8L3hx2DNTBkqVgvInF8vHIq8kDuhXzHb05xjvjMJnw/HMgZTtKHpI2chkeu1PkJ0CdfURiMLwuil40QAAAD5BnoVFESwj/wAACG8h5sEiG2pjFydkUk3NHLBMbXYCHs1S/7+ACDzS5nUfve1yUcscQmwkAq/ZzWuVN5ed0wAAAEEBnqZqR/8AACOxzA1CknQ2HBv8zj2BUgMQKixUQErre0VObv/qy9npOnryyMAE4kbhsaU2u24A3rUtC+sMGjH/wQAAAMdBmqtJqEFsmUwIX//+jLAAAEYUQjTIiiU/WATVDtio9rLF7z3mpb85q3NH8BV4H77TMxjXHd4nec/TsGk2Lo4n62dJhBcJFFmHt0wpqN/HT7iu8bDM50Uo6K0f6nWc/7QBDzcM4EU7jFQ4pIPOE8voFIK0MOMGyFyJP71oGAADI93I7TWgKgP2hBo04NY8HDKerMNL8HpFWEdUHRXWEVASX+KwJHEQ/G+ka/0onhC+yw82RwENI73LhGKzupRI9cn+kD9sCDiAAAAAY0GeyUUVLCP/AAAWs2cqf3zWpFTT62MsZusywJymTvvxL+iVIdwIGnrIB0cP1dfmzigBaiGzTcGH2IlLT306Ghc0Q6MlnM/vBZSp+vY9E2fWRbUusrNFeLfcBothc5tv+C+9eQAAAEYBnuh0R/8AACO39ce0tzsPyMslbJbNMjC9AonK3DrjHCAAlqNq83rGfjY5/o1KYMif99GoJJgJINWHk0O7Ng2ltciXsAO7AAAAMgGe6mpH/wAAI7HMDYHS7eqGeWEdP7wnsEnpxzqKQXeHLGSH/4Ig4AXsGn/QVQmYPabgAAAAg0Ga70moQWyZTAhf//6MsAAARgIFjlPWGw3EQByV6aGlm/hFQjEEmVkaYBcwU8qi+HoTXKo4YKxoDwjeekOqUop90hzNnLC0g+nEoyRJoYbwbFYL1KkC0y9bzY1lJgZazX9Z7DLiK8VkGLLwot4q3kd38RuHzJZ1uf3S15M83NOUZIHAAAAARUGfDUUVLCP/AAAWsyyITg8Ph2OanHOUL3T5l0QmeumPzhfJZ37nKE6t8JDSG2Anlr9r3q7psUGkhCVywquppXAP8U/JwQAAAC8Bnyx0R/8AACPDO/pF4Sc7T1gGG2/wYnRMh877aFK42zcXU/FgAE6Wvup1EAA7UwAAADMBny5qR/8AACO+5urgKrN8ZnxqPOSChs7SLWgbwFP7AQL5v25MVk3ABJQ2goSF8IUOhFkAAACSQZszSahBbJlMCFf//jhAAAEO6JrAShrHLACMCgHmPtl6nNBA1FiU4zUuHk+VY7XFmq+TuPTt659fZ6lxL1Fkbq4jh5+X2K1CVSa77tHfGb2jzf/1DBHQ5YVNvwByiNM5kllKNGLY8GltNMrYkkx4APKfzLw9Uhj+b9/7R4MwLSuZQ+MdeR+M3ooBmAwRB+HKMSAAAABVQZ9RRRUsI/8AABZ8f1MnJpxaxIHsy6//zBl6w0Ux2qFN4qXnB5l9cwn/Ae0pXFytUV5TwAtu+KA+f8iX/B/KgY3tygufgzCVCbTcSTUUWQW+0AxT5gAAADcBn3B0R/8AACPDF2HJlt0HNnJjbNiNOPtg2QZ2B9zEfbLvP8V3T2/DtFPupZb/gVC4anvng0KDAAAAQgGfcmpH/wAAI76mbIUkAIggf5pKWW9eKqKYjHiprb7j6G17Hxu769yWgMLjGMong6cvZ34s9vpfbNgHGCdYOL7egAAAAHBBm3dJqEFsmUwIR//94QAAAwP5FtMj9uk/o8yxRAp5J65JgA4r6BnFjQ10mpY7CuSXbR9eykhsbINUKASeRFyQd9wE55cF67CRAEdc77/X3QXhqHH/gJf+pWwKL1TkxU6h8d23cyV8vGdWpHv7GZWwAAAAV0GflUUVLCP/AAAWwJUzU2BAEQsWljSvPcnbO17w1TQMhjtJS1oE8GfKBdvVsiC4SCDLdzaLu0d1keM+r/tcLJDm8cuMzGIfcAg5TFK8y2WioAn78jUBEwAAADIBn7R0R/8AACOr65BAeANynJW5c3caftqRJmY5q9iv4pFzhEujc4DvfdJ+qTrzTtBRQAAAAD8Bn7ZqR/8AACO+7Q0EToJsBY7sTVogTWEo/LnFjEG/sPaQJpwB2gJbPWzKAl7VI0cLloKYVAB8JAYDpcn1wVMAAABvQZu4SahBbJlMCP/8hAAAD4twwrYOvlyce+SSXn5eic3bt+PkHQhWso+mFRBtSLVrBu59gA4rm88jFDnK+QKYq8+M8fcVBqccMyxWQuLrCR9npY80gETirnlMWCBkP+uvdEirHB860zkTo3oLyKrBAAAEN21vb3YAAABsbXZoZAAAAAAAAAAAAAAAAAAAA+gAAAH0AAEAAAEAAAAAAAAAAAAAAAABAAAAAAAAAAAAAAAAAAAAAQAAAAAAAAAAAAAAAAAAQAAAAAAAAAAAAAAAAAAAAAAAAAAAAAAAAAAAAAAAAAIAAANhdHJhawAAAFx0a2hkAAAAAwAAAAAAAAAAAAAAAQAAAAAAAAH0AAAAAAAAAAAAAAAAAAAAAAABAAAAAAAAAAAAAAAAAAAAAQAAAAAAAAAAAAAAAAAAQAAAAAJYAAABkAAAAAAAJGVkdHMAAAAcZWxzdAAAAAAAAAABAAAB9AAAAgAAAQAAAAAC2W1kaWEAAAAgbWRoZAAAAAAAAAAAAAAAAAAAMgAAABkAVcQAAAAAAC1oZGxyAAAAAAAAAAB2aWRlAAAAAAAAAAAAAAAAVmlkZW9IYW5kbGVyAAAAAoRtaW5mAAAAFHZtaGQAAAABAAAAAAAAAAAAAAAkZGluZgAAABxkcmVmAAAAAAAAAAEAAAAMdXJsIAAAAAEAAAJEc3RibAAAAJhzdHNkAAAAAAAAAAEAAACIYXZjMQAAAAAAAAABAAAAAAAAAAAAAAAAAAAAAAJYAZAASAAAAEgAAAAAAAAAAQAAAAAAAAAAAAAAAAAAAAAAAAAAAAAAAAAAAAAAAAAAABj//wAAADJhdmNDAWQAH//hABlnZAAfrNlAmDPl4QAAAwABAAADAGQPGDGWAQAGaOvjyyLAAAAAGHN0dHMAAAAAAAAAAQAAABkAAAEAAAAAFHN0c3MAAAAAAAAAAQAAAAEAAADQY3R0cwAAAAAAAAAYAAAAAQAAAgAAAAABAAAFAAAAAAEAAAIAAAAAAQAAAAAAAAABAAABAAAAAAEAAAQAAAAAAgAAAQAAAAABAAAFAAAAAAEAAAIAAAAAAQAAAAAAAAABAAABAAAAAAEAAAUAAAAAAQAAAgAAAAABAAAAAAAAAAEAAAEAAAAAAQAABQAAAAABAAACAAAAAAEAAAAAAAAAAQAAAQAAAAABAAAFAAAAAAEAAAIAAAAAAQAAAAAAAAABAAABAAAAAAEAAAIAAAAAHHN0c2MAAAAAAAAAAQAAAAEAAAAZAAAAAQAAAHhzdHN6AAAAAAAAAAAAAAAZAAAESAAAAPEAAAA7AAAAJAAAAC8AAADEAAAAQgAAAEUAAADLAAAAZwAAAEoAAAA2AAAAhwAAAEkAAAAzAAAANwAAAJYAAABZAAAAOwAAAEYAAAB0AAAAWwAAADYAAABDAAAAcwAAABRzdGNvAAAAAAAAAAEAAAAwAAAAYnVkdGEAAABabWV0YQAAAAAAAAAhaGRscgAAAAAAAAAAbWRpcmFwcGwAAAAAAAAAAAAAAAAtaWxzdAAAACWpdG9vAAAAHWRhdGEAAAABAAAAAExhdmY1Ny44My4xMDA=\" type=\"video/mp4\" />\n",
              "             </video>"
            ]
          },
          "metadata": {}
        },
        {
          "output_type": "stream",
          "name": "stdout",
          "text": [
            "\n",
            "SHOWING VIDEO video/openaigym.video.0.70.video000006.mp4\n"
          ]
        },
        {
          "output_type": "display_data",
          "data": {
            "text/plain": [
              "<IPython.core.display.HTML object>"
            ],
            "text/html": [
              "<video alt=\"test\" autoplay \n",
              "                loop controls style=\"height: 400px;\">\n",
              "                <source src=\"data:video/mp4;base64,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\" type=\"video/mp4\" />\n",
              "             </video>"
            ]
          },
          "metadata": {}
        },
        {
          "output_type": "stream",
          "name": "stdout",
          "text": [
            "\n",
            "SHOWING VIDEO video/openaigym.video.0.70.video000007.mp4\n"
          ]
        },
        {
          "output_type": "display_data",
          "data": {
            "text/plain": [
              "<IPython.core.display.HTML object>"
            ],
            "text/html": [
              "<video alt=\"test\" autoplay \n",
              "                loop controls style=\"height: 400px;\">\n",
              "                <source src=\"data:video/mp4;base64,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\" type=\"video/mp4\" />\n",
              "             </video>"
            ]
          },
          "metadata": {}
        },
        {
          "output_type": "stream",
          "name": "stdout",
          "text": [
            "\n",
            "SHOWING VIDEO video/openaigym.video.0.70.video000008.mp4\n"
          ]
        },
        {
          "output_type": "display_data",
          "data": {
            "text/plain": [
              "<IPython.core.display.HTML object>"
            ],
            "text/html": [
              "<video alt=\"test\" autoplay \n",
              "                loop controls style=\"height: 400px;\">\n",
              "                <source src=\"data:video/mp4;base64,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\" type=\"video/mp4\" />\n",
              "             </video>"
            ]
          },
          "metadata": {}
        },
        {
          "output_type": "stream",
          "name": "stdout",
          "text": [
            "\n",
            "SHOWING VIDEO video/openaigym.video.0.70.video000009.mp4\n"
          ]
        },
        {
          "output_type": "display_data",
          "data": {
            "text/plain": [
              "<IPython.core.display.HTML object>"
            ],
            "text/html": [
              "<video alt=\"test\" autoplay \n",
              "                loop controls style=\"height: 400px;\">\n",
              "                <source src=\"data:video/mp4;base64,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\" type=\"video/mp4\" />\n",
              "             </video>"
            ]
          },
          "metadata": {}
        }
      ]
    },
    {
      "cell_type": "code",
      "source": [
        "def initialize(params, replay_memory_capacity=10000, state_space_dim=4, action_space_dim=2):\n",
        "    ### Initialize the replay memory\n",
        "    replay_mem = ReplayMemory(replay_memory_capacity)    \n",
        "\n",
        "    ### Initialize the policy network\n",
        "    policy_net = DQN(state_space_dim, action_space_dim)\n",
        "\n",
        "    ### Initialize the target network with the same weights of the policy network\n",
        "    target_net = DQN(state_space_dim, action_space_dim)\n",
        "    # Copy the weights of the policy network to the target network\n",
        "    target_net.load_state_dict(policy_net.state_dict()) \n",
        "    \n",
        "    ### Initialize the optimizer\n",
        "    # The optimizer will update ONLY the parameters of the policy network\n",
        "    optimizer = torch.optim.SGD(policy_net.parameters(), lr=params['learning_rate']) \n",
        "    \n",
        "    ### Initialize the loss function (Huber loss)\n",
        "    loss_fn = nn.SmoothL1Loss()\n",
        "    \n",
        "    return replay_mem, policy_net, target_net, optimizer, loss_fn"
      ],
      "metadata": {
        "id": "Njl_LuxUNBRr"
      },
      "execution_count": null,
      "outputs": []
    },
    {
      "cell_type": "code",
      "source": [
        "def update_step(policy_net, target_net, replay_mem, optimizer, loss_fn, params):\n",
        "    \n",
        "    gamma = params['gamma']\n",
        "    batch_size = params['batch_size']\n",
        "    \n",
        "    # Sample the data from the replay memory\n",
        "    batch = replay_mem.sample(batch_size)\n",
        "    batch_size = len(batch)\n",
        "\n",
        "    # Create tensors for each element of the batch\n",
        "    states  = torch.tensor([s[0] for s in batch], dtype=torch.float32)\n",
        "    actions = torch.tensor([s[1] for s in batch], dtype=torch.int64)\n",
        "    rewards = torch.tensor([s[3] for s in batch], dtype=torch.float32)\n",
        "\n",
        "    # Compute a mask of non-final states \n",
        "    # (all the elements where the next state is not None)\n",
        "    non_final_next_states = torch.tensor([s[2] for s in batch if s[2] is not None], dtype=torch.float32) \n",
        "    # the next state can be None if the game has ended\n",
        "    non_final_mask = torch.tensor([s[2] is not None for s in batch], dtype=torch.bool)\n",
        "\n",
        "    # Compute all the Q values (forward pass)\n",
        "    policy_net.train()\n",
        "    q_values = policy_net(states)\n",
        "    # Select the proper Q value for the corresponding action taken Q(s_t, a)\n",
        "    state_action_values = q_values.gather(1, actions.unsqueeze(1))\n",
        "\n",
        "    # Compute the value function of the next states using the target network V(s_{t+1}) = max_a( Q_target(s_{t+1}, a)) )\n",
        "    with torch.no_grad():\n",
        "        target_net.eval()\n",
        "        q_values_target = target_net(non_final_next_states)\n",
        "    \n",
        "    next_state_max_q_values = torch.zeros(batch_size)\n",
        "    next_state_max_q_values[non_final_mask] = q_values_target.max(dim=1)[0]\n",
        "\n",
        "    # Compute the expected Q values\n",
        "    expected_state_action_values = rewards + (next_state_max_q_values * gamma)\n",
        "    # Set the required tensor shape\n",
        "    expected_state_action_values = expected_state_action_values.unsqueeze(1) \n",
        "\n",
        "    # Compute the Huber loss\n",
        "    loss = loss_fn(state_action_values, expected_state_action_values)\n",
        "\n",
        "    # Optimize the model\n",
        "    optimizer.zero_grad()\n",
        "    loss.backward()\n",
        "    # Apply gradient clipping (clip all the gradients greater than 2 for training stability)\n",
        "    nn.utils.clip_grad_norm_(policy_net.parameters(), 2)\n",
        "    optimizer.step()"
      ],
      "metadata": {
        "id": "UN5VM0tuNBU-"
      },
      "execution_count": null,
      "outputs": []
    },
    {
      "cell_type": "code",
      "source": [
        "def train_loop(policy_net, target_net, replay_mem, exploration_profile, params):\n",
        "    '''\n",
        "    Function that defines the main training process\n",
        "    '''\n",
        "\n",
        "    # Initialize the Gym environment\n",
        "    env = gym.make('CartPole-v1') \n",
        "    env.seed(0) # Set a random seed for the environment (reproducible results)\n",
        "    \n",
        "    # initialise output list containing all the scores\n",
        "    scores = []\n",
        "\n",
        "    for episode_num, tau in enumerate(tqdm(exploration_profile)):\n",
        "\n",
        "        # Reset the environment and get the initial state\n",
        "        state = env.reset()\n",
        "        # Reset the score. The final score will be the total amount of steps before the pole falls\n",
        "        score = 0\n",
        "        done = False\n",
        "\n",
        "        # Go on until the pole falls off\n",
        "        while not done:\n",
        "\n",
        "            # Choose the action following the policy\n",
        "            action, q_values = choose_action_softmax(policy_net, state, temperature=tau)\n",
        "\n",
        "            # Apply the action and get the next state, the reward and a flag \"done\" that is True if the game is ended\n",
        "            next_state, reward, done, info = env.step(action)\n",
        "\n",
        "            # IMPLEMENT FURTHER PENALTY HERE\n",
        "            off_cen_penalty = 1.\n",
        "            reward = reward - off_cen_penalty * np.abs(state[0])\n",
        "\n",
        "            # Update the final score (+1 for each step)\n",
        "            score += 1\n",
        "\n",
        "            # Apply penalty for bad state\n",
        "            if done: # if the pole has fallen down \n",
        "                reward += params['bad_state_penalty']\n",
        "                next_state = None\n",
        "\n",
        "            # Update the replay memory\n",
        "            replay_mem.push(state, action, next_state, reward)\n",
        "\n",
        "            # Update the network\n",
        "            if len(replay_mem) > params['min_samples_for_training']: \n",
        "                # Enable the training only if there are enough samples in the replay memory\n",
        "                # otherwise the training will use the same samples too often\n",
        "                update_step(policy_net, target_net, replay_mem, optimizer, loss_fn, params)\n",
        "\n",
        "            # Visually render the environment \n",
        "            # comment to speed up the training\n",
        "            # env.render()\n",
        "\n",
        "            # Set the current state for the next iteration\n",
        "            state = next_state\n",
        "\n",
        "        # Update the target network every target_net_update_steps episodes\n",
        "        if episode_num % params['target_net_update_steps'] == 0:\n",
        "            # Copy the weights of the policy network to the target network  \n",
        "            target_net.load_state_dict(policy_net.state_dict()) \n",
        "        \n",
        "        # Save score\n",
        "        scores.append(score)\n",
        "    \n",
        "    env.close()\n",
        "    \n",
        "    return policy_net, scores"
      ],
      "metadata": {
        "id": "QXGpT3JtNMaM"
      },
      "execution_count": null,
      "outputs": []
    },
    {
      "cell_type": "code",
      "source": [
        "\n",
        "\n",
        "hyperparams = {'gamma': np.linspace(0.9, 0.99, 10),        \n",
        "               'replay_memory_capacity': [10000],          \n",
        "               'learning_rate': np.logspace(-3, -1, 10),   \n",
        "               'target_net_update_steps': [5, 10, 15, 20], \n",
        "               'batch_size': [32, 64, 128, 256],           \n",
        "               'bad_state_penalty': [0],                   \n",
        "               'min_samples_for_training': [1000]          #\n",
        "              }\n"
      ],
      "metadata": {
        "id": "ASwH7lrXNMeS"
      },
      "execution_count": null,
      "outputs": []
    },
    {
      "cell_type": "code",
      "source": [
        "def random_params(params):\n",
        "    selected_params = {}\n",
        "    for i in params.keys():\n",
        "        selected_params[i] = np.random.choice( params[i] )\n",
        "    return selected_params\n",
        "\n",
        "print(random_params(hyperparams))"
      ],
      "metadata": {
        "colab": {
          "base_uri": "https://localhost:8080/"
        },
        "id": "ykD50uW9NMgS",
        "outputId": "5bf2e50a-8d9a-483e-aa69-99189746aa2e"
      },
      "execution_count": null,
      "outputs": [
        {
          "output_type": "stream",
          "name": "stdout",
          "text": [
            "{'gamma': 0.9, 'replay_memory_capacity': 10000, 'learning_rate': 0.0027825594022071257, 'target_net_update_steps': 10, 'batch_size': 128, 'bad_state_penalty': 0, 'min_samples_for_training': 1000}\n"
          ]
        }
      ]
    },
    {
      "cell_type": "code",
      "source": [
        "\n",
        "env = gym.make('CartPole-v1') \n",
        "env.seed(0) \n",
        "all_params = []\n",
        "all_train_scores = []\n",
        "\n",
        "for net in range(3):\n",
        "    \n",
        "    params = random_params(hyperparams)\n",
        "    replay_mem, policy_net, target_net, optimizer, loss_fn = initialize(params)\n",
        "    policy_net, training_score = train_loop(policy_net, target_net, replay_mem, exploration_profile, params)\n",
        "    \n",
        "    all_params.append(params)\n",
        "    all_train_scores.append(training_score)"
      ],
      "metadata": {
        "colab": {
          "base_uri": "https://localhost:8080/",
          "height": 168,
          "referenced_widgets": [
            "1f7772163d9742aa817e4ee6a887c9c4",
            "1bad43f7b01646849b6ad28004d143a6",
            "cd64b16172a44d60bc5ac07815077623",
            "92c98152839e4f2186daecc99fce54c2",
            "a01fc1cf8d3344038d9b810852ffb0e3",
            "f2fecbaea4a14e11bc7d306832a140c7",
            "6617707ad1c74f449923bfa7fec13947",
            "55bbee417fef4da9abdcb33201be65e0",
            "fdcfce6344274775b118fec769fb5e99",
            "312ab85269f54bd9a187aa4e9dce4dfd",
            "913f929c8ae84048869fd3886c65c23f",
            "47046e56692b4014a4a6aa8688806372",
            "fa10a2d40529484eaad75337e6cb508c",
            "c6fc736d9ba7439781d531f1bd8e8da1",
            "c0177702bd2649c39062bec5c09cb686",
            "6f5006114df5485b94f1d8d6091d0b8d",
            "c4a618903bc749a89ef3d130ee07f6a4",
            "13a3bab3ca1e44cdadf49be2ca98d0ec",
            "32c33fbd49c54e968f9a32529a12c832",
            "3ea7a9edae374acc9224bf70678651e9",
            "a2b2c4029d4c40e385012193a08694cc",
            "9fb4f414782042859eec7881145709f6",
            "f9c3d48e886549bea3287de0ef819193",
            "cbab386150744d9ab14cf45ebe6cddc5",
            "757800f6eb5240ba92d47181d81d1975",
            "bc32c32350004de890292621901ae49c",
            "6b0f52fbb82442c3a462578956751362",
            "99ebc5d52ca141869912e66a25b7e34d",
            "fe231e6a950d44cfb30a586aa65c7946",
            "58af948fce2f4e21a058cfc395a1799b",
            "db763d2fb4d647208d10874f863a5d72",
            "02a9448ef5b54cd0817375c97366c817",
            "63475afbf96747e6a66fe5273ad71213"
          ]
        },
        "id": "Ku6ij2VsNapU",
        "outputId": "62f68c23-bd4c-41fd-8f3f-a2983f413404"
      },
      "execution_count": null,
      "outputs": [
        {
          "output_type": "display_data",
          "data": {
            "text/plain": [
              "  0%|          | 0/1000 [00:00<?, ?it/s]"
            ],
            "application/vnd.jupyter.widget-view+json": {
              "version_major": 2,
              "version_minor": 0,
              "model_id": "1f7772163d9742aa817e4ee6a887c9c4"
            }
          },
          "metadata": {}
        },
        {
          "output_type": "stream",
          "name": "stderr",
          "text": [
            "/usr/local/lib/python3.7/dist-packages/ipykernel_launcher.py:11: UserWarning: Creating a tensor from a list of numpy.ndarrays is extremely slow. Please consider converting the list to a single numpy.ndarray with numpy.array() before converting to a tensor. (Triggered internally at  ../torch/csrc/utils/tensor_new.cpp:201.)\n",
            "  # This is added back by InteractiveShellApp.init_path()\n"
          ]
        },
        {
          "output_type": "display_data",
          "data": {
            "text/plain": [
              "  0%|          | 0/1000 [00:00<?, ?it/s]"
            ],
            "application/vnd.jupyter.widget-view+json": {
              "version_major": 2,
              "version_minor": 0,
              "model_id": "47046e56692b4014a4a6aa8688806372"
            }
          },
          "metadata": {}
        },
        {
          "output_type": "display_data",
          "data": {
            "text/plain": [
              "  0%|          | 0/1000 [00:00<?, ?it/s]"
            ],
            "application/vnd.jupyter.widget-view+json": {
              "version_major": 2,
              "version_minor": 0,
              "model_id": "f9c3d48e886549bea3287de0ef819193"
            }
          },
          "metadata": {}
        }
      ]
    },
    {
      "cell_type": "code",
      "source": [
        "for net, score in enumerate(np.array(all_train_scores)):\n",
        "    \n",
        "    mask = np.array(score) >= 490\n",
        "    \n",
        "    if score[mask].shape == (0,):\n",
        "        all_params[net]['reach_490'] = 1000\n",
        "    else:    \n",
        "        all_params[net]['reach_490'] = np.where(mask)[0][0]"
      ],
      "metadata": {
        "id": "RQO1mJGmNMjg"
      },
      "execution_count": null,
      "outputs": []
    },
    {
      "cell_type": "code",
      "source": [
        "all_params[0]"
      ],
      "metadata": {
        "colab": {
          "base_uri": "https://localhost:8080/"
        },
        "id": "fmkqkTQgNjsh",
        "outputId": "1146e332-df0a-4460-ba13-f6c35c4cb276"
      },
      "execution_count": null,
      "outputs": [
        {
          "output_type": "execute_result",
          "data": {
            "text/plain": [
              "{'gamma': 0.97,\n",
              " 'replay_memory_capacity': 10000,\n",
              " 'learning_rate': 0.1,\n",
              " 'target_net_update_steps': 5,\n",
              " 'batch_size': 32,\n",
              " 'bad_state_penalty': 0,\n",
              " 'min_samples_for_training': 1000,\n",
              " 'reach_490': 346}"
            ]
          },
          "metadata": {},
          "execution_count": 26
        }
      ]
    },
    {
      "cell_type": "code",
      "source": [
        "reach_490=np.zeros(len(all_params))\n",
        "\n",
        "for i, param in enumerate(all_params):\n",
        "    reach_490[i] = param['reach_490']\n",
        "    \n",
        "best_param = all_params[np.argmin(reach_490)]\n",
        "best_param"
      ],
      "metadata": {
        "colab": {
          "base_uri": "https://localhost:8080/"
        },
        "id": "vzlus2WHNm_p",
        "outputId": "2bf4e55e-713a-4f12-9fa6-4a39a1355f33"
      },
      "execution_count": null,
      "outputs": [
        {
          "output_type": "execute_result",
          "data": {
            "text/plain": [
              "{'gamma': 0.97,\n",
              " 'replay_memory_capacity': 10000,\n",
              " 'learning_rate': 0.1,\n",
              " 'target_net_update_steps': 5,\n",
              " 'batch_size': 32,\n",
              " 'bad_state_penalty': 0,\n",
              " 'min_samples_for_training': 1000,\n",
              " 'reach_490': 346}"
            ]
          },
          "metadata": {},
          "execution_count": 27
        }
      ]
    },
    {
      "cell_type": "code",
      "source": [
        "fig, ax = plt.subplots(figsize=(12,8))\n",
        "\n",
        "ax.plot(exploration_profile,color=\"darkorange\")\n",
        "ax.set_xlabel('Iteration', fontsize=14)\n",
        "ax.set_ylabel('Exploration Profile', fontsize=14)\n",
        "ax.tick_params(axis='y')\n",
        "\n",
        "ax2 = ax.twinx()\n",
        "ax2.set_ylabel('Final Score', fontsize=14)\n",
        "ax2.plot(all_train_scores[np.argmin(reach_490)],color=\"g\")\n",
        "ax2.tick_params(axis='y')\n",
        "plt.show()"
      ],
      "metadata": {
        "colab": {
          "base_uri": "https://localhost:8080/",
          "height": 501
        },
        "id": "u3Nis9rPNnEk",
        "outputId": "90242239-f95e-4854-d3f0-2f717e73cf4a"
      },
      "execution_count": null,
      "outputs": [
        {
          "output_type": "display_data",
          "data": {
            "text/plain": [
              "<Figure size 864x576 with 2 Axes>"
            ],
            "image/png": "[encoded data removed]"
          },
          "metadata": {
            "needs_background": "light"
          }
        }
      ]
    },
    {
      "cell_type": "code",
      "source": [
        "best_param['min_samples_for_training']=1000\n",
        "best_param['bad_state_penalty']=0\n",
        "best_param['replay_memory_capacity']=10000\n",
        "\n",
        "final_replay_mem, final_policy_net, final_target_net, optimizer, loss_fn = initialize(best_param) \n",
        "\n",
        "\n",
        "final_policy_net, final_training_score = train_loop(final_policy_net, final_target_net, final_replay_mem, \n",
        "                                                    exploration_profile, best_param)\n",
        "\n",
        "torch.save(final_policy_net.state_dict(), 'final_cartpole')"
      ],
      "metadata": {
        "colab": {
          "base_uri": "https://localhost:8080/",
          "height": 49,
          "referenced_widgets": [
            "b98dfc3d29de438ca1cffaa6332ac5bf",
            "120ce3ca34a94147b045a46cbe1d0ae1",
            "cbbf7069d7864e41a11e30011a385547",
            "f8fc60075302404f9ac8d1d565aa611b",
            "aad54944a8f8421ebaeaee2330261e9e",
            "581ac8b1e63d4831a6b2cf22aaa28350",
            "e68bc17552f8443c901e69e2de25349b",
            "6c1cb80b5e6a4b50b9c3b80474587f86",
            "325a882c319d48bb9d136411a3472031",
            "9555c88718ff4effb50bddd453f462ad",
            "02da485d0e2743ea8c4ec4e7489df431"
          ]
        },
        "id": "y5CC_5tONnGd",
        "outputId": "130952d4-b255-4572-dbdb-d568588e9474"
      },
      "execution_count": null,
      "outputs": [
        {
          "output_type": "display_data",
          "data": {
            "text/plain": [
              "  0%|          | 0/1000 [00:00<?, ?it/s]"
            ],
            "application/vnd.jupyter.widget-view+json": {
              "version_major": 2,
              "version_minor": 0,
              "model_id": "b98dfc3d29de438ca1cffaa6332ac5bf"
            }
          },
          "metadata": {}
        }
      ]
    },
    {
      "cell_type": "code",
      "source": [],
      "metadata": {
        "id": "FbaWVY3JN0p8"
      },
      "execution_count": null,
      "outputs": []
    },
    {
      "cell_type": "code",
      "source": [
        "env = gym.make('CartPole-v1') \n",
        "env.seed(0) \n",
        "\n",
        "final_policy_net.load_state_dict(torch.load('final_cartpole'))\n",
        "final_policy_net.to(device)\n",
        "\n",
        "env = wrap_env(env, video_callable=lambda episode_id: True) \n",
        "\n",
        "for num_episode in range(10): \n",
        "    state = env.reset()\n",
        "    score = 0\n",
        "    done = False\n",
        "    while not done:\n",
        "      action, q_values = choose_action_softmax(final_policy_net, state, temperature=0)\n",
        "      next_state, reward, done, info = env.step(action)\n",
        "      env.render()\n",
        "      score += reward \n",
        "      state = next_state\n",
        "    print(f\"EPISODE {num_episode + 1} - FINAL SCORE: {score}\") \n",
        "env.close()"
      ],
      "metadata": {
        "colab": {
          "base_uri": "https://localhost:8080/"
        },
        "id": "hK76poJUN0sx",
        "outputId": "d299fb7e-2df4-491c-c028-6fa8cd95ee7a"
      },
      "execution_count": null,
      "outputs": [
        {
          "output_type": "stream",
          "name": "stdout",
          "text": [
            "EPISODE 1 - FINAL SCORE: 500.0\n",
            "EPISODE 2 - FINAL SCORE: 500.0\n",
            "EPISODE 3 - FINAL SCORE: 500.0\n",
            "EPISODE 4 - FINAL SCORE: 500.0\n",
            "EPISODE 5 - FINAL SCORE: 500.0\n",
            "EPISODE 6 - FINAL SCORE: 500.0\n",
            "EPISODE 7 - FINAL SCORE: 500.0\n",
            "EPISODE 8 - FINAL SCORE: 500.0\n",
            "EPISODE 9 - FINAL SCORE: 500.0\n",
            "EPISODE 10 - FINAL SCORE: 500.0\n"
          ]
        }
      ]
    },
    {
      "cell_type": "code",
      "source": [
        "# Display the videos, not required outside Colab\n",
        "# show_videos()"
      ],
      "metadata": {
        "id": "TumhqzKFN0vd"
      },
      "execution_count": null,
      "outputs": []
    },
    {
      "cell_type": "code",
      "source": [],
      "metadata": {
        "id": "raKZ_nJPN0xu"
      },
      "execution_count": null,
      "outputs": []
    },
    {
      "cell_type": "markdown",
      "source": [
        "#Mountain Car"
      ],
      "metadata": {
        "id": "KE2wES5oozjj"
      }
    },
    {
      "cell_type": "code",
      "source": [
        "env = gym.make('MountainCar-v0') \n",
        "env.seed(0) \n",
        "\n",
        "state_space_dim = env.observation_space.shape[0]\n",
        "action_space_dim = env.action_space.n\n",
        "\n",
        "print(f\"STATE SPACE SIZE: {state_space_dim}\")\n",
        "print(f\"ACTION SPACE SIZE: {action_space_dim}\")"
      ],
      "metadata": {
        "colab": {
          "base_uri": "https://localhost:8080/"
        },
        "id": "zOrQuqmhN0z8",
        "outputId": "79457af7-e164-4892-e4f0-f71e39e46145"
      },
      "execution_count": null,
      "outputs": [
        {
          "output_type": "stream",
          "name": "stdout",
          "text": [
            "STATE SPACE SIZE: 2\n",
            "ACTION SPACE SIZE: 3\n"
          ]
        }
      ]
    },
    {
      "cell_type": "code",
      "source": [
        "net = DQN(state_space_dim, action_space_dim)\n",
        "print(net)"
      ],
      "metadata": {
        "colab": {
          "base_uri": "https://localhost:8080/"
        },
        "id": "hh5ASQlLN02H",
        "outputId": "71978907-661e-4d8e-a986-7311866044c6"
      },
      "execution_count": null,
      "outputs": [
        {
          "output_type": "stream",
          "name": "stdout",
          "text": [
            "DQN(\n",
            "  (linear): Sequential(\n",
            "    (0): Linear(in_features=2, out_features=128, bias=True)\n",
            "    (1): Tanh()\n",
            "    (2): Linear(in_features=128, out_features=128, bias=True)\n",
            "    (3): Tanh()\n",
            "    (4): Linear(in_features=128, out_features=3, bias=True)\n",
            "  )\n",
            ")\n"
          ]
        }
      ]
    },
    {
      "cell_type": "code",
      "source": [
        "def expl_profile_softmax(num_iterations, initial_value):\n",
        "\n",
        "    if initial_value == 1:\n",
        "        exploration_profile = np.array([np.exp(-i / num_iterations * 6 ) for i in range(num_iterations)])\n",
        "    else:    \n",
        "        exp_decay = np.exp(-np.log(initial_value) / num_iterations * 6) \n",
        "        exploration_profile = np.array([initial_value * (exp_decay ** i) for i in range(num_iterations)])\n",
        "\n",
        "    return exploration_profile"
      ],
      "metadata": {
        "id": "qjtSCYdrN05o"
      },
      "execution_count": null,
      "outputs": []
    },
    {
      "cell_type": "code",
      "source": [
        "initial_value = 1\n",
        "num_iterations = 200\n",
        "\n",
        "exploration_profile = expl_profile_softmax(num_iterations,initial_value)\n",
        "\n",
        "plt.figure(figsize=(12,8))\n",
        "plt.plot(exploration_profile)\n",
        "plt.grid()\n",
        "plt.xlabel('Iteration')\n",
        "plt.ylabel('Exploration profile (Softmax temperature)')"
      ],
      "metadata": {
        "colab": {
          "base_uri": "https://localhost:8080/",
          "height": 514
        },
        "id": "xFF8LMRyOD-V",
        "outputId": "e3535af7-74c7-4017-f54e-b74fb2661d12"
      },
      "execution_count": null,
      "outputs": [
        {
          "output_type": "execute_result",
          "data": {
            "text/plain": [
              "Text(0, 0.5, 'Exploration profile (Softmax temperature)')"
            ]
          },
          "metadata": {},
          "execution_count": 42
        },
        {
          "output_type": "display_data",
          "data": {
            "text/plain": [
              "<Figure size 864x576 with 1 Axes>"
            ],
            "image/png": "[encoded data removed]"
          },
          "metadata": {
            "needs_background": "light"
          }
        }
      ]
    },
    {
      "cell_type": "code",
      "source": [
        "state = (0, 0)\n",
        "temperature = 1\n",
        "chosen_action, q_values = choose_action_softmax(net, state, temperature)\n",
        "\n",
        "print(f\"ACTION: {chosen_action}\")\n",
        "print(f\"Q-VALUES: {q_values}\")"
      ],
      "metadata": {
        "colab": {
          "base_uri": "https://localhost:8080/"
        },
        "id": "5vbu4N00OEAx",
        "outputId": "bb179dec-314e-40c7-d97f-eceb18e3bb94"
      },
      "execution_count": null,
      "outputs": [
        {
          "output_type": "stream",
          "name": "stdout",
          "text": [
            "ACTION: 0\n",
            "Q-VALUES: [-0.06603105  0.01235932  0.04115062]\n"
          ]
        }
      ]
    },
    {
      "cell_type": "code",
      "source": [
        "def train_loop_car(policy_net, target_net, replay_mem, exploration_profile, params):\n",
        "\n",
        "    env = gym.make('MountainCar-v0') \n",
        "    \n",
        "    max_positions = []\n",
        "    scores = []\n",
        "\n",
        "    for episode_num, tau in enumerate(tqdm(exploration_profile)):\n",
        "\n",
        "        state = env.reset()\n",
        "\n",
        "        score = 0\n",
        "        done = False\n",
        "        max_position = state[0]\n",
        "\n",
        "        while not done:\n",
        "\n",
        "            action, q_values = choose_action_softmax(policy_net, state, temperature=tau)\n",
        "\n",
        "            next_state, reward, done, info = env.step(action)\n",
        "            \n",
        "      \n",
        "            if next_state[0] - state[0] > 0 and action == 2: reward += 1\n",
        "            if next_state[0] - state[0] < 0 and action == 0: reward += 1  \n",
        "            if next_state[0] >=0.5 : reward += 1 \n",
        "                \n",
        "        \n",
        "            score += reward\n",
        "\n",
        "            if next_state[0] > max_position:\n",
        "                max_position = next_state[0]\n",
        "                \n",
        "            if done:\n",
        "                reward += params['bad_state_penalty']\n",
        "                next_state = None\n",
        "\n",
        "            replay_mem.push(state, action, next_state, reward)\n",
        "\n",
        "            if len(replay_mem) > params['min_samples_for_training']: \n",
        "\n",
        "                update_step(policy_net, target_net, replay_mem, optimizer, loss_fn, params)\n",
        "\n",
        "\n",
        "            env.render()\n",
        "\n",
        "            state = next_state\n",
        "\n",
        "        if episode_num % params['target_net_update_steps'] == 0:\n",
        "            target_net.load_state_dict(policy_net.state_dict()) \n",
        "\n",
        "        print(f\"EPISODE: {episode_num + 1} - Max Position: {max_position} - Score: {score} - Temperature: {tau}\") # Print the final score\n",
        "        max_positions.append(max_position)\n",
        "        scores.append(score)\n",
        "    \n",
        "    env.close()\n",
        "    \n",
        "    return policy_net, max_positions, scores\n",
        "    "
      ],
      "metadata": {
        "id": "IDS7XqB5OEDJ"
      },
      "execution_count": null,
      "outputs": []
    },
    {
      "cell_type": "code",
      "source": [
        "\n",
        "car_params = {'gamma': 0.95,                   \n",
        "              'replay_memory_capacity': 10000,\n",
        "              'batch_size': 32,                \n",
        "              'bad_state_penalty': 0,           \n",
        "              'min_samples_for_training': 1000  \n",
        "              'learning_rate': 0.1,            \n",
        "              'target_net_update_steps': 5,    \n",
        "\n",
        "             }"
      ],
      "metadata": {
        "id": "qsl_mTgxOEF7"
      },
      "execution_count": null,
      "outputs": []
    },
    {
      "cell_type": "code",
      "source": [],
      "metadata": {
        "id": "oXhFn98ZOUsJ"
      },
      "execution_count": null,
      "outputs": []
    },
    {
      "cell_type": "code",
      "source": [
        "\n",
        "replay_mem, policy_net, target_net, optimizer, loss_fn = initialize(car_params, action_space_dim=action_space_dim, state_space_dim=state_space_dim)\n",
        "policy_net, positions, training_score = train_loop_car(policy_net, target_net, replay_mem, exploration_profile, car_params)"
      ],
      "metadata": {
        "colab": {
          "base_uri": "https://localhost:8080/",
          "height": 1000,
          "referenced_widgets": [
            "08fc52cd2a054d4bb314e390cd95a8f6",
            "f4acf4ce67e7431aaface0e7b4f15978",
            "15cb6a3ec80c45a7b9c95efa130a7dc9",
            "0e01e90522b546ed9479cae394d4813d",
            "a735fcad61eb410c964efd18f564de59",
            "8e63875111fb48a3a79d56daef36ae09",
            "1cff12eb9ecd467a8365f27dfe580db8",
            "f7578682f7834780af150a8b2fea700a",
            "5abab470e5b441b692199b3955325acd",
            "ad368ec52c7f482aab7c03e7102fb370",
            "d4f2b0f56e88434d8e27047b3882575d"
          ]
        },
        "id": "9rjri-H2OUwA",
        "outputId": "618f805f-2d8d-4538-9842-f3743185e498"
      },
      "execution_count": null,
      "outputs": [
        {
          "output_type": "display_data",
          "data": {
            "text/plain": [
              "  0%|          | 0/200 [00:00<?, ?it/s]"
            ],
            "application/vnd.jupyter.widget-view+json": {
              "version_major": 2,
              "version_minor": 0,
              "model_id": "08fc52cd2a054d4bb314e390cd95a8f6"
            }
          },
          "metadata": {}
        },
        {
          "output_type": "stream",
          "name": "stdout",
          "text": [
            "EPISODE: 1 - Max Position: -0.41454615434918646 - Score: -140.0 - Temperature: 1.0\n",
            "EPISODE: 2 - Max Position: -0.24973628995684966 - Score: -133.0 - Temperature: 0.9704455335485082\n",
            "EPISODE: 3 - Max Position: -0.411313600539505 - Score: -134.0 - Temperature: 0.9417645335842487\n",
            "EPISODE: 4 - Max Position: -0.43937374814953745 - Score: -136.0 - Temperature: 0.9139311852712282\n",
            "EPISODE: 5 - Max Position: -0.41874988200246865 - Score: -141.0 - Temperature: 0.8869204367171575\n",
            "EPISODE: 6 - Max Position: -0.44057221733069934 - Score: -111.0 - Temperature: 0.8607079764250578\n",
            "EPISODE: 7 - Max Position: -0.37183185709171984 - Score: -110.0 - Temperature: 0.835270211411272\n",
            "EPISODE: 8 - Max Position: -0.284235198342089 - Score: -105.0 - Temperature: 0.8105842459701871\n",
            "EPISODE: 9 - Max Position: -0.3359969194728531 - Score: -112.0 - Temperature: 0.7866278610665535\n",
            "EPISODE: 10 - Max Position: -0.4946025511052796 - Score: -102.0 - Temperature: 0.7633794943368531\n",
            "EPISODE: 11 - Max Position: -0.2936597113734181 - Score: -109.0 - Temperature: 0.7408182206817179\n",
            "EPISODE: 12 - Max Position: -0.12135139523819041 - Score: -95.0 - Temperature: 0.7189237334319262\n",
            "EPISODE: 13 - Max Position: -0.4106734027963054 - Score: -110.0 - Temperature: 0.697676326071031\n",
            "EPISODE: 14 - Max Position: -0.33756847266760237 - Score: -110.0 - Temperature: 0.6770568744981647\n",
            "EPISODE: 15 - Max Position: -0.3888441145308922 - Score: -109.0 - Temperature: 0.6570468198150567\n",
            "EPISODE: 16 - Max Position: -0.36601330150894273 - Score: -105.0 - Temperature: 0.6376281516217733\n",
            "EPISODE: 17 - Max Position: -0.39912252548392535 - Score: -101.0 - Temperature: 0.6187833918061408\n",
            "EPISODE: 18 - Max Position: -0.1663872162556914 - Score: -92.0 - Temperature: 0.6004955788122659\n",
            "EPISODE: 19 - Max Position: -0.3881634190873745 - Score: -109.0 - Temperature: 0.5827482523739896\n",
            "EPISODE: 20 - Max Position: -0.3079312567620252 - Score: -95.0 - Temperature: 0.5655254386995371\n",
            "EPISODE: 21 - Max Position: -0.2599544770350507 - Score: -107.0 - Temperature: 0.5488116360940264\n",
            "EPISODE: 22 - Max Position: -0.4352109407231161 - Score: -114.0 - Temperature: 0.5325918010068972\n",
            "EPISODE: 23 - Max Position: -0.30093843367473117 - Score: -93.0 - Temperature: 0.5168513344916992\n",
            "EPISODE: 24 - Max Position: -0.0831498117474353 - Score: -79.0 - Temperature: 0.5015760690660555\n",
            "EPISODE: 25 - Max Position: -0.12107088925726614 - Score: -88.0 - Temperature: 0.4867522559599717\n",
            "EPISODE: 26 - Max Position: -0.1566333517748937 - Score: -91.0 - Temperature: 0.4723665527410147\n",
            "EPISODE: 27 - Max Position: -0.4172615055663596 - Score: -107.0 - Temperature: 0.4584060113052235\n",
            "EPISODE: 28 - Max Position: -0.3467850855253425 - Score: -97.0 - Temperature: 0.4448580662229411\n",
            "EPISODE: 29 - Max Position: 0.09579157256508593 - Score: -70.0 - Temperature: 0.4317105234290797\n",
            "EPISODE: 30 - Max Position: -0.24480176342600646 - Score: -90.0 - Temperature: 0.41895154924763905\n",
            "EPISODE: 31 - Max Position: -0.3070501813707877 - Score: -88.0 - Temperature: 0.40656965974059917\n",
            "EPISODE: 32 - Max Position: -0.2897445776701995 - Score: -84.0 - Temperature: 0.39455371037160114\n",
            "EPISODE: 33 - Max Position: -0.0827049432440443 - Score: -69.0 - Temperature: 0.38289288597511206\n",
            "EPISODE: 34 - Max Position: 0.5094346184863114 - Score: -39.0 - Temperature: 0.3715766910220457\n",
            "EPISODE: 35 - Max Position: 0.25557468278742645 - Score: -55.0 - Temperature: 0.3605949401730783\n",
            "EPISODE: 36 - Max Position: 0.1358295552658378 - Score: -71.0 - Temperature: 0.34993774911115544\n",
            "EPISODE: 37 - Max Position: 0.5306468000547456 - Score: -38.0 - Temperature: 0.3395955256449391\n",
            "EPISODE: 38 - Max Position: -0.12552403334359627 - Score: -60.0 - Temperature: 0.3295589610751891\n",
            "EPISODE: 39 - Max Position: -0.11700004730552083 - Score: -61.0 - Temperature: 0.31981902181630384\n",
            "EPISODE: 40 - Max Position: 0.5193318266364899 - Score: -49.0 - Temperature: 0.31036694126548503\n",
            "EPISODE: 41 - Max Position: 0.1759006365421106 - Score: -53.0 - Temperature: 0.301194211912202\n",
            "EPISODE: 42 - Max Position: 0.5210531701456678 - Score: -21.0 - Temperature: 0.2922925776808594\n",
            "EPISODE: 43 - Max Position: 0.5050241685322615 - Score: -44.0 - Temperature: 0.2836540264997704\n",
            "EPISODE: 44 - Max Position: 0.5087003839692735 - Score: -25.0 - Temperature: 0.27527078308975234\n",
            "EPISODE: 45 - Max Position: 0.5220486148365843 - Score: -21.0 - Temperature: 0.26713530196585034\n",
            "EPISODE: 46 - Max Position: 0.5379846690743456 - Score: -26.0 - Temperature: 0.2592402606458915\n",
            "EPISODE: 47 - Max Position: 0.5123130034105848 - Score: -26.0 - Temperature: 0.25157855305975646\n",
            "EPISODE: 48 - Max Position: 0.5059110852620284 - Score: -19.0 - Temperature: 0.2441432831534371\n",
            "EPISODE: 49 - Max Position: 0.5368577983788596 - Score: -19.0 - Temperature: 0.23692775868212176\n",
            "EPISODE: 50 - Max Position: 0.5189678707257186 - Score: -14.0 - Temperature: 0.22992548518672384\n",
            "EPISODE: 51 - Max Position: 0.513922400361934 - Score: -9.0 - Temperature: 0.22313016014842982\n",
            "EPISODE: 52 - Max Position: 0.3602948147084407 - Score: -31.0 - Temperature: 0.21653566731600707\n",
            "EPISODE: 53 - Max Position: 0.5368577983788596 - Score: -15.0 - Temperature: 0.21013607120076472\n",
            "EPISODE: 54 - Max Position: 0.5240619680625612 - Score: -31.0 - Temperature: 0.20392561173421342\n",
            "EPISODE: 55 - Max Position: 0.5256191367213979 - Score: -21.0 - Temperature: 0.19789869908361465\n",
            "EPISODE: 56 - Max Position: 0.5347654031239872 - Score: -25.0 - Temperature: 0.19204990862075408\n",
            "EPISODE: 57 - Max Position: 0.5057381718567397 - Score: -11.0 - Temperature: 0.18637397603940994\n",
            "EPISODE: 58 - Max Position: 0.5040915832153147 - Score: -4.0 - Temperature: 0.1808657926171221\n",
            "EPISODE: 59 - Max Position: 0.5240619680625612 - Score: -13.0 - Temperature: 0.17552040061699692\n",
            "EPISODE: 60 - Max Position: 0.5469157552864488 - Score: -32.0 - Temperature: 0.17033298882540943\n",
            "EPISODE: 61 - Max Position: 0.5057381718567397 - Score: -12.0 - Temperature: 0.16529888822158656\n",
            "EPISODE: 62 - Max Position: 0.5059110852620284 - Score: -29.0 - Temperature: 0.16041356777517274\n",
            "EPISODE: 63 - Max Position: 0.507091649057984 - Score: -18.0 - Temperature: 0.15567263036799733\n",
            "EPISODE: 64 - Max Position: 0.5368577983788596 - Score: -10.0 - Temperature: 0.15107180883637084\n",
            "EPISODE: 65 - Max Position: 0.5368577983788596 - Score: -9.0 - Temperature: 0.14660696213035015\n",
            "EPISODE: 66 - Max Position: 0.5059110852620284 - Score: -28.0 - Temperature: 0.14227407158651353\n",
            "EPISODE: 67 - Max Position: 0.5054406827431933 - Score: -9.0 - Temperature: 0.13806923731089282\n",
            "EPISODE: 68 - Max Position: 0.5368577983788596 - Score: -7.0 - Temperature: 0.13398867466880493\n",
            "EPISODE: 69 - Max Position: 0.5030590203524092 - Score: -3.0 - Temperature: 0.1300287108784259\n",
            "EPISODE: 70 - Max Position: 0.5368577983788596 - Score: -6.0 - Temperature: 0.12618578170503877\n",
            "EPISODE: 71 - Max Position: 0.5368577983788596 - Score: -3.0 - Temperature: 0.12245642825298195\n",
            "EPISODE: 72 - Max Position: 0.4927449102595253 - Score: -22.0 - Temperature: 0.11883729385240965\n",
            "EPISODE: 73 - Max Position: 0.5246240134480685 - Score: -11.0 - Temperature: 0.11532512103806251\n",
            "EPISODE: 74 - Max Position: 0.5368577983788596 - Score: -18.0 - Temperature: 0.11191674861732888\n",
            "EPISODE: 75 - Max Position: 0.5368577983788596 - Score: -7.0 - Temperature: 0.10860910882495801\n",
            "EPISODE: 76 - Max Position: 0.5046459894953439 - Score: -21.0 - Temperature: 0.10539922456186433\n",
            "EPISODE: 77 - Max Position: 0.5146382128246162 - Score: -10.0 - Temperature: 0.10228420671553744\n",
            "EPISODE: 78 - Max Position: 0.5036193950202383 - Score: -2.0 - Temperature: 0.09926125155964566\n",
            "EPISODE: 79 - Max Position: 0.5017447144446637 - Score: -4.0 - Temperature: 0.09632763823049303\n",
            "EPISODE: 80 - Max Position: 0.5368577983788596 - Score: -9.0 - Temperature: 0.09348072627805847\n",
            "EPISODE: 81 - Max Position: 0.5368577983788596 - Score: -9.0 - Temperature: 0.09071795328941247\n",
            "EPISODE: 82 - Max Position: 0.5044956862954799 - Score: -10.0 - Temperature: 0.08803683258237255\n",
            "EPISODE: 83 - Max Position: 0.5368577983788596 - Score: 0.0 - Temperature: 0.08543495096732123\n",
            "EPISODE: 84 - Max Position: 0.5453321955315531 - Score: -7.0 - Temperature: 0.0829099665751727\n",
            "EPISODE: 85 - Max Position: 0.5368577983788596 - Score: -3.0 - Temperature: 0.08045960674953244\n",
            "EPISODE: 86 - Max Position: 0.5368577983788596 - Score: -5.0 - Temperature: 0.07808166600115317\n",
            "EPISODE: 87 - Max Position: 0.517900452200162 - Score: -6.0 - Temperature: 0.07577400402284548\n",
            "EPISODE: 88 - Max Position: 0.500906825693293 - Score: -2.0 - Temperature: 0.0735345437630571\n",
            "EPISODE: 89 - Max Position: 0.5368577983788596 - Score: -4.0 - Temperature: 0.07136126955638605\n",
            "EPISODE: 90 - Max Position: 0.5368577983788596 - Score: -4.0 - Temperature: 0.069252225309346\n",
            "EPISODE: 91 - Max Position: 0.5368577983788596 - Score: -9.0 - Temperature: 0.06720551273974976\n",
            "EPISODE: 92 - Max Position: 0.5368577983788596 - Score: -7.0 - Temperature: 0.06521928966812753\n",
            "EPISODE: 93 - Max Position: 0.5108538430663458 - Score: -14.0 - Temperature: 0.0632917683596407\n",
            "EPISODE: 94 - Max Position: 0.5368577983788596 - Score: -6.0 - Temperature: 0.06142121391500013\n",
            "EPISODE: 95 - Max Position: 0.5109673302205582 - Score: 1.0 - Temperature: 0.05960594270893937\n",
            "EPISODE: 96 - Max Position: 0.5111414995753982 - Score: 0.0 - Temperature: 0.057844320874838484\n",
            "EPISODE: 97 - Max Position: 0.5368577983788596 - Score: -1.0 - Temperature: 0.056134762834133725\n",
            "EPISODE: 98 - Max Position: 0.5166278826078811 - Score: -1.0 - Temperature: 0.05447572986918986\n",
            "EPISODE: 99 - Max Position: 0.5368577983788596 - Score: -6.0 - Temperature: 0.05286572873835037\n",
            "EPISODE: 100 - Max Position: 0.5057381718567397 - Score: -6.0 - Temperature: 0.051303310331919136\n",
            "EPISODE: 101 - Max Position: 0.5368577983788596 - Score: -3.0 - Temperature: 0.049787068367863944\n",
            "EPISODE: 102 - Max Position: 0.5368577983788596 - Score: -2.0 - Temperature: 0.04831563812606777\n",
            "EPISODE: 103 - Max Position: 0.5368577983788596 - Score: -3.0 - Temperature: 0.046887695219988486\n",
            "EPISODE: 104 - Max Position: 0.5101329715168282 - Score: -2.0 - Temperature: 0.04550195440462157\n",
            "EPISODE: 105 - Max Position: 0.5368577983788596 - Score: -14.0 - Temperature: 0.04415716841969286\n",
            "EPISODE: 106 - Max Position: 0.5368577983788596 - Score: -3.0 - Temperature: 0.042852126867040166\n",
            "EPISODE: 107 - Max Position: 0.5057963128060131 - Score: -1.0 - Temperature: 0.04158565512117316\n",
            "EPISODE: 108 - Max Position: 0.5318324372051355 - Score: -15.0 - Temperature: 0.04035661327203115\n",
            "EPISODE: 109 - Max Position: 0.5368577983788596 - Score: -2.0 - Temperature: 0.039163895098987066\n",
            "EPISODE: 110 - Max Position: 0.5220683492906928 - Score: -2.0 - Temperature: 0.0380064270751743\n",
            "EPISODE: 111 - Max Position: 0.5368577983788596 - Score: -3.0 - Temperature: 0.036883167401239994\n",
            "EPISODE: 112 - Max Position: 0.5368577983788596 - Score: -2.0 - Temperature: 0.0357931050676553\n",
            "EPISODE: 113 - Max Position: 0.5368577983788596 - Score: -2.0 - Temperature: 0.03473525894473855\n",
            "EPISODE: 114 - Max Position: 0.5036360304733173 - Score: 0.0 - Temperature: 0.033708676899572416\n",
            "EPISODE: 115 - Max Position: 0.5368577983788596 - Score: -4.0 - Temperature: 0.03271243493901982\n",
            "EPISODE: 116 - Max Position: 0.5104621211197409 - Score: 0.0 - Temperature: 0.03174563637806795\n",
            "EPISODE: 117 - Max Position: 0.5368577983788596 - Score: -3.0 - Temperature: 0.03080741103275109\n",
            "EPISODE: 118 - Max Position: 0.5368577983788596 - Score: 0.0 - Temperature: 0.02989691443692632\n",
            "EPISODE: 119 - Max Position: 0.5171619319705152 - Score: 0.0 - Temperature: 0.029013327082197053\n",
            "EPISODE: 120 - Max Position: 0.5120679570883825 - Score: 0.0 - Temperature: 0.028155853680300106\n",
            "EPISODE: 121 - Max Position: 0.5368577983788596 - Score: -1.0 - Temperature: 0.02732372244729257\n",
            "EPISODE: 122 - Max Position: 0.5368577983788596 - Score: 1.0 - Temperature: 0.02651618440889418\n",
            "EPISODE: 123 - Max Position: 0.5143375599859789 - Score: -2.0 - Temperature: 0.02573251272635994\n",
            "EPISODE: 124 - Max Position: 0.5368577983788596 - Score: -1.0 - Temperature: 0.024972002042276155\n",
            "EPISODE: 125 - Max Position: 0.5047642763744282 - Score: 0.0 - Temperature: 0.024233967845691123\n",
            "EPISODE: 126 - Max Position: 0.5129085521538737 - Score: 0.0 - Temperature: 0.023517745856009107\n",
            "EPISODE: 127 - Max Position: 0.5368577983788596 - Score: 0.0 - Temperature: 0.02282269142509297\n",
            "EPISODE: 128 - Max Position: 0.5368577983788596 - Score: -7.0 - Temperature: 0.022148178957037315\n",
            "EPISODE: 129 - Max Position: 0.5368577983788596 - Score: 0.0 - Temperature: 0.021493601345089923\n",
            "EPISODE: 130 - Max Position: 0.5368577983788596 - Score: 1.0 - Temperature: 0.020858369425214716\n",
            "EPISODE: 131 - Max Position: 0.5213690017046484 - Score: -6.0 - Temperature: 0.02024191144580438\n",
            "EPISODE: 132 - Max Position: 0.5368577983788596 - Score: 1.0 - Temperature: 0.019643672553065292\n",
            "EPISODE: 133 - Max Position: 0.5368577983788596 - Score: -3.0 - Temperature: 0.019063114291611637\n",
            "EPISODE: 134 - Max Position: 0.5368577983788596 - Score: 1.0 - Temperature: 0.018499714119819242\n",
            "EPISODE: 135 - Max Position: 0.5368577983788596 - Score: 0.0 - Temperature: 0.01795296493950285\n",
            "EPISODE: 136 - Max Position: 0.513567415096105 - Score: -1.0 - Temperature: 0.0174223746394935\n",
            "EPISODE: 137 - Max Position: 0.5368577983788596 - Score: -2.0 - Temperature: 0.01690746565270528\n",
            "EPISODE: 138 - Max Position: 0.5368577983788596 - Score: -1.0 - Temperature: 0.016407774526292645\n",
            "EPISODE: 139 - Max Position: 0.5368577983788596 - Score: 1.0 - Temperature: 0.015922851504511698\n",
            "EPISODE: 140 - Max Position: 0.5368577983788596 - Score: -2.0 - Temperature: 0.015452260123909515\n",
            "EPISODE: 141 - Max Position: 0.5001520653872178 - Score: 0.0 - Temperature: 0.014995576820477717\n",
            "EPISODE: 142 - Max Position: 0.5122269914301297 - Score: 0.0 - Temperature: 0.014552390548416136\n",
            "EPISODE: 143 - Max Position: 0.505472056687601 - Score: 0.0 - Temperature: 0.014122302410163962\n",
            "EPISODE: 144 - Max Position: 0.5368577983788596 - Score: -2.0 - Temperature: 0.013704925297364945\n",
            "EPISODE: 145 - Max Position: 0.5368577983788596 - Score: -2.0 - Temperature: 0.013299883542443767\n",
            "EPISODE: 146 - Max Position: 0.5368577983788596 - Score: 0.0 - Temperature: 0.012906812580479873\n",
            "EPISODE: 147 - Max Position: 0.5368577983788596 - Score: 0.0 - Temperature: 0.012525358621074385\n",
            "EPISODE: 148 - Max Position: 0.5151785921112088 - Score: -1.0 - Temperature: 0.012155178329914935\n",
            "EPISODE: 149 - Max Position: 0.5182995132078011 - Score: 1.0 - Temperature: 0.011795938519751572\n",
            "EPISODE: 150 - Max Position: 0.5037905977976924 - Score: 0.0 - Temperature: 0.01144731585050571\n",
            "EPISODE: 151 - Max Position: 0.5368577983788596 - Score: 0.0 - Temperature: 0.011108996538242306\n",
            "EPISODE: 152 - Max Position: 0.5368577983788596 - Score: -3.0 - Temperature: 0.010780676072743084\n",
            "EPISODE: 153 - Max Position: 0.5368577983788596 - Score: 0.0 - Temperature: 0.010462058943426795\n",
            "EPISODE: 154 - Max Position: 0.5368577983788596 - Score: -2.0 - Temperature: 0.010152858373369763\n",
            "EPISODE: 155 - Max Position: 0.5368577983788596 - Score: -1.0 - Temperature: 0.009852796061187257\n",
            "EPISODE: 156 - Max Position: 0.5368577983788596 - Score: -2.0 - Temperature: 0.009561601930543505\n",
            "EPISODE: 157 - Max Position: 0.5118672300868835 - Score: -1.0 - Temperature: 0.009279013887064744\n",
            "EPISODE: 158 - Max Position: 0.5368577983788596 - Score: -1.0 - Temperature: 0.00900477758243656\n",
            "EPISODE: 159 - Max Position: 0.5122900045492843 - Score: 0.0 - Temperature: 0.00873864618547329\n",
            "EPISODE: 160 - Max Position: 0.5368577983788596 - Score: 0.0 - Temperature: 0.00848038015995326\n",
            "EPISODE: 161 - Max Position: 0.5368577983788596 - Score: -2.0 - Temperature: 0.008229747049020023\n",
            "EPISODE: 162 - Max Position: 0.5218268779336622 - Score: -1.0 - Temperature: 0.007986521265955502\n",
            "EPISODE: 163 - Max Position: 0.5368577983788596 - Score: -2.0 - Temperature: 0.007750483891136692\n",
            "EPISODE: 164 - Max Position: 0.5183347999060758 - Score: -1.0 - Temperature: 0.00752142247499327\n",
            "EPISODE: 165 - Max Position: 0.5368577983788596 - Score: -1.0 - Temperature: 0.007299130846788583\n",
            "EPISODE: 166 - Max Position: 0.5006734832136696 - Score: 0.0 - Temperature: 0.007083408929052125\n",
            "EPISODE: 167 - Max Position: 0.5368577983788596 - Score: -1.0 - Temperature: 0.006874062557496255\n",
            "EPISODE: 168 - Max Position: 0.5077859216627605 - Score: 0.0 - Temperature: 0.006670903306255274\n",
            "EPISODE: 169 - Max Position: 0.5167632616523965 - Score: 0.0 - Temperature: 0.006473748318289405\n",
            "EPISODE: 170 - Max Position: 0.5368577983788596 - Score: 0.0 - Temperature: 0.006282420140801118\n",
            "EPISODE: 171 - Max Position: 0.5368577983788596 - Score: -1.0 - Temperature: 0.006096746565515638\n",
            "EPISODE: 172 - Max Position: 0.5368577983788596 - Score: -1.0 - Temperature: 0.005916560473681857\n",
            "EPISODE: 173 - Max Position: 0.5122415504563558 - Score: 1.0 - Temperature: 0.005741699685654202\n",
            "EPISODE: 174 - Max Position: 0.5130542393662855 - Score: 1.0 - Temperature: 0.005572006814919998\n",
            "EPISODE: 175 - Max Position: 0.5142615966288218 - Score: 1.0 - Temperature: 0.00540732912644096\n",
            "EPISODE: 176 - Max Position: 0.5368577983788596 - Score: 0.0 - Temperature: 0.005247518399181385\n",
            "EPISODE: 177 - Max Position: 0.5368577983788596 - Score: -1.0 - Temperature: 0.00509243079269919\n",
            "EPISODE: 178 - Max Position: 0.5183391738886431 - Score: 1.0 - Temperature: 0.004941926717679818\n",
            "EPISODE: 179 - Max Position: 0.5368577983788596 - Score: -1.0 - Temperature: 0.004795870710296421\n",
            "EPISODE: 180 - Max Position: 0.5368577983788596 - Score: -2.0 - Temperature: 0.004654131310283272\n",
            "EPISODE: 181 - Max Position: 0.5078105277298222 - Score: 0.0 - Temperature: 0.004516580942612666\n",
            "EPISODE: 182 - Max Position: 0.5137561241098016 - Score: 1.0 - Temperature: 0.004383095802668776\n",
            "EPISODE: 183 - Max Position: 0.5368577983788596 - Score: 0.0 - Temperature: 0.004253555744815125\n",
            "EPISODE: 184 - Max Position: 0.5368577983788596 - Score: 0.0 - Temperature: 0.004127844174255436\n",
            "EPISODE: 185 - Max Position: 0.5368577983788596 - Score: -2.0 - Temperature: 0.004005847942090417\n",
            "EPISODE: 186 - Max Position: 0.5368577983788596 - Score: 1.0 - Temperature: 0.003887457243476127\n",
            "EPISODE: 187 - Max Position: 0.5368577983788596 - Score: 1.0 - Temperature: 0.0037725655187922052\n",
            "EPISODE: 188 - Max Position: 0.5368577983788596 - Score: 0.0 - Temperature: 0.0036610693577310053\n",
            "EPISODE: 189 - Max Position: 0.5368577983788596 - Score: -1.0 - Temperature: 0.003552868406221362\n",
            "EPISODE: 190 - Max Position: 0.5142804503266657 - Score: 0.0 - Temperature: 0.0034478652761031265\n",
            "EPISODE: 191 - Max Position: 0.5039179352528798 - Score: 0.0 - Temperature: 0.003345965457471275\n",
            "EPISODE: 192 - Max Position: 0.5368577983788596 - Score: 1.0 - Temperature: 0.003247077233610589\n",
            "EPISODE: 193 - Max Position: 0.5014727336475281 - Score: -1.0 - Temperature: 0.0031511115984444414\n",
            "EPISODE: 194 - Max Position: 0.5368577983788596 - Score: 1.0 - Temperature: 0.0030579821764233073\n",
            "EPISODE: 195 - Max Position: 0.5368577983788596 - Score: 0.0 - Temperature: 0.002967605144780944\n",
            "EPISODE: 196 - Max Position: 0.5368577983788596 - Score: 0.0 - Temperature: 0.002879899158088243\n",
            "EPISODE: 197 - Max Position: 0.5368577983788596 - Score: 0.0 - Temperature: 0.0027947852750368437\n",
            "EPISODE: 198 - Max Position: 0.5368577983788596 - Score: 1.0 - Temperature: 0.0027121868873866434\n",
            "EPISODE: 199 - Max Position: 0.5114306510045463 - Score: 0.0 - Temperature: 0.0026320296510132005\n",
            "EPISODE: 200 - Max Position: 0.5059253344653231 - Score: 0.0 - Temperature: 0.0025542414189929983\n"
          ]
        }
      ]
    },
    {
      "cell_type": "code",
      "source": [
        "fig, ax = plt.subplots(1, 2, figsize=(16, 6))\n",
        "\n",
        "ax[0].set_xlabel('Iteration', fontsize=14)\n",
        "ax[0].set_ylabel('Exploration profile',  fontsize=14)\n",
        "ax[0].plot(exploration_profile, color = 'b')\n",
        "ax[0].tick_params(axis='y')\n",
        "\n",
        "ax2 = ax[0].twinx() \n",
        "\n",
        "ax2.set_ylabel('Final score',  fontsize=14)\n",
        "ax2.plot(training_score , color= 'green')\n",
        "ax2.tick_params(axis='y')\n",
        "\n",
        "ax[1].set_xlabel('Iteration', fontsize=14)\n",
        "ax[1].set_ylabel('Position', fontsize=14)\n",
        "ax[1].plot(positions)\n",
        "\n",
        "fig.tight_layout()  \n",
        "plt.show()"
      ],
      "metadata": {
        "colab": {
          "base_uri": "https://localhost:8080/",
          "height": 441
        },
        "id": "EdHGJLqSOYwg",
        "outputId": "02c103b7-1152-46b6-a767-2f51608f359a"
      },
      "execution_count": null,
      "outputs": [
        {
          "output_type": "display_data",
          "data": {
            "text/plain": [
              "<Figure size 1152x432 with 3 Axes>"
            ],
            "image/png": "[encoded data removed]"
          },
          "metadata": {
            "needs_background": "light"
          }
        }
      ]
    },
    {
      "cell_type": "code",
      "source": [
        "torch.save(policy_net.state_dict(), 'mountain_car')"
      ],
      "metadata": {
        "id": "-UEsD_kVOYzN"
      },
      "execution_count": null,
      "outputs": []
    },
    {
      "cell_type": "code",
      "source": [
        "env = gym.make('MountainCar-v0') \n",
        "env.seed(0) \n",
        "\n",
        "device = torch.device(\"cuda\") if torch.cuda.is_available() else torch.device(\"cpu\")\n",
        "net = DQN(state_space_dim, action_space_dim)\n",
        "net.to(device)\n",
        "\n",
        "env = wrap_env(env, video_callable=lambda episode_id: True) \n",
        "\n",
        "for num_episode in range(10): \n",
        "    state = env.reset()\n",
        "    done = False\n",
        "    max_position = state[0]\n",
        "    while not done:\n",
        "        action, q_values = choose_action_softmax(policy_net, state, temperature=0)\n",
        "        next_state, reward, done, info = env.step(action)\n",
        "        env.render()\n",
        "\n",
        "        if next_state[0] > max_position:\n",
        "            max_position = next_state[0]\n",
        "            \n",
        "        state = next_state\n",
        "\n",
        "    print(f\"EPISODE {num_episode + 1} - Max Position: {max_position}\") \n",
        "env.close()"
      ],
      "metadata": {
        "colab": {
          "base_uri": "https://localhost:8080/"
        },
        "id": "Jo-ArTEoOeU_",
        "outputId": "fa5cc0ba-60c8-44b4-8322-3cb668e58127"
      },
      "execution_count": null,
      "outputs": [
        {
          "output_type": "stream",
          "name": "stdout",
          "text": [
            "EPISODE 1 - Max Position: 0.5368577983788596\n",
            "EPISODE 2 - Max Position: 0.5069096302184786\n",
            "EPISODE 3 - Max Position: 0.5066299488695439\n",
            "EPISODE 4 - Max Position: 0.5368577983788596\n",
            "EPISODE 5 - Max Position: 0.5368577983788596\n",
            "EPISODE 6 - Max Position: 0.5071724115628157\n",
            "EPISODE 7 - Max Position: 0.5368577983788596\n",
            "EPISODE 8 - Max Position: 0.5021542656542397\n",
            "EPISODE 9 - Max Position: 0.5368577983788596\n",
            "EPISODE 10 - Max Position: 0.5368577983788596\n"
          ]
        }
      ]
    }
  ]
}