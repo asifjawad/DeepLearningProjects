{
  "nbformat": 4,
  "nbformat_minor": 0,
  "metadata": {
    "colab": {
      "provenance": [],
      "collapsed_sections": []
    },
    "kernelspec": {
      "name": "python3",
      "display_name": "Python 3"
    },
    "language_info": {
      "name": "python"
    },
    "accelerator": "GPU",
    "gpuClass": "standard",
    "widgets": {
      "application/vnd.jupyter.widget-state+json": {
        "8e315e20f85b48669b5f255722610143": {
          "model_module": "@jupyter-widgets/controls",
          "model_name": "HBoxModel",
          "model_module_version": "1.5.0",
          "state": {
            "_dom_classes": [],
            "_model_module": "@jupyter-widgets/controls",
            "_model_module_version": "1.5.0",
            "_model_name": "HBoxModel",
            "_view_count": null,
            "_view_module": "@jupyter-widgets/controls",
            "_view_module_version": "1.5.0",
            "_view_name": "HBoxView",
            "box_style": "",
            "children": [
              "IPY_MODEL_4fdc3683bb2b4c29bf07cb98c4ddf006",
              "IPY_MODEL_3f1ae166f4114dbea4d21dd2678fcc44",
              "IPY_MODEL_204bcb4106cc45688a89a17c564e1fcf"
            ],
            "layout": "IPY_MODEL_98172890ecf74fc483e528ff32ced481"
          }
        },
        "4fdc3683bb2b4c29bf07cb98c4ddf006": {
          "model_module": "@jupyter-widgets/controls",
          "model_name": "HTMLModel",
          "model_module_version": "1.5.0",
          "state": {
            "_dom_classes": [],
            "_model_module": "@jupyter-widgets/controls",
            "_model_module_version": "1.5.0",
            "_model_name": "HTMLModel",
            "_view_count": null,
            "_view_module": "@jupyter-widgets/controls",
            "_view_module_version": "1.5.0",
            "_view_name": "HTMLView",
            "description": "",
            "description_tooltip": null,
            "layout": "IPY_MODEL_36b5ff70f7504c2a8530dd6d1e5865fd",
            "placeholder": "​",
            "style": "IPY_MODEL_80b24b70ebb14ee6b2a8f58fd7ec5d6d",
            "value": "100%"
          }
        },
        "3f1ae166f4114dbea4d21dd2678fcc44": {
          "model_module": "@jupyter-widgets/controls",
          "model_name": "FloatProgressModel",
          "model_module_version": "1.5.0",
          "state": {
            "_dom_classes": [],
            "_model_module": "@jupyter-widgets/controls",
            "_model_module_version": "1.5.0",
            "_model_name": "FloatProgressModel",
            "_view_count": null,
            "_view_module": "@jupyter-widgets/controls",
            "_view_module_version": "1.5.0",
            "_view_name": "ProgressView",
            "bar_style": "success",
            "description": "",
            "description_tooltip": null,
            "layout": "IPY_MODEL_9bb52da2b85b4e9780826fca463be2a7",
            "max": 26421880,
            "min": 0,
            "orientation": "horizontal",
            "style": "IPY_MODEL_5fefc80ad8ea4a859ca09135dfe368c6",
            "value": 26421880
          }
        },
        "204bcb4106cc45688a89a17c564e1fcf": {
          "model_module": "@jupyter-widgets/controls",
          "model_name": "HTMLModel",
          "model_module_version": "1.5.0",
          "state": {
            "_dom_classes": [],
            "_model_module": "@jupyter-widgets/controls",
            "_model_module_version": "1.5.0",
            "_model_name": "HTMLModel",
            "_view_count": null,
            "_view_module": "@jupyter-widgets/controls",
            "_view_module_version": "1.5.0",
            "_view_name": "HTMLView",
            "description": "",
            "description_tooltip": null,
            "layout": "IPY_MODEL_de3e4167e149459aa4f34bcfc51589dc",
            "placeholder": "​",
            "style": "IPY_MODEL_d1af9a971e8549afa7a94d553056f387",
            "value": " 26421880/26421880 [00:03&lt;00:00, 13653588.55it/s]"
          }
        },
        "98172890ecf74fc483e528ff32ced481": {
          "model_module": "@jupyter-widgets/base",
          "model_name": "LayoutModel",
          "model_module_version": "1.2.0",
          "state": {
            "_model_module": "@jupyter-widgets/base",
            "_model_module_version": "1.2.0",
            "_model_name": "LayoutModel",
            "_view_count": null,
            "_view_module": "@jupyter-widgets/base",
            "_view_module_version": "1.2.0",
            "_view_name": "LayoutView",
            "align_content": null,
            "align_items": null,
            "align_self": null,
            "border": null,
            "bottom": null,
            "display": null,
            "flex": null,
            "flex_flow": null,
            "grid_area": null,
            "grid_auto_columns": null,
            "grid_auto_flow": null,
            "grid_auto_rows": null,
            "grid_column": null,
            "grid_gap": null,
            "grid_row": null,
            "grid_template_areas": null,
            "grid_template_columns": null,
            "grid_template_rows": null,
            "height": null,
            "justify_content": null,
            "justify_items": null,
            "left": null,
            "margin": null,
            "max_height": null,
            "max_width": null,
            "min_height": null,
            "min_width": null,
            "object_fit": null,
            "object_position": null,
            "order": null,
            "overflow": null,
            "overflow_x": null,
            "overflow_y": null,
            "padding": null,
            "right": null,
            "top": null,
            "visibility": null,
            "width": null
          }
        },
        "36b5ff70f7504c2a8530dd6d1e5865fd": {
          "model_module": "@jupyter-widgets/base",
          "model_name": "LayoutModel",
          "model_module_version": "1.2.0",
          "state": {
            "_model_module": "@jupyter-widgets/base",
            "_model_module_version": "1.2.0",
            "_model_name": "LayoutModel",
            "_view_count": null,
            "_view_module": "@jupyter-widgets/base",
            "_view_module_version": "1.2.0",
            "_view_name": "LayoutView",
            "align_content": null,
            "align_items": null,
            "align_self": null,
            "border": null,
            "bottom": null,
            "display": null,
            "flex": null,
            "flex_flow": null,
            "grid_area": null,
            "grid_auto_columns": null,
            "grid_auto_flow": null,
            "grid_auto_rows": null,
            "grid_column": null,
            "grid_gap": null,
            "grid_row": null,
            "grid_template_areas": null,
            "grid_template_columns": null,
            "grid_template_rows": null,
            "height": null,
            "justify_content": null,
            "justify_items": null,
            "left": null,
            "margin": null,
            "max_height": null,
            "max_width": null,
            "min_height": null,
            "min_width": null,
            "object_fit": null,
            "object_position": null,
            "order": null,
            "overflow": null,
            "overflow_x": null,
            "overflow_y": null,
            "padding": null,
            "right": null,
            "top": null,
            "visibility": null,
            "width": null
          }
        },
        "80b24b70ebb14ee6b2a8f58fd7ec5d6d": {
          "model_module": "@jupyter-widgets/controls",
          "model_name": "DescriptionStyleModel",
          "model_module_version": "1.5.0",
          "state": {
            "_model_module": "@jupyter-widgets/controls",
            "_model_module_version": "1.5.0",
            "_model_name": "DescriptionStyleModel",
            "_view_count": null,
            "_view_module": "@jupyter-widgets/base",
            "_view_module_version": "1.2.0",
            "_view_name": "StyleView",
            "description_width": ""
          }
        },
        "9bb52da2b85b4e9780826fca463be2a7": {
          "model_module": "@jupyter-widgets/base",
          "model_name": "LayoutModel",
          "model_module_version": "1.2.0",
          "state": {
            "_model_module": "@jupyter-widgets/base",
            "_model_module_version": "1.2.0",
            "_model_name": "LayoutModel",
            "_view_count": null,
            "_view_module": "@jupyter-widgets/base",
            "_view_module_version": "1.2.0",
            "_view_name": "LayoutView",
            "align_content": null,
            "align_items": null,
            "align_self": null,
            "border": null,
            "bottom": null,
            "display": null,
            "flex": null,
            "flex_flow": null,
            "grid_area": null,
            "grid_auto_columns": null,
            "grid_auto_flow": null,
            "grid_auto_rows": null,
            "grid_column": null,
            "grid_gap": null,
            "grid_row": null,
            "grid_template_areas": null,
            "grid_template_columns": null,
            "grid_template_rows": null,
            "height": null,
            "justify_content": null,
            "justify_items": null,
            "left": null,
            "margin": null,
            "max_height": null,
            "max_width": null,
            "min_height": null,
            "min_width": null,
            "object_fit": null,
            "object_position": null,
            "order": null,
            "overflow": null,
            "overflow_x": null,
            "overflow_y": null,
            "padding": null,
            "right": null,
            "top": null,
            "visibility": null,
            "width": null
          }
        },
        "5fefc80ad8ea4a859ca09135dfe368c6": {
          "model_module": "@jupyter-widgets/controls",
          "model_name": "ProgressStyleModel",
          "model_module_version": "1.5.0",
          "state": {
            "_model_module": "@jupyter-widgets/controls",
            "_model_module_version": "1.5.0",
            "_model_name": "ProgressStyleModel",
            "_view_count": null,
            "_view_module": "@jupyter-widgets/base",
            "_view_module_version": "1.2.0",
            "_view_name": "StyleView",
            "bar_color": null,
            "description_width": ""
          }
        },
        "de3e4167e149459aa4f34bcfc51589dc": {
          "model_module": "@jupyter-widgets/base",
          "model_name": "LayoutModel",
          "model_module_version": "1.2.0",
          "state": {
            "_model_module": "@jupyter-widgets/base",
            "_model_module_version": "1.2.0",
            "_model_name": "LayoutModel",
            "_view_count": null,
            "_view_module": "@jupyter-widgets/base",
            "_view_module_version": "1.2.0",
            "_view_name": "LayoutView",
            "align_content": null,
            "align_items": null,
            "align_self": null,
            "border": null,
            "bottom": null,
            "display": null,
            "flex": null,
            "flex_flow": null,
            "grid_area": null,
            "grid_auto_columns": null,
            "grid_auto_flow": null,
            "grid_auto_rows": null,
            "grid_column": null,
            "grid_gap": null,
            "grid_row": null,
            "grid_template_areas": null,
            "grid_template_columns": null,
            "grid_template_rows": null,
            "height": null,
            "justify_content": null,
            "justify_items": null,
            "left": null,
            "margin": null,
            "max_height": null,
            "max_width": null,
            "min_height": null,
            "min_width": null,
            "object_fit": null,
            "object_position": null,
            "order": null,
            "overflow": null,
            "overflow_x": null,
            "overflow_y": null,
            "padding": null,
            "right": null,
            "top": null,
            "visibility": null,
            "width": null
          }
        },
        "d1af9a971e8549afa7a94d553056f387": {
          "model_module": "@jupyter-widgets/controls",
          "model_name": "DescriptionStyleModel",
          "model_module_version": "1.5.0",
          "state": {
            "_model_module": "@jupyter-widgets/controls",
            "_model_module_version": "1.5.0",
            "_model_name": "DescriptionStyleModel",
            "_view_count": null,
            "_view_module": "@jupyter-widgets/base",
            "_view_module_version": "1.2.0",
            "_view_name": "StyleView",
            "description_width": ""
          }
        },
        "e0344abc7faf4e128757b047a4480eae": {
          "model_module": "@jupyter-widgets/controls",
          "model_name": "HBoxModel",
          "model_module_version": "1.5.0",
          "state": {
            "_dom_classes": [],
            "_model_module": "@jupyter-widgets/controls",
            "_model_module_version": "1.5.0",
            "_model_name": "HBoxModel",
            "_view_count": null,
            "_view_module": "@jupyter-widgets/controls",
            "_view_module_version": "1.5.0",
            "_view_name": "HBoxView",
            "box_style": "",
            "children": [
              "IPY_MODEL_b3d0cf2f41e7454b92f34a50d7434843",
              "IPY_MODEL_87a84482ce62409fa8a8aae612bc446a",
              "IPY_MODEL_a152b9ccc7334dd0b8f9154b28ca8174"
            ],
            "layout": "IPY_MODEL_42c79ec2a50a42808c13ad68c7f1e3c3"
          }
        },
        "b3d0cf2f41e7454b92f34a50d7434843": {
          "model_module": "@jupyter-widgets/controls",
          "model_name": "HTMLModel",
          "model_module_version": "1.5.0",
          "state": {
            "_dom_classes": [],
            "_model_module": "@jupyter-widgets/controls",
            "_model_module_version": "1.5.0",
            "_model_name": "HTMLModel",
            "_view_count": null,
            "_view_module": "@jupyter-widgets/controls",
            "_view_module_version": "1.5.0",
            "_view_name": "HTMLView",
            "description": "",
            "description_tooltip": null,
            "layout": "IPY_MODEL_c763d44cad4349a68a0aee6c01df6c96",
            "placeholder": "​",
            "style": "IPY_MODEL_63bfcfeb9cad45ae8b60d79fc497a91b",
            "value": "100%"
          }
        },
        "87a84482ce62409fa8a8aae612bc446a": {
          "model_module": "@jupyter-widgets/controls",
          "model_name": "FloatProgressModel",
          "model_module_version": "1.5.0",
          "state": {
            "_dom_classes": [],
            "_model_module": "@jupyter-widgets/controls",
            "_model_module_version": "1.5.0",
            "_model_name": "FloatProgressModel",
            "_view_count": null,
            "_view_module": "@jupyter-widgets/controls",
            "_view_module_version": "1.5.0",
            "_view_name": "ProgressView",
            "bar_style": "success",
            "description": "",
            "description_tooltip": null,
            "layout": "IPY_MODEL_d7907c3f5c5c4a88b342d055b37815b9",
            "max": 29515,
            "min": 0,
            "orientation": "horizontal",
            "style": "IPY_MODEL_69d6c029bc024373ad0d2878b1a2660b",
            "value": 29515
          }
        },
        "a152b9ccc7334dd0b8f9154b28ca8174": {
          "model_module": "@jupyter-widgets/controls",
          "model_name": "HTMLModel",
          "model_module_version": "1.5.0",
          "state": {
            "_dom_classes": [],
            "_model_module": "@jupyter-widgets/controls",
            "_model_module_version": "1.5.0",
            "_model_name": "HTMLModel",
            "_view_count": null,
            "_view_module": "@jupyter-widgets/controls",
            "_view_module_version": "1.5.0",
            "_view_name": "HTMLView",
            "description": "",
            "description_tooltip": null,
            "layout": "IPY_MODEL_9bdf8964956d43c0b599332514e85c5c",
            "placeholder": "​",
            "style": "IPY_MODEL_75e2c02a757b4e109957a9f5a2ee8457",
            "value": " 29515/29515 [00:00&lt;00:00, 143204.21it/s]"
          }
        },
        "42c79ec2a50a42808c13ad68c7f1e3c3": {
          "model_module": "@jupyter-widgets/base",
          "model_name": "LayoutModel",
          "model_module_version": "1.2.0",
          "state": {
            "_model_module": "@jupyter-widgets/base",
            "_model_module_version": "1.2.0",
            "_model_name": "LayoutModel",
            "_view_count": null,
            "_view_module": "@jupyter-widgets/base",
            "_view_module_version": "1.2.0",
            "_view_name": "LayoutView",
            "align_content": null,
            "align_items": null,
            "align_self": null,
            "border": null,
            "bottom": null,
            "display": null,
            "flex": null,
            "flex_flow": null,
            "grid_area": null,
            "grid_auto_columns": null,
            "grid_auto_flow": null,
            "grid_auto_rows": null,
            "grid_column": null,
            "grid_gap": null,
            "grid_row": null,
            "grid_template_areas": null,
            "grid_template_columns": null,
            "grid_template_rows": null,
            "height": null,
            "justify_content": null,
            "justify_items": null,
            "left": null,
            "margin": null,
            "max_height": null,
            "max_width": null,
            "min_height": null,
            "min_width": null,
            "object_fit": null,
            "object_position": null,
            "order": null,
            "overflow": null,
            "overflow_x": null,
            "overflow_y": null,
            "padding": null,
            "right": null,
            "top": null,
            "visibility": null,
            "width": null
          }
        },
        "c763d44cad4349a68a0aee6c01df6c96": {
          "model_module": "@jupyter-widgets/base",
          "model_name": "LayoutModel",
          "model_module_version": "1.2.0",
          "state": {
            "_model_module": "@jupyter-widgets/base",
            "_model_module_version": "1.2.0",
            "_model_name": "LayoutModel",
            "_view_count": null,
            "_view_module": "@jupyter-widgets/base",
            "_view_module_version": "1.2.0",
            "_view_name": "LayoutView",
            "align_content": null,
            "align_items": null,
            "align_self": null,
            "border": null,
            "bottom": null,
            "display": null,
            "flex": null,
            "flex_flow": null,
            "grid_area": null,
            "grid_auto_columns": null,
            "grid_auto_flow": null,
            "grid_auto_rows": null,
            "grid_column": null,
            "grid_gap": null,
            "grid_row": null,
            "grid_template_areas": null,
            "grid_template_columns": null,
            "grid_template_rows": null,
            "height": null,
            "justify_content": null,
            "justify_items": null,
            "left": null,
            "margin": null,
            "max_height": null,
            "max_width": null,
            "min_height": null,
            "min_width": null,
            "object_fit": null,
            "object_position": null,
            "order": null,
            "overflow": null,
            "overflow_x": null,
            "overflow_y": null,
            "padding": null,
            "right": null,
            "top": null,
            "visibility": null,
            "width": null
          }
        },
        "63bfcfeb9cad45ae8b60d79fc497a91b": {
          "model_module": "@jupyter-widgets/controls",
          "model_name": "DescriptionStyleModel",
          "model_module_version": "1.5.0",
          "state": {
            "_model_module": "@jupyter-widgets/controls",
            "_model_module_version": "1.5.0",
            "_model_name": "DescriptionStyleModel",
            "_view_count": null,
            "_view_module": "@jupyter-widgets/base",
            "_view_module_version": "1.2.0",
            "_view_name": "StyleView",
            "description_width": ""
          }
        },
        "d7907c3f5c5c4a88b342d055b37815b9": {
          "model_module": "@jupyter-widgets/base",
          "model_name": "LayoutModel",
          "model_module_version": "1.2.0",
          "state": {
            "_model_module": "@jupyter-widgets/base",
            "_model_module_version": "1.2.0",
            "_model_name": "LayoutModel",
            "_view_count": null,
            "_view_module": "@jupyter-widgets/base",
            "_view_module_version": "1.2.0",
            "_view_name": "LayoutView",
            "align_content": null,
            "align_items": null,
            "align_self": null,
            "border": null,
            "bottom": null,
            "display": null,
            "flex": null,
            "flex_flow": null,
            "grid_area": null,
            "grid_auto_columns": null,
            "grid_auto_flow": null,
            "grid_auto_rows": null,
            "grid_column": null,
            "grid_gap": null,
            "grid_row": null,
            "grid_template_areas": null,
            "grid_template_columns": null,
            "grid_template_rows": null,
            "height": null,
            "justify_content": null,
            "justify_items": null,
            "left": null,
            "margin": null,
            "max_height": null,
            "max_width": null,
            "min_height": null,
            "min_width": null,
            "object_fit": null,
            "object_position": null,
            "order": null,
            "overflow": null,
            "overflow_x": null,
            "overflow_y": null,
            "padding": null,
            "right": null,
            "top": null,
            "visibility": null,
            "width": null
          }
        },
        "69d6c029bc024373ad0d2878b1a2660b": {
          "model_module": "@jupyter-widgets/controls",
          "model_name": "ProgressStyleModel",
          "model_module_version": "1.5.0",
          "state": {
            "_model_module": "@jupyter-widgets/controls",
            "_model_module_version": "1.5.0",
            "_model_name": "ProgressStyleModel",
            "_view_count": null,
            "_view_module": "@jupyter-widgets/base",
            "_view_module_version": "1.2.0",
            "_view_name": "StyleView",
            "bar_color": null,
            "description_width": ""
          }
        },
        "9bdf8964956d43c0b599332514e85c5c": {
          "model_module": "@jupyter-widgets/base",
          "model_name": "LayoutModel",
          "model_module_version": "1.2.0",
          "state": {
            "_model_module": "@jupyter-widgets/base",
            "_model_module_version": "1.2.0",
            "_model_name": "LayoutModel",
            "_view_count": null,
            "_view_module": "@jupyter-widgets/base",
            "_view_module_version": "1.2.0",
            "_view_name": "LayoutView",
            "align_content": null,
            "align_items": null,
            "align_self": null,
            "border": null,
            "bottom": null,
            "display": null,
            "flex": null,
            "flex_flow": null,
            "grid_area": null,
            "grid_auto_columns": null,
            "grid_auto_flow": null,
            "grid_auto_rows": null,
            "grid_column": null,
            "grid_gap": null,
            "grid_row": null,
            "grid_template_areas": null,
            "grid_template_columns": null,
            "grid_template_rows": null,
            "height": null,
            "justify_content": null,
            "justify_items": null,
            "left": null,
            "margin": null,
            "max_height": null,
            "max_width": null,
            "min_height": null,
            "min_width": null,
            "object_fit": null,
            "object_position": null,
            "order": null,
            "overflow": null,
            "overflow_x": null,
            "overflow_y": null,
            "padding": null,
            "right": null,
            "top": null,
            "visibility": null,
            "width": null
          }
        },
        "75e2c02a757b4e109957a9f5a2ee8457": {
          "model_module": "@jupyter-widgets/controls",
          "model_name": "DescriptionStyleModel",
          "model_module_version": "1.5.0",
          "state": {
            "_model_module": "@jupyter-widgets/controls",
            "_model_module_version": "1.5.0",
            "_model_name": "DescriptionStyleModel",
            "_view_count": null,
            "_view_module": "@jupyter-widgets/base",
            "_view_module_version": "1.2.0",
            "_view_name": "StyleView",
            "description_width": ""
          }
        },
        "a05dc3b1341247339d7ca25cc9efd484": {
          "model_module": "@jupyter-widgets/controls",
          "model_name": "HBoxModel",
          "model_module_version": "1.5.0",
          "state": {
            "_dom_classes": [],
            "_model_module": "@jupyter-widgets/controls",
            "_model_module_version": "1.5.0",
            "_model_name": "HBoxModel",
            "_view_count": null,
            "_view_module": "@jupyter-widgets/controls",
            "_view_module_version": "1.5.0",
            "_view_name": "HBoxView",
            "box_style": "",
            "children": [
              "IPY_MODEL_2b5358f662744e1eaa59ccb4385f63b3",
              "IPY_MODEL_3310729e910c4937818fde7bdd83af6b",
              "IPY_MODEL_e1ba6cc0261e4185b7e6347e35f5f861"
            ],
            "layout": "IPY_MODEL_f80d32a53999448d8c289f908d05e566"
          }
        },
        "2b5358f662744e1eaa59ccb4385f63b3": {
          "model_module": "@jupyter-widgets/controls",
          "model_name": "HTMLModel",
          "model_module_version": "1.5.0",
          "state": {
            "_dom_classes": [],
            "_model_module": "@jupyter-widgets/controls",
            "_model_module_version": "1.5.0",
            "_model_name": "HTMLModel",
            "_view_count": null,
            "_view_module": "@jupyter-widgets/controls",
            "_view_module_version": "1.5.0",
            "_view_name": "HTMLView",
            "description": "",
            "description_tooltip": null,
            "layout": "IPY_MODEL_8e04a3655a73495da605247c1b5f4273",
            "placeholder": "​",
            "style": "IPY_MODEL_e44667149dd04c49b37bd4f12cf37794",
            "value": "100%"
          }
        },
        "3310729e910c4937818fde7bdd83af6b": {
          "model_module": "@jupyter-widgets/controls",
          "model_name": "FloatProgressModel",
          "model_module_version": "1.5.0",
          "state": {
            "_dom_classes": [],
            "_model_module": "@jupyter-widgets/controls",
            "_model_module_version": "1.5.0",
            "_model_name": "FloatProgressModel",
            "_view_count": null,
            "_view_module": "@jupyter-widgets/controls",
            "_view_module_version": "1.5.0",
            "_view_name": "ProgressView",
            "bar_style": "success",
            "description": "",
            "description_tooltip": null,
            "layout": "IPY_MODEL_ebbaea97c3b44f288cf44c51433bc3fe",
            "max": 4422102,
            "min": 0,
            "orientation": "horizontal",
            "style": "IPY_MODEL_5baaff10b613486da11d7e77a9d7e2c2",
            "value": 4422102
          }
        },
        "e1ba6cc0261e4185b7e6347e35f5f861": {
          "model_module": "@jupyter-widgets/controls",
          "model_name": "HTMLModel",
          "model_module_version": "1.5.0",
          "state": {
            "_dom_classes": [],
            "_model_module": "@jupyter-widgets/controls",
            "_model_module_version": "1.5.0",
            "_model_name": "HTMLModel",
            "_view_count": null,
            "_view_module": "@jupyter-widgets/controls",
            "_view_module_version": "1.5.0",
            "_view_name": "HTMLView",
            "description": "",
            "description_tooltip": null,
            "layout": "IPY_MODEL_04eea468332d475692b417d5b153fc5e",
            "placeholder": "​",
            "style": "IPY_MODEL_7e253225e48a4c62beace14bbb60122a",
            "value": " 4422102/4422102 [00:01&lt;00:00, 4674911.96it/s]"
          }
        },
        "f80d32a53999448d8c289f908d05e566": {
          "model_module": "@jupyter-widgets/base",
          "model_name": "LayoutModel",
          "model_module_version": "1.2.0",
          "state": {
            "_model_module": "@jupyter-widgets/base",
            "_model_module_version": "1.2.0",
            "_model_name": "LayoutModel",
            "_view_count": null,
            "_view_module": "@jupyter-widgets/base",
            "_view_module_version": "1.2.0",
            "_view_name": "LayoutView",
            "align_content": null,
            "align_items": null,
            "align_self": null,
            "border": null,
            "bottom": null,
            "display": null,
            "flex": null,
            "flex_flow": null,
            "grid_area": null,
            "grid_auto_columns": null,
            "grid_auto_flow": null,
            "grid_auto_rows": null,
            "grid_column": null,
            "grid_gap": null,
            "grid_row": null,
            "grid_template_areas": null,
            "grid_template_columns": null,
            "grid_template_rows": null,
            "height": null,
            "justify_content": null,
            "justify_items": null,
            "left": null,
            "margin": null,
            "max_height": null,
            "max_width": null,
            "min_height": null,
            "min_width": null,
            "object_fit": null,
            "object_position": null,
            "order": null,
            "overflow": null,
            "overflow_x": null,
            "overflow_y": null,
            "padding": null,
            "right": null,
            "top": null,
            "visibility": null,
            "width": null
          }
        },
        "8e04a3655a73495da605247c1b5f4273": {
          "model_module": "@jupyter-widgets/base",
          "model_name": "LayoutModel",
          "model_module_version": "1.2.0",
          "state": {
            "_model_module": "@jupyter-widgets/base",
            "_model_module_version": "1.2.0",
            "_model_name": "LayoutModel",
            "_view_count": null,
            "_view_module": "@jupyter-widgets/base",
            "_view_module_version": "1.2.0",
            "_view_name": "LayoutView",
            "align_content": null,
            "align_items": null,
            "align_self": null,
            "border": null,
            "bottom": null,
            "display": null,
            "flex": null,
            "flex_flow": null,
            "grid_area": null,
            "grid_auto_columns": null,
            "grid_auto_flow": null,
            "grid_auto_rows": null,
            "grid_column": null,
            "grid_gap": null,
            "grid_row": null,
            "grid_template_areas": null,
            "grid_template_columns": null,
            "grid_template_rows": null,
            "height": null,
            "justify_content": null,
            "justify_items": null,
            "left": null,
            "margin": null,
            "max_height": null,
            "max_width": null,
            "min_height": null,
            "min_width": null,
            "object_fit": null,
            "object_position": null,
            "order": null,
            "overflow": null,
            "overflow_x": null,
            "overflow_y": null,
            "padding": null,
            "right": null,
            "top": null,
            "visibility": null,
            "width": null
          }
        },
        "e44667149dd04c49b37bd4f12cf37794": {
          "model_module": "@jupyter-widgets/controls",
          "model_name": "DescriptionStyleModel",
          "model_module_version": "1.5.0",
          "state": {
            "_model_module": "@jupyter-widgets/controls",
            "_model_module_version": "1.5.0",
            "_model_name": "DescriptionStyleModel",
            "_view_count": null,
            "_view_module": "@jupyter-widgets/base",
            "_view_module_version": "1.2.0",
            "_view_name": "StyleView",
            "description_width": ""
          }
        },
        "ebbaea97c3b44f288cf44c51433bc3fe": {
          "model_module": "@jupyter-widgets/base",
          "model_name": "LayoutModel",
          "model_module_version": "1.2.0",
          "state": {
            "_model_module": "@jupyter-widgets/base",
            "_model_module_version": "1.2.0",
            "_model_name": "LayoutModel",
            "_view_count": null,
            "_view_module": "@jupyter-widgets/base",
            "_view_module_version": "1.2.0",
            "_view_name": "LayoutView",
            "align_content": null,
            "align_items": null,
            "align_self": null,
            "border": null,
            "bottom": null,
            "display": null,
            "flex": null,
            "flex_flow": null,
            "grid_area": null,
            "grid_auto_columns": null,
            "grid_auto_flow": null,
            "grid_auto_rows": null,
            "grid_column": null,
            "grid_gap": null,
            "grid_row": null,
            "grid_template_areas": null,
            "grid_template_columns": null,
            "grid_template_rows": null,
            "height": null,
            "justify_content": null,
            "justify_items": null,
            "left": null,
            "margin": null,
            "max_height": null,
            "max_width": null,
            "min_height": null,
            "min_width": null,
            "object_fit": null,
            "object_position": null,
            "order": null,
            "overflow": null,
            "overflow_x": null,
            "overflow_y": null,
            "padding": null,
            "right": null,
            "top": null,
            "visibility": null,
            "width": null
          }
        },
        "5baaff10b613486da11d7e77a9d7e2c2": {
          "model_module": "@jupyter-widgets/controls",
          "model_name": "ProgressStyleModel",
          "model_module_version": "1.5.0",
          "state": {
            "_model_module": "@jupyter-widgets/controls",
            "_model_module_version": "1.5.0",
            "_model_name": "ProgressStyleModel",
            "_view_count": null,
            "_view_module": "@jupyter-widgets/base",
            "_view_module_version": "1.2.0",
            "_view_name": "StyleView",
            "bar_color": null,
            "description_width": ""
          }
        },
        "04eea468332d475692b417d5b153fc5e": {
          "model_module": "@jupyter-widgets/base",
          "model_name": "LayoutModel",
          "model_module_version": "1.2.0",
          "state": {
            "_model_module": "@jupyter-widgets/base",
            "_model_module_version": "1.2.0",
            "_model_name": "LayoutModel",
            "_view_count": null,
            "_view_module": "@jupyter-widgets/base",
            "_view_module_version": "1.2.0",
            "_view_name": "LayoutView",
            "align_content": null,
            "align_items": null,
            "align_self": null,
            "border": null,
            "bottom": null,
            "display": null,
            "flex": null,
            "flex_flow": null,
            "grid_area": null,
            "grid_auto_columns": null,
            "grid_auto_flow": null,
            "grid_auto_rows": null,
            "grid_column": null,
            "grid_gap": null,
            "grid_row": null,
            "grid_template_areas": null,
            "grid_template_columns": null,
            "grid_template_rows": null,
            "height": null,
            "justify_content": null,
            "justify_items": null,
            "left": null,
            "margin": null,
            "max_height": null,
            "max_width": null,
            "min_height": null,
            "min_width": null,
            "object_fit": null,
            "object_position": null,
            "order": null,
            "overflow": null,
            "overflow_x": null,
            "overflow_y": null,
            "padding": null,
            "right": null,
            "top": null,
            "visibility": null,
            "width": null
          }
        },
        "7e253225e48a4c62beace14bbb60122a": {
          "model_module": "@jupyter-widgets/controls",
          "model_name": "DescriptionStyleModel",
          "model_module_version": "1.5.0",
          "state": {
            "_model_module": "@jupyter-widgets/controls",
            "_model_module_version": "1.5.0",
            "_model_name": "DescriptionStyleModel",
            "_view_count": null,
            "_view_module": "@jupyter-widgets/base",
            "_view_module_version": "1.2.0",
            "_view_name": "StyleView",
            "description_width": ""
          }
        },
        "e7858710a48d46a584cf59c281c72a11": {
          "model_module": "@jupyter-widgets/controls",
          "model_name": "HBoxModel",
          "model_module_version": "1.5.0",
          "state": {
            "_dom_classes": [],
            "_model_module": "@jupyter-widgets/controls",
            "_model_module_version": "1.5.0",
            "_model_name": "HBoxModel",
            "_view_count": null,
            "_view_module": "@jupyter-widgets/controls",
            "_view_module_version": "1.5.0",
            "_view_name": "HBoxView",
            "box_style": "",
            "children": [
              "IPY_MODEL_42729bdffc504a43a0fc5dc95adb16dd",
              "IPY_MODEL_36782483452f4ddda8dca5f2242102f5",
              "IPY_MODEL_9a3ab8736ec3482c9f815007b5665cf5"
            ],
            "layout": "IPY_MODEL_50d4a7fb96084b9c92e6004c9ce63a10"
          }
        },
        "42729bdffc504a43a0fc5dc95adb16dd": {
          "model_module": "@jupyter-widgets/controls",
          "model_name": "HTMLModel",
          "model_module_version": "1.5.0",
          "state": {
            "_dom_classes": [],
            "_model_module": "@jupyter-widgets/controls",
            "_model_module_version": "1.5.0",
            "_model_name": "HTMLModel",
            "_view_count": null,
            "_view_module": "@jupyter-widgets/controls",
            "_view_module_version": "1.5.0",
            "_view_name": "HTMLView",
            "description": "",
            "description_tooltip": null,
            "layout": "IPY_MODEL_5ef01f227a874873a597168e2a6c228f",
            "placeholder": "​",
            "style": "IPY_MODEL_70a4a9998f4a4954b9ad7efff2e13cb6",
            "value": "100%"
          }
        },
        "36782483452f4ddda8dca5f2242102f5": {
          "model_module": "@jupyter-widgets/controls",
          "model_name": "FloatProgressModel",
          "model_module_version": "1.5.0",
          "state": {
            "_dom_classes": [],
            "_model_module": "@jupyter-widgets/controls",
            "_model_module_version": "1.5.0",
            "_model_name": "FloatProgressModel",
            "_view_count": null,
            "_view_module": "@jupyter-widgets/controls",
            "_view_module_version": "1.5.0",
            "_view_name": "ProgressView",
            "bar_style": "success",
            "description": "",
            "description_tooltip": null,
            "layout": "IPY_MODEL_1e07bc4639ab4e17ba7f94e9b1df8876",
            "max": 5148,
            "min": 0,
            "orientation": "horizontal",
            "style": "IPY_MODEL_db68d522b7e145259865fab8d570514a",
            "value": 5148
          }
        },
        "9a3ab8736ec3482c9f815007b5665cf5": {
          "model_module": "@jupyter-widgets/controls",
          "model_name": "HTMLModel",
          "model_module_version": "1.5.0",
          "state": {
            "_dom_classes": [],
            "_model_module": "@jupyter-widgets/controls",
            "_model_module_version": "1.5.0",
            "_model_name": "HTMLModel",
            "_view_count": null,
            "_view_module": "@jupyter-widgets/controls",
            "_view_module_version": "1.5.0",
            "_view_name": "HTMLView",
            "description": "",
            "description_tooltip": null,
            "layout": "IPY_MODEL_61f85705bc0e4fe8bfdef36642e411ac",
            "placeholder": "​",
            "style": "IPY_MODEL_ba30a297678a42cdbe8574f07617a187",
            "value": " 5148/5148 [00:00&lt;00:00, 176632.61it/s]"
          }
        },
        "50d4a7fb96084b9c92e6004c9ce63a10": {
          "model_module": "@jupyter-widgets/base",
          "model_name": "LayoutModel",
          "model_module_version": "1.2.0",
          "state": {
            "_model_module": "@jupyter-widgets/base",
            "_model_module_version": "1.2.0",
            "_model_name": "LayoutModel",
            "_view_count": null,
            "_view_module": "@jupyter-widgets/base",
            "_view_module_version": "1.2.0",
            "_view_name": "LayoutView",
            "align_content": null,
            "align_items": null,
            "align_self": null,
            "border": null,
            "bottom": null,
            "display": null,
            "flex": null,
            "flex_flow": null,
            "grid_area": null,
            "grid_auto_columns": null,
            "grid_auto_flow": null,
            "grid_auto_rows": null,
            "grid_column": null,
            "grid_gap": null,
            "grid_row": null,
            "grid_template_areas": null,
            "grid_template_columns": null,
            "grid_template_rows": null,
            "height": null,
            "justify_content": null,
            "justify_items": null,
            "left": null,
            "margin": null,
            "max_height": null,
            "max_width": null,
            "min_height": null,
            "min_width": null,
            "object_fit": null,
            "object_position": null,
            "order": null,
            "overflow": null,
            "overflow_x": null,
            "overflow_y": null,
            "padding": null,
            "right": null,
            "top": null,
            "visibility": null,
            "width": null
          }
        },
        "5ef01f227a874873a597168e2a6c228f": {
          "model_module": "@jupyter-widgets/base",
          "model_name": "LayoutModel",
          "model_module_version": "1.2.0",
          "state": {
            "_model_module": "@jupyter-widgets/base",
            "_model_module_version": "1.2.0",
            "_model_name": "LayoutModel",
            "_view_count": null,
            "_view_module": "@jupyter-widgets/base",
            "_view_module_version": "1.2.0",
            "_view_name": "LayoutView",
            "align_content": null,
            "align_items": null,
            "align_self": null,
            "border": null,
            "bottom": null,
            "display": null,
            "flex": null,
            "flex_flow": null,
            "grid_area": null,
            "grid_auto_columns": null,
            "grid_auto_flow": null,
            "grid_auto_rows": null,
            "grid_column": null,
            "grid_gap": null,
            "grid_row": null,
            "grid_template_areas": null,
            "grid_template_columns": null,
            "grid_template_rows": null,
            "height": null,
            "justify_content": null,
            "justify_items": null,
            "left": null,
            "margin": null,
            "max_height": null,
            "max_width": null,
            "min_height": null,
            "min_width": null,
            "object_fit": null,
            "object_position": null,
            "order": null,
            "overflow": null,
            "overflow_x": null,
            "overflow_y": null,
            "padding": null,
            "right": null,
            "top": null,
            "visibility": null,
            "width": null
          }
        },
        "70a4a9998f4a4954b9ad7efff2e13cb6": {
          "model_module": "@jupyter-widgets/controls",
          "model_name": "DescriptionStyleModel",
          "model_module_version": "1.5.0",
          "state": {
            "_model_module": "@jupyter-widgets/controls",
            "_model_module_version": "1.5.0",
            "_model_name": "DescriptionStyleModel",
            "_view_count": null,
            "_view_module": "@jupyter-widgets/base",
            "_view_module_version": "1.2.0",
            "_view_name": "StyleView",
            "description_width": ""
          }
        },
        "1e07bc4639ab4e17ba7f94e9b1df8876": {
          "model_module": "@jupyter-widgets/base",
          "model_name": "LayoutModel",
          "model_module_version": "1.2.0",
          "state": {
            "_model_module": "@jupyter-widgets/base",
            "_model_module_version": "1.2.0",
            "_model_name": "LayoutModel",
            "_view_count": null,
            "_view_module": "@jupyter-widgets/base",
            "_view_module_version": "1.2.0",
            "_view_name": "LayoutView",
            "align_content": null,
            "align_items": null,
            "align_self": null,
            "border": null,
            "bottom": null,
            "display": null,
            "flex": null,
            "flex_flow": null,
            "grid_area": null,
            "grid_auto_columns": null,
            "grid_auto_flow": null,
            "grid_auto_rows": null,
            "grid_column": null,
            "grid_gap": null,
            "grid_row": null,
            "grid_template_areas": null,
            "grid_template_columns": null,
            "grid_template_rows": null,
            "height": null,
            "justify_content": null,
            "justify_items": null,
            "left": null,
            "margin": null,
            "max_height": null,
            "max_width": null,
            "min_height": null,
            "min_width": null,
            "object_fit": null,
            "object_position": null,
            "order": null,
            "overflow": null,
            "overflow_x": null,
            "overflow_y": null,
            "padding": null,
            "right": null,
            "top": null,
            "visibility": null,
            "width": null
          }
        },
        "db68d522b7e145259865fab8d570514a": {
          "model_module": "@jupyter-widgets/controls",
          "model_name": "ProgressStyleModel",
          "model_module_version": "1.5.0",
          "state": {
            "_model_module": "@jupyter-widgets/controls",
            "_model_module_version": "1.5.0",
            "_model_name": "ProgressStyleModel",
            "_view_count": null,
            "_view_module": "@jupyter-widgets/base",
            "_view_module_version": "1.2.0",
            "_view_name": "StyleView",
            "bar_color": null,
            "description_width": ""
          }
        },
        "61f85705bc0e4fe8bfdef36642e411ac": {
          "model_module": "@jupyter-widgets/base",
          "model_name": "LayoutModel",
          "model_module_version": "1.2.0",
          "state": {
            "_model_module": "@jupyter-widgets/base",
            "_model_module_version": "1.2.0",
            "_model_name": "LayoutModel",
            "_view_count": null,
            "_view_module": "@jupyter-widgets/base",
            "_view_module_version": "1.2.0",
            "_view_name": "LayoutView",
            "align_content": null,
            "align_items": null,
            "align_self": null,
            "border": null,
            "bottom": null,
            "display": null,
            "flex": null,
            "flex_flow": null,
            "grid_area": null,
            "grid_auto_columns": null,
            "grid_auto_flow": null,
            "grid_auto_rows": null,
            "grid_column": null,
            "grid_gap": null,
            "grid_row": null,
            "grid_template_areas": null,
            "grid_template_columns": null,
            "grid_template_rows": null,
            "height": null,
            "justify_content": null,
            "justify_items": null,
            "left": null,
            "margin": null,
            "max_height": null,
            "max_width": null,
            "min_height": null,
            "min_width": null,
            "object_fit": null,
            "object_position": null,
            "order": null,
            "overflow": null,
            "overflow_x": null,
            "overflow_y": null,
            "padding": null,
            "right": null,
            "top": null,
            "visibility": null,
            "width": null
          }
        },
        "ba30a297678a42cdbe8574f07617a187": {
          "model_module": "@jupyter-widgets/controls",
          "model_name": "DescriptionStyleModel",
          "model_module_version": "1.5.0",
          "state": {
            "_model_module": "@jupyter-widgets/controls",
            "_model_module_version": "1.5.0",
            "_model_name": "DescriptionStyleModel",
            "_view_count": null,
            "_view_module": "@jupyter-widgets/base",
            "_view_module_version": "1.2.0",
            "_view_name": "StyleView",
            "description_width": ""
          }
        }
      }
    }
  },
  "cells": [
    {
      "cell_type": "code",
      "source": [
        "!pip install optuna"
      ],
      "metadata": {
        "colab": {
          "base_uri": "https://localhost:8080/"
        },
        "id": "cdzXrycWecFW",
        "outputId": "d7fd3dde-0653-4bdd-d954-b5a3d70b3fcc"
      },
      "execution_count": null,
      "outputs": [
        {
          "output_type": "stream",
          "name": "stdout",
          "text": [
            "Looking in indexes: https://pypi.org/simple, https://us-python.pkg.dev/colab-wheels/public/simple/\n",
            "Collecting optuna\n",
            "  Downloading optuna-3.0.0-py3-none-any.whl (348 kB)\n",
            "\u001b[K     |████████████████████████████████| 348 kB 27.2 MB/s \n",
            "\u001b[?25hRequirement already satisfied: scipy<1.9.0,>=1.7.0 in /usr/local/lib/python3.7/dist-packages (from optuna) (1.7.3)\n",
            "Collecting colorlog\n",
            "  Downloading colorlog-6.7.0-py2.py3-none-any.whl (11 kB)\n",
            "Collecting cmaes>=0.8.2\n",
            "  Downloading cmaes-0.8.2-py3-none-any.whl (15 kB)\n",
            "Requirement already satisfied: packaging>=20.0 in /usr/local/lib/python3.7/dist-packages (from optuna) (21.3)\n",
            "Requirement already satisfied: numpy in /usr/local/lib/python3.7/dist-packages (from optuna) (1.21.6)\n",
            "Requirement already satisfied: sqlalchemy>=1.1.0 in /usr/local/lib/python3.7/dist-packages (from optuna) (1.4.40)\n",
            "Collecting alembic\n",
            "  Downloading alembic-1.8.1-py3-none-any.whl (209 kB)\n",
            "\u001b[K     |████████████████████████████████| 209 kB 47.9 MB/s \n",
            "\u001b[?25hCollecting cliff\n",
            "  Downloading cliff-3.10.1-py3-none-any.whl (81 kB)\n",
            "\u001b[K     |████████████████████████████████| 81 kB 10.4 MB/s \n",
            "\u001b[?25hRequirement already satisfied: tqdm in /usr/local/lib/python3.7/dist-packages (from optuna) (4.64.0)\n",
            "Requirement already satisfied: typing-extensions>=3.10.0.0 in /usr/local/lib/python3.7/dist-packages (from optuna) (4.1.1)\n",
            "Requirement already satisfied: PyYAML in /usr/local/lib/python3.7/dist-packages (from optuna) (6.0)\n",
            "Requirement already satisfied: pyparsing!=3.0.5,>=2.0.2 in /usr/local/lib/python3.7/dist-packages (from packaging>=20.0->optuna) (3.0.9)\n",
            "Requirement already satisfied: greenlet!=0.4.17 in /usr/local/lib/python3.7/dist-packages (from sqlalchemy>=1.1.0->optuna) (1.1.3)\n",
            "Requirement already satisfied: importlib-metadata in /usr/local/lib/python3.7/dist-packages (from sqlalchemy>=1.1.0->optuna) (4.12.0)\n",
            "Requirement already satisfied: importlib-resources in /usr/local/lib/python3.7/dist-packages (from alembic->optuna) (5.9.0)\n",
            "Collecting Mako\n",
            "  Downloading Mako-1.2.2-py3-none-any.whl (78 kB)\n",
            "\u001b[K     |████████████████████████████████| 78 kB 9.0 MB/s \n",
            "\u001b[?25hCollecting pbr!=2.1.0,>=2.0.0\n",
            "  Downloading pbr-5.10.0-py2.py3-none-any.whl (112 kB)\n",
            "\u001b[K     |████████████████████████████████| 112 kB 59.3 MB/s \n",
            "\u001b[?25hCollecting cmd2>=1.0.0\n",
            "  Downloading cmd2-2.4.2-py3-none-any.whl (147 kB)\n",
            "\u001b[K     |████████████████████████████████| 147 kB 70.3 MB/s \n",
            "\u001b[?25hCollecting autopage>=0.4.0\n",
            "  Downloading autopage-0.5.1-py3-none-any.whl (29 kB)\n",
            "Requirement already satisfied: PrettyTable>=0.7.2 in /usr/local/lib/python3.7/dist-packages (from cliff->optuna) (3.4.0)\n",
            "Collecting stevedore>=2.0.1\n",
            "  Downloading stevedore-3.5.0-py3-none-any.whl (49 kB)\n",
            "\u001b[K     |████████████████████████████████| 49 kB 8.0 MB/s \n",
            "\u001b[?25hRequirement already satisfied: attrs>=16.3.0 in /usr/local/lib/python3.7/dist-packages (from cmd2>=1.0.0->cliff->optuna) (22.1.0)\n",
            "Requirement already satisfied: wcwidth>=0.1.7 in /usr/local/lib/python3.7/dist-packages (from cmd2>=1.0.0->cliff->optuna) (0.2.5)\n",
            "Collecting pyperclip>=1.6\n",
            "  Downloading pyperclip-1.8.2.tar.gz (20 kB)\n",
            "Requirement already satisfied: zipp>=0.5 in /usr/local/lib/python3.7/dist-packages (from importlib-metadata->sqlalchemy>=1.1.0->optuna) (3.8.1)\n",
            "Requirement already satisfied: MarkupSafe>=0.9.2 in /usr/local/lib/python3.7/dist-packages (from Mako->alembic->optuna) (2.0.1)\n",
            "Building wheels for collected packages: pyperclip\n",
            "  Building wheel for pyperclip (setup.py) ... \u001b[?25l\u001b[?25hdone\n",
            "  Created wheel for pyperclip: filename=pyperclip-1.8.2-py3-none-any.whl size=11137 sha256=15c6ea7e3dae1fd98c0d8d71c5c5bb85e749346aa29ccfc9ceebb0486dd7e09a\n",
            "  Stored in directory: /root/.cache/pip/wheels/9f/18/84/8f69f8b08169c7bae2dde6bd7daf0c19fca8c8e500ee620a28\n",
            "Successfully built pyperclip\n",
            "Installing collected packages: pyperclip, pbr, stevedore, Mako, cmd2, autopage, colorlog, cmaes, cliff, alembic, optuna\n",
            "Successfully installed Mako-1.2.2 alembic-1.8.1 autopage-0.5.1 cliff-3.10.1 cmaes-0.8.2 cmd2-2.4.2 colorlog-6.7.0 optuna-3.0.0 pbr-5.10.0 pyperclip-1.8.2 stevedore-3.5.0\n"
          ]
        }
      ]
    },
    {
      "cell_type": "code",
      "execution_count": null,
      "metadata": {
        "id": "BvOGbaJK21HF"
      },
      "outputs": [],
      "source": [
        "import optuna\n",
        "import torch\n",
        "import torchvision\n",
        "import matplotlib.pyplot as plt\n",
        "import numpy as np\n",
        "\n",
        "from torchvision import transforms\n",
        "from torch.utils.data import Dataset , DataLoader \n",
        "\n",
        "from torch import nn\n",
        "from torch.utils.data import DataLoader\n",
        "from torchvision import datasets, transforms, models\n",
        "from torchvision.transforms import ToTensor, Lambda, Compose\n",
        "from torch import optim\n",
        "\n",
        "from torch.utils.data.sampler import SubsetRandomSampler\n",
        "# from pytorchtools import EarlyStopping\n",
        "\n",
        "from tqdm import tqdm\n",
        "\n",
        "\n",
        "torch.manual_seed (20)\n",
        "np.random.seed(20)"
      ]
    },
    {
      "cell_type": "code",
      "source": [
        "torch.manual_seed (20)\n",
        "np.random.seed(20)\n",
        "\n",
        "\n",
        "\n",
        "def dataset():\n",
        "  transform = transforms.ToTensor()\n",
        "  train_data = torchvision.datasets.FashionMNIST('classifier_data', train=True, download=True, transform=transform)\n",
        "  test_data  = torchvision.datasets.FashionMNIST('classifier_data', train=False, download=True, transform=transform)\n",
        "\n",
        "  valid_size = 0.2\n",
        "  batch_size = 256\n",
        "\n",
        "  train = len(train_data)\n",
        "  ind = list(range(train))\n",
        "  \n",
        "  np.random.shuffle(ind)\n",
        "  split = int(np.floor(valid_size * train))\n",
        "  train_idx, valid_idx = ind[split:], ind[:split]\n",
        "\n",
        "  train_sampler = SubsetRandomSampler (train_idx)\n",
        "  valid_sampler = SubsetRandomSampler(valid_idx) \n",
        "\n",
        "\n",
        "\n",
        "\n",
        "  train_loader = DataLoader(train_data, sampler = train_sampler,batch_size = batch_size)\n",
        "  valid_loader = DataLoader(train_data, sampler = valid_sampler ,batch_size = batch_size)\n",
        "\n",
        "  test_loader = DataLoader(test_data, shuffle = False , batch_size = len(test_data))\n",
        "  x_train , y_train = train_data.data, train_data.targets\n",
        "  print('Shape of Training Data')\n",
        "  print(x_train.shape , y_train.shape , sep='\\n')\n",
        "\n",
        "  \n",
        "  print(f'\\n Number of Training Samples : {len(train_idx)}')\n",
        "  print(f' Number of Validation Samples : {len(valid_idx)}')\n",
        "\n",
        "  print(f'Test Sample : {len(test_data)}')\n",
        "\n",
        "\n",
        "\n",
        "\n",
        "# train_data = torchvision.datasets.FashionMNIST(root='./data', train=True ,download=True, transform = transforms.ToTensor())\n",
        "# test_data = torchvision.datasets.FashionMNIST(root='./data', train=False ,download=True, transform = transforms.ToTensor())\n",
        "# trainloader = torch.utils.data.DataLoader(train_data, batch_size=100, shuffle=True)\n",
        "# testloader = torch.utils.data.DataLoader(test_data, batch_size=100, shuffle=False)\n",
        "\n",
        "\n",
        "\n",
        "  return train_loader, valid_loader, test_loader , x_train , y_train\n",
        "\n",
        "train_loader, valid_loader, test_loader , x_train , y_train = dataset()"
      ],
      "metadata": {
        "id": "eUn0CD6v3Cva",
        "colab": {
          "base_uri": "https://localhost:8080/",
          "height": 564,
          "referenced_widgets": [
            "8e315e20f85b48669b5f255722610143",
            "4fdc3683bb2b4c29bf07cb98c4ddf006",
            "3f1ae166f4114dbea4d21dd2678fcc44",
            "204bcb4106cc45688a89a17c564e1fcf",
            "98172890ecf74fc483e528ff32ced481",
            "36b5ff70f7504c2a8530dd6d1e5865fd",
            "80b24b70ebb14ee6b2a8f58fd7ec5d6d",
            "9bb52da2b85b4e9780826fca463be2a7",
            "5fefc80ad8ea4a859ca09135dfe368c6",
            "de3e4167e149459aa4f34bcfc51589dc",
            "d1af9a971e8549afa7a94d553056f387",
            "e0344abc7faf4e128757b047a4480eae",
            "b3d0cf2f41e7454b92f34a50d7434843",
            "87a84482ce62409fa8a8aae612bc446a",
            "a152b9ccc7334dd0b8f9154b28ca8174",
            "42c79ec2a50a42808c13ad68c7f1e3c3",
            "c763d44cad4349a68a0aee6c01df6c96",
            "63bfcfeb9cad45ae8b60d79fc497a91b",
            "d7907c3f5c5c4a88b342d055b37815b9",
            "69d6c029bc024373ad0d2878b1a2660b",
            "9bdf8964956d43c0b599332514e85c5c",
            "75e2c02a757b4e109957a9f5a2ee8457",
            "a05dc3b1341247339d7ca25cc9efd484",
            "2b5358f662744e1eaa59ccb4385f63b3",
            "3310729e910c4937818fde7bdd83af6b",
            "e1ba6cc0261e4185b7e6347e35f5f861",
            "f80d32a53999448d8c289f908d05e566",
            "8e04a3655a73495da605247c1b5f4273",
            "e44667149dd04c49b37bd4f12cf37794",
            "ebbaea97c3b44f288cf44c51433bc3fe",
            "5baaff10b613486da11d7e77a9d7e2c2",
            "04eea468332d475692b417d5b153fc5e",
            "7e253225e48a4c62beace14bbb60122a",
            "e7858710a48d46a584cf59c281c72a11",
            "42729bdffc504a43a0fc5dc95adb16dd",
            "36782483452f4ddda8dca5f2242102f5",
            "9a3ab8736ec3482c9f815007b5665cf5",
            "50d4a7fb96084b9c92e6004c9ce63a10",
            "5ef01f227a874873a597168e2a6c228f",
            "70a4a9998f4a4954b9ad7efff2e13cb6",
            "1e07bc4639ab4e17ba7f94e9b1df8876",
            "db68d522b7e145259865fab8d570514a",
            "61f85705bc0e4fe8bfdef36642e411ac",
            "ba30a297678a42cdbe8574f07617a187"
          ]
        },
        "outputId": "51e167cd-3536-42bf-97d9-fd6a6f38ced8"
      },
      "execution_count": null,
      "outputs": [
        {
          "output_type": "stream",
          "name": "stdout",
          "text": [
            "Downloading http://fashion-mnist.s3-website.eu-central-1.amazonaws.com/train-images-idx3-ubyte.gz\n",
            "Downloading http://fashion-mnist.s3-website.eu-central-1.amazonaws.com/train-images-idx3-ubyte.gz to classifier_data/FashionMNIST/raw/train-images-idx3-ubyte.gz\n"
          ]
        },
        {
          "output_type": "display_data",
          "data": {
            "text/plain": [
              "  0%|          | 0/26421880 [00:00<?, ?it/s]"
            ],
            "application/vnd.jupyter.widget-view+json": {
              "version_major": 2,
              "version_minor": 0,
              "model_id": "8e315e20f85b48669b5f255722610143"
            }
          },
          "metadata": {}
        },
        {
          "output_type": "stream",
          "name": "stdout",
          "text": [
            "Extracting classifier_data/FashionMNIST/raw/train-images-idx3-ubyte.gz to classifier_data/FashionMNIST/raw\n",
            "\n",
            "Downloading http://fashion-mnist.s3-website.eu-central-1.amazonaws.com/train-labels-idx1-ubyte.gz\n",
            "Downloading http://fashion-mnist.s3-website.eu-central-1.amazonaws.com/train-labels-idx1-ubyte.gz to classifier_data/FashionMNIST/raw/train-labels-idx1-ubyte.gz\n"
          ]
        },
        {
          "output_type": "display_data",
          "data": {
            "text/plain": [
              "  0%|          | 0/29515 [00:00<?, ?it/s]"
            ],
            "application/vnd.jupyter.widget-view+json": {
              "version_major": 2,
              "version_minor": 0,
              "model_id": "e0344abc7faf4e128757b047a4480eae"
            }
          },
          "metadata": {}
        },
        {
          "output_type": "stream",
          "name": "stdout",
          "text": [
            "Extracting classifier_data/FashionMNIST/raw/train-labels-idx1-ubyte.gz to classifier_data/FashionMNIST/raw\n",
            "\n",
            "Downloading http://fashion-mnist.s3-website.eu-central-1.amazonaws.com/t10k-images-idx3-ubyte.gz\n",
            "Downloading http://fashion-mnist.s3-website.eu-central-1.amazonaws.com/t10k-images-idx3-ubyte.gz to classifier_data/FashionMNIST/raw/t10k-images-idx3-ubyte.gz\n"
          ]
        },
        {
          "output_type": "display_data",
          "data": {
            "text/plain": [
              "  0%|          | 0/4422102 [00:00<?, ?it/s]"
            ],
            "application/vnd.jupyter.widget-view+json": {
              "version_major": 2,
              "version_minor": 0,
              "model_id": "a05dc3b1341247339d7ca25cc9efd484"
            }
          },
          "metadata": {}
        },
        {
          "output_type": "stream",
          "name": "stdout",
          "text": [
            "Extracting classifier_data/FashionMNIST/raw/t10k-images-idx3-ubyte.gz to classifier_data/FashionMNIST/raw\n",
            "\n",
            "Downloading http://fashion-mnist.s3-website.eu-central-1.amazonaws.com/t10k-labels-idx1-ubyte.gz\n",
            "Downloading http://fashion-mnist.s3-website.eu-central-1.amazonaws.com/t10k-labels-idx1-ubyte.gz to classifier_data/FashionMNIST/raw/t10k-labels-idx1-ubyte.gz\n"
          ]
        },
        {
          "output_type": "display_data",
          "data": {
            "text/plain": [
              "  0%|          | 0/5148 [00:00<?, ?it/s]"
            ],
            "application/vnd.jupyter.widget-view+json": {
              "version_major": 2,
              "version_minor": 0,
              "model_id": "e7858710a48d46a584cf59c281c72a11"
            }
          },
          "metadata": {}
        },
        {
          "output_type": "stream",
          "name": "stdout",
          "text": [
            "Extracting classifier_data/FashionMNIST/raw/t10k-labels-idx1-ubyte.gz to classifier_data/FashionMNIST/raw\n",
            "\n",
            "Shape of Training Data\n",
            "torch.Size([60000, 28, 28])\n",
            "torch.Size([60000])\n",
            "\n",
            " Number of Training Samples : 48000\n",
            " Number of Validation Samples : 12000\n",
            "Test Sample : 10000\n"
          ]
        }
      ]
    },
    {
      "cell_type": "code",
      "source": [
        "device = torch.device('cuda' if torch.cuda.is_available() else 'cpu')\n",
        "print(f'Available device is : {device}')"
      ],
      "metadata": {
        "colab": {
          "base_uri": "https://localhost:8080/"
        },
        "id": "KgUbcG3Orvxo",
        "outputId": "6041808f-2fde-4cd9-83e4-530a580f0886"
      },
      "execution_count": null,
      "outputs": [
        {
          "output_type": "stream",
          "name": "stdout",
          "text": [
            "Available device is : cuda\n"
          ]
        }
      ]
    },
    {
      "cell_type": "code",
      "source": [
        "sample_index = 1\n",
        "image = x_train[sample_index]\n",
        "label = y_train[sample_index]\n",
        "\n",
        "fig = plt.figure(figsize=(6,6))\n",
        "plt.imshow(image, cmap='Greys')\n",
        "print(f\"SAMPLE AT INDEX {sample_index}\")\n",
        "print(f\"LABEL: {label}\")"
      ],
      "metadata": {
        "colab": {
          "base_uri": "https://localhost:8080/",
          "height": 409
        },
        "id": "of5CbsZP3C0w",
        "outputId": "8271346d-fa1a-494b-c011-5f75c77545f9"
      },
      "execution_count": null,
      "outputs": [
        {
          "output_type": "stream",
          "name": "stdout",
          "text": [
            "SAMPLE AT INDEX 1\n",
            "LABEL: 0\n"
          ]
        },
        {
          "output_type": "display_data",
          "data": {
            "text/plain": [
              "<Figure size 432x432 with 1 Axes>"
            ],
            "image/png": "[encoded data removed]"
          },
          "metadata": {
            "needs_background": "light"
          }
        }
      ]
    },
    {
      "cell_type": "code",
      "source": [
        "image_numpy = np.array(image)\n",
        "\n",
        "print(f'Numpy array shape: {image_numpy.shape}')\n",
        "print(f'Numpy array type: {image_numpy.dtype}')"
      ],
      "metadata": {
        "colab": {
          "base_uri": "https://localhost:8080/"
        },
        "id": "mu3gLijE3C6C",
        "outputId": "6daef3ea-3881-4227-c966-11b969bc5fb9"
      },
      "execution_count": null,
      "outputs": [
        {
          "output_type": "stream",
          "name": "stdout",
          "text": [
            "Numpy array shape: (28, 28)\n",
            "Numpy array type: uint8\n"
          ]
        }
      ]
    },
    {
      "cell_type": "code",
      "source": [
        "images , label  = next(iter(train_loader))\n",
        "fig  = plt.figure(figsize=(6,6))\n",
        "for i in range(6):\n",
        "  plt.subplot(2,3,i+1)\n",
        "  plt.imshow(images[i][0])\n",
        "\n",
        "plt.show()\n"
      ],
      "metadata": {
        "colab": {
          "base_uri": "https://localhost:8080/",
          "height": 327
        },
        "id": "eoAEz6yI45-c",
        "outputId": "451b8cc3-1731-431f-9280-518721a15a6d"
      },
      "execution_count": null,
      "outputs": [
        {
          "output_type": "display_data",
          "data": {
            "text/plain": [
              "<Figure size 432x432 with 6 Axes>"
            ],
            "image/png": "[encoded data removed]"
          },
          "metadata": {
            "needs_background": "light"
          }
        }
      ]
    },
    {
      "cell_type": "code",
      "source": [
        "import torch.nn as nn\n",
        "import torch.nn.functional as F\n",
        "\n",
        "class Classifier(nn.Module):\n",
        "\n",
        "\n",
        "  def __init__(self, num_classes=10, dropout= 0 ):\n",
        "      super(Classifier, self).__init__()\n",
        "      self.layer1 = nn.Sequential(\n",
        "          nn.Conv2d(1, 16, kernel_size=5, stride=1, padding=2),\n",
        "          nn.BatchNorm2d(16),\n",
        "          nn.ReLU(),\n",
        "          nn.MaxPool2d(kernel_size=2, stride=2))\n",
        "      self.layer2 = nn.Sequential(\n",
        "          nn.Conv2d(16, 32, kernel_size=5, stride=1, padding=2),\n",
        "          nn.BatchNorm2d(32),\n",
        "          nn.ReLU(),\n",
        "          nn.MaxPool2d(kernel_size=2, stride=2))\n",
        "      self.fc = nn.Linear(7 * 7 * 32, num_classes)\n",
        "      self.dropout = nn.Dropout(dropout)\n",
        "\n",
        "  def forward(self, x):\n",
        "      x = self.layer1(x)\n",
        "      x = self.dropout(x)\n",
        "\n",
        "      x = self.layer2(x)\n",
        "      x = self.dropout(x)\n",
        "\n",
        "      x = x.reshape(x.size(0), -1)\n",
        "      x = self.fc(x)\n",
        "      return x\n",
        "\n",
        "\n",
        "# model = Classifier(10).to(device)\n",
        "# print(model)\n",
        "\n",
        "  def train_step(self, train_loader, criterion, optimizer):\n",
        "    train_loss = []\n",
        "    self.train()   \n",
        "    \n",
        "    for i, (image,label) in enumerate(train_loader):\n",
        "        \n",
        "        image = image.to(device)       \n",
        "        labels = label.to(device)       \n",
        "        \n",
        "        predict = self.forward(image)      \n",
        "        tr_loss = criterion(predict, labels) \n",
        "    \n",
        "        self.zero_grad()                      \n",
        "        tr_loss.backward()\n",
        "        \n",
        "        optimizer.step()                     \n",
        "            \n",
        "        ba_loss = tr_loss.detach().cpu().numpy()\n",
        "        train_loss.append(ba_loss)            \n",
        "\n",
        "    return train_loss\n",
        "    \n",
        "\n",
        "    \n",
        "\n",
        "  def valid_step(self, valid_loader, criterion):\n",
        "    val_loss = [] \n",
        "    self.eval()  \n",
        "    \n",
        "    with torch.no_grad():                         \n",
        "        for s_batch in valid_loader:\n",
        "            \n",
        "            x_batch = s_batch[0].to(device)       \n",
        "            label_b = s_batch[1].to(device)      \n",
        "            for_out = self.forward(x_batch)      \n",
        "            va_loss = criterion(for_out, label_b)\n",
        "\n",
        "            ba_loss = va_loss.detach().cpu().numpy()\n",
        "            val_loss.append(ba_loss)          \n",
        "    \n",
        "    return val_loss\n",
        "\n",
        "\n",
        "  def train_fit(self, train_loader, valid_loader , criterion, device, epochs, params, optuna_st = False , early_stop = False) :\n",
        "    val_loss_log = []\n",
        "    train_loss_log = []\n",
        "\n",
        "    if optuna_st == True:\n",
        "      if params['optimizer']=='adam':\n",
        "\n",
        "        optimizer = optim.Adam(model.parameters(), lr=params['learning_rate'], \n",
        "                        weight_decay=params['reg_param'])\n",
        "        \n",
        "      elif params['optimizer']=='sgd':\n",
        "        optimizer = optim.SGD(model.parameters(), lr=params['learning_rate'], \n",
        "                      momentum=params['momentum'], weight_decay=params['reg_param'])\n",
        "        \n",
        "      elif  params['optimizer']=='RMSprop':\n",
        "        optimizer = optim.RMSprop(model.parameters(), lr=params['learning_rate'], \n",
        "                      momentum=params['momentum'], weight_decay=params['reg_param'])\n",
        "    else :\n",
        "      # optimizer = optim.SGD(model.parameters(), lr=params['learning_rate'], \n",
        "      #                 momentum=params['momentum'], weight_decay=params['reg_param'])\n",
        "      optimizer = torch.optim.Adam(model.parameters(), lr=params['learning_rate'], \n",
        "                             weight_decay= params ['reg_param'])\n",
        "\n",
        "    for i in tqdm(range(epochs)):\n",
        "      train_loss =  self.train_step(train_loader, criterion, optimizer)\n",
        "      train_loss = np.mean(train_loss)\n",
        "      train_loss_log.append(train_loss)\n",
        "\n",
        "      valid_loss = self.valid_step( valid_loader, criterion)\n",
        "      valid_loss = np.mean(valid_loss)\n",
        "      val_loss_log.append(valid_loss)\n",
        "\n",
        "      if early_stop :\n",
        "        stop = self.early_stop(val_loss_log, epochs)\n",
        "        if stop: \n",
        "            print('Early stopping at epoch ', i)\n",
        "            params['epochs'] = i\n",
        "            break\n",
        "      \n",
        "    return train_loss_log , val_loss_log\n",
        "\n",
        "\n",
        "  def testing(self, criterion, test_loader):\n",
        "\n",
        "    self.eval()  #set evaluation mode\n",
        "    \n",
        "    corrects  = 0.\n",
        "    totals    = 0.\n",
        "    test_loss = 0.\n",
        "    \n",
        "    with torch.no_grad():\n",
        "        for s_batch in test_loader:\n",
        "            \n",
        "            x_batch = s_batch[0].to(device)      \n",
        "            label_b = s_batch[1].to(device)       #import labels, move to device \n",
        "            \n",
        "            outputs = self.forward(x_batch)\n",
        "            \n",
        "            test_loss += criterion(outputs, label_b).item()\n",
        "            \n",
        "            _, predicted = torch.max(outputs.data, 1)\n",
        "            totals += label_b.size(0)\n",
        "            corrects += (predicted == label_b).sum().item()\n",
        "        \n",
        "        accuracy = (corrects / totals) * 100\n",
        "        avg_test_loss = test_loss / totals\n",
        "        \n",
        "        print(\"Loss on Test Dataset:\",avg_test_loss, \"\\n Accuracy:\",accuracy)\n",
        "           \n",
        "    return avg_test_loss, accuracy\n",
        "\n",
        "  def early_stop(self, val_loss_stop, epochs):\n",
        "        \n",
        "    stop = False\n",
        "\n",
        "    if len(val_loss_stop)>1:\n",
        "        range_loss = min(len(val_loss_stop), 10)\n",
        "        last_loss = val_loss_stop[-1]\n",
        "        mean_loss = np.mean(val_loss_stop[-range_loss:-1])\n",
        "        \n",
        "        if (np.abs(last_loss-mean_loss) < 0.005): \n",
        "            stop = True\n",
        "            \n",
        "    return stop\n",
        "\n",
        "\n",
        "model = Classifier().to(device)"
      ],
      "metadata": {
        "id": "7tHLJkoxLK4E"
      },
      "execution_count": null,
      "outputs": []
    },
    {
      "cell_type": "code",
      "source": [
        "# epochs = 20\n",
        "dropout = 0.2\n",
        "criterion = nn.CrossEntropyLoss()\n",
        "optimizer = torch.optim.Adam(model.parameters(),lr=0.005)\n",
        "\n",
        "\n",
        "params = {\n",
        "      \"epochs\" : 30,\n",
        "      \"optimizer\" : \"adam\",\n",
        "      \"momentum\"      : 0.4,\n",
        "      \"learning_rate\" : 1e-3,\n",
        "      \"reg_param\"     : 0.005,\n",
        "\n",
        "\n",
        "  }"
      ],
      "metadata": {
        "id": "bY3Dny5LtQhs"
      },
      "execution_count": null,
      "outputs": []
    },
    {
      "cell_type": "code",
      "source": [
        "\n",
        "train_loss,valid_loss = model.train_fit(train_loader=train_loader , valid_loader = valid_loader , \n",
        "                                        criterion = criterion,\n",
        "                                        device = device, epochs = params['epochs'], params=params, \n",
        "                                        optuna_st = False , early_stop = True)\n",
        "\n",
        "# train_loss,valid_loss\n",
        "\n",
        "# Plot training results\n",
        "plt.clf()\n",
        "fig, ax = plt.subplots(figsize=(10,6))\n",
        "\n",
        "ax.set_xlabel('# Epoch', fontsize=20)\n",
        "ax.set_ylabel('Valid Loss', fontsize=20)\n",
        "\n",
        "ax.set_title('Train and Validation Loss', fontsize=25)\n",
        "ax.plot(train_loss, label='train')\n",
        "ax.plot(valid_loss, label='test')\n",
        "ax.axvline(x=params['epochs'], linestyle =\"--\", color = 'r', label='Early Stop')\n",
        "ax.legend(loc='best', fontsize=14)\n",
        "\n",
        "plt.savefig('trv.png')\n",
        "plt.show()"
      ],
      "metadata": {
        "colab": {
          "base_uri": "https://localhost:8080/",
          "height": 474
        },
        "id": "fpi73_D9IzB1",
        "outputId": "dead9804-fca4-4da9-8e09-0f1f640cc5de"
      },
      "execution_count": null,
      "outputs": [
        {
          "output_type": "stream",
          "name": "stderr",
          "text": [
            " 40%|████      | 12/30 [01:27<02:11,  7.28s/it]"
          ]
        },
        {
          "output_type": "stream",
          "name": "stdout",
          "text": [
            "Early stopping at epoch  12\n"
          ]
        },
        {
          "output_type": "stream",
          "name": "stderr",
          "text": [
            "\n"
          ]
        },
        {
          "output_type": "display_data",
          "data": {
            "text/plain": [
              "<Figure size 432x288 with 0 Axes>"
            ]
          },
          "metadata": {}
        },
        {
          "output_type": "display_data",
          "data": {
            "text/plain": [
              "<Figure size 720x432 with 1 Axes>"
            ],
            "image/png": "[encoded data removed]"
          },
          "metadata": {
            "needs_background": "light"
          }
        }
      ]
    },
    {
      "cell_type": "code",
      "source": [
        "def weights_dist(model):\n",
        "\n",
        "  # First Convolutional layer\n",
        "  conv1_w = model.layer1[0].weight.data.cpu().numpy()\n",
        "  conv1_b =  model.layer1[0].bias.data.cpu().numpy()\n",
        "\n",
        "  # Second Convolutional layer\n",
        "  conv2_w =  model.layer2[0].weight.data.cpu().numpy()\n",
        "  conv2_b =  model.layer2[0].bias.data.cpu().numpy()\n",
        "\n",
        "  fc_w =  model.fc.weight.data.cpu().numpy()\n",
        "  fc_b =  model.fc.bias.data.cpu().numpy()\n",
        "\n",
        "  print(conv1_w.shape)\n",
        "  print(conv2_w.shape)\n",
        "  # print(fc_w)\n",
        "\n",
        "  fig, axs = plt.subplots(3, 1, figsize=(12,8))\n",
        "  axs[0].hist(conv1_w.flatten(), 50)\n",
        "  axs[0].set_title('First hidden layer weights')\n",
        "  axs[1].hist(conv2_w.flatten(), 50)\n",
        "  axs[1].set_title('Second hidden layer weights')\n",
        "  axs[2].hist(fc_w.flatten(), 50)\n",
        "  axs[2].set_title('Output layer weights')\n",
        "  [ax.grid() for ax in axs]\n",
        "  plt.tight_layout()\n",
        "  plt.savefig('wei.png')\n",
        "\n",
        "  plt.show()\n",
        "\n",
        "\n",
        "  fig, ax = plt.subplots(1,6, figsize=(16, 3))\n",
        "  for i in range(6):\n",
        "    ax[i].imshow( conv1_w[i, 0, :, :], cmap='Greys')\n",
        "    ax[i].set_xticks([])\n",
        "    ax[i].set_yticks([])\n",
        "    \n",
        "  fig.suptitle('Filters of first convolutional layer', fontsize=16)\n",
        "  plt.savefig('fil.png')\n",
        "  plt.show()\n",
        "\n",
        "  return conv1_w\n",
        "\n",
        "conv1_w = weights_dist(model)"
      ],
      "metadata": {
        "id": "vr-BUovp5dPx",
        "outputId": "d7baeeca-6e52-4784-9471-a35db3bc9213",
        "colab": {
          "base_uri": "https://localhost:8080/",
          "height": 804
        }
      },
      "execution_count": null,
      "outputs": [
        {
          "output_type": "stream",
          "name": "stdout",
          "text": [
            "(16, 1, 5, 5)\n",
            "(32, 16, 5, 5)\n"
          ]
        },
        {
          "output_type": "display_data",
          "data": {
            "text/plain": [
              "<Figure size 864x576 with 3 Axes>"
            ],
            "image/png": "[encoded data removed]"
          },
          "metadata": {
            "needs_background": "light"
          }
        },
        {
          "output_type": "display_data",
          "data": {
            "text/plain": [
              "<Figure size 1152x216 with 6 Axes>"
            ],
            "image/png": "[encoded data removed]"
          },
          "metadata": {}
        }
      ]
    },
    {
      "cell_type": "code",
      "source": [
        "def objective(trial):\n",
        "  params = {\n",
        "      \"epochs\" : 30, \n",
        "      \"optimizer\" : trial.suggest_categorical(\"optimizer\", [\"adam\", \"RMSprop\", \"sgd\"]),\n",
        "      \"momentum\"      : trial.suggest_float(\"momentum\", 0.5, 0.7),\n",
        "      \"learning_rate\" : trial.suggest_float(\"learning_rate\", 1e-5, 1e-1, log=True),\n",
        "      \"reg_param\"     : trial.suggest_float(\"reg_param\", 0.0001,0.0005),\n",
        "\n",
        "\n",
        "  }\n",
        "\n",
        "\n",
        "  # optim = torch.optim.Adam(model.parameters(), lr=params['learning_rate'], \n",
        "  #                            weight_decay= params ['reg_param'])\n",
        "\n",
        "  train_loss = model.train_fit(train_loader=train_loader , valid_loader = valid_loader , \n",
        "                               criterion = criterion, \n",
        "                               device = device, epochs = params['epochs'] ,\n",
        "                               params= params,\n",
        "                               optuna_st = True , early_stop = False)\n",
        "  \n",
        "\n",
        "  return np.mean(train_loss)"
      ],
      "metadata": {
        "id": "FQqZpDCDeUl_"
      },
      "execution_count": null,
      "outputs": []
    },
    {
      "cell_type": "code",
      "source": [
        "study = optuna.create_study(direction=\"minimize\")\n",
        "study.optimize(objective, n_trials=5, timeout=600)\n",
        "\n",
        "\n",
        "print(\"Number of finished trials: {}\".format(len(study.trials)))\n",
        "print(\"Best trial:\")\n",
        "trial = study.best_trial\n",
        "\n",
        "print(\"  Valuse of trial: \", trial.value)\n",
        "\n",
        "print(\"  Best Parameter Found: \")\n",
        "for key, value in trial.params.items():\n",
        "    print(\"    {}: {}\".format(key, value))"
      ],
      "metadata": {
        "id": "rdCLVsq1l12Y",
        "outputId": "0ec970ce-9d6d-4b54-fc40-5336093e1311",
        "colab": {
          "base_uri": "https://localhost:8080/"
        }
      },
      "execution_count": null,
      "outputs": [
        {
          "output_type": "stream",
          "name": "stderr",
          "text": [
            "\u001b[32m[I 2022-09-03 20:42:44,817]\u001b[0m A new study created in memory with name: no-name-543c7fbd-2ed4-4b7c-a205-8a7603500776\u001b[0m\n",
            "100%|██████████| 30/30 [02:59<00:00,  5.99s/it]\n",
            "\u001b[32m[I 2022-09-03 20:45:44,584]\u001b[0m Trial 0 finished with value: 14.825803756713867 and parameters: {'optimizer': 'RMSprop', 'momentum': 0.6616688885552573, 'learning_rate': 0.09211528841506257, 'reg_param': 0.000499971978759105}. Best is trial 0 with value: 14.825803756713867.\u001b[0m\n",
            "100%|██████████| 30/30 [03:00<00:00,  6.01s/it]\n",
            "\u001b[32m[I 2022-09-03 20:48:44,749]\u001b[0m Trial 1 finished with value: 0.8688367605209351 and parameters: {'optimizer': 'adam', 'momentum': 0.664601312696094, 'learning_rate': 3.229490085308725e-05, 'reg_param': 0.0003079826236568679}. Best is trial 1 with value: 0.8688367605209351.\u001b[0m\n",
            "100%|██████████| 30/30 [03:00<00:00,  6.00s/it]\n",
            "\u001b[32m[I 2022-09-03 20:51:44,837]\u001b[0m Trial 2 finished with value: 0.6588460206985474 and parameters: {'optimizer': 'adam', 'momentum': 0.5242678787745982, 'learning_rate': 1.316217994978551e-05, 'reg_param': 0.00016565375667600604}. Best is trial 2 with value: 0.6588460206985474.\u001b[0m\n",
            "100%|██████████| 30/30 [02:59<00:00,  5.99s/it]\n",
            "\u001b[32m[I 2022-09-03 20:54:44,661]\u001b[0m Trial 3 finished with value: 0.5056657195091248 and parameters: {'optimizer': 'RMSprop', 'momentum': 0.6748384169831029, 'learning_rate': 2.5982593662383016e-05, 'reg_param': 0.00032662487595234264}. Best is trial 3 with value: 0.5056657195091248.\u001b[0m\n"
          ]
        },
        {
          "output_type": "stream",
          "name": "stdout",
          "text": [
            "Number of finished trials: 4\n",
            "Best trial:\n",
            "  Valuse of trial:  0.5056657195091248\n",
            "  Best Parameter Found: \n",
            "    optimizer: RMSprop\n",
            "    momentum: 0.6748384169831029\n",
            "    learning_rate: 2.5982593662383016e-05\n",
            "    reg_param: 0.00032662487595234264\n"
          ]
        }
      ]
    },
    {
      "cell_type": "code",
      "source": [
        "\n",
        "\n",
        "# for key, value in trial.params.items():\n",
        "#     print(\"    {}: {}\".format(key, value))\n",
        "print(trial.params)\n",
        "best_model = trial.params\n",
        "best_model['momentum']"
      ],
      "metadata": {
        "id": "zUBrX2MsiC3E",
        "outputId": "81d9bb61-409f-4184-a735-d7e229f63e5a",
        "colab": {
          "base_uri": "https://localhost:8080/"
        }
      },
      "execution_count": null,
      "outputs": [
        {
          "output_type": "stream",
          "name": "stdout",
          "text": [
            "{'optimizer': 'RMSprop', 'momentum': 0.6748384169831029, 'learning_rate': 2.5982593662383016e-05, 'reg_param': 0.00032662487595234264}\n"
          ]
        },
        {
          "output_type": "execute_result",
          "data": {
            "text/plain": [
              "0.6748384169831029"
            ]
          },
          "metadata": {},
          "execution_count": 16
        }
      ]
    },
    {
      "cell_type": "code",
      "source": [
        "\n",
        "train_loss,valid_loss = model.train_fit(train_loader=train_loader , valid_loader = valid_loader , \n",
        "                                        criterion = criterion, \n",
        "                                        device = device, epochs = params['epochs'], params=best_model, \n",
        "                                        optuna_st = False ,early_stop = True)\n",
        "\n",
        "\n",
        "\n"
      ],
      "metadata": {
        "id": "hIvPvnuuW-Cp",
        "outputId": "5d254f8d-6888-4827-a50d-e6564a88669d",
        "colab": {
          "base_uri": "https://localhost:8080/"
        }
      },
      "execution_count": null,
      "outputs": [
        {
          "output_type": "stream",
          "name": "stderr",
          "text": [
            "100%|██████████| 12/12 [01:13<00:00,  6.12s/it]\n"
          ]
        }
      ]
    },
    {
      "cell_type": "code",
      "source": [
        "# train_loss,valid_loss\n",
        "\n",
        "# Plot training results\n",
        "plt.clf()\n",
        "fig, ax = plt.subplots(figsize=(10,6))\n",
        "\n",
        "ax.set_xlabel('# Epoch', fontsize=20)\n",
        "ax.set_ylabel('Valid Loss', fontsize=20)\n",
        "\n",
        "ax.set_title('Train and Validation Loss', fontsize=25)\n",
        "ax.plot(train_loss, label='train')\n",
        "ax.plot(valid_loss, label='test')\n",
        "ax.axvline(x=params['epochs'], linestyle =\"--\", color = 'r', label='Early Stop')\n",
        "ax.legend(loc='best', fontsize=14)\n",
        "\n",
        "plt.savefig('best.png')\n",
        "plt.show()"
      ],
      "metadata": {
        "colab": {
          "base_uri": "https://localhost:8080/",
          "height": 439
        },
        "id": "xXdDke9FJAE0",
        "outputId": "3927031c-ccf0-4a19-bf67-9e51378626ea"
      },
      "execution_count": null,
      "outputs": [
        {
          "output_type": "display_data",
          "data": {
            "text/plain": [
              "<Figure size 432x288 with 0 Axes>"
            ]
          },
          "metadata": {}
        },
        {
          "output_type": "display_data",
          "data": {
            "text/plain": [
              "<Figure size 720x432 with 1 Axes>"
            ],
            "image/png": "[encoded data removed]"
          },
          "metadata": {
            "needs_background": "light"
          }
        }
      ]
    },
    {
      "cell_type": "code",
      "source": [
        "model.testing( criterion, test_loader )"
      ],
      "metadata": {
        "id": "IG5PpVSxe1Se",
        "outputId": "167f4de1-774f-44da-8f06-eff7249ff84d",
        "colab": {
          "base_uri": "https://localhost:8080/"
        }
      },
      "execution_count": null,
      "outputs": [
        {
          "output_type": "stream",
          "name": "stdout",
          "text": [
            "Loss on Test Dataset: 2.9877889156341554e-05 \n",
            " Accuracy: 89.39\n"
          ]
        },
        {
          "output_type": "execute_result",
          "data": {
            "text/plain": [
              "(2.9877889156341554e-05, 89.39)"
            ]
          },
          "metadata": {},
          "execution_count": 12
        }
      ]
    }
  ]
}