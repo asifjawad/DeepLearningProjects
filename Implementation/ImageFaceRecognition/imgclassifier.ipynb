{
 "cells": [
  {
   "cell_type": "raw",
   "id": "e24b9b01-35a1-4444-ae52-4039af557e8e",
   "metadata": {},
   "source": [
    "##Creating Image Classifier Using CNN and using CIFAR10 Data set"
   ]
  },
  {
   "cell_type": "code",
   "execution_count": 1,
   "id": "5c22d0d8-f21d-4600-9c75-113abf199cfb",
   "metadata": {},
   "outputs": [],
   "source": [
    "import tensorflow as tf\n",
    "from tensorflow.keras import datasets , layers, models , Input\n",
    "from tensorflow.keras.models import Model\n",
    "\n",
    "\n",
    "from tensorflow.keras.layers import Input, Dense, Activation, ZeroPadding2D, BatchNormalization, Flatten, Conv2D, LeakyReLU\n",
    "from tensorflow.keras.layers import AveragePooling2D, MaxPooling2D, Dropout, GlobalMaxPooling2D, GlobalAveragePooling2D\n",
    "from tensorflow.keras.models import Model\n",
    "from tensorflow.keras.preprocessing import image\n",
    "from IPython.display import SVG\n",
    "\n",
    "\n",
    "\n",
    "import matplotlib.pyplot as plt\n",
    "import numpy as np\n",
    "import pandas as pd\n",
    "from sklearn.model_selection import train_test_split\n",
    "\n",
    "#path = ''"
   ]
  },
  {
   "cell_type": "code",
   "execution_count": 2,
   "id": "91289723-0543-408f-b451-78fbc81dad12",
   "metadata": {},
   "outputs": [],
   "source": [
    "xdata = np.genfromtxt('imagesr.csv', delimiter=',')\n",
    "ydata = np.genfromtxt('labelsr.csv', delimiter = ',')\n",
    "\n"
   ]
  },
  {
   "cell_type": "code",
   "execution_count": 3,
   "id": "c54764e2",
   "metadata": {},
   "outputs": [],
   "source": [
    "\n",
    "xdata = np.reshape(xdata, (3000, 32,32, 3))\n",
    "xtrain, xtest, ytrain, ytest = train_test_split(xdata, ydata, test_size=0.1, random_state=23)\n",
    "\n",
    "xtrain =  xtrain/255.\n",
    "xtest = xtest/255.\n"
   ]
  },
  {
   "cell_type": "markdown",
   "id": "f42ff7e1",
   "metadata": {},
   "source": [
    "### Model Creation \n",
    "Building Convolutional Neural Network for image Classification"
   ]
  },
  {
   "cell_type": "code",
   "execution_count": 29,
   "id": "2f69329b",
   "metadata": {},
   "outputs": [],
   "source": [
    "cnn = models.Sequential([\n",
    "    \n",
    "    layers.Conv2D(filters=128, kernel_size=(3, 3), activation='relu', input_shape=(32, 32, 3)),\n",
    "    layers.MaxPooling2D((2,2)),\n",
    "    \n",
    "    layers.Conv2D(filters=32, kernel_size=(3,3), activation='relu'),\n",
    "    layers.MaxPooling2D((2,2)),\n",
    "                  \n",
    "                  \n",
    "      layers.Flatten(),\n",
    "      layers.Dense(12, activation='relu'),\n",
    "      layers.Dense(1, activation='sigmoid' )\n",
    "                  \n",
    "])"
   ]
  },
  {
   "cell_type": "code",
   "execution_count": 37,
   "id": "df831218",
   "metadata": {},
   "outputs": [],
   "source": [
    "cnn.compile(optimizer= 'adam', loss='binary_crossentropy', metrics=['accuracy'])\n"
   ]
  },
  {
   "cell_type": "code",
   "execution_count": 59,
   "id": "40be6513",
   "metadata": {},
   "outputs": [
    {
     "name": "stdout",
     "output_type": "stream",
     "text": [
      "Epoch 1/3\n",
      "1350/1350 - 14s - loss: 0.1666 - accuracy: 0.9474 - val_loss: 0.5849 - val_accuracy: 0.8300 - 14s/epoch - 10ms/step\n",
      "Epoch 2/3\n",
      "1350/1350 - 14s - loss: 0.1568 - accuracy: 0.9463 - val_loss: 0.7547 - val_accuracy: 0.8300 - 14s/epoch - 10ms/step\n",
      "Epoch 3/3\n",
      "1350/1350 - 13s - loss: 0.1312 - accuracy: 0.9530 - val_loss: 0.7664 - val_accuracy: 0.8333 - 13s/epoch - 10ms/step\n"
     ]
    }
   ],
   "source": [
    "# fit = cnn.fit(xtrain,ytrain, epochs=10)\n",
    "\n",
    "fit = cnn.fit(xtrain,ytrain,batch_size=2, epochs=3,\n",
    "                validation_data=(xtest,ytest),\n",
    "                verbose=2,shuffle=True)"
   ]
  },
  {
   "cell_type": "code",
   "execution_count": 67,
   "id": "00f5a719",
   "metadata": {},
   "outputs": [
    {
     "name": "stdout",
     "output_type": "stream",
     "text": [
      "[0.9474074244499207, 0.9462962746620178, 0.9529629349708557]\n"
     ]
    },
    {
     "data": {
      "text/plain": [
       "<matplotlib.legend.Legend at 0x18581f4aac0>"
      ]
     },
     "execution_count": 67,
     "metadata": {},
     "output_type": "execute_result"
    },
    {
     "data": {
      "image/png": "[encoded data removed]",
      "text/plain": [
       "<Figure size 432x288 with 1 Axes>"
      ]
     },
     "metadata": {
      "needs_background": "light"
     },
     "output_type": "display_data"
    }
   ],
   "source": [
    "# fig,AX=plt.subplots(1,2,figsize=(12,5.))\n",
    "# ax=AX[0]\n",
    "\n",
    "print(fit.history['accuracy'])\n",
    "plt.plot(fit.history['accuracy'],\"b\",label=\"train ACC\")\n",
    "plt.plot(fit.history['loss'],\"r\",label=\"train Loss\")\n",
    "plt.plot(fit.history['val_loss'],\"r--\",label=\"Valid Loss\")\n",
    "plt.plot(fit.history['val_accuracy'],\"r--\",label=\"valid Acc\")\n",
    "\n",
    "\n",
    "ax.set_xlim([3, 5])\n",
    "ax.set_ylim([0, 1.05*np.max(fit.history['loss'])])\n",
    "\n",
    "\n",
    "plt.legend()"
   ]
  },
  {
   "cell_type": "code",
   "execution_count": 61,
   "id": "a397ab4f",
   "metadata": {},
   "outputs": [
    {
     "data": {
      "text/plain": [
       "[<matplotlib.lines.Line2D at 0x18589e9a910>]"
      ]
     },
     "execution_count": 61,
     "metadata": {},
     "output_type": "execute_result"
    },
    {
     "data": {
      "image/png": "[encoded data removed]",
      "text/plain": [
       "<Figure size 432x288 with 1 Axes>"
      ]
     },
     "metadata": {
      "needs_background": "light"
     },
     "output_type": "display_data"
    }
   ],
   "source": [
    "plt.plot(fit.history['loss'])"
   ]
  },
  {
   "cell_type": "code",
   "execution_count": 69,
   "id": "a12aff53",
   "metadata": {},
   "outputs": [
    {
     "ename": "AttributeError",
     "evalue": "'History' object has no attribute 'evaluate'",
     "output_type": "error",
     "traceback": [
      "\u001b[1;31m---------------------------------------------------------------------------\u001b[0m",
      "\u001b[1;31mAttributeError\u001b[0m                            Traceback (most recent call last)",
      "\u001b[1;32m<ipython-input-69-719dd4223e04>\u001b[0m in \u001b[0;36m<module>\u001b[1;34m\u001b[0m\n\u001b[1;32m----> 1\u001b[1;33m \u001b[0mprint\u001b[0m\u001b[1;33m(\u001b[0m\u001b[0mfit\u001b[0m\u001b[1;33m.\u001b[0m\u001b[0mevaluate\u001b[0m\u001b[1;33m(\u001b[0m\u001b[0mxtest\u001b[0m\u001b[1;33m,\u001b[0m \u001b[0mytest\u001b[0m\u001b[1;33m)\u001b[0m\u001b[1;33m)\u001b[0m\u001b[1;33m\u001b[0m\u001b[1;33m\u001b[0m\u001b[0m\n\u001b[0m",
      "\u001b[1;31mAttributeError\u001b[0m: 'History' object has no attribute 'evaluate'"
     ]
    }
   ],
   "source": [
    "print(fit.evaluate(xtest, ytest))"
   ]
  },
  {
   "cell_type": "code",
   "execution_count": null,
   "id": "fe230cbb",
   "metadata": {},
   "outputs": [],
   "source": []
  }
 ],
 "metadata": {
  "kernelspec": {
   "display_name": "Python 3",
   "language": "python",
   "name": "python3"
  },
  "language_info": {
   "codemirror_mode": {
    "name": "ipython",
    "version": 3
   },
   "file_extension": ".py",
   "mimetype": "text/x-python",
   "name": "python",
   "nbconvert_exporter": "python",
   "pygments_lexer": "ipython3",
   "version": "3.8.8"
  }
 },
 "nbformat": 4,
 "nbformat_minor": 5
}
