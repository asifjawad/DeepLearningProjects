{
 "cells": [
  {
   "cell_type": "markdown",
   "metadata": {},
   "source": [
    "# Kuzushiji Classification with Support Vector Machines\n",
    "\n",
    "In this notebook we are going to explore the use of Support Vector Machines (SVM) for image classification. We will use a variant of the famous MNIST dataset (the original is a dataset of handwritten digits). The version we are going to use is called Kuzushiji-MNIST or K-MNIST for short (https://github.com/rois-codh/kmnist) and is a dataset of traditional japanese handwritten kana.\n",
    "\n",
    "\n",
    "\n",
    "The dataset labels are the following:\n",
    "\n",
    "| Label | Hiragana Character | Romanji (Pronunciation) |\n",
    "| :-: | :-: | :-: |\n",
    "|   0   | お | o |\n",
    "| 1 | き | ki |\n",
    "| 2 | す | su |\n",
    "| 3 | つ | tsu |\n",
    "| 4 | な | na |\n",
    "| 5 | は | ha |\n",
    "| 6 | ま | ma |\n",
    "| 7 | や | ya |\n",
    "| 8 | れ | re |\n",
    "| 9 | を | wo |"
   ]
  },
  {
   "cell_type": "markdown",
   "metadata": {},
   "source": [
    "## TODO: Insert your surname, name and ID number\n",
    "\n",
    "Student surname: Asif\n",
    "\n",
    "Student name: Jawad\n",
    "    \n",
    "ID:2013002"
   ]
  },
  {
   "cell_type": "code",
   "execution_count": 3,
   "metadata": {},
   "outputs": [],
   "source": [
    "#load the required packages\n",
    "\n",
    "%matplotlib inline  \n",
    "\n",
    "import numpy as np\n",
    "import scipy as sp\n",
    "import matplotlib.pyplot as plt\n",
    "\n",
    "import sklearn\n",
    "from sklearn.datasets import fetch_openml\n",
    "from sklearn.neural_network import MLPClassifier\n",
    "from sklearn.decomposition import PCA\n",
    "import sklearn.metrics as skm"
   ]
  },
  {
   "cell_type": "code",
   "execution_count": 4,
   "metadata": {},
   "outputs": [],
   "source": [
    "# helper function to load Kuzushiji-MNIST dataset\n",
    "def load_mnist(path, kind='train'):\n",
    "    import os\n",
    "    import gzip\n",
    "    import numpy as np\n",
    "    labels_path = os.path.join(path, 'K%s-labels-idx1-ubyte.gz' % kind)\n",
    "    images_path = os.path.join(path, 'K%s-images-idx3-ubyte.gz' % kind)\n",
    "    with gzip.open(labels_path, 'rb') as lbpath:\n",
    "        labels = np.frombuffer(lbpath.read(), dtype=np.uint8,offset=8)\n",
    "    with gzip.open(images_path, 'rb') as imgpath:\n",
    "        images = np.frombuffer(imgpath.read(), dtype=np.uint8,offset=16).reshape(len(labels), 784)\n",
    "    return images, labels"
   ]
  },
  {
   "cell_type": "code",
   "execution_count": 5,
   "metadata": {},
   "outputs": [],
   "source": [
    "#fix your ID (\"numero di matricola\") and the seed for random generator (as usual you can try different seeds)\n",
    "ID = 2013002 # place a random seed\n",
    "np.random.seed(ID)"
   ]
  },
  {
   "cell_type": "code",
   "execution_count": 6,
   "metadata": {},
   "outputs": [
    {
     "name": "stdout",
     "output_type": "stream",
     "text": [
      "(60000, 784) (60000,)\n"
     ]
    }
   ],
   "source": [
    "#load the K-MNIST dataset from the 'data' folder and let's normalize the features so that each value is in [0,1] \n",
    "\n",
    "X, y = load_mnist('data', kind='train')\n",
    "# rescale the data\n",
    "X, y = X / 255., y # original pixel values are between 0 and 255\n",
    "print(X.shape, y.shape)"
   ]
  },
  {
   "cell_type": "markdown",
   "metadata": {},
   "source": [
    "Now split into training and test. Make sure that each label is present at least 10 times\n",
    "in training. If it is not, then keep adding permutations to the initial data until this \n",
    "happens."
   ]
  },
  {
   "cell_type": "code",
   "execution_count": 7,
   "metadata": {},
   "outputs": [
    {
     "name": "stdout",
     "output_type": "stream",
     "text": [
      "Labels in training dataset:  [0 1 2 3 4 5 6 7 8 9]\n",
      "Frequencies in training dataset:  [81 56 49 59 65 53 50 53 53 81]\n"
     ]
    }
   ],
   "source": [
    "# Random permute the data and split into training and test taking the first 600\n",
    "# data samples as training and 4000 samples as test\n",
    "permutation = np.random.permutation(X.shape[0])\n",
    "\n",
    "X = X[permutation]\n",
    "y = y[permutation]\n",
    "\n",
    "m_training = 600\n",
    "m_test = 4000\n",
    "\n",
    "X_train, X_test = X[:m_training], X[m_training:m_training+m_test:]\n",
    "y_train, y_test = y[:m_training], y[m_training:m_training+m_test:]\n",
    "\n",
    "labels, freqs = np.unique(y_train, return_counts=True)\n",
    "print(\"Labels in training dataset: \", labels)\n",
    "print(\"Frequencies in training dataset: \", freqs)\n"
   ]
  },
  {
   "cell_type": "code",
   "execution_count": 7,
   "metadata": {},
   "outputs": [],
   "source": [
    "#function for plotting a image and printing the corresponding label\n",
    "def plot_input(X_matrix, labels, index):\n",
    "    print(\"INPUT:\")\n",
    "    plt.imshow(\n",
    "        X_matrix[index].reshape(28,28),\n",
    "        cmap          = plt.cm.gray_r,\n",
    "        interpolation = \"nearest\"\n",
    "    )\n",
    "    plt.show()\n",
    "    print(\"LABEL: %i\"%labels[index])\n",
    "    return"
   ]
  },
  {
   "cell_type": "code",
   "execution_count": 8,
   "metadata": {},
   "outputs": [
    {
     "name": "stdout",
     "output_type": "stream",
     "text": [
      "INPUT:\n"
     ]
    },
    {
     "data": {
      "image/png": "[encoded data removed]",
      "text/plain": [
       "<Figure size 432x288 with 1 Axes>"
      ]
     },
     "metadata": {
      "needs_background": "light"
     },
     "output_type": "display_data"
    },
    {
     "name": "stdout",
     "output_type": "stream",
     "text": [
      "LABEL: 0\n",
      "INPUT:\n"
     ]
    },
    {
     "data": {
      "image/png": "[encoded data removed]",
      "text/plain": [
       "<Figure size 432x288 with 1 Axes>"
      ]
     },
     "metadata": {
      "needs_background": "light"
     },
     "output_type": "display_data"
    },
    {
     "name": "stdout",
     "output_type": "stream",
     "text": [
      "LABEL: 4\n",
      "INPUT:\n"
     ]
    },
    {
     "data": {
      "image/png": "[encoded data removed]",
      "text/plain": [
       "<Figure size 432x288 with 1 Axes>"
      ]
     },
     "metadata": {
      "needs_background": "light"
     },
     "output_type": "display_data"
    },
    {
     "name": "stdout",
     "output_type": "stream",
     "text": [
      "LABEL: 3\n",
      "INPUT:\n"
     ]
    },
    {
     "data": {
      "image/png": "[encoded data removed]",
      "text/plain": [
       "<Figure size 432x288 with 1 Axes>"
      ]
     },
     "metadata": {
      "needs_background": "light"
     },
     "output_type": "display_data"
    },
    {
     "name": "stdout",
     "output_type": "stream",
     "text": [
      "LABEL: 4\n"
     ]
    }
   ],
   "source": [
    "#let's try the plotting function\n",
    "plot_input(X_train,y_train,5)\n",
    "plot_input(X_test,y_test,50)\n",
    "plot_input(X_test,y_test,500)\n",
    "plot_input(X_test,y_test,700)"
   ]
  },
  {
   "cell_type": "markdown",
   "metadata": {},
   "source": [
    "## TO DO 1\n",
    "Use a SVM classifier with cross validation to pick a model. Use a 4-fold cross-validation. Let's start with a Linear kernel:"
   ]
  },
  {
   "cell_type": "code",
   "execution_count": 9,
   "metadata": {},
   "outputs": [
    {
     "name": "stdout",
     "output_type": "stream",
     "text": [
      "RESULTS FOR LINEAR KERNEL [0 4 5 ... 1 6 5]\n",
      "Best parameters set found: {'C': 0.01}\n",
      "Score with best parameters: 0.7433333333333333\n",
      "All scores on the grid: {'mean_fit_time': array([0.10618991, 0.10763884, 0.1095736 , 0.10329574]), 'std_fit_time': array([0.02041808, 0.00833724, 0.01030468, 0.00968009]), 'mean_score_time': array([0.03883266, 0.02575129, 0.01952434, 0.03388298]), 'std_score_time': array([0.01505357, 0.00660679, 0.00676997, 0.01219361]), 'param_C': masked_array(data=[0.01, 0.1, 1, 10],\n",
      "             mask=[False, False, False, False],\n",
      "       fill_value='?',\n",
      "            dtype=object), 'params': [{'C': 0.01}, {'C': 0.1}, {'C': 1}, {'C': 10}], 'split0_test_score': array([0.73333333, 0.72666667, 0.72666667, 0.72666667]), 'split1_test_score': array([0.70666667, 0.66666667, 0.66666667, 0.66666667]), 'split2_test_score': array([0.74666667, 0.76666667, 0.76666667, 0.76666667]), 'split3_test_score': array([0.78666667, 0.78      , 0.78      , 0.78      ]), 'mean_test_score': array([0.74333333, 0.735     , 0.735     , 0.735     ]), 'std_test_score': array([0.02886751, 0.04406435, 0.04406435, 0.04406435]), 'rank_test_score': array([1, 2, 2, 2])}\n"
     ]
    }
   ],
   "source": [
    "#import SVC\n",
    "from sklearn.svm import SVC\n",
    "#import for Cross-Validation\n",
    "from sklearn.model_selection import GridSearchCV\n",
    "\n",
    "# parameters for linear SVM\n",
    "parameters = {'C': [0.01, 0.1, 1, 10]}\n",
    "\n",
    "#train linear SVM\n",
    "linear_m=SVC(kernel='linear')\n",
    "linear_m.fit(X_train,y_train)\n",
    "y_predict = linear_m.predict(X_test)\n",
    "\n",
    "# ADD YOUR CODE\n",
    "\n",
    "print ('RESULTS FOR LINEAR KERNEL',y_predict)\n",
    "\n",
    "\n",
    "cross_val= GridSearchCV(SVC(kernel='linear'), parameters, cv=4)\n",
    "cross_val.fit(X_train, y_train)\n",
    "\n",
    "\n",
    "\n",
    "print(\"Best parameters set found:\",cross_val.best_params_ )\n",
    "# ADD YOUR CODE\n",
    "\n",
    "\n",
    "score = linear_m.score(X_test,y_test)\n",
    "\n",
    "print(\"Score with best parameters:\",cross_val.best_score_)\n",
    "# ADD YOUR CODE\n",
    "\n",
    "\n",
    "print(\"All scores on the grid:\",cross_val.cv_results_ )\n",
    "# ADD YOUR CODE"
   ]
  },
  {
   "cell_type": "markdown",
   "metadata": {},
   "source": [
    "## TO DO 2\n",
    "Pick a model for the Polynomial kernel with degree=2:"
   ]
  },
  {
   "cell_type": "code",
   "execution_count": 10,
   "metadata": {},
   "outputs": [
    {
     "name": "stdout",
     "output_type": "stream",
     "text": [
      "RESULTS FOR POLY DEGREE=2 KERNEL [0 4 1 ... 1 6 5]\n",
      "Best parameters set found: {'C': 0.01, 'gamma': 0.1}\n",
      "Score with best parameters: 0.7483333333333333\n",
      "\n",
      "All scores on the grid: {'mean_fit_time': array([0.16830283, 0.13978684, 0.12988174, 0.1327951 , 0.1171717 ,\n",
      "       0.12768126, 0.1249916 , 0.12712812, 0.113267  ]), 'std_fit_time': array([0.02427732, 0.03467473, 0.01961426, 0.00782609, 0.00781554,\n",
      "       0.0137776 , 0.01561886, 0.00235891, 0.00675837]), 'mean_score_time': array([0.029594  , 0.03330976, 0.02962208, 0.02735078, 0.0195328 ,\n",
      "       0.02343917, 0.02734542, 0.023646  , 0.02735084]), 'std_score_time': array([0.00320019, 0.00355357, 0.00327287, 0.00676782, 0.00676341,\n",
      "       0.00781369, 0.00676445, 0.00802456, 0.00676758]), 'param_C': masked_array(data=[0.01, 0.01, 0.01, 0.1, 0.1, 0.1, 1, 1, 1],\n",
      "             mask=[False, False, False, False, False, False, False, False,\n",
      "                   False],\n",
      "       fill_value='?',\n",
      "            dtype=object), 'param_gamma': masked_array(data=[0.01, 0.1, 1, 0.01, 0.1, 1, 0.01, 0.1, 1],\n",
      "             mask=[False, False, False, False, False, False, False, False,\n",
      "                   False],\n",
      "       fill_value='?',\n",
      "            dtype=object), 'params': [{'C': 0.01, 'gamma': 0.01}, {'C': 0.01, 'gamma': 0.1}, {'C': 0.01, 'gamma': 1}, {'C': 0.1, 'gamma': 0.01}, {'C': 0.1, 'gamma': 0.1}, {'C': 0.1, 'gamma': 1}, {'C': 1, 'gamma': 0.01}, {'C': 1, 'gamma': 0.1}, {'C': 1, 'gamma': 1}], 'split0_test_score': array([0.13333333, 0.7       , 0.71333333, 0.46666667, 0.71333333,\n",
      "       0.71333333, 0.7       , 0.71333333, 0.71333333]), 'split1_test_score': array([0.13333333, 0.71333333, 0.72      , 0.46666667, 0.71333333,\n",
      "       0.72      , 0.71333333, 0.72      , 0.72      ]), 'split2_test_score': array([0.21333333, 0.77333333, 0.79333333, 0.48      , 0.78666667,\n",
      "       0.79333333, 0.77333333, 0.79333333, 0.79333333]), 'split3_test_score': array([0.24666667, 0.80666667, 0.76666667, 0.49333333, 0.77333333,\n",
      "       0.76666667, 0.80666667, 0.76666667, 0.76666667]), 'mean_test_score': array([0.18166667, 0.74833333, 0.74833333, 0.47666667, 0.74666667,\n",
      "       0.74833333, 0.74833333, 0.74833333, 0.74833333]), 'std_test_score': array([0.04974937, 0.04355711, 0.03312434, 0.01105542, 0.03366502,\n",
      "       0.03312434, 0.04355711, 0.03312434, 0.03312434]), 'rank_test_score': array([9, 1, 1, 8, 7, 1, 1, 1, 1])}\n"
     ]
    }
   ],
   "source": [
    "# parameters for poly with degree 2 kernel\n",
    "parameters = {'C': [0.01, 0.1, 1],'gamma':[0.01,0.1,1]}\n",
    "\n",
    "\n",
    "# deg2=SVC(kernel='linear')\n",
    "# deg2.fit(X_train,y_train)\n",
    "\n",
    "\n",
    "clf = cross_val= GridSearchCV(SVC(kernel='poly',degree=2), parameters, cv=4)\n",
    "clf.fit(X_train, y_train)\n",
    "deg2 = clf.predict(X_test)\n",
    "\n",
    "\n",
    "\n",
    "#,\n",
    "# ADD YOUR CODE\n",
    "\n",
    "print ('RESULTS FOR POLY DEGREE=2 KERNEL',deg2)\n",
    "\n",
    "print(\"Best parameters set found:\",clf.best_params_)\n",
    "# ADD YOUR CODE\n",
    "\n",
    "print(\"Score with best parameters:\",clf.best_score_)\n",
    "# ADD YOUR CODE\n",
    "\n",
    "print(\"\\nAll scores on the grid:\",clf.cv_results_)\n",
    "# ADD YOUR CODE"
   ]
  },
  {
   "cell_type": "markdown",
   "metadata": {},
   "source": [
    "## TO DO 3\n",
    "\n",
    "Now let's try a higher degree for the polynomial kernel (e.g., 3rd degree)."
   ]
  },
  {
   "cell_type": "code",
   "execution_count": 11,
   "metadata": {},
   "outputs": [
    {
     "name": "stdout",
     "output_type": "stream",
     "text": [
      "RESULTS FOR POLY DEGREE= 3  KERNEL [0 4 1 ... 1 6 5]\n",
      "Best parameters set found: {'C': 1, 'gamma': 0.01}\n",
      "Score with best parameters: 0.7083333333333333\n",
      "\n",
      "All scores on the grid: {'mean_fit_time': array([0.17251229, 0.1357218 , 0.13039005, 0.14777696, 0.12889546,\n",
      "       0.14060336, 0.12504804, 0.12889379, 0.12502176]), 'std_fit_time': array([2.63599971e-02, 1.52668757e-02, 7.13907059e-03, 7.24756368e-03,\n",
      "       6.76723447e-03, 1.10551217e-02, 9.06424199e-05, 1.70256500e-02,\n",
      "       5.87442708e-05]), 'mean_score_time': array([0.03516626, 0.03126311, 0.02752095, 0.02757269, 0.0234378 ,\n",
      "       0.02344203, 0.02734375, 0.02734524, 0.02344364]), 'std_score_time': array([6.77298572e-03, 7.12668189e-06, 6.87239856e-03, 3.67247749e-03,\n",
      "       7.81208319e-03, 7.81703223e-03, 6.76554823e-03, 6.76420610e-03,\n",
      "       7.80684070e-03]), 'param_C': masked_array(data=[0.01, 0.01, 0.01, 0.1, 0.1, 0.1, 1, 1, 1],\n",
      "             mask=[False, False, False, False, False, False, False, False,\n",
      "                   False],\n",
      "       fill_value='?',\n",
      "            dtype=object), 'param_gamma': masked_array(data=[0.01, 0.1, 1, 0.01, 0.1, 1, 0.01, 0.1, 1],\n",
      "             mask=[False, False, False, False, False, False, False, False,\n",
      "                   False],\n",
      "       fill_value='?',\n",
      "            dtype=object), 'params': [{'C': 0.01, 'gamma': 0.01}, {'C': 0.01, 'gamma': 0.1}, {'C': 0.01, 'gamma': 1}, {'C': 0.1, 'gamma': 0.01}, {'C': 0.1, 'gamma': 0.1}, {'C': 0.1, 'gamma': 1}, {'C': 1, 'gamma': 0.01}, {'C': 1, 'gamma': 0.1}, {'C': 1, 'gamma': 1}], 'split0_test_score': array([0.13333333, 0.65333333, 0.64666667, 0.4       , 0.64666667,\n",
      "       0.64666667, 0.62666667, 0.64666667, 0.64666667]), 'split1_test_score': array([0.13333333, 0.65333333, 0.64666667, 0.42      , 0.64666667,\n",
      "       0.64666667, 0.65333333, 0.64666667, 0.64666667]), 'split2_test_score': array([0.17333333, 0.77333333, 0.74666667, 0.44666667, 0.74666667,\n",
      "       0.74666667, 0.78666667, 0.74666667, 0.74666667]), 'split3_test_score': array([0.2       , 0.74666667, 0.73333333, 0.43333333, 0.73333333,\n",
      "       0.73333333, 0.76666667, 0.73333333, 0.73333333]), 'mean_test_score': array([0.16      , 0.70666667, 0.69333333, 0.425     , 0.69333333,\n",
      "       0.69333333, 0.70833333, 0.69333333, 0.69333333]), 'std_test_score': array([0.02828427, 0.05416026, 0.04690416, 0.01724013, 0.04690416,\n",
      "       0.04690416, 0.06934215, 0.04690416, 0.04690416]), 'rank_test_score': array([9, 2, 3, 8, 3, 3, 1, 3, 3])}\n"
     ]
    }
   ],
   "source": [
    "# parameters for poly with higher degree kernel\n",
    "parameters = {'C': [0.01, 0.1, 1],'gamma':[0.01,0.1,1]}\n",
    "\n",
    "# poly_3= SVC(kernel='poly', degree=2)\n",
    "# poly_3.fit(X_train,y_train)\n",
    "degree=3\n",
    "#run SVM with poly of higher degree kernel\n",
    "clf_3 = cross_val= GridSearchCV(SVC(kernel='poly',degree=3), parameters, cv=4)\n",
    "clf_3.fit(X_train, y_train)\n",
    "deg3 = clf.predict(X_test)\n",
    "\n",
    "# ADD YOUR CODE\n",
    "\n",
    "print ('RESULTS FOR POLY DEGREE=', degree, ' KERNEL',deg3)\n",
    "\n",
    "print(\"Best parameters set found:\",clf_3.best_params_)\n",
    "# ADD YOUR CODE\n",
    "\n",
    "print(\"Score with best parameters:\",clf_3.best_score_)\n",
    "# ADD YOUR CODE\n",
    "\n",
    "print(\"\\nAll scores on the grid:\",clf_3.cv_results_)\n",
    "# ADD YOUR CODE"
   ]
  },
  {
   "cell_type": "markdown",
   "metadata": {},
   "source": [
    "## TO DO 4\n",
    "Pick a model for the Radial Basis Function kernel:"
   ]
  },
  {
   "cell_type": "code",
   "execution_count": 12,
   "metadata": {},
   "outputs": [
    {
     "name": "stdout",
     "output_type": "stream",
     "text": [
      "RESULTS FOR rbf KERNEL [0 4 3 ... 1 6 5]\n",
      "Best parameters set found: {'C': 10, 'gamma': 0.01}\n",
      "Score with best parameters: 0.7933333333333333\n",
      "\n",
      "All scores on the grid: {'mean_fit_time': array([0.15656555, 0.16048169, 0.16404694, 0.18428677, 0.1540851 ,\n",
      "       0.30804038, 0.29822773, 0.27679914, 0.1085453 , 0.15624309,\n",
      "       0.17974472, 0.19138521, 0.1093986 , 0.17186654, 0.17580521,\n",
      "       0.18361741]), 'std_fit_time': array([5.54525792e-03, 5.71001865e-03, 7.81292802e-03, 7.24938891e-03,\n",
      "       2.19025899e-02, 7.79048901e-02, 5.09866982e-02, 6.44290459e-02,\n",
      "       1.11850869e-02, 9.89221641e-06, 1.34881077e-02, 6.76737888e-03,\n",
      "       5.63397278e-05, 1.10561439e-02, 6.75364455e-03, 6.71369313e-03]), 'mean_score_time': array([0.08031005, 0.07812762, 0.07812232, 0.07981056, 0.09952533,\n",
      "       0.10784435, 0.15830445, 0.11221266, 0.06640542, 0.07812178,\n",
      "       0.07421708, 0.07424843, 0.06640273, 0.06643069, 0.08592874,\n",
      "       0.07030767]), 'std_score_time': array([3.80017472e-03, 8.13597943e-06, 6.16555240e-07, 1.35424124e-02,\n",
      "       1.46776153e-02, 1.85754381e-02, 4.85361904e-02, 2.62686383e-02,\n",
      "       6.76410293e-03, 1.36238017e-05, 6.76582362e-03, 6.78663601e-03,\n",
      "       6.77556771e-03, 6.81064635e-03, 1.35189562e-02, 7.81494380e-03]), 'param_C': masked_array(data=[0.1, 0.1, 0.1, 0.1, 1, 1, 1, 1, 10, 10, 10, 10, 100,\n",
      "                   100, 100, 100],\n",
      "             mask=[False, False, False, False, False, False, False, False,\n",
      "                   False, False, False, False, False, False, False, False],\n",
      "       fill_value='?',\n",
      "            dtype=object), 'param_gamma': masked_array(data=[0.001, 0.01, 0.1, 1, 0.001, 0.01, 0.1, 1, 0.001, 0.01,\n",
      "                   0.1, 1, 0.001, 0.01, 0.1, 1],\n",
      "             mask=[False, False, False, False, False, False, False, False,\n",
      "                   False, False, False, False, False, False, False, False],\n",
      "       fill_value='?',\n",
      "            dtype=object), 'params': [{'C': 0.1, 'gamma': 0.001}, {'C': 0.1, 'gamma': 0.01}, {'C': 0.1, 'gamma': 0.1}, {'C': 0.1, 'gamma': 1}, {'C': 1, 'gamma': 0.001}, {'C': 1, 'gamma': 0.01}, {'C': 1, 'gamma': 0.1}, {'C': 1, 'gamma': 1}, {'C': 10, 'gamma': 0.001}, {'C': 10, 'gamma': 0.01}, {'C': 10, 'gamma': 0.1}, {'C': 10, 'gamma': 1}, {'C': 100, 'gamma': 0.001}, {'C': 100, 'gamma': 0.01}, {'C': 100, 'gamma': 0.1}, {'C': 100, 'gamma': 1}], 'split0_test_score': array([0.13333333, 0.21333333, 0.13333333, 0.13333333, 0.61333333,\n",
      "       0.73333333, 0.15333333, 0.13333333, 0.76666667, 0.77333333,\n",
      "       0.18      , 0.13333333, 0.76      , 0.77333333, 0.18      ,\n",
      "       0.13333333]), 'split1_test_score': array([0.13333333, 0.26      , 0.13333333, 0.13333333, 0.62666667,\n",
      "       0.74      , 0.14666667, 0.13333333, 0.72666667, 0.74      ,\n",
      "       0.15333333, 0.13333333, 0.7       , 0.74      , 0.15333333,\n",
      "       0.13333333]), 'split2_test_score': array([0.23333333, 0.23333333, 0.18666667, 0.26666667, 0.66      ,\n",
      "       0.79333333, 0.2       , 0.14666667, 0.78666667, 0.80666667,\n",
      "       0.21333333, 0.14666667, 0.77333333, 0.80666667, 0.21333333,\n",
      "       0.14666667]), 'split3_test_score': array([0.25333333, 0.24      , 0.14      , 0.13333333, 0.65333333,\n",
      "       0.83333333, 0.18      , 0.13333333, 0.81333333, 0.85333333,\n",
      "       0.18666667, 0.13333333, 0.78      , 0.85333333, 0.18666667,\n",
      "       0.13333333]), 'mean_test_score': array([0.18833333, 0.23666667, 0.14833333, 0.16666667, 0.63833333,\n",
      "       0.775     , 0.17      , 0.13666667, 0.77333333, 0.79333333,\n",
      "       0.18333333, 0.13666667, 0.75333333, 0.79333333, 0.18333333,\n",
      "       0.13666667]), 'std_test_score': array([0.05545268, 0.01666667, 0.02229848, 0.05773503, 0.01907587,\n",
      "       0.04092676, 0.02134375, 0.0057735 , 0.03162278, 0.04189935,\n",
      "       0.02134375, 0.0057735 , 0.03162278, 0.04189935, 0.02134375,\n",
      "       0.0057735 ]), 'rank_test_score': array([ 8,  7, 13, 12,  6,  3, 11, 14,  4,  1,  9, 14,  5,  1,  9, 14])}\n"
     ]
    }
   ],
   "source": [
    "# parameters for rbf SVM\n",
    "parameters = {'C': [0.1, 1, 10, 100],'gamma':[0.001, 0.01, 0.1,1]}\n",
    "\n",
    "#run SVM with rbf kernel\n",
    "\n",
    "cross_val= GridSearchCV(SVC(kernel='rbf'), parameters, cv=4)\n",
    "cross_val.fit(X_train, y_train)\n",
    "y_predictr=cross_val.predict(X_test)\n",
    "\n",
    "\n",
    "# print(cross_val.score(X_test,y_test))\n",
    "# ADD YOUR CODE\n",
    "\n",
    "print ('RESULTS FOR rbf KERNEL',y_predictr)\n",
    "\n",
    "print(\"Best parameters set found:\",cross_val.best_params_)\n",
    "# ADD YOUR CODE\n",
    "\n",
    "print(\"Score with best parameters:\",cross_val.best_score_)\n",
    "# ADD YOUR CODE\n",
    "\n",
    "print(\"\\nAll scores on the grid:\",cross_val.cv_results_)\n",
    "# ADD YOUR CODE"
   ]
  },
  {
   "cell_type": "markdown",
   "metadata": {},
   "source": [
    "## QUESTION 1\n",
    "What do you observe when using linear, polynomial and RBF kernels on this dataset ?\n",
    "\n",
    "Ans: The reuslt was almost same with linear and Poly degree 2, with increase in degree (3) the best scores decreases by 4 percent and reaeches to 0.70. After shifting to RBF kernel, the best scores increases to 0.79 which means it try to avoid errors and provided the best score."
   ]
  },
  {
   "cell_type": "markdown",
   "metadata": {},
   "source": [
    "## TO DO 5\n",
    "Report here the best SVM kernel and parameters"
   ]
  },
  {
   "cell_type": "code",
   "execution_count": 13,
   "metadata": {},
   "outputs": [
    {
     "name": "stdout",
     "output_type": "stream",
     "text": [
      "Best SVM training error: 0.000000\n",
      "Best SVM test error: 0.172750\n"
     ]
    }
   ],
   "source": [
    "#get training and test error for the best SVM model from CV\n",
    "best_SVM = SVC(kernel='rbf',C=10, gamma=0.01) # USE YOUR OPTIMAL PARAMETERS\n",
    "best_SVM.fit(X_train,y_train)\n",
    "\n",
    "training_error=best_SVM.score(X_train,y_train)\n",
    "training_error=1-training_error\n",
    "# ADD YOUR CODE\n",
    "\n",
    "\n",
    "test_error=best_SVM.score(X_test,y_test)\n",
    "test_error=1-test_error\n",
    "\n",
    "\n",
    "# (error is 1 - svm.score)\n",
    "\n",
    "print (\"Best SVM training error: %f\" % training_error)\n",
    "print (\"Best SVM test error: %f\" % test_error)"
   ]
  },
  {
   "cell_type": "markdown",
   "metadata": {},
   "source": [
    "## TO DO 6\n",
    "\n",
    "Analyze how the gamma parameter (inversely proportional to standard deviation of Gaussian Kernel) impact the performances of the classifier"
   ]
  },
  {
   "cell_type": "code",
   "execution_count": 14,
   "metadata": {},
   "outputs": [
    {
     "name": "stdout",
     "output_type": "stream",
     "text": [
      "[1.e-05 1.e-04 1.e-03 1.e-02 1.e-01 1.e+00 1.e+01 1.e+02]\n"
     ]
    }
   ],
   "source": [
    "# Test with different values of gamma\n",
    "\n",
    "# Set gamma values\n",
    "gamma_values = np.logspace(-5,2,8)\n",
    "# print(gamma_values)\n",
    "print(gamma_values)\n",
    "l=len(gamma_values)\n",
    "\n",
    "\n",
    "\n",
    "# for i in range(l):\n",
    "#         print(gamma_values[i])\n"
   ]
  },
  {
   "cell_type": "code",
   "execution_count": 15,
   "metadata": {},
   "outputs": [
    {
     "data": {
      "image/png": "[encoded data removed]",
      "text/plain": [
       "<Figure size 1080x360 with 2 Axes>"
      ]
     },
     "metadata": {
      "needs_background": "light"
     },
     "output_type": "display_data"
    }
   ],
   "source": [
    "# Try the SVM with the previously set values of gamma\n",
    "# use rbf kernel and C=1\n",
    "\n",
    "train_acc_list=np.zeros(l)\n",
    "test_acc_list=np.zeros(l)\n",
    "\n",
    "\n",
    "# ADD YOUR CODE TO TRAIN THE SVM MULTIPLE TIMES WITH THE DIFFERENT VALUES OF GAMMA\n",
    "\n",
    "for i in range(l):\n",
    "    best_SVM = SVC(kernel='rbf',C=1, gamma=gamma_values[i])\n",
    "    best_SVM.fit(X_train,y_train)\n",
    "    train_acc_list[i]=best_SVM.score(X_train,y_train)\n",
    "    test_acc_list[i]=best_SVM.score(X_test,y_test)\n",
    "    \n",
    "#     print(train_acc_list,test_acc_list)\n",
    "\n",
    "\n",
    "# # PLACE THE TRAIN AND TEST ACCURACY FOR EACH TEST IN THE TRAIN AND TEST ACCURACY LISTS\n",
    "\n",
    "# Plot\n",
    "fig, ax = plt.subplots(1,2, figsize=(15,5))\n",
    "\n",
    "ax[0].plot(gamma_values, train_acc_list)\n",
    "ax[0].set_xscale('log')\n",
    "ax[0].set_xlabel('gamma')\n",
    "ax[0].set_ylabel('Train accuracy')\n",
    "ax[0].grid(True)\n",
    "\n",
    "ax[1].plot(gamma_values, test_acc_list)\n",
    "ax[1].set_xscale('log')\n",
    "ax[1].set_xlabel('gamma')\n",
    "ax[1].set_ylabel('Test accuracy')\n",
    "ax[1].grid(True)\n",
    "\n",
    "\n",
    "plt.show()"
   ]
  },
  {
   "cell_type": "markdown",
   "metadata": {},
   "source": [
    "## QUESTION 2\n",
    "How do the train and test error change when changing gamma ? Which is the best value of gamma ? \n",
    "Connect your answers to the discussion about the overfitting issue.\n",
    "\n",
    "Ans: Train and test error is dependent on gamma values. By increasing the gamma the train error becomes less and less and appoches 0.0, which means it provides 100% accuracy on training set.\n",
    "\n",
    "The best value of gamma after observing is 0.01.\n",
    "\n",
    "With 100% accuracy it overfits the data and will face error on traing set."
   ]
  },
  {
   "cell_type": "markdown",
   "metadata": {},
   "source": [
    "## More data\n",
    "Now let's do the same but using more data points for training.\n",
    "\n",
    "\n",
    "Choose a new number of data points."
   ]
  },
  {
   "cell_type": "code",
   "execution_count": 8,
   "metadata": {},
   "outputs": [
    {
     "name": "stdout",
     "output_type": "stream",
     "text": [
      "Labels in training dataset:  [0 1 2 3 4 5 6 7 8 9]\n",
      "Frequencies in training dataset:  [181 208 191 201 216 213 190 204 190 206]\n"
     ]
    }
   ],
   "source": [
    "X = X[permutation]\n",
    "y = y[permutation]\n",
    "\n",
    "m_training = 2000 # TODO number of data points, adjust depending on the capabilities of your PC\n",
    "\n",
    "X_train, X_test = X[:m_training], X[m_training:]\n",
    "y_train, y_test = y[:m_training], y[m_training:]\n",
    "\n",
    "labels, freqs = np.unique(y_train, return_counts=True)\n",
    "print(\"Labels in training dataset: \", labels)\n",
    "print(\"Frequencies in training dataset: \", freqs)"
   ]
  },
  {
   "cell_type": "markdown",
   "metadata": {},
   "source": [
    "## TO DO 7\n",
    "\n",
    "Let's try to use SVM with parameters obtained from the best model for $m_{training} =  2000$. Since it may take a long time to run, you can decide to just let it run for some time and stop it if it does not complete. If you decide to do this, report it in the cell below."
   ]
  },
  {
   "cell_type": "code",
   "execution_count": 17,
   "metadata": {
    "scrolled": true
   },
   "outputs": [
    {
     "name": "stdout",
     "output_type": "stream",
     "text": [
      "Best SVM training error: 0.018500\n",
      "Best SVM test error: 0.123310\n"
     ]
    }
   ],
   "source": [
    "# I Run two time this code and it take almost 2 mins to compute the result for both train and test error\n",
    "\n",
    "#get training and test error for the best SVM model from CV\n",
    "\n",
    "# ADD YOUR CODE\n",
    "best_svm=SVC(kernel='rbf')\n",
    "best_svm.fit(X_train,y_train)\n",
    "\n",
    "training_error=best_svm.score(X_train,y_train)\n",
    "training_error=1-training_error\n",
    "print (\"Best SVM training error: %f\" % training_error)\n",
    "\n",
    "test_error=best_svm.score(X_test,y_test)\n",
    "test_error=1-test_error\n",
    "print (\"Best SVM test error: %f\" % test_error) # validatio error"
   ]
  },
  {
   "cell_type": "markdown",
   "metadata": {},
   "source": [
    "Just for comparison, let's also use logistic regression \n",
    "\n",
    "## TO DO 8 Try first without regularization (use a very large large C)¶"
   ]
  },
  {
   "cell_type": "code",
   "execution_count": 18,
   "metadata": {},
   "outputs": [
    {
     "name": "stdout",
     "output_type": "stream",
     "text": [
      "Best logistic regression training error: 0.000000\n",
      "Best logistic regression test error: 0.297310\n"
     ]
    }
   ],
   "source": [
    "from sklearn import linear_model\n",
    "\n",
    "# ADD YOUR CODE\n",
    "\n",
    "log_r=linear_model.LogisticRegression(C=1000000000)\n",
    "log_r.fit(X_train,y_train)\n",
    "training_error=1-log_r.score(X_train,y_train)\n",
    "test_error=1-log_r.score(X_test,y_test)\n",
    "\n",
    "\n",
    "\n",
    "\n",
    "print (\"Best logistic regression training error: %f\" % training_error)\n",
    "print (\"Best logistic regression test error: %f\" % test_error)"
   ]
  },
  {
   "cell_type": "markdown",
   "metadata": {},
   "source": [
    "## TO DO 9 Try  with regularization (use C=1)¶"
   ]
  },
  {
   "cell_type": "code",
   "execution_count": 19,
   "metadata": {},
   "outputs": [
    {
     "name": "stdout",
     "output_type": "stream",
     "text": [
      "Best regularized logistic regression training error: 0.002000\n",
      "Best regularized logistic regression test error: 0.257672\n"
     ]
    }
   ],
   "source": [
    "# ADD YOUR CODE\n",
    "log_r=linear_model.LogisticRegression(C=1,max_iter=1e9)\n",
    "log_r.fit(X_train,y_train)\n",
    "training_error=1-log_r.score(X_train,y_train)\n",
    "test_error=1-log_r.score(X_test,y_test)\n",
    "print (\"Best regularized logistic regression training error: %f\" % training_error)\n",
    "print (\"Best regularized logistic regression test error: %f\" % test_error)"
   ]
  },
  {
   "cell_type": "markdown",
   "metadata": {},
   "source": [
    "## QUESTION 3\n",
    "Compare and discuss:\n",
    "- the results from SVM with m=600 and with m=2000 training data points. If you stopped the SVM, include such aspect in your comparison.\n",
    "- the results of SVM and of Logistic Regression\n",
    "\n",
    "Ans: 1: By increasing the Training samples, The train and test error are significantly reduceses and provided the low test error as we increase the training set.\n",
    "\n",
    "2: The test error on logistic regression is way more than SVM, the reason is that in Logistic regression we randomly selected the value of C."
   ]
  },
  {
   "cell_type": "markdown",
   "metadata": {},
   "source": [
    "## TO DO 10\n",
    "Plot an item of clothing that is missclassified by logistic regression and correctly classified by SVM."
   ]
  },
  {
   "cell_type": "code",
   "execution_count": 20,
   "metadata": {},
   "outputs": [
    {
     "name": "stdout",
     "output_type": "stream",
     "text": [
      "(array([    0,     7,     9, ..., 57985, 57994, 57996], dtype=int64),)\n"
     ]
    }
   ],
   "source": [
    "\n",
    "\n",
    "# Prediction_r = log_r.predict(X_test)\n",
    "# cm = skm.confusion_matrix(y_test, Prediction_r)\n",
    "\n",
    "misclassified_r = np.where(y_test != log_r.predict(X_test))\n",
    "print(misclassified_r)\n",
    "\n",
    "\n",
    "\n",
    "\n",
    "# Prediction_svm = best_svm.predict(X_test)\n",
    "\n",
    "\n",
    "\n",
    "\n",
    "# print(Prediction_svm)\n",
    "# LR_prediction = # ADD CODE\n",
    "# SVM_prediction = # ADD CODE \n",
    "\n",
    "         \n",
    "    \n",
    "    \n",
    "    \n",
    "    \n",
    "                                     \n",
    "\n",
    "# ADD CODE"
   ]
  },
  {
   "cell_type": "code",
   "execution_count": 21,
   "metadata": {},
   "outputs": [
    {
     "name": "stdout",
     "output_type": "stream",
     "text": [
      "l\n",
      "(array([    9,    19,    33, ..., 57954, 57964, 57977], dtype=int64),)\n"
     ]
    }
   ],
   "source": [
    "print('l')\n",
    "misclassified_svm = np.where(y_test != best_svm.predict(X_test))\n",
    "print(misclassified_svm)"
   ]
  },
  {
   "cell_type": "markdown",
   "metadata": {},
   "source": [
    "## TO DO 11\n",
    "Plot the confusion matrix for the SVM classifier and for logistic regression.\n",
    "The confusion matrix has one column for each predicted label and one row for each true label. \n",
    "It shows for each class in the corresponding row how many samples belonging to that class gets each possible output label.\n",
    "Notice that the diagonal contains the correctly classified samples, while the other cells correspond to errors.\n",
    "You can obtain it with the sklearn.metrics.confusion_matrix function (see the documentation).\n",
    "Try also to normalize the confusion matrix by the number of samples in each class in order to measure the accuracy on each single class.\n"
   ]
  },
  {
   "cell_type": "code",
   "execution_count": 22,
   "metadata": {},
   "outputs": [
    {
     "name": "stdout",
     "output_type": "stream",
     "text": [
      "Labels and frequencies in test set:  [5819 5792 5809 5799 5784 5787 5810 5796 5810 5794]\n",
      "\n",
      " Confusion matrix SVM  \n",
      " \n",
      " [[4849    9   17   37  263  203   25  230   46  140]\n",
      " [  20 4113  387  101  315   58  282   27  216  273]\n",
      " [   2  369 3771  180  185  192  469  138  308  195]\n",
      " [  17  185  191 4437  191  428   48  103  136   63]\n",
      " [ 177  218  326  133 4350   93  149   98   52  188]\n",
      " [  61  140  215  176  118 4784   79   89   85   40]\n",
      " [  14  275  825   86  217   46 3960  115  181   91]\n",
      " [ 104   34  205  125  209  153  135 4664   59  108]\n",
      " [  61  377  463  225  158  230  216   26 3926  128]\n",
      " [  80  411  470   37  232   81   59  110  113 4201]]\n",
      "\n",
      " Confusion matrix SVM (normalized)   \n",
      " \n",
      " [[0.83 0.   0.   0.01 0.05 0.03 0.   0.04 0.01 0.02]\n",
      " [0.   0.71 0.07 0.02 0.05 0.01 0.05 0.   0.04 0.05]\n",
      " [0.   0.06 0.65 0.03 0.03 0.03 0.08 0.02 0.05 0.03]\n",
      " [0.   0.03 0.03 0.77 0.03 0.07 0.01 0.02 0.02 0.01]\n",
      " [0.03 0.04 0.06 0.02 0.75 0.02 0.03 0.02 0.01 0.03]\n",
      " [0.01 0.02 0.04 0.03 0.02 0.83 0.01 0.02 0.01 0.01]\n",
      " [0.   0.05 0.14 0.01 0.04 0.01 0.68 0.02 0.03 0.02]\n",
      " [0.02 0.01 0.04 0.02 0.04 0.03 0.02 0.8  0.01 0.02]\n",
      " [0.01 0.06 0.08 0.04 0.03 0.04 0.04 0.   0.68 0.02]\n",
      " [0.01 0.07 0.08 0.01 0.04 0.01 0.01 0.02 0.02 0.73]]\n",
      "\n",
      " Confusion matrix LR  \n",
      " \n",
      " [[5277    6    4   31  177   59   16  123   69   57]\n",
      " [  28 5028  152   63  131    7  163    4   97  119]\n",
      " [   0  180 4721  194  107   17  301   23  210   56]\n",
      " [   7  127   70 5311   60   77   27   35   64   21]\n",
      " [ 154  142  142   47 5010   12   80   35   78   84]\n",
      " [  39   81  127  164   74 5175   40   26   52    9]\n",
      " [   7  116  512   18  219    6 4846   31   35   20]\n",
      " [  40   22   68   45  219   11   82 5234   42   33]\n",
      " [  28  143   57   77   44   57  213    4 5152   35]\n",
      " [  13  152  227   33  178   13    8   21   55 5094]]\n",
      "\n",
      " Confusion matrix LR (normalized)   \n",
      " \n",
      " [[0.91 0.   0.   0.01 0.03 0.01 0.   0.02 0.01 0.01]\n",
      " [0.   0.87 0.03 0.01 0.02 0.   0.03 0.   0.02 0.02]\n",
      " [0.   0.03 0.81 0.03 0.02 0.   0.05 0.   0.04 0.01]\n",
      " [0.   0.02 0.01 0.92 0.01 0.01 0.   0.01 0.01 0.  ]\n",
      " [0.03 0.02 0.02 0.01 0.87 0.   0.01 0.01 0.01 0.01]\n",
      " [0.01 0.01 0.02 0.03 0.01 0.89 0.01 0.   0.01 0.  ]\n",
      " [0.   0.02 0.09 0.   0.04 0.   0.83 0.01 0.01 0.  ]\n",
      " [0.01 0.   0.01 0.01 0.04 0.   0.01 0.9  0.01 0.01]\n",
      " [0.   0.02 0.01 0.01 0.01 0.01 0.04 0.   0.89 0.01]\n",
      " [0.   0.03 0.04 0.01 0.03 0.   0.   0.   0.01 0.88]]\n"
     ]
    }
   ],
   "source": [
    "np.set_printoptions(precision=2, suppress=True) # for better aligned printing of confusion matrix use floatmode='fixed'\n",
    "\n",
    "Prediction_r=log_r.predict(X_test)\n",
    "Prediction_svm=best_svm.predict(X_test)\n",
    "\n",
    "\n",
    "u, counts = np.unique(y_test, return_counts=True)\n",
    "print(\"Labels and frequencies in test set: \", counts)\n",
    "\n",
    "confusion_SVM = skm.confusion_matrix(y_test, Prediction_r)# ADD CODE\n",
    "print(\"\\n Confusion matrix SVM  \\n \\n\", confusion_SVM)\n",
    "print(\"\\n Confusion matrix SVM (normalized)   \\n \\n\", confusion_SVM /counts[:,None] )\n",
    "\n",
    "confusion_LR = skm.confusion_matrix(y_test, Prediction_svm)  # ADD CODE\n",
    "print(\"\\n Confusion matrix LR  \\n \\n\", confusion_LR)\n",
    "print(\"\\n Confusion matrix LR (normalized)   \\n \\n\", confusion_LR /counts[:,None] )"
   ]
  },
  {
   "cell_type": "code",
   "execution_count": 23,
   "metadata": {},
   "outputs": [
    {
     "data": {
      "image/png": "[encoded data removed]",
      "text/plain": [
       "<Figure size 432x288 with 2 Axes>"
      ]
     },
     "metadata": {
      "needs_background": "light"
     },
     "output_type": "display_data"
    },
    {
     "data": {
      "text/plain": [
       "Text(33.0, 0.5, 'True')"
      ]
     },
     "execution_count": 23,
     "metadata": {},
     "output_type": "execute_result"
    },
    {
     "data": {
      "image/png": "[encoded data removed]",
      "text/plain": [
       "<Figure size 432x288 with 2 Axes>"
      ]
     },
     "metadata": {
      "needs_background": "light"
     },
     "output_type": "display_data"
    }
   ],
   "source": [
    "# ADD CODE TO NORMALIZE CONFUSION MATRIX AND PRINT THE NORMALIZED MATRIX\n",
    "\n",
    "norm_con_svm = confusion_SVM /counts[:,None]\n",
    "norm_log_r = confusion_LR /counts[:,None]\n",
    "\n",
    "import seaborn as sn\n",
    "sn.heatmap(norm_con_svm, annot=True)\n",
    "plt.xlabel('Prediction')\n",
    "plt.ylabel('True')\n",
    "plt.show()\n",
    "\n",
    "sn.heatmap(norm_log_r, annot=True)\n",
    "plt.xlabel('Prediction')\n",
    "plt.ylabel('True')\n"
   ]
  },
  {
   "cell_type": "markdown",
   "metadata": {},
   "source": [
    "## QUESTION 4\n",
    "Have a look at the confusion matrices and comment on the obtained accuracies. Why some classes have lower accuracies and others an higher one ? Make some guesses on the possible causes.\n",
    "\n",
    "\n",
    "Ans : The confusion matrix also provides the similar result as we have calculated by standard SVM and Logistic Regression. SVM performs more better than Logistic Regression. and have High accuracy. The classes act as similar as thier score mataches each other."
   ]
  },
  {
   "cell_type": "code",
   "execution_count": null,
   "metadata": {},
   "outputs": [],
   "source": []
  }
 ],
 "metadata": {
  "kernelspec": {
   "display_name": "Python 3 (ipykernel)",
   "language": "python",
   "name": "python3"
  },
  "language_info": {
   "codemirror_mode": {
    "name": "ipython",
    "version": 3
   },
   "file_extension": ".py",
   "mimetype": "text/x-python",
   "name": "python",
   "nbconvert_exporter": "python",
   "pygments_lexer": "ipython3",
   "version": "3.9.7"
  }
 },
 "nbformat": 4,
 "nbformat_minor": 4
}
