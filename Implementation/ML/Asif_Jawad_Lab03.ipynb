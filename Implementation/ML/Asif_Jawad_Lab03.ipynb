{
 "cells": [
  {
   "cell_type": "markdown",
   "metadata": {},
   "source": [
    "# Characters Classification with Neural Networks\n",
    "\n",
    "In this notebook we are going to use the Neural Networks for image classification. We are going to use the same dataset of the lab on SVM: Kuzushiji-MNIST or K-MNIST for short (https://github.com/rois-codh/kmnist) a dataset of traditional japanese handwritten kana.\n",
    "\n",
    "The dataset labels are the following:\n",
    "\n",
    "| Label | Hiragana Character | Romanji (Pronunciation) |\n",
    "| :-: | :-: | :-: |\n",
    "|   0   | お | o |\n",
    "| 1 | き | ki |\n",
    "| 2 | す | su |\n",
    "| 3 | つ | tsu |\n",
    "| 4 | な | na |\n",
    "| 5 | は | ha |\n",
    "| 6 | ま | ma |\n",
    "| 7 | や | ya |\n",
    "| 8 | れ | re |\n",
    "| 9 | を | wo |"
   ]
  },
  {
   "cell_type": "code",
   "execution_count": 5,
   "metadata": {},
   "outputs": [
    {
     "name": "stdout",
     "output_type": "stream",
     "text": [
      "scikit-learn version:  1.0\n"
     ]
    }
   ],
   "source": [
    "#load the required packages and check Scikit-learn version\n",
    "\n",
    "%matplotlib inline  \n",
    "\n",
    "import numpy as np\n",
    "import scipy as sp\n",
    "import matplotlib.pyplot as plt\n",
    "\n",
    "import sklearn\n",
    "print ('scikit-learn version: ', sklearn.__version__)\n",
    "from sklearn.neural_network import MLPClassifier\n",
    "from sklearn.model_selection import GridSearchCV\n",
    "from sklearn.svm import SVC"
   ]
  },
  {
   "cell_type": "code",
   "execution_count": 6,
   "metadata": {},
   "outputs": [],
   "source": [
    "# helper function to load KMNIST dataset from disk\n",
    "def load_mnist(path, kind='train'):\n",
    "    import os\n",
    "    import gzip\n",
    "    import numpy as np\n",
    "    labels_path = os.path.join(path, 'K%s-labels-idx1-ubyte.gz' % kind)\n",
    "    images_path = os.path.join(path, 'K%s-images-idx3-ubyte.gz' % kind)\n",
    "    with gzip.open(labels_path, 'rb') as lbpath:\n",
    "        labels = np.frombuffer(lbpath.read(), dtype=np.uint8,offset=8)\n",
    "    with gzip.open(images_path, 'rb') as imgpath:\n",
    "        images = np.frombuffer(imgpath.read(), dtype=np.uint8,offset=16).reshape(len(labels), 784)\n",
    "    return images, labels"
   ]
  },
  {
   "cell_type": "markdown",
   "metadata": {},
   "source": [
    "# TODO \n",
    "Set as seed for the random generator your Student ID (you can use your \"numero di matricola\"). Try to change the seed to see the impact of the randomization."
   ]
  },
  {
   "cell_type": "code",
   "execution_count": 7,
   "metadata": {},
   "outputs": [],
   "source": [
    "ID = 2013002\n",
    "np.random.seed(ID)"
   ]
  },
  {
   "cell_type": "code",
   "execution_count": 8,
   "metadata": {},
   "outputs": [
    {
     "name": "stdout",
     "output_type": "stream",
     "text": [
      "Number of samples in the K-MNIST dataset: 60000\n"
     ]
    }
   ],
   "source": [
    "#load the MNIST dataset and let's normalize the features so that each value is in [0,1]\n",
    "X, y = load_mnist(\"data\")\n",
    "print(\"Number of samples in the K-MNIST dataset:\", X.shape[0])\n",
    "# rescale the data\n",
    "X = X / 255.0"
   ]
  },
  {
   "cell_type": "markdown",
   "metadata": {},
   "source": [
    "Now split into training and test. We start with a small training set of 600 samples to reduce computation time while 4000 samples will be used for testing. Make sure that each label is present at least 10 times in train and test set frequencies."
   ]
  },
  {
   "cell_type": "code",
   "execution_count": 9,
   "metadata": {},
   "outputs": [
    {
     "name": "stdout",
     "output_type": "stream",
     "text": [
      "Labels in training dataset:  [0 1 2 3 4 5 6 7 8 9]\n",
      "Frequencies in training dataset:  [81 56 49 59 65 53 50 53 53 81]\n",
      "Labels in test set:  [0 1 2 3 4 5 6 7 8 9]\n",
      "Frequencies in test set:  [81 56 49 59 65 53 50 53 53 81]\n"
     ]
    }
   ],
   "source": [
    "#random permute the data and split into training and test taking the first 600\n",
    "#data samples as training and 4000 as test set\n",
    "permutation = np.random.permutation(X.shape[0])\n",
    "\n",
    "X = X[permutation]\n",
    "y = y[permutation]\n",
    "\n",
    "m_training = 600\n",
    "m_test = 4000\n",
    "\n",
    "X_train, X_test = X[:m_training], X[m_training:m_training+m_test]\n",
    "y_train, y_test = y[:m_training], y[m_training:m_training+m_test]\n",
    "\n",
    "labels, freqs = np.unique(y_train, return_counts=True)\n",
    "print(\"Labels in training dataset: \", labels)\n",
    "print(\"Frequencies in training dataset: \", freqs)\n",
    "\n",
    "labelsT, freqsT = np.unique(y_test, return_counts=True)\n",
    "print(\"Labels in test set: \", labels)\n",
    "print(\"Frequencies in test set: \", freqs)\n"
   ]
  },
  {
   "cell_type": "code",
   "execution_count": 10,
   "metadata": {},
   "outputs": [],
   "source": [
    "#function for plotting a image and printing the corresponding label\n",
    "def plot_input(X_matrix, labels, index):\n",
    "    print(\"INPUT:\")\n",
    "    plt.imshow(\n",
    "        X_matrix[index].reshape(28,28),\n",
    "        cmap          = plt.cm.gray_r,\n",
    "        interpolation = \"nearest\"\n",
    "    )\n",
    "    plt.show()\n",
    "    print(\"LABEL: %i\"%labels[index])\n",
    "    return"
   ]
  },
  {
   "cell_type": "code",
   "execution_count": 11,
   "metadata": {},
   "outputs": [
    {
     "name": "stdout",
     "output_type": "stream",
     "text": [
      "INPUT:\n"
     ]
    },
    {
     "data": {
      "image/png": "[encoded data removed]",
      "text/plain": [
       "<Figure size 432x288 with 1 Axes>"
      ]
     },
     "metadata": {
      "needs_background": "light"
     },
     "output_type": "display_data"
    },
    {
     "name": "stdout",
     "output_type": "stream",
     "text": [
      "LABEL: 2\n",
      "INPUT:\n"
     ]
    },
    {
     "data": {
      "image/png": "[encoded data removed]",
      "text/plain": [
       "<Figure size 432x288 with 1 Axes>"
      ]
     },
     "metadata": {
      "needs_background": "light"
     },
     "output_type": "display_data"
    },
    {
     "name": "stdout",
     "output_type": "stream",
     "text": [
      "LABEL: 2\n",
      "INPUT:\n"
     ]
    },
    {
     "data": {
      "image/png": "[encoded data removed]",
      "text/plain": [
       "<Figure size 432x288 with 1 Axes>"
      ]
     },
     "metadata": {
      "needs_background": "light"
     },
     "output_type": "display_data"
    },
    {
     "name": "stdout",
     "output_type": "stream",
     "text": [
      "LABEL: 4\n"
     ]
    }
   ],
   "source": [
    "#let's try the plotting function\n",
    "plot_input(X_train,y_train,10)\n",
    "plot_input(X_test,y_test,100)\n",
    "plot_input(X_test,y_test,1000)"
   ]
  },
  {
   "cell_type": "markdown",
   "metadata": {},
   "source": [
    "### TO DO 1\n",
    "\n",
    "Now use a feed-forward Neural Network for prediction. Use the multi-layer perceptron classifier, with the following parameters: max_iter=100, alpha=1e-4, solver='sgd', tol=1e-4, learning_rate_init=.1, random_state=ID (this last parameter ensures the run is the same even if you run it more than once). The alpha parameter is the regularization term.\n",
    "\n",
    "Then, using the default activation function, pick four or five architectures to consider, with different numbers of hidden layers and different sizes. It is not necessary to create huge neural networks, you can limit to 3 layers and, for each layer, its maximum size can be of 50. Evaluate the architectures you chose using GridSearchCV with cv=5.\n",
    "\n",
    "You can reduce the number of iterations if the running time is too long on your computer.\n"
   ]
  },
  {
   "cell_type": "code",
   "execution_count": 12,
   "metadata": {},
   "outputs": [
    {
     "name": "stdout",
     "output_type": "stream",
     "text": [
      "RESULTS FOR NN\n",
      "\n",
      "Best parameters set found: (40,)\n",
      "Score with best parameters: 0.7633333333333333\n",
      "The score for Hidden Layer   (10,) is = 0.6966666666666667\n",
      "The score for Hidden Layer   (20,) is = 0.7383333333333332\n",
      "The score for Hidden Layer   (40,) is = 0.7633333333333333\n",
      "The score for Hidden Layer   (20, 20) is = 0.7266666666666667\n",
      "The score for Hidden Layer   (40, 20, 10) is = 0.7133333333333333\n"
     ]
    }
   ],
   "source": [
    "# these are sample values but feel free to change them as you like, try to experiment with different sizes!!\n",
    "parameters = {'hidden_layer_sizes': [(10,), (20,), (40,), (20,20,), (40,20,10) ]}\n",
    "\n",
    "mlp = MLPClassifier(max_iter=1000, alpha=1e-4, solver='sgd', tol=1e-4, random_state=ID,learning_rate_init=.1)\n",
    "\n",
    "\n",
    "#ADD YOUR CODE\n",
    "# mlp.fit(X_train,y_train)\n",
    "# y_predict = mlp.predict(X_test)\n",
    "\n",
    "print ('RESULTS FOR NN\\n')\n",
    "\n",
    "cross_val= GridSearchCV(mlp, parameters, cv=5,return_train_score=True)\n",
    "cross_val.fit(X_train, y_train)\n",
    "\n",
    "best_prams_layer=cross_val.best_params_['hidden_layer_sizes']\n",
    "\n",
    "print(\"Best parameters set found:\",best_prams_layer)\n",
    "#ADD YOUR CODE\n",
    "\n",
    "\n",
    "best_score = cross_val.best_score_\n",
    "print(\"Score with best parameters:\",best_score)\n",
    "#ADD YOUR CODE\n",
    "\n",
    "\n",
    "hlsize = parameters[\"hidden_layer_sizes\"]\n",
    "avg_score=cross_val.cv_results_[\"mean_test_score\"]\n",
    "arr = len(hlsize)\n",
    "for i in range(arr):\n",
    "    print(\"The score for Hidden Layer  \",str(hlsize[i]),\"is =\",avg_score[i])\n",
    "# print(\"\\nAll scores on the grid:\",cross_val.cv_results_ )\n",
    "#ADD YOUR CODE"
   ]
  },
  {
   "cell_type": "markdown",
   "metadata": {},
   "source": [
    "### TO DO 2\n",
    "\n",
    "Now try also different batch sizes, while keeping the best NN architecture you have found above. Remember that the batch size was previously set to the default value, i.e., min(200, n_samples). \n",
    "Recall that a batch size of 1 corresponds to baseline SGD, while using all the 480 training samples (there are 600 samples but in cross validation with 5 folders we use 1/5 of them for validation at each round) corresponds to standard GD and using a different mini-batch size lies in the middle between the two extreme cases."
   ]
  },
  {
   "cell_type": "code",
   "execution_count": 13,
   "metadata": {
    "scrolled": false
   },
   "outputs": [
    {
     "name": "stderr",
     "output_type": "stream",
     "text": [
      "C:\\Users\\urjaw\\AppData\\Local\\Programs\\Python\\Python39\\lib\\site-packages\\sklearn\\neural_network\\_multilayer_perceptron.py:692: ConvergenceWarning: Stochastic Optimizer: Maximum iterations (100) reached and the optimization hasn't converged yet.\n",
      "  warnings.warn(\n",
      "C:\\Users\\urjaw\\AppData\\Local\\Programs\\Python\\Python39\\lib\\site-packages\\sklearn\\neural_network\\_multilayer_perceptron.py:692: ConvergenceWarning: Stochastic Optimizer: Maximum iterations (100) reached and the optimization hasn't converged yet.\n",
      "  warnings.warn(\n",
      "C:\\Users\\urjaw\\AppData\\Local\\Programs\\Python\\Python39\\lib\\site-packages\\sklearn\\neural_network\\_multilayer_perceptron.py:692: ConvergenceWarning: Stochastic Optimizer: Maximum iterations (100) reached and the optimization hasn't converged yet.\n",
      "  warnings.warn(\n",
      "C:\\Users\\urjaw\\AppData\\Local\\Programs\\Python\\Python39\\lib\\site-packages\\sklearn\\neural_network\\_multilayer_perceptron.py:692: ConvergenceWarning: Stochastic Optimizer: Maximum iterations (100) reached and the optimization hasn't converged yet.\n",
      "  warnings.warn(\n",
      "C:\\Users\\urjaw\\AppData\\Local\\Programs\\Python\\Python39\\lib\\site-packages\\sklearn\\neural_network\\_multilayer_perceptron.py:692: ConvergenceWarning: Stochastic Optimizer: Maximum iterations (100) reached and the optimization hasn't converged yet.\n",
      "  warnings.warn(\n"
     ]
    },
    {
     "name": "stdout",
     "output_type": "stream",
     "text": [
      "RESULTS FOR NN\n",
      "\n",
      "Best parameters set found: 32\n",
      "Score with best parameters: 0.7816666666666666\n",
      "The score for Batch Size   1 is = 0.08833333333333333\n",
      "The score for Batch Size   32 is = 0.7816666666666666\n",
      "The score for Batch Size   480 is = 0.7716666666666667\n",
      "\n",
      "All scores on the grid:\n"
     ]
    }
   ],
   "source": [
    "# these are sample values corresponding to baseline SGD, a reasonable mini-batch size and standard GD\n",
    "# again feel free to change them as you like, try to experiment with different batch sizes!!\n",
    "parameters = {'batch_size': [1, 32, 480]}\n",
    "\n",
    "# need to specify that you would like to use the standard k-fold split otherwise sklearn create splits of different sizes\n",
    "kf = sklearn.model_selection.KFold(n_splits=5)\n",
    "\n",
    "#ADD YOUR CODE\n",
    "\n",
    "mlp = MLPClassifier(max_iter=100,hidden_layer_sizes=best_prams_layer, alpha=1e-4, solver='sgd', \n",
    "                             tol=1e-4, random_state=ID,learning_rate_init=.1)\n",
    "\n",
    "\n",
    "# mlp.fit(X_train, y_train)\n",
    "# recall to use cv=kf to use the k-fold subdivision seen in the lectures\n",
    "\n",
    "cross_val= GridSearchCV(mlp, param_grid=parameters, cv=kf,return_train_score=True)\n",
    "cross_val.fit(X_train, y_train)\n",
    "\n",
    "#ADD YOUR CODE\n",
    "# y_predict=mlp.predict(X_test)\n",
    "\n",
    "print ('RESULTS FOR NN\\n')\n",
    "\n",
    "best_pram_batch=cross_val.best_params_[\"batch_size\"]\n",
    "\n",
    "\n",
    "print(\"Best parameters set found:\",str(best_pram_batch))\n",
    "#ADD YOUR CODE\n",
    "\n",
    "print(\"Score with best parameters:\",cross_val.best_score_)\n",
    "#ADD YOUR CODE\n",
    "\n",
    "bsize = parameters[\"batch_size\"]\n",
    "avg_score=cross_val.cv_results_[\"mean_test_score\"]\n",
    "arr = len(bsize)\n",
    "for i in range(arr):\n",
    "    print(\"The score for Batch Size  \",str(bsize[i]),\"is =\",avg_score[i])\n",
    "\n",
    "\n",
    "print(\"\\nAll scores on the grid:\")\n",
    "#ADD YOUR CODE"
   ]
  },
  {
   "cell_type": "markdown",
   "metadata": {},
   "source": [
    "### QUESTION 1\n",
    "\n",
    "What do you observe for different architectures and batch sizes? How do the number of layers and their sizes affect the performances? What do you observe for different batch sizes, in particular what happens to the training convergence for different batch sizes (notice that the algorithm could not converge for some batch sizes)?\n"
   ]
  },
  {
   "cell_type": "markdown",
   "metadata": {},
   "source": [
    "## [ANSWER TO QUESTION 1]\n",
    "\n",
    "\n",
    "Ans : With different architectures scores varies alot and it doesnot inceases immensely with increase in number of layers and with increase in batch size the score also increased"
   ]
  },
  {
   "cell_type": "markdown",
   "metadata": {},
   "source": [
    "### TODO 3:\n",
    "\n",
    "Plot the train and test accuracies as a function of the number of learnable parameters in your neural network. Print also the computation time for the various configurations you try (the code for getting the computation time is already provided). You can use 100 iterations (if you get a warning on convergence not reached it is not an issue for this lab)"
   ]
  },
  {
   "cell_type": "code",
   "execution_count": 16,
   "metadata": {
    "scrolled": false
   },
   "outputs": [
    {
     "name": "stdout",
     "output_type": "stream",
     "text": [
      "Training MLP of size (10,) ...\n",
      "Done, training time: 1.69 sec\n",
      "\n",
      "Training MLP of size (20,) ...\n",
      "Done, training time: 3.01 sec\n",
      "\n",
      "Training MLP of size (20, 20) ...\n",
      "Done, training time: 4.54 sec\n",
      "\n",
      "Training MLP of size (40,) ...\n",
      "Done, training time: 5.74 sec\n",
      "\n",
      "Training MLP of size (40, 20, 10) ...\n",
      "Done, training time: 7.54 sec\n",
      "\n"
     ]
    },
    {
     "data": {
      "image/png": "[encoded data removed]",
      "text/plain": [
       "<Figure size 1080x360 with 3 Axes>"
      ]
     },
     "metadata": {
      "needs_background": "light"
     },
     "output_type": "display_data"
    }
   ],
   "source": [
    "import time\n",
    "from functools import reduce\n",
    "\n",
    "\n",
    "# Function to compute the number of learnable parameters of a mlp given the size of its hidden layers\n",
    "def param_count(hl_size):\n",
    "    tot = 0\n",
    "    input_size, output_size = X_train.shape[1], len(labels)\n",
    "    tot += (input_size+1)*hl_size[0]\n",
    "    for i in range(1,len(hl_size)):\n",
    "        tot += (hl_size[i-1]+1)*hl_size[i]\n",
    "    tot += (hl_size[-1]+1)*output_size\n",
    "    return tot\n",
    "\n",
    "hl_sizes = [(10,), (20,), (20,20,),(40,), (40,20,10)]\n",
    "\n",
    "hl_labels = [param_count(t) for t in hl_sizes]\n",
    "# print(hl_labels)\n",
    "\n",
    "num_size=len(hl_sizes)\n",
    "train_acc_list = np.zeros(num_size)\n",
    "test_acc_list = np.zeros(num_size)\n",
    "time_map=np.zeros(num_size)\n",
    "\n",
    "\n",
    "ti = time.time()\n",
    "\n",
    "for i in range(num_size):\n",
    "    print('Training MLP of size {} ...'.format(hl_sizes[i]))\n",
    "    mlp = MLPClassifier(hidden_layer_sizes=hl_sizes[i] ,\n",
    "                        batch_size=best_pram_batch,max_iter=100, \n",
    "                        alpha=1e-4, solver='sgd',tol=1e-4, random_state=ID,learning_rate_init=.1)\n",
    "    mlp.fit(X_train,y_train)\n",
    "    \n",
    "    \n",
    "    \n",
    "    \n",
    "    #Save the score for training and test set\n",
    "    train_acc_list[i]=mlp.score(X_train,y_train)\n",
    "    test_acc_list[i]=mlp.score(X_test,y_test)\n",
    "    print('Done, training time: {:.2f} sec\\n'.format(time.time()-ti))\n",
    "    \n",
    "    time_map[i]=time.time()-ti\n",
    "\n",
    "fig, ax = plt.subplots(1,3, figsize=(15,5))\n",
    "\n",
    "\n",
    "ax[0].plot(train_acc_list)\n",
    "ax[0].set_xlabel('Number of learnable params')\n",
    "ax[0].set_ylabel('Score')\n",
    "ax[0].set_title('Train accuracy')\n",
    "ax[0].set_xticks(np.arange(0,len(hl_labels)))\n",
    "ax[0].set_xticklabels(hl_labels)\n",
    "ax[0].grid(True)\n",
    "\n",
    "ax[1].plot(test_acc_list)\n",
    "ax[1].set_xlabel('Number of learnable params')\n",
    "ax[1].set_ylabel('Score')\n",
    "ax[1].set_title('Test accuracy')\n",
    "ax[1].set_xticks(np.arange(0,len(hl_labels)))\n",
    "ax[1].set_xticklabels(hl_labels)\n",
    "ax[1].grid(True)\n",
    "\n",
    "ax[2].plot(time_map)\n",
    "ax[2].set_xlabel('# learnable params')\n",
    "ax[2].set_ylabel('Time')\n",
    "ax[2].set_title('Time with different size')\n",
    "ax[2].set_xticks(np.arange(0,len(hl_labels)))\n",
    "ax[2].set_xticklabels(hl_labels)\n",
    "ax[2].grid(True)\n"
   ]
  },
  {
   "cell_type": "markdown",
   "metadata": {},
   "source": [
    "## Question 2:\n",
    "\n",
    "Comment about the training and test accuracies referring to the discussion on underfitting and overfitting we did in the course"
   ]
  },
  {
   "cell_type": "markdown",
   "metadata": {},
   "source": [
    "## [ANSWER TO QUESTION 2]\n",
    "\n",
    "Ans: The data with hihg number of training set is overfitted and produces bad result on test data similarly if perform test on training set and it may casue underfitting that is also hazardous to the model."
   ]
  },
  {
   "cell_type": "markdown",
   "metadata": {},
   "source": [
    "### TO DO 4\n",
    "\n",
    "Now try also to use different learning rates, while keeping the best NN architecture and batch size you have found above. Plot the learning curves (i.e., the variation of the loss over the steps, you can get it from the loss_curve_ object of sklearn) for the different values of the learning rate. Try to run each training for 100 iterations. "
   ]
  },
  {
   "cell_type": "code",
   "execution_count": 17,
   "metadata": {
    "scrolled": false
   },
   "outputs": [
    {
     "data": {
      "image/png": "[encoded data removed]",
      "text/plain": [
       "<Figure size 432x288 with 1 Axes>"
      ]
     },
     "metadata": {
      "needs_background": "light"
     },
     "output_type": "display_data"
    },
    {
     "name": "stdout",
     "output_type": "stream",
     "text": [
      "RESULTS FOR NN\n",
      "\n",
      "Best parameters set found: 0.02\n",
      "Score with best parameters: 0.7705\n"
     ]
    }
   ],
   "source": [
    "import matplotlib.pyplot as plt\n",
    "import operator\n",
    "\n",
    "lr_list = [0.0002, 0.002, 0.02, 0.2]\n",
    "length= len(lr_list)\n",
    "# scores = {}\n",
    "\n",
    "#ADD YOUR CODE\n",
    "lr_color =[\"red\",\"green\",\"yellow\",\"blue\"]\n",
    "curve=list()\n",
    "iterations=list()\n",
    "best_score=-1\n",
    "best_lr=-1\n",
    "\n",
    "for i in range(length):\n",
    "    mlp = MLPClassifier(hidden_layer_sizes=best_prams_layer ,batch_size=best_pram_batch,max_iter=2000, alpha=1e-4, solver='sgd',tol=1e-4, random_state=ID,learning_rate_init=lr_list[i])\n",
    "    mlp.fit(X_train,y_train)\n",
    "    \n",
    "    #Update the best parameter\n",
    "    temp_score=mlp.score(X_test,y_test)\n",
    "    if(temp_score>best_score):\n",
    "        best_score=temp_score\n",
    "        best_lr=lr_list[i]\n",
    "    iterations.append(np.arange(0, len(mlp.loss_curve_), 1))\n",
    "    curve.append(mlp.loss_curve_)\n",
    "    \n",
    "plt.plot(iterations[0], curve[0],  color = lr_color[0],label=\"lr=\"+str(lr_list[0]))\n",
    "plt.plot(iterations[1], curve[1],  color = lr_color[1],label=\"lr=\"+str(lr_list[1]))\n",
    "plt.plot(iterations[2], curve[2],  color = lr_color[2],label=\"lr=\"+str(lr_list[2]))\n",
    "plt.plot(iterations[3], curve[3],  color = lr_color[3],label=\"lr=\"+str(lr_list[3]))\n",
    "plt.legend(loc=\"best\")\n",
    "plt.grid()\n",
    "plt.xlabel(\"Number of Iteration\")\n",
    "plt.ylabel(\"Loss curve\")\n",
    "plt.show()\n",
    "\n",
    "\n",
    "\n",
    "\n",
    "\n",
    "print ('RESULTS FOR NN\\n')\n",
    "\n",
    "print(\"Best parameters set found:\",str(best_lr))\n",
    "#ADD YOUR CODE\n",
    "\n",
    "print(\"Score with best parameters:\",str(best_score))\n",
    "#ADD YOUR CODE\n"
   ]
  },
  {
   "cell_type": "markdown",
   "metadata": {},
   "source": [
    "### QUESTION 3\n",
    "\n",
    "Comment about the learning curves (i.e. the variation of the loss over the steps). How does the curve changes for different learning rates in terms of stability and speed of convergence ?"
   ]
  },
  {
   "cell_type": "markdown",
   "metadata": {},
   "source": [
    "## [ANSWER TO QUESTION 3\n",
    "\n",
    "Ans: The curve decreasing the learning rate with curve becomes more stable with number of iteration "
   ]
  },
  {
   "cell_type": "markdown",
   "metadata": {},
   "source": [
    "### TO DO 5\n",
    "\n",
    "Now get training and test error for a NN with best parameters (architecture, batch size and learning rate) from above. Plot the learning curve also for this case (you can run the training for 500 iterations)."
   ]
  },
  {
   "cell_type": "code",
   "execution_count": 23,
   "metadata": {
    "scrolled": true
   },
   "outputs": [
    {
     "name": "stdout",
     "output_type": "stream",
     "text": [
      "RESULTS FOR NN \n",
      "\n",
      "Best NN training error: 0.0\n",
      "\n",
      "Best NN test error: 0.22950000000000004\n"
     ]
    },
    {
     "data": {
      "image/png": "[encoded data removed]",
      "text/plain": [
       "<Figure size 432x288 with 1 Axes>"
      ]
     },
     "metadata": {
      "needs_background": "light"
     },
     "output_type": "display_data"
    }
   ],
   "source": [
    "#get training and test error for the best NN model from CV\n",
    "\n",
    "mlp_500 = MLPClassifier(hidden_layer_sizes=best_prams_layer ,batch_size=best_pram_batch,max_iter=500, alpha=1e-4, solver='sgd',tol=1e-4, random_state=ID,learning_rate_init=best_lr)\n",
    "mlp_500.fit(X_train,y_train)\n",
    "\n",
    "print ('RESULTS FOR NN \\n')\n",
    "\n",
    "\n",
    "\n",
    "training_error=1-mlp_500.score(X_train,y_train)\n",
    "\n",
    "print (\"Best NN training error:\",training_error)\n",
    "\n",
    "test_error=1-mlp_500.score(X_test,y_test)\n",
    "\n",
    "print (\"\\nBest NN test error:\", test_error)\n",
    "\n",
    "iterations=np.arange(0, len(mlp_500.loss_curve_), 1)\n",
    "plt.xlabel(\"Number of Iteration\")\n",
    "plt.ylabel(\"Loss curve\")\n",
    "plt.plot(iterations, mlp_500.loss_curve_,  color = \"red\",)\n",
    "plt.grid()\n",
    "plt.show()"
   ]
  },
  {
   "cell_type": "markdown",
   "metadata": {},
   "source": [
    "## More data \n",
    "Now let's do the same but using 4000 (or less if it takes too long on your machine) data points for training. Use the same NN architecture as before, but you can try more if you like and have a powerful computer!!"
   ]
  },
  {
   "cell_type": "code",
   "execution_count": 40,
   "metadata": {},
   "outputs": [
    {
     "name": "stdout",
     "output_type": "stream",
     "text": [
      "Labels in training dataset:  [0 1 2 3 4 5 6 7 8 9]\n",
      "Frequencies in training dataset:  [378 393 392 397 406 424 412 404 388 406]\n"
     ]
    }
   ],
   "source": [
    "X = X[permutation]\n",
    "y = y[permutation]\n",
    "\n",
    "m_training = 4000\n",
    "\n",
    "X_train, X_test = X[:m_training], X[m_training:]\n",
    "y_train, y_test = y[:m_training], y[m_training:]\n",
    "\n",
    "labels, freqs = np.unique(y_train, return_counts=True)\n",
    "print(\"Labels in training dataset: \", labels)\n",
    "print(\"Frequencies in training dataset: \", freqs)"
   ]
  },
  {
   "cell_type": "markdown",
   "metadata": {},
   "source": [
    "### TO DO 6\n",
    "\n",
    "Now train the NNs with the added data points using the optimum parameters found above. Eventually, feel free to try different architectures if you like. We suggest that you use 'verbose=True' so have an idea of how long it takes to run 1 iteration (eventually reduce also the number of iterations to 50)."
   ]
  },
  {
   "cell_type": "code",
   "execution_count": 32,
   "metadata": {
    "scrolled": true
   },
   "outputs": [
    {
     "name": "stdout",
     "output_type": "stream",
     "text": [
      "Iteration 1, loss = 0.94345670\n",
      "Iteration 2, loss = 0.47924323\n",
      "Iteration 3, loss = 0.35894457\n",
      "Iteration 4, loss = 0.28199955\n",
      "Iteration 5, loss = 0.21673241\n",
      "Iteration 6, loss = 0.17173411\n",
      "Iteration 7, loss = 0.13118434\n",
      "Iteration 8, loss = 0.10388159\n",
      "Iteration 9, loss = 0.08303969\n",
      "Iteration 10, loss = 0.06299143\n",
      "Iteration 11, loss = 0.04989217\n",
      "Iteration 12, loss = 0.04178486\n",
      "Iteration 13, loss = 0.03297650\n",
      "Iteration 14, loss = 0.02712195\n",
      "Iteration 15, loss = 0.02309659\n",
      "Iteration 16, loss = 0.01878748\n",
      "Iteration 17, loss = 0.01626490\n",
      "Iteration 18, loss = 0.01455337\n",
      "Iteration 19, loss = 0.01307515\n",
      "Iteration 20, loss = 0.01165263\n",
      "Iteration 21, loss = 0.01049660\n",
      "Iteration 22, loss = 0.00973690\n",
      "Iteration 23, loss = 0.00885225\n",
      "Iteration 24, loss = 0.00825998\n",
      "Iteration 25, loss = 0.00771345\n",
      "Iteration 26, loss = 0.00725749\n",
      "Iteration 27, loss = 0.00679599\n",
      "Iteration 28, loss = 0.00646236\n",
      "Iteration 29, loss = 0.00613056\n",
      "Iteration 30, loss = 0.00580598\n",
      "Iteration 31, loss = 0.00558113\n",
      "Iteration 32, loss = 0.00535248\n",
      "Iteration 33, loss = 0.00509625\n",
      "Iteration 34, loss = 0.00492702\n",
      "Iteration 35, loss = 0.00471343\n",
      "Iteration 36, loss = 0.00458534\n",
      "Iteration 37, loss = 0.00441677\n",
      "Iteration 38, loss = 0.00426779\n",
      "Iteration 39, loss = 0.00412922\n",
      "Iteration 40, loss = 0.00402851\n",
      "Iteration 41, loss = 0.00389623\n",
      "Iteration 42, loss = 0.00378149\n",
      "Iteration 43, loss = 0.00368486\n",
      "Iteration 44, loss = 0.00359010\n",
      "Iteration 45, loss = 0.00349882\n",
      "Iteration 46, loss = 0.00341973\n",
      "Iteration 47, loss = 0.00334595\n",
      "Iteration 48, loss = 0.00326094\n",
      "Iteration 49, loss = 0.00320411\n",
      "Iteration 50, loss = 0.00313059\n",
      "\n",
      "RESULTS FOR NN\n",
      "\n",
      "[8 0 2 ... 7 3 6]\n",
      "NN training error: 0.000000\n",
      "NN test error: 0.237800\n"
     ]
    },
    {
     "name": "stderr",
     "output_type": "stream",
     "text": [
      "C:\\Users\\urjaw\\AppData\\Local\\Programs\\Python\\Python39\\lib\\site-packages\\sklearn\\neural_network\\_multilayer_perceptron.py:692: ConvergenceWarning: Stochastic Optimizer: Maximum iterations (50) reached and the optimization hasn't converged yet.\n",
      "  warnings.warn(\n"
     ]
    }
   ],
   "source": [
    "# use best architecture and params from before\n",
    "\n",
    "#ADD YOUR CODE\n",
    "\n",
    "mlp_add = MLPClassifier(hidden_layer_sizes=best_prams_layer ,batch_size=best_pram_batch,max_iter=50, alpha=1e-4, solver='sgd',tol=1e-4, random_state=ID,learning_rate_init=best_lr,verbose=True)\n",
    "mlp_add.fit(X_train,y_train)\n",
    "\n",
    "y_predict=mlp_add.predict(X_test)\n",
    "\n",
    "\n",
    "print ('\\nRESULTS FOR NN\\n')\n",
    "print(y_predict)\n",
    "#get training and test error for the NN\n",
    "\n",
    "#ADD YOUR CODE\n",
    "\n",
    "training_error=1-mlp_add.score(X_train,y_train)\n",
    "\n",
    "print (\"NN training error: %f\" % training_error)\n",
    "training_error=1-mlp_add.score(X_train,y_train)\n",
    "\n",
    "print (\"NN test error: %f\" % test_error)\n",
    "\n",
    "\n",
    "\n",
    "\n",
    "\n"
   ]
  },
  {
   "cell_type": "markdown",
   "metadata": {},
   "source": [
    "## QUESTION 4\n",
    "Compare the train and test error you got with a large number of samples with the best one you obtained with only 600 data points. Comment about the results you obtained."
   ]
  },
  {
   "cell_type": "markdown",
   "metadata": {},
   "source": [
    "#### [ANSWER TO QUESTION 4]\n",
    "Ans: with the increase in the iteration the loss is significantl decreases.In this case the training error produced by large data set is zero while on test dataset is 0.22 % the score produes by 600 data is 0.76%."
   ]
  },
  {
   "cell_type": "markdown",
   "metadata": {},
   "source": [
    "### TO DO 7\n",
    "\n",
    "Plot an example that was missclassified by NN with m=600 training data points and it is now instead correctly classified by NN with m=4000 training data points."
   ]
  },
  {
   "cell_type": "code",
   "execution_count": 27,
   "metadata": {
    "scrolled": false
   },
   "outputs": [
    {
     "name": "stdout",
     "output_type": "stream",
     "text": [
      "Missclassified which is wrongly classified by NN\n",
      "INPUT:\n"
     ]
    },
    {
     "data": {
      "image/png": "[encoded data removed]",
      "text/plain": [
       "<Figure size 432x288 with 1 Axes>"
      ]
     },
     "metadata": {
      "needs_background": "light"
     },
     "output_type": "display_data"
    },
    {
     "name": "stdout",
     "output_type": "stream",
     "text": [
      "LABEL: 1\n"
     ]
    }
   ],
   "source": [
    "\n",
    "\n",
    "\n",
    "NN_prediction =mlp_500.predict(X_test)\n",
    "\n",
    "large_NN_prediction = mlp_add.predict(X_test)\n",
    "\n",
    "\n",
    "#ADD YOUR CODE\n",
    "\n",
    "\n",
    "\n",
    "ind=-1\n",
    "for i in range(X_test.shape[0]):\n",
    "    if(NN_prediction[i]!=y_test[i] and large_NN_prediction[i]==y_test[i]):\n",
    "        ind=i\n",
    "        break\n",
    "if ind==-1:\n",
    "    print(\"There is No DIGIT which is missclassified\")\n",
    "else:\n",
    "    print(\"Missclassified which is wrongly classified by NN\")\n",
    "    plot_input(X_test,y_test,ind)\n",
    "        \n",
    "\n"
   ]
  },
  {
   "cell_type": "markdown",
   "metadata": {},
   "source": [
    "### TO DO 8\n",
    "\n",
    "Let's plot the weigths of the multi-layer perceptron classifier, for the best NN we get with 600 data points and with 4000 data points. The code is already provided, just fix variable names (e.g., replace mlp , mlp_large with your estimators) in order to have it working with your implementation\n",
    "\n"
   ]
  },
  {
   "cell_type": "code",
   "execution_count": 28,
   "metadata": {
    "scrolled": true
   },
   "outputs": [
    {
     "name": "stdout",
     "output_type": "stream",
     "text": [
      "Weights with 600 data points:\n"
     ]
    },
    {
     "data": {
      "image/png": "[encoded data removed]",
      "text/plain": [
       "<Figure size 432x288 with 16 Axes>"
      ]
     },
     "metadata": {},
     "output_type": "display_data"
    },
    {
     "name": "stdout",
     "output_type": "stream",
     "text": [
      "Weights with 4000 data points:\n"
     ]
    },
    {
     "data": {
      "image/png": "[encoded data removed]",
      "text/plain": [
       "<Figure size 432x288 with 16 Axes>"
      ]
     },
     "metadata": {},
     "output_type": "display_data"
    }
   ],
   "source": [
    "print(\"Weights with 600 data points:\")\n",
    "\n",
    "fig, axes = plt.subplots(4, 4)\n",
    "vmin, vmax = mlp_500.coefs_[0].min(), mlp_500.coefs_[0].max()\n",
    "for coef, ax in zip(mlp_500.coefs_[0].T, axes.ravel()):\n",
    "    ax.matshow(coef.reshape(28, 28), cmap=plt.cm.gray, vmin=.5 * vmin,\n",
    "               vmax=.5 * vmax)\n",
    "    ax.set_xticks(())\n",
    "    ax.set_yticks(())\n",
    "\n",
    "plt.show()\n",
    "\n",
    "print(\"Weights with 4000 data points:\")\n",
    "\n",
    "fig, axes = plt.subplots(4, 4)\n",
    "vmin, vmax = mlp_add.coefs_[0].min(), mlp_add.coefs_[0].max()\n",
    "for coef, ax in zip(mlp_add.coefs_[0].T, axes.ravel()):\n",
    "    ax.matshow(coef.reshape(28, 28), cmap=plt.cm.gray, vmin=.5 * vmin,\n",
    "               vmax=.5 * vmax)\n",
    "    ax.set_xticks(())\n",
    "    ax.set_yticks(())\n",
    "plt.show()"
   ]
  },
  {
   "cell_type": "markdown",
   "metadata": {},
   "source": [
    "## QUESTION 5\n",
    "\n",
    "Describe what do you observe by looking at the weights."
   ]
  },
  {
   "cell_type": "markdown",
   "metadata": {},
   "source": [
    "##### [ANSWER TO QUESTION 5]\n",
    "Ans: By comparing the result of 600 and 4000 weights. it is obvious that the data with more weights is more visible and understandable and it more easy to classify the data."
   ]
  },
  {
   "cell_type": "markdown",
   "metadata": {},
   "source": [
    "### TO DO 9\n",
    "\n",
    "Take the best SVM model and its parameters, you found in the last notebook. Fit it on a few data points and compute its training and test scores. Then fit also a logistic regression model with C=1. "
   ]
  },
  {
   "cell_type": "code",
   "execution_count": 29,
   "metadata": {},
   "outputs": [
    {
     "name": "stdout",
     "output_type": "stream",
     "text": [
      "RESULTS FOR SVM\n",
      "Training score SVM:\n",
      "0.0\n",
      "Test score SVM:\n",
      "0.08140000000000003\n"
     ]
    }
   ],
   "source": [
    "m_training = 5000\n",
    "\n",
    "X_train, X_test = X[:m_training], X[m_training:2*m_training]\n",
    "y_train, y_test = y[:m_training], y[m_training:2*m_training]\n",
    "\n",
    "# use best parameters found in the SVM notebook, create SVM and perform fitting\n",
    "\n",
    "#ADD YOUR CODE\n",
    "\n",
    "\n",
    "\n",
    "\n",
    "b_svm =SVC(kernel=\"rbf\",C=10,gamma=0.01)\n",
    "b_svm.fit(X_train,y_train)\n",
    "\n",
    "print ('RESULTS FOR SVM')\n",
    "\n",
    "SVM_training_error = 1-b_svm.score(X_train,y_train)\n",
    "#ADD YOUR CODE\n",
    "\n",
    "print(\"Training score SVM:\")\n",
    "print(SVM_training_error)\n",
    "\n",
    "\n",
    "\n",
    "\n",
    "\n",
    "SVM_test_error = 1-b_svm.score(X_test,y_test)\n",
    "\n",
    "#ADD YOUR CODE\n",
    "print(\"Test score SVM:\")\n",
    "print(SVM_test_error)"
   ]
  },
  {
   "cell_type": "code",
   "execution_count": 30,
   "metadata": {},
   "outputs": [
    {
     "name": "stdout",
     "output_type": "stream",
     "text": [
      "\n",
      "RESULTS FOR LOGISTIC REGRESSION WITH REGULARIZATION\n",
      "Training error (reg): 0.026400\n",
      "Test error (reg): 0.237800\n"
     ]
    }
   ],
   "source": [
    "from sklearn import linear_model\n",
    "\n",
    "regL2 = linear_model.LogisticRegression(C=1,max_iter=1e9)\n",
    "regL2.fit(X_train,y_train)\n",
    "\n",
    "#ADD YOUR CODE\n",
    "\n",
    "# you can re-use your code from Lab 2\n",
    "\n",
    "#ADD YOUR CODE\n",
    "\n",
    "print ('\\nRESULTS FOR LOGISTIC REGRESSION WITH REGULARIZATION')\n",
    "\n",
    "training_error =  1-regL2.score(X_train,y_train)\n",
    "\n",
    "\n",
    "#ADD YOUR CODE\n",
    "test_error = 1-regL2.score(X_test,y_test)\n",
    "\n",
    "#ADD YOUR CODE\n",
    "\n",
    "print (\"Training error (reg): %f\" % training_error)\n",
    "print (\"Test error (reg): %f\" % test_error)"
   ]
  },
  {
   "cell_type": "markdown",
   "metadata": {},
   "source": [
    "## QUESTION 6\n",
    "Compare the results of Logistic Regression, SVM and NN. Which one achieve the best results? "
   ]
  },
  {
   "cell_type": "markdown",
   "metadata": {},
   "source": [
    "###### [ANSWER TO QUESTION 6]\n",
    "Ans: By Comparing the result of LR, SVM, NN i found the SVM perform well on this data set and gives 0% error on training dataset and 0.8% error on test data set. \n",
    "Particulary SVM perform better than all others"
   ]
  },
  {
   "cell_type": "code",
   "execution_count": null,
   "metadata": {},
   "outputs": [],
   "source": []
  }
 ],
 "metadata": {
  "kernelspec": {
   "display_name": "Python 3",
   "language": "python",
   "name": "python3"
  },
  "language_info": {
   "codemirror_mode": {
    "name": "ipython",
    "version": 3
   },
   "file_extension": ".py",
   "mimetype": "text/x-python",
   "name": "python",
   "nbconvert_exporter": "python",
   "pygments_lexer": "ipython3",
   "version": "3.8.8"
  }
 },
 "nbformat": 4,
 "nbformat_minor": 4
}
