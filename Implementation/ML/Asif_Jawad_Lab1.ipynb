{
 "cells": [
  {
   "cell_type": "markdown",
   "metadata": {},
   "source": [
    " # Machine Learning LAB 1\n",
    " Academic Year 2021/22, P. Zanuttigh, U. Michieli, F. Barbato, D. Shenaj, G. Rizzoli\n",
    "\n",
    "The notebook contains some simple tasks to be performed about classification and regression. Complete **all** the required code sections and answer to **all** the questions."
   ]
  },
  {
   "cell_type": "markdown",
   "metadata": {},
   "source": [
    "### IMPORTANT 1: make sure to rerun all the code from the beginning to obtain the results for the final version of your notebook, since this is the way we will do it before evaluating your notebook!\n"
   ]
  },
  {
   "cell_type": "markdown",
   "metadata": {},
   "source": [
    "# IMPORTANT 2: Place your name and ID number. Also recall to save the file as Surname_Name_LAB1.ipynb . Notebooks without name will be discarded.\n",
    "\n",
    "**Student name**: Jawad Aisf<br>\n",
    "**ID Number**: 2013002"
   ]
  },
  {
   "cell_type": "markdown",
   "metadata": {},
   "source": [
    "# # 1) Classification of Music genre\n",
    "\n",
    "### Dataset description\n",
    "\n",
    "A music genre is a conventional category that identifies pieces of music as belonging to a shared tradition or set of conventions. It is to be distinguished from musical form and musical style. The features extracted from these songs can help the machine to assing them to the two genres. \n",
    "\n",
    "This dataset is a subset of the dataset provided [here](https://www.kaggle.com/insiyeah/musicfeatures), containing only the data regarding the classical and metal genres.\n",
    "\n",
    "### We consider 3 features for the classification\n",
    "\n",
    "1) **tempo**, the speed at which a passage of music is played, i.e., the beats per minute of the musical piece<br>\n",
    "2) **chroma_stft**, [mean chromagram activation on Short-Time Fourier Transform](https://librosa.org/doc/0.7.0/generated/librosa.feature.chroma_stft.html)<br>\n",
    "3) **spectral_centroid**, Indicates where the \"center of mass\" of the spectrum is located, i.e., it is the weighted average of the frequency transform<br>\n"
   ]
  },
  {
   "cell_type": "markdown",
   "metadata": {},
   "source": [
    "We first import all the packages that are needed."
   ]
  },
  {
   "cell_type": "code",
   "execution_count": 1,
   "metadata": {},
   "outputs": [],
   "source": [
    "%matplotlib inline\n",
    "import matplotlib.pyplot as plt\n",
    "import csv\n",
    "\n",
    "import numpy as np\n",
    "import scipy as sp\n",
    "import sklearn as sl\n",
    "from scipy import stats\n",
    "from sklearn import datasets\n",
    "from sklearn import linear_model"
   ]
  },
  {
   "cell_type": "markdown",
   "metadata": {},
   "source": [
    "# Perceptron\n",
    "Firstly we will implement the perceptron algorithm and use it to learn a halfspace."
   ]
  },
  {
   "cell_type": "markdown",
   "metadata": {},
   "source": [
    "**TO DO** Set the random seed, you can use your ID (matricola) or any other number! Try to make various tests changing the seed."
   ]
  },
  {
   "cell_type": "code",
   "execution_count": 2,
   "metadata": {},
   "outputs": [],
   "source": [
    "IDnumber = 2013002 #YOUR_ID , try also to change the seed to see the impact of random initialization on the results\n",
    "np.random.seed(IDnumber)\n"
   ]
  },
  {
   "cell_type": "markdown",
   "metadata": {},
   "source": [
    "Load the dataset and then split in training set and test set (the training set is typically larger, you can use a 75% tranining 25% test split) after applying a random permutation to the datset."
   ]
  },
  {
   "cell_type": "markdown",
   "metadata": {},
   "source": [
    "A) Load dataset and perform permutation"
   ]
  },
  {
   "cell_type": "code",
   "execution_count": 3,
   "metadata": {},
   "outputs": [
    {
     "name": "stdout",
     "output_type": "stream",
     "text": [
      "Header: ['tempo', 'chroma_stft', 'spectral_centroid', 'label']\n",
      "\n",
      "Data shape: (200, 4)\n",
      "\n",
      "Dataset Example:\n",
      "200\n",
      "\n",
      "Number of samples loaded: 200\n",
      "[137 170 113  66 124 130 150 136  84  56  14  71  23 120 128  83  87  49\n",
      "  31   5 190 118 151 171  27 182  15 112 149  80 122 127  77 160 139  41\n",
      "  44  21 186  43  64   4  53  91 161 141 184 177  25 138  29  89  93 131\n",
      " 110  88 114 152  82  99 188 111 164 157 143 148 103 107 183  54  22  78\n",
      "  16 185 189 125  72  51 194 172  48  50  24 173  79  45 142   3  98 134\n",
      "  86  97  74  34  18 108  36  73  40 117   1 156   9   6  70  69 187  90\n",
      " 198  12 166 175  95  20 199  32 109 154  94  63  46  85 176  13  17 129\n",
      "  58  67  68 168  11  39 146   7 102  37  59   0  75  60  61 162  10 132\n",
      "  55   2  28 133 193  26 179  35  42 192 100 153 106  57 144 167  65 104\n",
      " 119 196 169 115  76 135  52  30 163 181  19  81 116 140 191  96  47  62\n",
      " 101 178 159 126  33 147  38   8 105 123 197  92 165 158 195 121 180 155\n",
      " 174 145]\n"
     ]
    }
   ],
   "source": [
    "# Load the dataset\n",
    "filename = 'data/music.csv'\n",
    "music = csv.reader(open(filename, newline='\\n'), delimiter=',')\n",
    "\n",
    "header = next(music) # skip first line\n",
    "print(f\"Header: {header}\\n\")\n",
    "\n",
    "dataset = np.array(list(music))\n",
    "print(f\"Data shape: {dataset.shape}\\n\")\n",
    "print(\"Dataset Example:\")\n",
    "# print(dataset[:10,...])\n",
    "\n",
    "X = dataset[:,:-1].astype(float) #columns 0,1,2 contain the features\n",
    "# print(X)\n",
    "Y = dataset[:,-1].astype(int)   # last column contains the labels\n",
    "\n",
    "# print(Y)\n",
    "Y = 2*Y-1                        # for the perceptron classical--> -1, metal-->1\n",
    "\n",
    "\n",
    "\n",
    "m = dataset.shape[0]\n",
    "print(m)\n",
    "\n",
    "print(\"\\nNumber of samples loaded:\", m)\n",
    "permutation = np.random.permutation(m) # random permutation\n",
    "print(permutation)\n",
    "\n",
    "X = X[permutation]\n",
    "# print(X)\n",
    "Y = Y[permutation]\n",
    "# print(Y)"
   ]
  },
  {
   "cell_type": "markdown",
   "metadata": {},
   "source": [
    "We are going to classify class \"1\" (metal) vs class \"-1\" (classical)"
   ]
  },
  {
   "cell_type": "markdown",
   "metadata": {},
   "source": [
    "B) **TO DO** Divide the data into training set and test set (75% of the data in the first set, 25% in the second one)"
   ]
  },
  {
   "cell_type": "code",
   "execution_count": 4,
   "metadata": {},
   "outputs": [
    {
     "name": "stdout",
     "output_type": "stream",
     "text": [
      "50\n",
      "[ 1  1  1 -1  1  1  1  1 -1 -1 -1 -1 -1  1  1 -1 -1 -1 -1 -1  1  1  1  1\n",
      " -1  1 -1  1  1 -1  1  1 -1  1  1 -1 -1 -1  1 -1 -1 -1 -1 -1  1  1  1  1\n",
      " -1  1 -1 -1 -1  1  1 -1  1  1 -1 -1  1  1  1  1  1  1  1  1  1 -1 -1 -1\n",
      " -1  1  1  1 -1 -1  1  1 -1 -1 -1  1 -1 -1  1 -1 -1  1 -1 -1 -1 -1 -1  1\n",
      " -1 -1 -1  1 -1  1 -1 -1 -1 -1  1 -1  1 -1  1  1 -1 -1  1 -1  1  1 -1 -1\n",
      " -1 -1  1 -1 -1  1 -1 -1 -1  1 -1 -1  1 -1  1 -1 -1 -1 -1 -1 -1  1 -1  1\n",
      " -1 -1 -1  1  1 -1]\n",
      "50\n",
      "\n",
      "Number of classical instances in test: 16\n",
      "Number of metal instances in test: 34\n",
      "Shape of training set: (150, 3)\n",
      "Shape of test set: (50, 3)\n"
     ]
    }
   ],
   "source": [
    "# Divide in training and test: make sure that your training set\n",
    "# contains at least 10 elements from class 1 and at least 10 elements\n",
    "# from class -1! If it does not, modify the code so to apply more random\n",
    "# permutations (or the same permutation multiple times) until this happens.\n",
    "# IMPORTANT: do not change the random seed.\n",
    "\n",
    "\n",
    "m_training = int((m*75)/100)\n",
    "\n",
    "m_test = int((m*25)/100)\n",
    "print(m_test)\n",
    "\n",
    "X_training = X[0:m_training,:]\n",
    "Y_training = Y[0:m_training]\n",
    "\n",
    "\n",
    "\n",
    "X_test = X[m_training:m,:]\n",
    "Y_test = Y[m_training:m]\n",
    "\n",
    "print(Y_training) \n",
    "print(m_test)\n",
    "\n",
    "print(\"\\nNumber of classical instances in test:\", np.sum(Y_test==-1))\n",
    "print(\"Number of metal instances in test:\", np.sum(Y_test==1))\n",
    "\n",
    "print(\"Shape of training set: \" + str(X_training.shape))\n",
    "print(\"Shape of test set: \" + str(X_test.shape))"
   ]
  },
  {
   "cell_type": "markdown",
   "metadata": {},
   "source": [
    "We add a 1 in front of each sample so that we can use a vector in homogeneous coordinates to describe all the coefficients of the model. This can be done with the function $hstack$ in $numpy$."
   ]
  },
  {
   "cell_type": "code",
   "execution_count": 5,
   "metadata": {},
   "outputs": [
    {
     "name": "stdout",
     "output_type": "stream",
     "text": [
      "Training set in homogeneous coordinates:\n",
      "[[1.00000000e+00 1.07666016e+02 5.16928362e-01 3.40137358e+03]\n",
      " [1.00000000e+00 8.91029095e+01 4.26884734e-01 2.14160877e+03]\n",
      " [1.00000000e+00 1.43554688e+02 4.96368499e-01 2.79255875e+03]\n",
      " [1.00000000e+00 1.07666016e+02 3.09652754e-01 1.52561929e+03]\n",
      " [1.00000000e+00 1.07666016e+02 5.09240208e-01 2.70968208e+03]\n",
      " [1.00000000e+00 9.93840144e+01 5.33625514e-01 2.81548238e+03]\n",
      " [1.00000000e+00 1.35999178e+02 6.34761669e-01 3.40310190e+03]\n",
      " [1.00000000e+00 1.12347147e+02 5.55233165e-01 2.69957385e+03]\n",
      " [1.00000000e+00 1.12347147e+02 2.15063800e-01 1.36040835e+03]\n",
      " [1.00000000e+00 1.61499023e+02 3.87949211e-01 2.41193872e+03]]\n"
     ]
    }
   ],
   "source": [
    "# Add a 1 to each sample (homogeneous coordinates)\n",
    "X_training = np.hstack((np.ones((m_training,1)),X_training))\n",
    "X_test = np.hstack((np.ones((m_test,1)),X_test))\n",
    "\n",
    "print(\"Training set in homogeneous coordinates:\")\n",
    "print(X_training[:10])"
   ]
  },
  {
   "cell_type": "markdown",
   "metadata": {},
   "source": [
    "**TO DO** Now complete the function *perceptron*. Since the perceptron does not terminate if the data is not linearly separable, your implementation should return the desired output (see below) if it reached the termination condition seen in class or if a maximum number of iterations have already been run, where one iteration corresponds to one update of the perceptron weights. In case the termination is reached because the maximum number of iterations have been completed, the implementation should return **the best model** seen up to now.\n",
    "\n",
    "The input parameters to pass are:\n",
    "- $X$: the matrix of input features, one row for each sample\n",
    "- $Y$: the vector of labels for the input features matrix X\n",
    "- $max\\_num\\_iterations$: the maximum number of iterations for running the perceptron\n",
    "\n",
    "The output values are:\n",
    "- $best\\_w$: the vector with the coefficients of the best model\n",
    "- $best\\_error$: the *fraction* of misclassified samples for the best model"
   ]
  },
  {
   "cell_type": "code",
   "execution_count": 6,
   "metadata": {},
   "outputs": [],
   "source": [
    "#update rule used in the iterative algorithm\n",
    "def perceptron_update(current_w, x, y):\n",
    "    \n",
    "    new_w=current_w+float(y)*x\n",
    "    return new_w\n",
    "\n",
    "def perceptron(X, Y, max_num_iterations):\n",
    "    \n",
    "    dim = int(Y.shape[0])\n",
    "    curr_w = np.zeros(X.shape[1])\n",
    "    best_w = np.zeros(X.shape[1])\n",
    "    num_samples = dim\n",
    "    best_error = 10000000000 \n",
    "    \n",
    "    \n",
    "#      index_misclassified = -1 #will be ovewritten\n",
    "#     num_misclassified = 0 #will be ovewritten\n",
    "    \n",
    "    \n",
    "    index_misclassified = -2 \n",
    "       #main loop continue until all samples correctly classified or max # iterations reached\n",
    " \n",
    "    \n",
    "    num_iter = 1\n",
    "    \n",
    "    while ((index_misclassified != -1) and (num_iter < max_num_iterations)):\n",
    "        \n",
    "        num_misclassified = 0 #will be ovewritten\n",
    "        permutation=np.random.permutation(num_samples)\n",
    "        X=X[permutation]\n",
    "        Y=Y[permutation]\n",
    "        \n",
    "        for i in range(num_samples):\n",
    "            if (np.inner(curr_w,X[i,:])*Y[i]<=0): \n",
    "                index_misclassified = i\n",
    "                break\n",
    "         #update  error count, keep track of best solution\n",
    "            \n",
    "        curr_w=perceptron_update(curr_w,X[index_misclassified],Y[index_misclassified]) #update the current solution                  \n",
    "\n",
    "        for i in range(num_samples):\n",
    "            if (np.inner(curr_w,X[i,:])*Y[i]<=0):\n",
    "                num_misclassified+=1\n",
    "                \n",
    "       \n",
    "        if num_misclassified == 0:\n",
    "            index_misclassified = -1\n",
    "            \n",
    "        curr_error=num_misclassified/num_samples\n",
    "        \n",
    "        if curr_error<best_error:\n",
    "            best_error=curr_error\n",
    "            best_w=curr_w\n",
    "            \n",
    "        num_iter += 1\n",
    "        \n",
    "    \n",
    "    return best_w, best_error"
   ]
  },
  {
   "cell_type": "markdown",
   "metadata": {},
   "source": [
    "Now we use the implementation above of the perceptron to learn a model from the training data using 100 iterations and print the error of the best model we have found."
   ]
  },
  {
   "cell_type": "code",
   "execution_count": 7,
   "metadata": {},
   "outputs": [
    {
     "name": "stdout",
     "output_type": "stream",
     "text": [
      "[-2.90000000e+01 -3.78759330e+03 -7.92242579e-01  2.37902996e+02] \n",
      "\n",
      "Training Error of perpceptron (100 iterations): 0.10666666666666667\n"
     ]
    }
   ],
   "source": [
    "#now run the perceptron for 100 iterations\n",
    "w_found, error = perceptron(X_training,Y_training, 100)\n",
    "print(w_found,\"\\n\")\n",
    "print(\"Training Error of perpceptron (100 iterations): \" + str(error))"
   ]
  },
  {
   "cell_type": "markdown",
   "metadata": {},
   "source": [
    "**TO DO** use the best model $w\\_found$ to predict the labels for the test dataset and print the fraction of misclassified samples in the test set (the test error that is an estimate of the true loss)."
   ]
  },
  {
   "cell_type": "code",
   "execution_count": 8,
   "metadata": {},
   "outputs": [
    {
     "name": "stdout",
     "output_type": "stream",
     "text": [
      "[ 1. -1.  1. -1.  1.  1.  1. -1.  1. -1. -1.  1.  1.  1.  1.  1. -1.  1.\n",
      " -1. -1.  1.  1. -1. -1.  1.  1.  1. -1.  1. -1.  1.  1.  1.  1. -1.  1.\n",
      " -1. -1.  1. -1. -1. -1.  1.  1.  1.  1.  1.  1.  1. -1.] \n",
      "\n",
      "Test Error of perpceptron (100 iterations): 0.14\n"
     ]
    }
   ],
   "source": [
    "#now use the w_found to make predictions on test dataset\n",
    "\n",
    "prediction=np.zeros(m_test)\n",
    "for i in range(Y_test.shape[0]):\n",
    "    prediction[i]=np.sign(np.inner(w_found,X_test[i]))\n",
    "\n",
    "print(prediction,\"\\n\")\n",
    "\n",
    "num_errors = 0\n",
    "# PLACE YOUR CODE to compute the number of errors\n",
    "\n",
    "for i in range(Y_test.shape[0]):\n",
    "    if (prediction[i]!=Y_test[i]):\n",
    "        num_errors+=1\n",
    "\n",
    "true_loss_estimate = num_errors/m_test  \n",
    "print(\"Test Error of perpceptron (100 iterations): \" + str(true_loss_estimate))"
   ]
  },
  {
   "cell_type": "markdown",
   "metadata": {},
   "source": [
    "# *TO DO*[Answer the following]** What about the difference betweeen the training error and the test error  in terms of fraction of misclassified samples)? Explain what you observe. [Write the answer in this cell]\n",
    "\n",
    "**ANSWER QUESTION 1** The result in both case are moreoless same and there is no huge amount of difference"
   ]
  },
  {
   "cell_type": "markdown",
   "metadata": {},
   "source": [
    "**TO DO** Copy the code from the last 2 cells above in the cell below and repeat the training with 4000 iterations. Then print the error in the training set and the estimate of the true loss obtained from the test set."
   ]
  },
  {
   "cell_type": "code",
   "execution_count": 9,
   "metadata": {
    "scrolled": true
   },
   "outputs": [
    {
     "name": "stdout",
     "output_type": "stream",
     "text": [
      "[-1.31000000e+02 -1.50729483e+04 -2.04480253e+00  9.44205646e+02]\n",
      "Training Error of perpceptron (4000 iterations): 0.1\n",
      "Test Error of perpceptron (4000 iterations): 0.14\n"
     ]
    }
   ],
   "source": [
    "#now run the perceptron for 4000 iterations here!\n",
    "w_found, error = perceptron(X_training,Y_training, 4000)\n",
    "print(w_found)\n",
    "print(\"Training Error of perpceptron (4000 iterations): \" + str(error))\n",
    "\n",
    "# PLACE YOUR CODE\n",
    "\n",
    "\n",
    "\n",
    "m = Y_test.shape[0]\n",
    "Y_predict=np.zeros(m)\n",
    "for i in range(Y_test.shape[0]):\n",
    "    Y_predict[i]=np.sign(np.inner(w_found,X_test[i]))\n",
    "\n",
    "# print(Y_predict)\n",
    "\n",
    "num_errors = 0\n",
    "\n",
    "for i in range(Y_test.shape[0]):\n",
    "    if (Y_predict[i]!=Y_test[i]):\n",
    "        num_errors+=1\n",
    "\n",
    "\n",
    "true_loss_estimate = num_errors/m_test\n",
    "\n",
    "print(\"Test Error of perpceptron (4000 iterations): \" + str(true_loss_estimate))"
   ]
  },
  {
   "cell_type": "markdown",
   "metadata": {},
   "source": [
    "**TO DO** [Answer the following] What about the difference betweeen the training error and the test error  in terms of fraction of misclassified samples) when running for a larger number of iterations ? Explain what you observe and compare with the previous case. [Write the answer in this cell]\n",
    "\n",
    "**ANSWER QUESTION 2** After large number of iteration the test and training error decreases significanty but both true and training error are almost equal"
   ]
  },
  {
   "cell_type": "markdown",
   "metadata": {},
   "source": [
    "# Logistic Regression\n",
    "Now we use logistic regression, exploiting the implementation in Scikit-learn, to predict labels. We will also plot the decision region of logistic regression.\n",
    "\n",
    "We first load the dataset again."
   ]
  },
  {
   "cell_type": "code",
   "execution_count": 10,
   "metadata": {},
   "outputs": [
    {
     "name": "stdout",
     "output_type": "stream",
     "text": [
      "Header: ['tempo', 'chroma_stft', 'spectral_centroid', 'label']\n",
      "\n",
      "Data shape: (200, 4)\n",
      "\n",
      "Dataset Example:\n",
      "[['92.28515625' '0.22373830597598895' '2192.798091164326' '0']\n",
      " ['161.4990234375' '0.2841730455239421' '1534.0649775815205' '0']\n",
      " ['143.5546875' '0.20811288763962318' '1396.8242648287155' '0']\n",
      " ['95.703125' '0.31289954089595506' '1680.0882644413368' '0']\n",
      " ['123.046875' '0.25857228884109024' '1173.6583080518985' '0']\n",
      " ['67.99958881578948' '0.22521197942744986' '715.1893204778178' '0']\n",
      " ['95.703125' '0.2840176228179304' '1184.632142061296' '0']\n",
      " ['89.10290948275862' '0.2563949682674902' '1358.897902739857' '0']\n",
      " ['99.38401442307692' '0.2614892978768399' '1372.8258066922585' '0']\n",
      " ['184.5703125' '0.2899787266101455' '1953.0485341566464' '0']]\n",
      "\n",
      "Number of samples loaded: 200\n"
     ]
    }
   ],
   "source": [
    "# Load the dataset\n",
    "filename = 'data/music.csv'\n",
    "music = csv.reader(open(filename, newline='\\n'), delimiter=',')\n",
    "\n",
    "header = next(music) # skip first line\n",
    "print(f\"Header: {header}\\n\")\n",
    "\n",
    "dataset = np.array(list(music))\n",
    "print(f\"Data shape: {dataset.shape}\\n\")\n",
    "print(\"Dataset Example:\")\n",
    "print(dataset[:10,...])\n",
    "\n",
    "X = dataset[:,:-1].astype(float)\n",
    "Y = dataset[:,-1].astype(int)   \n",
    "\n",
    "Y = 2*Y-1                        \n",
    "m = dataset.shape[0]\n",
    "print(\"\\nNumber of samples loaded:\", m)\n",
    "permutation = np.random.permutation(m) \n",
    "# random permutation\n",
    "\n",
    "X = X[permutation]\n",
    "Y = Y[permutation]"
   ]
  },
  {
   "cell_type": "markdown",
   "metadata": {},
   "source": [
    "**TO DO** As for the previous part, divide the data into training and test (75%-25%) and add a 1 as first component to each sample."
   ]
  },
  {
   "cell_type": "code",
   "execution_count": 11,
   "metadata": {},
   "outputs": [
    {
     "name": "stdout",
     "output_type": "stream",
     "text": [
      "Number of samples in the test set: 50\n",
      "\n",
      "Number of classical instances in test: 20\n",
      "Number of metal instances in test: 30\n",
      "\n",
      "Shape of training set: (150, 3)\n",
      "Shape of test set: (50, 3)\n"
     ]
    }
   ],
   "source": [
    "#Divide in training and test: make sure that your training set\n",
    "#contains at least 10 elements from class 1 and at least 10 elements\n",
    "#from class -1! If it does not, modify the code so to apply more random\n",
    "#permutations (or the same permutation multiple times) until this happens.\n",
    "#IMPORTANT: do not change the random seed.\n",
    "\n",
    "m_training = int(0.75*m)\n",
    "m_test = int(0.25*m)\n",
    "\n",
    "X_training = X[0:m_training,:]\n",
    "Y_training = Y[0:m_training]\n",
    "\n",
    "X_test = X[m_training:m,:]\n",
    "Y_test = Y[m_training:m]\n",
    "\n",
    "print(\"Number of samples in the test set:\", m_test)\n",
    "print(\"\\nNumber of classical instances in test:\", np.sum(Y_test==-1))\n",
    "print(\"Number of metal instances in test:\", np.sum(Y_test==1))\n",
    "\n",
    "print(\"\\nShape of training set: \" + str(X_training.shape))\n",
    "print(\"Shape of test set: \" + str(X_test.shape))"
   ]
  },
  {
   "cell_type": "markdown",
   "metadata": {},
   "source": [
    "To define a logistic regression model in Scikit-learn use the instruction\n",
    "\n",
    "$linear\\_model.LogisticRegression(C=1e5)$\n",
    "\n",
    "($C$ is a parameter related to *regularization*, a technique that\n",
    "we will see later in the course. Setting it to a high value is almost\n",
    "as ignoring regularization, so the instruction above corresponds to the\n",
    "logistic regression you have seen in class.)\n",
    "\n",
    "To learn the model you need to use the $fit(...)$ instruction and to predict you need to use the $predict(...)$ function. See the Scikit-learn documentation for how to use it.\n",
    "\n",
    "**TO DO** Define the logistic regression model, then learn the model using the training set and predict on the test set. Then print the fraction of samples misclassified in the training set and in the test set."
   ]
  },
  {
   "cell_type": "code",
   "execution_count": 12,
   "metadata": {},
   "outputs": [
    {
     "name": "stdout",
     "output_type": "stream",
     "text": [
      "predicted training [-1  1 -1 -1 -1 -1  1 -1  1  1 -1  1 -1  1  1  1  1  1 -1 -1 -1  1 -1  1\n",
      "  1 -1  1  1  1  1 -1  1  1 -1 -1 -1 -1 -1  1 -1 -1 -1 -1  1 -1 -1  1 -1\n",
      "  1  1  1  1  1 -1 -1  1  1 -1 -1  1 -1 -1 -1 -1  1 -1  1  1  1  1  1 -1\n",
      "  1  1  1  1 -1  1 -1 -1 -1  1  1  1 -1  1 -1 -1 -1 -1 -1  1  1  1 -1  1\n",
      " -1 -1  1 -1 -1 -1 -1 -1 -1  1 -1  1 -1 -1  1 -1  1 -1 -1 -1 -1  1 -1 -1\n",
      "  1 -1 -1 -1  1 -1  1 -1 -1 -1  1 -1  1  1 -1 -1  1 -1  1  1  1  1 -1 -1\n",
      "  1 -1  1  1  1 -1]\n",
      "Error rate on training set:\n",
      " 0\n",
      "prediction on test \n",
      " [ 1  1  1  1  1 -1 -1  1 -1  1  1 -1 -1  1  1  1  1  1 -1 -1 -1  1  1 -1\n",
      " -1  1  1 -1  1 -1  1  1 -1  1  1  1 -1  1 -1  1  1  1  1 -1 -1 -1 -1  1\n",
      " -1 -1]\n",
      "Error rate on test set: 32\n"
     ]
    }
   ],
   "source": [
    "#part on logistic regression for 2 classes\n",
    "logreg = linear_model.LogisticRegression(C=1e5) #a large C disables regularization\n",
    "\n",
    "logreg.fit(X_training,Y_training)\n",
    "\n",
    "predicted_training =logreg.predict(X_training)\n",
    "print('predicted training', predicted_training)\n",
    "\n",
    "error_rate_training = 0\n",
    "\n",
    "for i in range(m_training):\n",
    "    if(predicted_training[i]!=Y_training[i]):\n",
    "        error_rate_training+=1\n",
    "        \n",
    "\n",
    "print(\"Error rate on training set:\\n \"+str(error_rate_training))\n",
    "\n",
    "predicted_test= logreg.predict(X_test)\n",
    "print('prediction on test \\n', predicted_test)\n",
    "\n",
    "error_rate_test = 0\n",
    "\n",
    "for i in range(m_test):\n",
    "    if(predicted_training[i]!=Y_test[i]):\n",
    "        error_rate_test+=1\n",
    "\n",
    "print(\"Error rate on test set: \" + str(error_rate_test))"
   ]
  },
  {
   "cell_type": "markdown",
   "metadata": {},
   "source": [
    "**TO DO** Now pick two features and restrict the dataset to include only two features, whose indices are specified in the $feature$ vector below. Then split into training and test. Which features are you going to select ?"
   ]
  },
  {
   "cell_type": "code",
   "execution_count": 13,
   "metadata": {},
   "outputs": [
    {
     "name": "stdout",
     "output_type": "stream",
     "text": [
      "chroma_stft\n",
      "spectral_centroid\n"
     ]
    }
   ],
   "source": [
    "# to make the plot we need to reduce the data to 2D, so we choose two features\n",
    "features_list = ['tempo', 'chroma_stft', 'spectral_centroid']\n",
    "index_feature1 = 1\n",
    "index_feature2 = 2\n",
    "features = [index_feature1, index_feature2]\n",
    "\n",
    "feature_name0 = features_list[features[0]]\n",
    "feature_name1 = features_list[features[1]]\n",
    "\n",
    "print(feature_name0)\n",
    "print(feature_name1)\n",
    "\n",
    "X_reduced = X[:,features]\n",
    "\n",
    "X_training = X_reduced[0:m_training,:]\n",
    "Y_training = Y[0:m_training]\n",
    "\n",
    "X_test = X_reduced[m_training:m,:]\n",
    "Y_test = Y[m_training:m]"
   ]
  },
  {
   "cell_type": "markdown",
   "metadata": {},
   "source": [
    "Now learn a model using the training data and measure the performances."
   ]
  },
  {
   "cell_type": "code",
   "execution_count": 14,
   "metadata": {},
   "outputs": [
    {
     "name": "stdout",
     "output_type": "stream",
     "text": [
      "predicted training [-1  1 -1 -1 -1 -1  1 -1  1  1 -1  1 -1  1  1  1  1  1  1 -1 -1  1 -1  1\n",
      "  1 -1  1  1  1  1 -1  1  1 -1 -1 -1 -1 -1  1 -1 -1 -1 -1  1 -1 -1  1 -1\n",
      "  1  1  1  1  1 -1 -1  1  1 -1 -1  1 -1 -1 -1 -1  1 -1  1  1  1  1  1 -1\n",
      "  1  1  1  1 -1  1 -1 -1 -1  1  1  1 -1  1 -1 -1 -1 -1 -1  1  1  1 -1  1\n",
      " -1 -1  1 -1 -1 -1 -1 -1 -1  1 -1  1 -1 -1  1 -1  1 -1 -1 -1 -1  1 -1 -1\n",
      "  1 -1 -1 -1  1 -1  1 -1 -1 -1  1 -1  1  1 -1 -1  1 -1  1  1  1  1 -1 -1\n",
      "  1 -1  1  1  1 -1]\n",
      "Error on training = 1\n",
      "Prediction on test =  [ 1  1  1  1  1 -1 -1  1 -1  1  1 -1 -1  1  1  1  1  1 -1 -1 -1  1  1 -1\n",
      " -1  1  1 -1  1 -1  1  1 -1  1  1  1 -1  1 -1  1  1  1  1 -1 -1 -1 -1  1\n",
      " -1 -1]\n",
      "Error on test set = 1\n"
     ]
    }
   ],
   "source": [
    "# learning from training data\n",
    "logreg = linear_model.LogisticRegression(C=1e5)\n",
    "logreg.fit(X_training,Y_training)\n",
    "\n",
    "#predict on training set\n",
    "predicted_training =logreg.predict(X_training)\n",
    "print('predicted training', predicted_training)\n",
    "\n",
    "#print the error rate on treaining set = fraction of misclassified samples\n",
    "error_rate_training = 0\n",
    "\n",
    "#count the number of errors in training set\n",
    "for i in range(m_training):\n",
    "    if(predicted_training[i]!=Y_training[i]):\n",
    "        error_rate_training+=1\n",
    "        \n",
    "\n",
    "print('Error on training = '+str(error_rate_training))\n",
    "\n",
    "#print the error rate on test set = fraction of misclassified samples\n",
    "error_rate_test = 0\n",
    "\n",
    "predicted_training =logreg.predict(X_test)\n",
    "print('Prediction on test = ', predicted_test)\n",
    "\n",
    "for i in range(m_test):\n",
    "    if(predicted_training[i]!=Y_test[i]):\n",
    "        error_rate_test+=1\n",
    "\n",
    "print('Error on test set = ' + str(error_rate_test))"
   ]
  },
  {
   "cell_type": "markdown",
   "metadata": {},
   "source": [
    "**TO DO** [Answer the following] Which features did you select and why ? Compare the perfromances with the ones of the case with all the 3 features and comment about the results. [Write the answer in this cell]\n",
    "\n",
    "**ANSWER QUESTION 3** The Feature \"tempo\" and \"chroma_sfts\" show and eror that was considerable and the error between \"chroma_sfts\" and \"spectral_centroid\" is 0 so i selected spectral_centroid and chroma_sfts"
   ]
  },
  {
   "cell_type": "markdown",
   "metadata": {},
   "source": [
    "If everything is ok, the code below uses the model in $logreg$ to plot the decision region for the two features chosen above, with colors denoting the predicted value. It also plots the points (with correct labels) in the training set. It makes a similar plot for the test set."
   ]
  },
  {
   "cell_type": "code",
   "execution_count": 15,
   "metadata": {
    "scrolled": true
   },
   "outputs": [
    {
     "name": "stderr",
     "output_type": "stream",
     "text": [
      "C:\\Users\\urjaw\\AppData\\Local\\Temp/ipykernel_9284/2751404703.py:18: MatplotlibDeprecationWarning: shading='flat' when X and Y have the same dimensions as C is deprecated since 3.3.  Either specify the corners of the quadrilaterals with X and Y, or pass shading='auto', 'nearest' or 'gouraud', or set rcParams['pcolor.shading'].  This will become an error two minor releases later.\n",
      "  plt.pcolormesh(xx, yy, Z, cmap=plt.cm.Paired)\n"
     ]
    },
    {
     "data": {
      "image/png": "[encoded data removed]",
      "text/plain": [
       "<Figure size 288x216 with 1 Axes>"
      ]
     },
     "metadata": {},
     "output_type": "display_data"
    },
    {
     "name": "stderr",
     "output_type": "stream",
     "text": [
      "C:\\Users\\urjaw\\AppData\\Local\\Temp/ipykernel_9284/2751404703.py:36: MatplotlibDeprecationWarning: shading='flat' when X and Y have the same dimensions as C is deprecated since 3.3.  Either specify the corners of the quadrilaterals with X and Y, or pass shading='auto', 'nearest' or 'gouraud', or set rcParams['pcolor.shading'].  This will become an error two minor releases later.\n",
      "  plt.pcolormesh(xx, yy, Z, cmap=plt.cm.Paired)\n"
     ]
    },
    {
     "data": {
      "image/png": "[encoded data removed]",
      "text/plain": [
       "<Figure size 288x216 with 1 Axes>"
      ]
     },
     "metadata": {},
     "output_type": "display_data"
    }
   ],
   "source": [
    "# Plot the decision boundary. For that, we will assign a color to each\n",
    "# point in the mesh [x_min, x_max]x[y_min, y_max].\n",
    "\n",
    "# NOTICE: This visualization code has been developed for a \"standard\" solution of the notebook, \n",
    "# it could be necessary to make some fixes to adapt to your implementation\n",
    "\n",
    "h = .02  # step size in the mesh\n",
    "x_min, x_max = X_reduced[:, 0].min() - .5, X_reduced[:, 0].max() + .5\n",
    "y_min, y_max = X_reduced[:, 1].min() - .5, X_reduced[:, 1].max() + .5\n",
    "xx, yy = np.meshgrid(np.arange(x_min, x_max, h), np.arange(y_min, y_max, h))\n",
    "\n",
    "Z = logreg.predict(np.c_[xx.ravel(), yy.ravel()])\n",
    "\n",
    "# Put the result into a color plot\n",
    "Z = Z.reshape(xx.shape)\n",
    "\n",
    "plt.figure(1, figsize=(4, 3))\n",
    "plt.pcolormesh(xx, yy, Z, cmap=plt.cm.Paired)\n",
    "\n",
    "# Plot also the training points\n",
    "plt.scatter(X_training[:, 0], X_training[:, 1], c=Y_training, edgecolors='k', cmap=plt.cm.Paired)\n",
    "plt.xlabel(feature_name0)\n",
    "plt.ylabel(feature_name1)\n",
    "\n",
    "plt.xlim(xx.min(), xx.max())\n",
    "plt.ylim(yy.min(), yy.max())\n",
    "plt.xticks(())\n",
    "plt.yticks(())\n",
    "plt.title('Training set')\n",
    "\n",
    "plt.show()\n",
    "\n",
    "# Put the result into a color plot\n",
    "Z = Z.reshape(xx.shape)\n",
    "plt.figure(1, figsize=(4, 3))\n",
    "plt.pcolormesh(xx, yy, Z, cmap=plt.cm.Paired)\n",
    "\n",
    "# Plot also the test points \n",
    "plt.scatter(X_test[:, 0], X_test[:, 1], c=Y_test, edgecolors='k', cmap=plt.cm.Paired, marker='s')\n",
    "plt.xlabel(feature_name0)\n",
    "plt.ylabel(feature_name1)\n",
    "\n",
    "plt.xlim(xx.min(), xx.max())\n",
    "plt.ylim(yy.min(), yy.max())\n",
    "plt.xticks(())\n",
    "plt.yticks(())\n",
    "plt.title('Test set')\n",
    "\n",
    "plt.show()"
   ]
  },
  {
   "cell_type": "markdown",
   "metadata": {},
   "source": [
    "# 2) Linear Regression on the Boston House Price dataset\n",
    "\n",
    "### Dataset description: \n",
    "\n",
    "The Boston House Price Dataset involves the prediction of a house price in thousands of dollars given details about the house and its neighborhood.\n",
    "\n",
    "The dataset contains a total of 500 observations, which relate 13 input features to an output variable (house price).\n",
    "\n",
    "The variable names are as follows:\n",
    "\n",
    "CRIM: per capita crime rate by town.\n",
    "\n",
    "ZN: proportion of residential land zoned for lots over 25,000 sq.ft.\n",
    "\n",
    "INDUS: proportion of nonretail business acres per town.\n",
    "\n",
    "CHAS: Charles River dummy variable (= 1 if tract bounds river; 0 otherwise).\n",
    "\n",
    "NOX: nitric oxides concentration (parts per 10 million).\n",
    "\n",
    "RM: average number of rooms per dwelling.\n",
    "\n",
    "AGE: proportion of owner-occupied units built prior to 1940.\n",
    "\n",
    "DIS: weighted distances to five Boston employment centers.\n",
    "\n",
    "RAD: index of accessibility to radial highways.\n",
    "\n",
    "TAX: full-value property-tax rate per $10,000.\n",
    "\n",
    "PTRATIO: pupil-teacher ratio by town.\n",
    "\n",
    "B: 1000*(Bk – 0.63)2 where Bk is the proportion of blacks by town.\n",
    "\n",
    "LSTAT: % lower status of the population.\n",
    "\n",
    "MEDV: Median value of owner-occupied homes in $1000s.\n",
    "    "
   ]
  },
  {
   "cell_type": "code",
   "execution_count": 16,
   "metadata": {},
   "outputs": [],
   "source": [
    "#needed if you get the IPython/javascript error on the in-line plots\n",
    "%matplotlib nbagg  \n",
    "\n",
    "import matplotlib.pyplot as plt\n",
    "import numpy as np\n",
    "import scipy as sp\n",
    "from scipy import stats"
   ]
  },
  {
   "cell_type": "code",
   "execution_count": 17,
   "metadata": {},
   "outputs": [
    {
     "name": "stdout",
     "output_type": "stream",
     "text": [
      "DescribeResult(nobs=500, minmax=(array([6.3200e-03, 0.0000e+00, 4.6000e-01, 0.0000e+00, 3.8500e-01,\n",
      "       3.5610e+00, 2.9000e+00, 1.1296e+00, 1.0000e+00, 1.8700e+02,\n",
      "       1.2600e+01, 3.2000e-01, 1.7300e+00, 5.0000e+01]), array([ 88.9762, 100.    ,  27.74  ,   1.    ,   0.871 ,   8.78  ,\n",
      "       100.    ,  12.1265,  24.    , 711.    ,  22.    , 396.9   ,\n",
      "        37.97  , 500.    ])), mean=array([3.65578576e+00, 1.15000000e+01, 1.11317400e+01, 7.00000000e-02,\n",
      "       5.54451400e-01, 6.28297000e+00, 6.84246000e+01, 3.81193180e+00,\n",
      "       9.64200000e+00, 4.09624000e+02, 1.84286000e+01, 3.56208040e+02,\n",
      "       1.26987400e+01, 2.25680000e+02]), variance=array([7.47252195e+01, 5.48905812e+02, 4.76198228e+01, 6.52304609e-02,\n",
      "       1.35838329e-02, 4.97618330e-01, 7.99314163e+02, 4.46304043e+00,\n",
      "       7.59617595e+01, 2.85605197e+04, 4.67663531e+00, 8.41657137e+03,\n",
      "       5.13361942e+01, 8.52982926e+03]), skewness=array([ 5.17851447,  2.19924065,  0.29469001,  3.37060575,  0.72944382,\n",
      "        0.40691344, -0.58266003,  0.99061328,  0.9886802 ,  0.65098333,\n",
      "       -0.79127942, -2.85972639,  0.89051925,  1.09625625]), kurtosis=array([36.3384518 ,  3.88460431, -1.25254394,  9.3609831 , -0.10223624,\n",
      "        1.84311394, -0.99523636,  0.43299159, -0.90519243, -1.16696682,\n",
      "       -0.30903922,  7.00864873,  0.44527324,  1.4266838 ]))\n",
      "Shape of data array: (500, 14)\n"
     ]
    }
   ],
   "source": [
    "#Import Data: Load the data from a .csv file\n",
    "\n",
    "filename = \"data/house.csv\"\n",
    "Data = np.genfromtxt(filename, delimiter=';',skip_header=1)\n",
    "\n",
    "#A quick overview of data, to inspect the data you can use the method describe()\n",
    "\n",
    "dataDescription = stats.describe(Data)\n",
    "print(dataDescription)\n",
    "print (\"Shape of data array: \" + str(Data.shape))\n",
    "\n",
    "\n",
    "#for more interesting visualization: use Panda!"
   ]
  },
  {
   "cell_type": "markdown",
   "metadata": {},
   "source": [
    "# Split data in training and test sets\n",
    "\n",
    "\n",
    "\n",
    "Given $m$ total data, denote with $m_{t}$ the part used for training. Keep $m_t$ data as training data, and $m_{test}:= m-m_{t}$. For instance one can take $m_t=0.7m$ of the data as training and $m_{test}=0.3m$ as testing. Let us define as define\n",
    "\n",
    "$\\bullet$ $S_{t}$ the training data set\n",
    "\n",
    "$\\bullet$ $S_{test}$ the testing data set\n",
    "\n",
    "\n",
    "The reason for this splitting is as follows:\n",
    "\n",
    "TRAINING DATA: The training data are used to compute the empirical loss\n",
    "$$\n",
    "L_S(h) = \\frac{1}{m_t} \\sum_{z_i \\in S_{t}} \\ell(h,z_i)\n",
    "$$\n",
    "which is used to estimate $h$ in a given model class ${\\cal H}$.\n",
    "i.e. \n",
    "$$\n",
    "\\hat{h} = {\\rm arg\\; min}_{h \\in {\\cal H}} \\, L_S(h)\n",
    "$$\n",
    "\n",
    "TESTING DATA: The test data set can be used to estimate the performance of the final estimated model\n",
    "$\\hat h_{\\hat d_j}$ using:\n",
    "$$\n",
    "L_{{\\cal D}}(\\hat h_{\\hat d_j}) \\simeq \\frac{1}{m_{test}} \\sum_{ z_i \\in S_{test}} \\ell(\\hat h_{\\hat d_j},z_i)\n",
    "$$\n",
    "\n",
    "\n",
    "**TO DO**: split the data in training and test sets (70%-30%)"
   ]
  },
  {
   "cell_type": "code",
   "execution_count": 18,
   "metadata": {},
   "outputs": [
    {
     "name": "stdout",
     "output_type": "stream",
     "text": [
      "Total number of samples:  500\n",
      "Cardinality of Training Set:  350\n",
      "Training input data size:  (350, 12)\n",
      "Training output data size:  (350,)\n",
      "Test input data size:  (150, 12)\n",
      "Test output data size:  (150,)\n"
     ]
    }
   ],
   "source": [
    "#get number of total samples\n",
    "num_total_samples = Data.shape[0]\n",
    "\n",
    "print (\"Total number of samples: \", num_total_samples)\n",
    "\n",
    "m_t = int(num_total_samples*.7)\n",
    "\n",
    "print (\"Cardinality of Training Set: \", m_t)\n",
    "\n",
    "#shuffle the data\n",
    "np.random.shuffle(Data)\n",
    "\n",
    "#training data \n",
    "\n",
    "X_training = Data[0:m_t,0:12]\n",
    "Y_training = Data[0:m_t,13]\n",
    "\n",
    "\n",
    "\n",
    "print (\"Training input data size: \", X_training.shape)\n",
    "print (\"Training output data size: \", Y_training.shape)\n",
    "\n",
    "#test data, to be used to estimate the true loss of the final model(s)\n",
    "X_test = Data[m_t:num_total_samples,0:12]\n",
    "Y_test = Data[m_t:num_total_samples,13]\n",
    "\n",
    "\n",
    "\n",
    "print (\"Test input data size: \", X_test.shape)\n",
    "print (\"Test output data size: \", Y_test.shape)"
   ]
  },
  {
   "cell_type": "markdown",
   "metadata": {},
   "source": [
    "# Data Normalization\n",
    "It is common practice in Statistics and Machine Learning to scale the data (= each variable) so that it is centered (zero mean) and has standard deviation equal to 1. This helps in terms of numerical conditioning of the (inverse) problems of estimating the model (the coefficients of the linear regression in this case), as well as to give the same scale to all the coefficients."
   ]
  },
  {
   "cell_type": "code",
   "execution_count": 19,
   "metadata": {},
   "outputs": [
    {
     "name": "stdout",
     "output_type": "stream",
     "text": [
      "Mean of the training input data: [-0. -0.  0. -0.  0.  0.  0.  0. -0. -0.  0.  0.]\n",
      "Std of the training input data: [1. 1. 1. 1. 1. 1. 1. 1. 1. 1. 1. 1.]\n",
      "Mean of the test input data: [ 0.02759398 -0.03568149  0.09206957 -0.0544767  -0.05745791 -0.07766888\n",
      " -0.02742789  0.03503669 -0.03077102  0.02449392  0.00607913 -0.00057712]\n",
      "Std of the test input data: [1.07049494 1.04469979 0.95959638 0.90562503 0.90189912 0.91463111\n",
      " 1.03453929 1.01244973 0.9796826  0.94435847 0.92465927 1.01665952]\n"
     ]
    }
   ],
   "source": [
    "# scale the data\n",
    "\n",
    "# standardize the input matrix\n",
    "from sklearn import preprocessing\n",
    "# the transformation is computed on training data and then used on all the 3 sets\n",
    "scaler = preprocessing.StandardScaler().fit(X_training) \n",
    "\n",
    "np.set_printoptions(suppress=True) # sets to zero floating point numbers < min_float_eps\n",
    "X_training = scaler.transform(X_training)\n",
    "print (\"Mean of the training input data:\", X_training.mean(axis=0))\n",
    "print (\"Std of the training input data:\",X_training.std(axis=0))\n",
    "\n",
    "X_test = scaler.transform(X_test) # use the same transformation on test data\n",
    "print (\"Mean of the test input data:\", X_test.mean(axis=0))\n",
    "print (\"Std of the test input data:\", X_test.std(axis=0))"
   ]
  },
  {
   "cell_type": "markdown",
   "metadata": {},
   "source": [
    "# Model Training \n",
    "\n",
    "The model is trained (= estimated) minimizing the empirical error\n",
    "$$\n",
    "L_S(h) := \\frac{1}{m_t} \\sum_{z_i \\in S_{t}} \\ell(h,z_i)\n",
    "$$\n",
    "When the loss function is the quadratic loss\n",
    "$$\n",
    "\\ell(h,z) := (y - h(x))^2\n",
    "$$\n",
    "we define  the Residual Sum of Squares (RSS) as\n",
    "$$\n",
    "RSS(h):= \\sum_{z_i \\in S_{t}} \\ell(h,z_i) = \\sum_{z_i \\in S_{t}} (y_i - h(x_i))^2\n",
    "$$ so that the training error becomes\n",
    "$$\n",
    "L_S(h) = \\frac{RSS(h)}{m_t}\n",
    "$$\n",
    "\n",
    "We recal that, for linear models we have $h(x) = <w,x>$ and the Empirical error $L_S(h)$ can be written\n",
    "in terms of the vector of parameters $w$ in the form\n",
    "$$\n",
    "L_S(w) = \\frac{1}{m_t} \\|Y - X w\\|^2\n",
    "$$\n",
    "where $Y$ and $X$ are the matrices whose $i-$th row are, respectively, the output data $y_i$ and the input vectors $x_i^\\top$.\n",
    "\n",
    "\n",
    " **TO DO:** compute the linear regression coefficients using np.linalg.lstsq from scikitlear \n",
    " "
   ]
  },
  {
   "cell_type": "code",
   "execution_count": 20,
   "metadata": {
    "scrolled": true
   },
   "outputs": [
    {
     "name": "stdout",
     "output_type": "stream",
     "text": [
      "Coefficient [226.46       -15.0944499   10.34915671  -8.94706882   8.12719404\n",
      " -22.45149006  40.09136864 -13.31825944 -38.32483043  27.74168187\n",
      " -23.48629926 -18.72418585  14.21789489]\n",
      "RSS_hand 972174.0913083735\n",
      "RSS with numpy lstsq:  [972174.09130837]\n",
      "Empirical risk with numpy lstsq: [2777.64026088]\n"
     ]
    }
   ],
   "source": [
    "#compute linear regression coefficients for training data\n",
    "\n",
    "#add a 1 at the beginning of each sample for training, and testing (use homogeneous coordinates)\n",
    "m_training = X_training.shape[0]\n",
    "X_trainingH = np.hstack((np.ones((m_training,1)),X_training)) # H: in homogeneous coordinates\n",
    "\n",
    "m_test = X_test.shape[0]\n",
    "X_testH = np.hstack((np.ones((m_test,1)),X_test))  # H: in homogeneous coordinates\n",
    "\n",
    "# Compute the least-squares coefficients using linalg.lstsq\n",
    "w_np, RSStr_np, rank_Xtr, sv_Xtr =  np.linalg.lstsq(X_trainingH, Y_training,True)\n",
    "print('Coefficient', w_np)\n",
    "\n",
    "# compute Residual sums of squares by hand\n",
    "prediction_training = np.dot(X_trainingH, np.transpose(w_np))\n",
    "RSStr_hand = np.linalg.norm((Y_training-prediction_training))**2\n",
    "print('RSS_hand', RSStr_hand)\n",
    "\n",
    "print(\"RSS with numpy lstsq: \", RSStr_np)\n",
    "print(\"Empirical risk with numpy lstsq:\", RSStr_np/m_training)"
   ]
  },
  {
   "cell_type": "markdown",
   "metadata": {},
   "source": [
    "## Data prediction \n",
    "\n",
    "Compute the output predictions on both training and test set and compute the Residual Sum of Squares (RSS). \n",
    "\n",
    "**TO DO**: Compute these quantities on  training and test sets."
   ]
  },
  {
   "cell_type": "code",
   "execution_count": 21,
   "metadata": {},
   "outputs": [
    {
     "name": "stdout",
     "output_type": "stream",
     "text": [
      "RSS on test data: 389259.3031219411\n",
      "Loss estimated from test data: 2595.062020812941\n"
     ]
    }
   ],
   "source": [
    "#compute predictions on test\n",
    "prediction_test = np.dot(X_testH, np.transpose(w_np))\n",
    "\n",
    "# compute Residual sums of squares\n",
    "RSS_test = np.linalg.norm((Y_test-prediction_test))**2\n",
    "\n",
    "print(\"RSS on test data:\",  RSS_test)\n",
    "print(\"Loss estimated from test data:\", RSS_test/m_test)"
   ]
  },
  {
   "cell_type": "markdown",
   "metadata": {},
   "source": [
    "### QUESTION 4: Comment on the results you get and on the difference between the train and test errors.\n",
    "\n",
    "I think predictor willoverfit data because the error on test data is more larger than training data and this is not efficient predictor."
   ]
  },
  {
   "cell_type": "markdown",
   "metadata": {},
   "source": [
    "## Ordinary Least-Squares using scikit-learn\n",
    "Another fast way to compute the LS estimate is through sklearn.linear_model (for this function homogeneous coordinates are not needed)."
   ]
  },
  {
   "cell_type": "code",
   "execution_count": 22,
   "metadata": {},
   "outputs": [
    {
     "name": "stdout",
     "output_type": "stream",
     "text": [
      "Intercept: 226.4600000000002\n",
      "Least-Squares Coefficients: [-15.0944499   10.34915671  -8.94706882   8.12719404 -22.45149006\n",
      "  40.09136864 -13.31825944 -38.32483043  27.74168187 -23.48629926\n",
      " -18.72418585  14.21789489]\n",
      "Prediction on trainning[251.42300782 337.67304189 369.01705195 218.65395438 330.02435274\n",
      " 279.92766551 175.78409152 154.45853745 211.91217398 195.4364301 ]\n",
      "Prediction on test[259.78683613 366.6680769  203.76747411 249.0434881  207.62005711\n",
      " 256.00049065 240.20124041 326.43980425 213.62044009 208.16048165]\n",
      "Measure on training data: 0.32075373875248414\n"
     ]
    }
   ],
   "source": [
    "from sklearn.linear_model import LinearRegression\n",
    "\n",
    "# build the LinearRegression() model and train it\n",
    "LinReg = LinearRegression().fit(X_training,Y_training)\n",
    "\n",
    "print(\"Intercept:\", LinReg.intercept_)\n",
    "print(\"Least-Squares Coefficients:\", LinReg.coef_)\n",
    "\n",
    "Y_training_predicted=LinReg.predict(X_training)\n",
    "print('Prediction on trainning'+str(Y_training_predicted[0:10]))\n",
    "\n",
    "Y_test_predicted=LinReg.predict(X_test)\n",
    "print('Prediction on test'+str(Y_test_predicted[0:10]))\n",
    "\n",
    "# return a prediction score based on the coefficient of determination\n",
    "print(\"Measure on training data:\", 1-LinReg.score(X_training, Y_training))"
   ]
  },
  {
   "cell_type": "code",
   "execution_count": null,
   "metadata": {},
   "outputs": [],
   "source": []
  }
 ],
 "metadata": {
  "anaconda-cloud": {},
  "kernelspec": {
   "display_name": "Python 3 (ipykernel)",
   "language": "python",
   "name": "python3"
  },
  "language_info": {
   "codemirror_mode": {
    "name": "ipython",
    "version": 3
   },
   "file_extension": ".py",
   "mimetype": "text/x-python",
   "name": "python",
   "nbconvert_exporter": "python",
   "pygments_lexer": "ipython3",
   "version": "3.9.7"
  }
 },
 "nbformat": 4,
 "nbformat_minor": 4
}
