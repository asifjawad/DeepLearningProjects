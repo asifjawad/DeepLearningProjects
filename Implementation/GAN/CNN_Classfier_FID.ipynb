{
 "cells": [
  {
   "cell_type": "code",
   "execution_count": 1,
   "metadata": {
    "execution": {
     "iopub.execute_input": "2022-06-22T16:14:25.530950Z",
     "iopub.status.busy": "2022-06-22T16:14:25.530667Z",
     "iopub.status.idle": "2022-06-22T16:14:31.805904Z",
     "shell.execute_reply": "2022-06-22T16:14:31.805103Z",
     "shell.execute_reply.started": "2022-06-22T16:14:25.530905Z"
    },
    "id": "T5aPF1DUwPtt"
   },
   "outputs": [],
   "source": [
    "from numpy import mean, std\n",
    "from matplotlib import pyplot\n",
    "from sklearn.model_selection import KFold\n",
    "from keras.datasets import fashion_mnist\n",
    "from keras.models import Sequential\n",
    "# from keras.optimizers import SGD\n",
    "from tensorflow.keras.layers import MaxPooling2D,Activation,Flatten,Dropout,Dense,Conv2D, BatchNormalization\n",
    "from tensorflow.keras import backend as K\n",
    "from tensorflow.keras.utils import to_categorical\n",
    "import tensorflow as tf\n",
    "import matplotlib.pyplot as plt\n",
    "\n",
    "\n"
   ]
  },
  {
   "cell_type": "markdown",
   "metadata": {
    "id": "q0gqsdGfFskQ"
   },
   "source": [
    "# New Section"
   ]
  },
  {
   "cell_type": "code",
   "execution_count": 2,
   "metadata": {
    "execution": {
     "iopub.execute_input": "2022-06-22T16:14:35.543923Z",
     "iopub.status.busy": "2022-06-22T16:14:35.543581Z",
     "iopub.status.idle": "2022-06-22T16:14:38.113707Z",
     "shell.execute_reply": "2022-06-22T16:14:38.113110Z",
     "shell.execute_reply.started": "2022-06-22T16:14:35.543879Z"
    }
   },
   "outputs": [
    {
     "name": "stdout",
     "output_type": "stream",
     "text": [
      "1 Physical GPUs, 1 Logical GPUs\n"
     ]
    },
    {
     "name": "stderr",
     "output_type": "stream",
     "text": [
      "2022-06-22 16:14:35.574917: I tensorflow/stream_executor/cuda/cuda_gpu_executor.cc:1052] successful NUMA node read from SysFS had negative value (-1), but there must be at least one NUMA node, so returning NUMA node zero\n",
      "2022-06-22 16:14:35.620277: I tensorflow/stream_executor/cuda/cuda_gpu_executor.cc:1052] successful NUMA node read from SysFS had negative value (-1), but there must be at least one NUMA node, so returning NUMA node zero\n",
      "2022-06-22 16:14:35.620718: I tensorflow/stream_executor/cuda/cuda_gpu_executor.cc:1052] successful NUMA node read from SysFS had negative value (-1), but there must be at least one NUMA node, so returning NUMA node zero\n",
      "2022-06-22 16:14:35.625937: I tensorflow/stream_executor/cuda/cuda_gpu_executor.cc:1052] successful NUMA node read from SysFS had negative value (-1), but there must be at least one NUMA node, so returning NUMA node zero\n",
      "2022-06-22 16:14:35.626321: I tensorflow/stream_executor/cuda/cuda_gpu_executor.cc:1052] successful NUMA node read from SysFS had negative value (-1), but there must be at least one NUMA node, so returning NUMA node zero\n",
      "2022-06-22 16:14:35.626695: I tensorflow/stream_executor/cuda/cuda_gpu_executor.cc:1052] successful NUMA node read from SysFS had negative value (-1), but there must be at least one NUMA node, so returning NUMA node zero\n",
      "2022-06-22 16:14:38.101751: I tensorflow/stream_executor/cuda/cuda_gpu_executor.cc:1052] successful NUMA node read from SysFS had negative value (-1), but there must be at least one NUMA node, so returning NUMA node zero\n",
      "2022-06-22 16:14:38.102079: I tensorflow/stream_executor/cuda/cuda_gpu_executor.cc:1052] successful NUMA node read from SysFS had negative value (-1), but there must be at least one NUMA node, so returning NUMA node zero\n",
      "2022-06-22 16:14:38.102340: I tensorflow/stream_executor/cuda/cuda_gpu_executor.cc:1052] successful NUMA node read from SysFS had negative value (-1), but there must be at least one NUMA node, so returning NUMA node zero\n",
      "2022-06-22 16:14:38.103331: I tensorflow/core/common_runtime/gpu/gpu_device.cc:1525] Created device /job:localhost/replica:0/task:0/device:GPU:0 with 7276 MB memory:  -> device: 0, name: Quadro M4000, pci bus id: 0000:00:05.0, compute capability: 5.2\n"
     ]
    }
   ],
   "source": [
    "gpus = tf.config.list_physical_devices('GPU')\n",
    "gpus\n",
    "if gpus:\n",
    "    try:\n",
    "        # Currently, memory growth needs to be the same across GPUs\n",
    "        for gpu in gpus:\n",
    "            tf.config.experimental.set_memory_growth(gpu, True)\n",
    "        logical_gpus = tf.config.list_logical_devices('GPU')\n",
    "        print(len(gpus), \"Physical GPUs,\", len(logical_gpus), \"Logical GPUs\")\n",
    "    except RuntimeError as e:\n",
    "        # Memory growth must be set before GPUs have been initialized\n",
    "        print(e)"
   ]
  },
  {
   "cell_type": "code",
   "execution_count": 3,
   "metadata": {
    "colab": {
     "base_uri": "https://localhost:8080/"
    },
    "execution": {
     "iopub.execute_input": "2022-06-22T16:14:50.667208Z",
     "iopub.status.busy": "2022-06-22T16:14:50.666904Z",
     "iopub.status.idle": "2022-06-22T16:14:57.903282Z",
     "shell.execute_reply": "2022-06-22T16:14:57.902326Z",
     "shell.execute_reply.started": "2022-06-22T16:14:50.667198Z"
    },
    "executionInfo": {
     "elapsed": 1657,
     "status": "ok",
     "timestamp": 1655909865086,
     "user": {
      "displayName": "jawad asif",
      "userId": "13351132466365898805"
     },
     "user_tz": -120
    },
    "id": "5Cdb0AlywXwW",
    "outputId": "ff25a7a2-c9d5-425b-8448-e7e2ab8935f9"
   },
   "outputs": [
    {
     "name": "stdout",
     "output_type": "stream",
     "text": [
      "Downloading data from https://storage.googleapis.com/tensorflow/tf-keras-datasets/train-labels-idx1-ubyte.gz\n",
      "32768/29515 [=================================] - 0s 0us/step\n",
      "40960/29515 [=========================================] - 0s 0us/step\n",
      "Downloading data from https://storage.googleapis.com/tensorflow/tf-keras-datasets/train-images-idx3-ubyte.gz\n",
      "26427392/26421880 [==============================] - 1s 0us/step\n",
      "26435584/26421880 [==============================] - 1s 0us/step\n",
      "Downloading data from https://storage.googleapis.com/tensorflow/tf-keras-datasets/t10k-labels-idx1-ubyte.gz\n",
      "16384/5148 [===============================================================================================] - 0s 0us/step\n",
      "Downloading data from https://storage.googleapis.com/tensorflow/tf-keras-datasets/t10k-images-idx3-ubyte.gz\n",
      "4423680/4422102 [==============================] - 0s 0us/step\n",
      "4431872/4422102 [==============================] - 0s 0us/step\n",
      "(60000, 28, 28)\n",
      "0 255\n"
     ]
    }
   ],
   "source": [
    "(train_images, trainY), (testX, testY) = tf.keras.datasets.fashion_mnist.load_data()\n",
    "print(train_images.shape)\n",
    "# print(trainY.shape)\n",
    "# print(testY.shape)\n",
    "\n",
    "print(train_images.min(), train_images.max())"
   ]
  },
  {
   "cell_type": "code",
   "execution_count": 4,
   "metadata": {
    "colab": {
     "base_uri": "https://localhost:8080/"
    },
    "execution": {
     "iopub.execute_input": "2022-06-22T16:15:01.347088Z",
     "iopub.status.busy": "2022-06-22T16:15:01.346521Z",
     "iopub.status.idle": "2022-06-22T16:15:01.705298Z",
     "shell.execute_reply": "2022-06-22T16:15:01.704387Z",
     "shell.execute_reply.started": "2022-06-22T16:15:01.347059Z"
    },
    "executionInfo": {
     "elapsed": 621,
     "status": "ok",
     "timestamp": 1655909867939,
     "user": {
      "displayName": "jawad asif",
      "userId": "13351132466365898805"
     },
     "user_tz": -120
    },
    "id": "jh9x-JiDw9wX",
    "outputId": "da649355-3a70-4642-c2f7-67dd9b72a45b"
   },
   "outputs": [
    {
     "name": "stdout",
     "output_type": "stream",
     "text": [
      "(60000, 28, 28) (10000, 28, 28) (10000, 10)\n"
     ]
    }
   ],
   "source": [
    "def reshape_data(imageX, label):\n",
    "  images = imageX.reshape(-1, 28, 28, 1).astype('float32')\n",
    "  #normalizing values in [-1, 1]\n",
    "  images = (imageX - 127.5) / 127.5  \n",
    "  y = to_categorical(label)\n",
    "\n",
    "  # plt.imshow(images[19,:,:,0])\n",
    "  return images, y\n",
    "\n",
    "\n",
    "train_images, trainY = reshape_data(train_images, trainY)\n",
    "testX ,testY= reshape_data(testX,testY)\n",
    "print(train_images.shape, testX.shape, testY.shape )"
   ]
  },
  {
   "cell_type": "code",
   "execution_count": 5,
   "metadata": {
    "execution": {
     "iopub.execute_input": "2022-06-22T16:15:05.411868Z",
     "iopub.status.busy": "2022-06-22T16:15:05.411586Z",
     "iopub.status.idle": "2022-06-22T16:15:05.420640Z",
     "shell.execute_reply": "2022-06-22T16:15:05.420032Z",
     "shell.execute_reply.started": "2022-06-22T16:15:05.411810Z"
    },
    "id": "eqfYYkiRBF19"
   },
   "outputs": [],
   "source": [
    "\n",
    "# initialize the label names\n",
    "labelNames = [\"top\", \"trouser\", \"pullover\", \"dress\", \"coat\",\n",
    "\t\"sandal\", \"shirt\", \"sneaker\", \"bag\", \"ankle boot\"]\n",
    "\n",
    "\n",
    "inputShape=[28,28,1]\n",
    "chanDim = 1\n",
    "classes=10\n",
    "\n",
    "\n",
    "def define_model_FID():\n",
    "  model = Sequential()\n",
    "  model.add( Conv2D(32, (3, 3),  padding=\"same\",  input_shape=inputShape))\n",
    "  model.add(Activation(\"relu\"))\n",
    "  model.add(BatchNormalization())\n",
    "  model.add(Conv2D(32, (3, 3), padding=\"same\"))\n",
    "  model.add(Activation(\"relu\"))\n",
    "  model.add(BatchNormalization())\n",
    "  model.add(MaxPooling2D(pool_size=(2, 2)))\n",
    "  model.add(Dropout(0.25))\n",
    "\n",
    "\n",
    "  # second CONV => RELU => CONV => RELU => POOL layer set\n",
    "  model.add(Conv2D(64, (3, 3), padding=\"same\"))\n",
    "  model.add(Activation(\"relu\"))\n",
    "  model.add(BatchNormalization())\n",
    "  model.add(Conv2D(64, (3, 3), padding=\"same\"))\n",
    "  model.add(Activation(\"relu\"))\n",
    "  model.add(BatchNormalization())\n",
    "  model.add(MaxPooling2D(pool_size=(2, 2)))\n",
    "  model.add(Dropout(0.25))\n",
    "\n",
    "\n",
    "  # first (and only) set of FC => RELU layers\n",
    "  model.add(Flatten())\n",
    "  model.add(Dense(512))\n",
    "  model.add(Activation(\"relu\"))\n",
    "  model.add(BatchNormalization())\n",
    "  model.add(Dropout(0.5))\n",
    "\n",
    "  model.add(Dense(10, activation='softmax'))\n",
    "  return model\n",
    "###################"
   ]
  },
  {
   "cell_type": "code",
   "execution_count": 6,
   "metadata": {
    "colab": {
     "base_uri": "https://localhost:8080/"
    },
    "execution": {
     "iopub.execute_input": "2022-06-22T16:15:17.787577Z",
     "iopub.status.busy": "2022-06-22T16:15:17.787327Z",
     "iopub.status.idle": "2022-06-22T16:15:17.989287Z",
     "shell.execute_reply": "2022-06-22T16:15:17.988228Z",
     "shell.execute_reply.started": "2022-06-22T16:15:17.787551Z"
    },
    "executionInfo": {
     "elapsed": 763,
     "status": "ok",
     "timestamp": 1655909875831,
     "user": {
      "displayName": "jawad asif",
      "userId": "13351132466365898805"
     },
     "user_tz": -120
    },
    "id": "lH3bDsQHv-Yj",
    "outputId": "4edbc47c-3d79-486f-cc0a-0b88146c7f42"
   },
   "outputs": [
    {
     "name": "stdout",
     "output_type": "stream",
     "text": [
      "Model: \"sequential\"\n",
      "_________________________________________________________________\n",
      " Layer (type)                Output Shape              Param #   \n",
      "=================================================================\n",
      " conv2d (Conv2D)             (None, 28, 28, 32)        320       \n",
      "                                                                 \n",
      " activation (Activation)     (None, 28, 28, 32)        0         \n",
      "                                                                 \n",
      " batch_normalization (BatchN  (None, 28, 28, 32)       128       \n",
      " ormalization)                                                   \n",
      "                                                                 \n",
      " conv2d_1 (Conv2D)           (None, 28, 28, 32)        9248      \n",
      "                                                                 \n",
      " activation_1 (Activation)   (None, 28, 28, 32)        0         \n",
      "                                                                 \n",
      " batch_normalization_1 (Batc  (None, 28, 28, 32)       128       \n",
      " hNormalization)                                                 \n",
      "                                                                 \n",
      " max_pooling2d (MaxPooling2D  (None, 14, 14, 32)       0         \n",
      " )                                                               \n",
      "                                                                 \n",
      " dropout (Dropout)           (None, 14, 14, 32)        0         \n",
      "                                                                 \n",
      " conv2d_2 (Conv2D)           (None, 14, 14, 64)        18496     \n",
      "                                                                 \n",
      " activation_2 (Activation)   (None, 14, 14, 64)        0         \n",
      "                                                                 \n",
      " batch_normalization_2 (Batc  (None, 14, 14, 64)       256       \n",
      " hNormalization)                                                 \n",
      "                                                                 \n",
      " conv2d_3 (Conv2D)           (None, 14, 14, 64)        36928     \n",
      "                                                                 \n",
      " activation_3 (Activation)   (None, 14, 14, 64)        0         \n",
      "                                                                 \n",
      " batch_normalization_3 (Batc  (None, 14, 14, 64)       256       \n",
      " hNormalization)                                                 \n",
      "                                                                 \n",
      " max_pooling2d_1 (MaxPooling  (None, 7, 7, 64)         0         \n",
      " 2D)                                                             \n",
      "                                                                 \n",
      " dropout_1 (Dropout)         (None, 7, 7, 64)          0         \n",
      "                                                                 \n",
      " flatten (Flatten)           (None, 3136)              0         \n",
      "                                                                 \n",
      " dense (Dense)               (None, 512)               1606144   \n",
      "                                                                 \n",
      " activation_4 (Activation)   (None, 512)               0         \n",
      "                                                                 \n",
      " batch_normalization_4 (Batc  (None, 512)              2048      \n",
      " hNormalization)                                                 \n",
      "                                                                 \n",
      " dropout_2 (Dropout)         (None, 512)               0         \n",
      "                                                                 \n",
      " dense_1 (Dense)             (None, 10)                5130      \n",
      "                                                                 \n",
      "=================================================================\n",
      "Total params: 1,679,082\n",
      "Trainable params: 1,677,674\n",
      "Non-trainable params: 1,408\n",
      "_________________________________________________________________\n"
     ]
    }
   ],
   "source": [
    "opt = 'adam'\n",
    "model = define_model_FID()\n",
    "model.summary()\n",
    "model.compile(optimizer=opt, loss='categorical_crossentropy', metrics=['accuracy'])\n"
   ]
  },
  {
   "cell_type": "code",
   "execution_count": 7,
   "metadata": {
    "colab": {
     "base_uri": "https://localhost:8080/",
     "height": 311
    },
    "execution": {
     "iopub.execute_input": "2022-06-22T16:15:23.028974Z",
     "iopub.status.busy": "2022-06-22T16:15:23.028329Z",
     "iopub.status.idle": "2022-06-22T16:17:45.224407Z",
     "shell.execute_reply": "2022-06-22T16:17:45.223327Z",
     "shell.execute_reply.started": "2022-06-22T16:15:23.028946Z"
    },
    "executionInfo": {
     "elapsed": 360993,
     "status": "error",
     "timestamp": 1655910242807,
     "user": {
      "displayName": "jawad asif",
      "userId": "13351132466365898805"
     },
     "user_tz": -120
    },
    "id": "sKhRRUCi0Qto",
    "outputId": "d7e3b622-c267-4f25-f635-452cc4721281"
   },
   "outputs": [
    {
     "name": "stderr",
     "output_type": "stream",
     "text": [
      "2022-06-22 16:15:25.250480: I tensorflow/stream_executor/cuda/cuda_dnn.cc:377] Loaded cuDNN version 8302\n"
     ]
    }
   ],
   "source": [
    "fit = model.fit(train_images, trainY, epochs=10,batch_size=32, validation_data=(testX, testY),verbose=0)"
   ]
  },
  {
   "cell_type": "code",
   "execution_count": 8,
   "metadata": {
    "execution": {
     "iopub.execute_input": "2022-06-22T16:18:27.360968Z",
     "iopub.status.busy": "2022-06-22T16:18:27.360465Z",
     "iopub.status.idle": "2022-06-22T16:18:28.545115Z",
     "shell.execute_reply": "2022-06-22T16:18:28.544384Z",
     "shell.execute_reply.started": "2022-06-22T16:18:27.360936Z"
    }
   },
   "outputs": [
    {
     "name": "stdout",
     "output_type": "stream",
     "text": [
      "> 93.410\n"
     ]
    }
   ],
   "source": [
    "_, acc = model.evaluate(testX, testY, verbose=0)\n",
    "print('> %.3f' % (acc * 100.0))"
   ]
  },
  {
   "cell_type": "code",
   "execution_count": 9,
   "metadata": {
    "execution": {
     "iopub.execute_input": "2022-06-22T16:18:33.145723Z",
     "iopub.status.busy": "2022-06-22T16:18:33.145388Z",
     "iopub.status.idle": "2022-06-22T16:18:33.462222Z",
     "shell.execute_reply": "2022-06-22T16:18:33.461628Z",
     "shell.execute_reply.started": "2022-06-22T16:18:33.145692Z"
    }
   },
   "outputs": [
    {
     "name": "stdout",
     "output_type": "stream",
     "text": [
      "[0.8396499752998352, 0.8901833295822144, 0.9005333185195923, 0.9077000021934509, 0.9174500107765198, 0.9228000044822693, 0.9285333156585693, 0.9295499920845032, 0.9339500069618225, 0.9385166764259338]\n"
     ]
    },
    {
     "data": {
      "text/plain": [
       "<matplotlib.legend.Legend at 0x7f3f96389070>"
      ]
     },
     "execution_count": 9,
     "metadata": {},
     "output_type": "execute_result"
    },
    {
     "data": {
      "image/png": "[encoded data removed]",
      "text/plain": [
       "<Figure size 864x360 with 2 Axes>"
      ]
     },
     "metadata": {
      "needs_background": "light"
     },
     "output_type": "display_data"
    }
   ],
   "source": [
    "import numpy as np\n",
    "fig,AX=plt.subplots(1,2,figsize=(12,5.))\n",
    "ax=AX[0]\n",
    "\n",
    "print(fit.history['accuracy'])\n",
    "plt.plot(fit.history['accuracy'],\"b\",label=\"train ACC\")\n",
    "plt.plot(fit.history['loss'],\"r\",label=\"train Loss\")\n",
    "plt.plot(fit.history['val_loss'],\"r--\",label=\"Valid Loss\")\n",
    "plt.plot(fit.history['val_accuracy'],\"r--\",label=\"valid Acc\")\n",
    "\n",
    "\n",
    "ax.set_xlim([3, 5])\n",
    "ax.set_ylim([0, 1.05*np.max(fit.history['loss'])])\n",
    "\n",
    "\n",
    "plt.legend()"
   ]
  },
  {
   "cell_type": "code",
   "execution_count": 10,
   "metadata": {
    "execution": {
     "iopub.execute_input": "2022-06-22T16:18:52.371173Z",
     "iopub.status.busy": "2022-06-22T16:18:52.370884Z",
     "iopub.status.idle": "2022-06-22T16:18:53.039002Z",
     "shell.execute_reply": "2022-06-22T16:18:53.038416Z",
     "shell.execute_reply.started": "2022-06-22T16:18:52.371147Z"
    }
   },
   "outputs": [
    {
     "data": {
      "image/png": "[encoded data removed]",
      "text/plain": [
       "<Figure size 432x288 with 1 Axes>"
      ]
     },
     "metadata": {
      "needs_background": "light"
     },
     "output_type": "display_data"
    }
   ],
   "source": [
    "plt.plot(fit.history['loss'])\n",
    "model.save('FID_model_trained.h5')"
   ]
  }
 ],
 "metadata": {
  "accelerator": "GPU",
  "colab": {
   "authorship_tag": "ABX9TyMNarFZc8QQw1n8u1cWL1nn",
   "collapsed_sections": [],
   "name": "CNN_Classfier_FID.ipynb",
   "provenance": []
  },
  "gpuClass": "standard",
  "kernelspec": {
   "display_name": "Python 3 (ipykernel)",
   "language": "python",
   "name": "python3"
  },
  "language_info": {
   "codemirror_mode": {
    "name": "ipython",
    "version": 3
   },
   "file_extension": ".py",
   "mimetype": "text/x-python",
   "name": "python",
   "nbconvert_exporter": "python",
   "pygments_lexer": "ipython3",
   "version": "3.8.10"
  }
 },
 "nbformat": 4,
 "nbformat_minor": 4
}
